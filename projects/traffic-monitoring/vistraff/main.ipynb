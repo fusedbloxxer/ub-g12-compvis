{
 "cells": [
  {
   "cell_type": "code",
   "execution_count": 10,
   "metadata": {},
   "outputs": [
    {
     "name": "stdout",
     "output_type": "stream",
     "text": [
      "The autoreload extension is already loaded. To reload it, use:\n",
      "  %reload_ext autoreload\n"
     ]
    }
   ],
   "source": [
    "%load_ext autoreload\n",
    "%autoreload 2"
   ]
  },
  {
   "attachments": {},
   "cell_type": "markdown",
   "metadata": {},
   "source": [
    "### External Imports"
   ]
  },
  {
   "cell_type": "code",
   "execution_count": 11,
   "metadata": {},
   "outputs": [],
   "source": [
    "import os\n",
    "import torch\n",
    "import torchvision as tv\n",
    "import random\n",
    "import cv2 as cv\n",
    "import numpy as np\n",
    "import typing as t\n",
    "import pathlib as pb\n",
    "from ultralytics import YOLO"
   ]
  },
  {
   "attachments": {},
   "cell_type": "markdown",
   "metadata": {},
   "source": [
    "### Internal Imports"
   ]
  },
  {
   "cell_type": "code",
   "execution_count": 12,
   "metadata": {},
   "outputs": [],
   "source": [
    "from res import Assets\n",
    "from model import FasterRCNNMOD\n",
    "from alg import VehicleOccupancy, VehicleTracking\n",
    "from data import CarTrafficDataset, CarTrafficTaskOneDict, CarTrafficTaskTwoDict"
   ]
  },
  {
   "attachments": {},
   "cell_type": "markdown",
   "metadata": {},
   "source": [
    "### Environment Setup"
   ]
  },
  {
   "cell_type": "code",
   "execution_count": 13,
   "metadata": {},
   "outputs": [],
   "source": [
    "PATH_ROOT: pb.Path = pb.Path('..')\n",
    "PATH_ASSETS: pb.Path = PATH_ROOT / 'assets'\n",
    "PATH_MASKS: pb.Path = PATH_ASSETS / 'masks'\n",
    "PATH_MODELS: pb.Path = PATH_ASSETS / 'models'\n",
    "PATH_DATA: pb.Path = PATH_ROOT / 'data' / 'train'\n",
    "device = torch.device('cuda' if torch.cuda.is_available() else 'cpu')"
   ]
  },
  {
   "cell_type": "code",
   "execution_count": 14,
   "metadata": {},
   "outputs": [
    {
     "data": {
      "text/plain": [
       "<torch.autograd.grad_mode.set_grad_enabled at 0x7f9ba1eb2ef0>"
      ]
     },
     "execution_count": 14,
     "metadata": {},
     "output_type": "execute_result"
    }
   ],
   "source": [
    "SEED: int = 42\n",
    "random.seed(SEED)\n",
    "np.random.seed(SEED)\n",
    "torch.manual_seed(SEED)\n",
    "np.random.default_rng(SEED)\n",
    "torch.set_grad_enabled(False)"
   ]
  },
  {
   "attachments": {},
   "cell_type": "markdown",
   "metadata": {},
   "source": [
    "### Data Loading"
   ]
  },
  {
   "cell_type": "code",
   "execution_count": 15,
   "metadata": {},
   "outputs": [],
   "source": [
    "dataset: CarTrafficDataset = CarTrafficDataset(PATH_DATA)\n",
    "assets: Assets = Assets(PATH_ASSETS)"
   ]
  },
  {
   "attachments": {},
   "cell_type": "markdown",
   "metadata": {},
   "source": [
    "### Task 1"
   ]
  },
  {
   "cell_type": "code",
   "execution_count": 16,
   "metadata": {},
   "outputs": [],
   "source": [
    "# # Create the task solver\n",
    "# vo = VehicleOccupancy(assets, device)\n",
    "\n",
    "# # Solve each example in the task subset\n",
    "# for i in range(len(dataset.task_1)):\n",
    "#     data: CarTrafficTaskOneDict = dataset.task_1[i]\n",
    "#     output: t.List[int] = vo(data)\n",
    "#     output_file: pb.Path = dataset.task_1.path / f\"{data['context']:02}_{data['example']}_predicted.txt\"\n",
    "#     cv.destroyAllWindows()\n",
    "\n",
    "#     # Write the answers\n",
    "#     with open(output_file, 'w') as out_file:\n",
    "#         out_file.write(str(len(output)) + os.linesep)\n",
    "#         for i, (query, answer) in enumerate(zip(data['query'], output)):\n",
    "#             out_file.write(str(query) + ' ' + str(answer))\n",
    "#             if i < len(output) - 1:\n",
    "#                 out_file.write(os.linesep)"
   ]
  },
  {
   "attachments": {},
   "cell_type": "markdown",
   "metadata": {},
   "source": [
    "### Task 2"
   ]
  },
  {
   "cell_type": "code",
   "execution_count": 19,
   "metadata": {},
   "outputs": [
    {
     "name": "stderr",
     "output_type": "stream",
     "text": [
      "\n",
      "0: 320x640 17 cars, 3.5ms\n",
      "Speed: 1.0ms preprocess, 3.5ms inference, 0.7ms postprocess per image at shape (1, 3, 640, 640)\n",
      "\n",
      "0: 320x640 17 cars, 2.6ms\n",
      "Speed: 1.0ms preprocess, 2.6ms inference, 0.7ms postprocess per image at shape (1, 3, 640, 640)\n",
      "\n",
      "0: 320x640 18 cars, 2.6ms\n",
      "Speed: 1.0ms preprocess, 2.6ms inference, 0.8ms postprocess per image at shape (1, 3, 640, 640)\n",
      "\n",
      "0: 320x640 18 cars, 2.6ms\n",
      "Speed: 1.0ms preprocess, 2.6ms inference, 0.7ms postprocess per image at shape (1, 3, 640, 640)\n",
      "\n",
      "0: 320x640 18 cars, 2.6ms\n",
      "Speed: 1.0ms preprocess, 2.6ms inference, 0.7ms postprocess per image at shape (1, 3, 640, 640)\n",
      "\n",
      "0: 320x640 18 cars, 2.6ms\n",
      "Speed: 1.0ms preprocess, 2.6ms inference, 0.7ms postprocess per image at shape (1, 3, 640, 640)\n",
      "\n",
      "0: 320x640 18 cars, 2.8ms\n",
      "Speed: 1.0ms preprocess, 2.8ms inference, 0.7ms postprocess per image at shape (1, 3, 640, 640)\n"
     ]
    },
    {
     "name": "stdout",
     "output_type": "stream",
     "text": [
      "(1314, 673, 1643, 880)\n",
      "(1314, 711, 1613, 879)\n",
      "(1309, 703, 1608, 879)\n",
      "(1308, 703, 1609, 879)\n",
      "(1308, 703, 1609, 879)\n",
      "(1308, 703, 1609, 879)\n",
      "(1300, 700, 1596, 878)\n"
     ]
    },
    {
     "name": "stderr",
     "output_type": "stream",
     "text": [
      "\n",
      "0: 320x640 18 cars, 4.2ms\n",
      "Speed: 1.3ms preprocess, 4.2ms inference, 1.0ms postprocess per image at shape (1, 3, 640, 640)\n",
      "\n",
      "0: 320x640 16 cars, 2.6ms\n",
      "Speed: 1.0ms preprocess, 2.6ms inference, 1.9ms postprocess per image at shape (1, 3, 640, 640)\n",
      "\n",
      "0: 320x640 16 cars, 2.7ms\n",
      "Speed: 1.0ms preprocess, 2.7ms inference, 0.8ms postprocess per image at shape (1, 3, 640, 640)\n",
      "\n",
      "0: 320x640 16 cars, 1 truck, 2.7ms\n",
      "Speed: 1.1ms preprocess, 2.7ms inference, 0.7ms postprocess per image at shape (1, 3, 640, 640)\n",
      "\n",
      "0: 320x640 16 cars, 1 truck, 2.6ms\n",
      "Speed: 1.0ms preprocess, 2.6ms inference, 0.7ms postprocess per image at shape (1, 3, 640, 640)\n",
      "\n",
      "0: 320x640 16 cars, 1 truck, 2.6ms\n",
      "Speed: 1.1ms preprocess, 2.6ms inference, 0.7ms postprocess per image at shape (1, 3, 640, 640)\n",
      "\n",
      "0: 320x640 16 cars, 1 truck, 2.7ms\n",
      "Speed: 1.2ms preprocess, 2.7ms inference, 0.7ms postprocess per image at shape (1, 3, 640, 640)\n"
     ]
    },
    {
     "name": "stdout",
     "output_type": "stream",
     "text": [
      "(1300, 700, 1597, 878)\n",
      "(1294, 696, 1584, 878)\n",
      "(1294, 696, 1584, 879)\n",
      "(1288, 696, 1575, 879)\n",
      "(1288, 696, 1575, 879)\n",
      "(1283, 691, 1564, 878)\n",
      "(1283, 691, 1564, 878)\n"
     ]
    },
    {
     "name": "stderr",
     "output_type": "stream",
     "text": [
      "\n",
      "0: 320x640 16 cars, 2.9ms\n",
      "Speed: 1.0ms preprocess, 2.9ms inference, 1.5ms postprocess per image at shape (1, 3, 640, 640)\n",
      "\n",
      "0: 320x640 16 cars, 2.6ms\n",
      "Speed: 1.0ms preprocess, 2.6ms inference, 0.7ms postprocess per image at shape (1, 3, 640, 640)\n",
      "\n",
      "0: 320x640 16 cars, 2.7ms\n",
      "Speed: 1.0ms preprocess, 2.7ms inference, 0.9ms postprocess per image at shape (1, 3, 640, 640)\n",
      "\n",
      "0: 320x640 16 cars, 2.6ms\n",
      "Speed: 1.0ms preprocess, 2.6ms inference, 0.7ms postprocess per image at shape (1, 3, 640, 640)\n",
      "\n",
      "0: 320x640 15 cars, 2.6ms\n",
      "Speed: 1.1ms preprocess, 2.6ms inference, 0.7ms postprocess per image at shape (1, 3, 640, 640)\n",
      "\n",
      "0: 320x640 15 cars, 3.3ms\n",
      "Speed: 1.0ms preprocess, 3.3ms inference, 0.7ms postprocess per image at shape (1, 3, 640, 640)\n",
      "\n",
      "0: 320x640 15 cars, 3.5ms\n",
      "Speed: 1.0ms preprocess, 3.5ms inference, 1.6ms postprocess per image at shape (1, 3, 640, 640)\n"
     ]
    },
    {
     "name": "stdout",
     "output_type": "stream",
     "text": [
      "(1280, 687, 1559, 875)\n",
      "(1280, 687, 1559, 875)\n",
      "(1280, 687, 1559, 875)\n",
      "(1280, 686, 1559, 875)\n",
      "(1268, 674, 1550, 870)\n",
      "(1268, 674, 1550, 870)\n",
      "(1264, 670, 1546, 871)\n"
     ]
    },
    {
     "name": "stderr",
     "output_type": "stream",
     "text": [
      "\n",
      "0: 320x640 15 cars, 2.6ms\n",
      "Speed: 1.0ms preprocess, 2.6ms inference, 0.7ms postprocess per image at shape (1, 3, 640, 640)\n",
      "\n",
      "0: 320x640 15 cars, 4.1ms\n",
      "Speed: 1.0ms preprocess, 4.1ms inference, 1.1ms postprocess per image at shape (1, 3, 640, 640)\n",
      "\n",
      "0: 320x640 15 cars, 2.6ms\n",
      "Speed: 1.1ms preprocess, 2.6ms inference, 0.7ms postprocess per image at shape (1, 3, 640, 640)\n",
      "\n",
      "0: 320x640 15 cars, 2.6ms\n",
      "Speed: 1.0ms preprocess, 2.6ms inference, 0.7ms postprocess per image at shape (1, 3, 640, 640)\n",
      "\n",
      "0: 320x640 15 cars, 2.6ms\n",
      "Speed: 1.5ms preprocess, 2.6ms inference, 0.7ms postprocess per image at shape (1, 3, 640, 640)\n",
      "\n",
      "0: 320x640 16 cars, 2.6ms\n",
      "Speed: 1.0ms preprocess, 2.6ms inference, 1.7ms postprocess per image at shape (1, 3, 640, 640)\n",
      "\n",
      "0: 320x640 15 cars, 2.6ms\n",
      "Speed: 1.0ms preprocess, 2.6ms inference, 0.7ms postprocess per image at shape (1, 3, 640, 640)\n"
     ]
    },
    {
     "name": "stdout",
     "output_type": "stream",
     "text": [
      "(1264, 670, 1546, 870)\n",
      "(1259, 674, 1537, 868)\n",
      "(1259, 674, 1537, 868)\n",
      "(1252, 671, 1528, 863)\n",
      "(1252, 671, 1528, 863)\n",
      "(1246, 665, 1518, 852)\n",
      "(1246, 665, 1518, 852)\n"
     ]
    },
    {
     "name": "stderr",
     "output_type": "stream",
     "text": [
      "\n",
      "0: 320x640 15 cars, 2.6ms\n",
      "Speed: 1.0ms preprocess, 2.6ms inference, 0.7ms postprocess per image at shape (1, 3, 640, 640)\n",
      "\n",
      "0: 320x640 15 cars, 2.7ms\n",
      "Speed: 1.0ms preprocess, 2.7ms inference, 0.7ms postprocess per image at shape (1, 3, 640, 640)\n",
      "\n",
      "0: 320x640 19 cars, 2.6ms\n",
      "Speed: 1.0ms preprocess, 2.6ms inference, 0.7ms postprocess per image at shape (1, 3, 640, 640)\n",
      "\n",
      "0: 320x640 19 cars, 2.6ms\n",
      "Speed: 1.4ms preprocess, 2.6ms inference, 0.7ms postprocess per image at shape (1, 3, 640, 640)\n",
      "\n",
      "0: 320x640 17 cars, 3.1ms\n",
      "Speed: 1.0ms preprocess, 3.1ms inference, 1.0ms postprocess per image at shape (1, 3, 640, 640)\n",
      "\n",
      "0: 320x640 17 cars, 2.6ms\n",
      "Speed: 1.1ms preprocess, 2.6ms inference, 0.7ms postprocess per image at shape (1, 3, 640, 640)\n",
      "\n",
      "0: 320x640 16 cars, 2.6ms\n",
      "Speed: 1.0ms preprocess, 2.6ms inference, 0.9ms postprocess per image at shape (1, 3, 640, 640)\n"
     ]
    },
    {
     "name": "stdout",
     "output_type": "stream",
     "text": [
      "(1246, 665, 1518, 851)\n",
      "(1246, 665, 1518, 852)\n",
      "(1235, 655, 1509, 845)\n",
      "(1235, 654, 1509, 845)\n",
      "(1231, 653, 1500, 843)\n",
      "(1231, 653, 1500, 843)\n",
      "(1226, 644, 1497, 839)\n"
     ]
    },
    {
     "name": "stderr",
     "output_type": "stream",
     "text": [
      "\n",
      "0: 320x640 16 cars, 4.8ms\n",
      "Speed: 1.3ms preprocess, 4.8ms inference, 1.1ms postprocess per image at shape (1, 3, 640, 640)\n",
      "\n",
      "0: 320x640 16 cars, 4.8ms\n",
      "Speed: 1.2ms preprocess, 4.8ms inference, 1.2ms postprocess per image at shape (1, 3, 640, 640)\n",
      "\n",
      "0: 320x640 16 cars, 4.9ms\n",
      "Speed: 1.5ms preprocess, 4.9ms inference, 1.1ms postprocess per image at shape (1, 3, 640, 640)\n",
      "\n",
      "0: 320x640 16 cars, 4.3ms\n",
      "Speed: 1.3ms preprocess, 4.3ms inference, 1.1ms postprocess per image at shape (1, 3, 640, 640)\n",
      "\n",
      "0: 320x640 17 cars, 4.9ms\n",
      "Speed: 1.3ms preprocess, 4.9ms inference, 1.1ms postprocess per image at shape (1, 3, 640, 640)\n",
      "\n",
      "0: 320x640 17 cars, 5.2ms\n",
      "Speed: 1.3ms preprocess, 5.2ms inference, 1.1ms postprocess per image at shape (1, 3, 640, 640)\n"
     ]
    },
    {
     "name": "stdout",
     "output_type": "stream",
     "text": [
      "(1225, 643, 1498, 839)\n",
      "(1218, 643, 1489, 834)\n",
      "(1218, 644, 1489, 833)\n",
      "(1215, 643, 1480, 830)\n",
      "(1214, 642, 1480, 830)\n",
      "(1214, 642, 1480, 829)\n"
     ]
    },
    {
     "name": "stderr",
     "output_type": "stream",
     "text": [
      "\n",
      "0: 320x640 17 cars, 4.5ms\n",
      "Speed: 1.6ms preprocess, 4.5ms inference, 1.0ms postprocess per image at shape (1, 3, 640, 640)\n",
      "\n",
      "0: 320x640 17 cars, 4.7ms\n",
      "Speed: 1.2ms preprocess, 4.7ms inference, 1.1ms postprocess per image at shape (1, 3, 640, 640)\n",
      "\n",
      "0: 320x640 17 cars, 5.0ms\n",
      "Speed: 1.3ms preprocess, 5.0ms inference, 1.1ms postprocess per image at shape (1, 3, 640, 640)\n",
      "\n",
      "0: 320x640 16 cars, 4.9ms\n",
      "Speed: 1.3ms preprocess, 4.9ms inference, 1.1ms postprocess per image at shape (1, 3, 640, 640)\n",
      "\n",
      "0: 320x640 16 cars, 4.9ms\n",
      "Speed: 1.3ms preprocess, 4.9ms inference, 1.1ms postprocess per image at shape (1, 3, 640, 640)\n",
      "\n",
      "0: 320x640 17 cars, 2.6ms\n",
      "Speed: 1.3ms preprocess, 2.6ms inference, 0.7ms postprocess per image at shape (1, 3, 640, 640)\n"
     ]
    },
    {
     "name": "stdout",
     "output_type": "stream",
     "text": [
      "(1214, 642, 1480, 830)\n",
      "(1205, 632, 1467, 822)\n",
      "(1205, 633, 1467, 822)\n",
      "(1198, 628, 1461, 819)\n",
      "(1198, 629, 1461, 819)\n",
      "(1194, 622, 1456, 814)\n"
     ]
    },
    {
     "name": "stderr",
     "output_type": "stream",
     "text": [
      "\n",
      "0: 320x640 17 cars, 2.6ms\n",
      "Speed: 1.0ms preprocess, 2.6ms inference, 0.7ms postprocess per image at shape (1, 3, 640, 640)\n",
      "\n",
      "0: 320x640 18 cars, 2.6ms\n",
      "Speed: 1.0ms preprocess, 2.6ms inference, 0.7ms postprocess per image at shape (1, 3, 640, 640)\n",
      "\n",
      "0: 320x640 18 cars, 3.7ms\n",
      "Speed: 1.0ms preprocess, 3.7ms inference, 1.4ms postprocess per image at shape (1, 3, 640, 640)\n",
      "\n",
      "0: 320x640 18 cars, 3.4ms\n",
      "Speed: 1.2ms preprocess, 3.4ms inference, 0.7ms postprocess per image at shape (1, 3, 640, 640)\n",
      "\n",
      "0: 320x640 18 cars, 2.6ms\n",
      "Speed: 1.1ms preprocess, 2.6ms inference, 0.7ms postprocess per image at shape (1, 3, 640, 640)\n",
      "\n",
      "0: 320x640 18 cars, 2.6ms\n",
      "Speed: 1.0ms preprocess, 2.6ms inference, 0.7ms postprocess per image at shape (1, 3, 640, 640)\n",
      "\n",
      "0: 320x640 18 cars, 2.6ms\n",
      "Speed: 1.0ms preprocess, 2.6ms inference, 0.7ms postprocess per image at shape (1, 3, 640, 640)\n"
     ]
    },
    {
     "name": "stdout",
     "output_type": "stream",
     "text": [
      "(1194, 622, 1456, 814)\n",
      "(1189, 620, 1450, 809)\n",
      "(1189, 619, 1450, 810)\n",
      "(1185, 623, 1438, 803)\n",
      "(1185, 623, 1438, 803)\n",
      "(1185, 623, 1438, 803)\n",
      "(1185, 623, 1438, 803)\n"
     ]
    },
    {
     "name": "stderr",
     "output_type": "stream",
     "text": [
      "\n",
      "0: 320x640 19 cars, 2.6ms\n",
      "Speed: 1.0ms preprocess, 2.6ms inference, 0.7ms postprocess per image at shape (1, 3, 640, 640)\n",
      "\n",
      "0: 320x640 18 cars, 2.6ms\n",
      "Speed: 1.0ms preprocess, 2.6ms inference, 0.7ms postprocess per image at shape (1, 3, 640, 640)\n",
      "\n",
      "0: 320x640 20 cars, 2.6ms\n",
      "Speed: 1.0ms preprocess, 2.6ms inference, 0.7ms postprocess per image at shape (1, 3, 640, 640)\n",
      "\n",
      "0: 320x640 20 cars, 2.8ms\n",
      "Speed: 1.0ms preprocess, 2.8ms inference, 0.7ms postprocess per image at shape (1, 3, 640, 640)\n",
      "\n",
      "0: 320x640 19 cars, 2.5ms\n",
      "Speed: 1.0ms preprocess, 2.5ms inference, 1.8ms postprocess per image at shape (1, 3, 640, 640)\n",
      "\n",
      "0: 320x640 19 cars, 2.6ms\n",
      "Speed: 1.0ms preprocess, 2.6ms inference, 0.7ms postprocess per image at shape (1, 3, 640, 640)\n",
      "\n",
      "0: 320x640 17 cars, 2.6ms\n",
      "Speed: 1.0ms preprocess, 2.6ms inference, 0.7ms postprocess per image at shape (1, 3, 640, 640)\n"
     ]
    },
    {
     "name": "stdout",
     "output_type": "stream",
     "text": [
      "(1172, 622, 1419, 793)\n",
      "(1173, 622, 1420, 792)\n",
      "(1168, 617, 1413, 789)\n",
      "(1168, 617, 1413, 789)\n",
      "(1164, 616, 1409, 785)\n",
      "(1164, 616, 1409, 785)\n",
      "(1158, 610, 1399, 780)\n"
     ]
    },
    {
     "name": "stderr",
     "output_type": "stream",
     "text": [
      "\n",
      "0: 320x640 18 cars, 2.7ms\n",
      "Speed: 1.0ms preprocess, 2.7ms inference, 0.7ms postprocess per image at shape (1, 3, 640, 640)\n",
      "\n",
      "0: 320x640 19 cars, 2.6ms\n",
      "Speed: 1.3ms preprocess, 2.6ms inference, 0.7ms postprocess per image at shape (1, 3, 640, 640)\n",
      "\n",
      "0: 320x640 19 cars, 2.6ms\n",
      "Speed: 1.0ms preprocess, 2.6ms inference, 0.7ms postprocess per image at shape (1, 3, 640, 640)\n",
      "\n",
      "0: 320x640 19 cars, 2.6ms\n",
      "Speed: 1.0ms preprocess, 2.6ms inference, 0.7ms postprocess per image at shape (1, 3, 640, 640)\n",
      "\n",
      "0: 320x640 19 cars, 2.6ms\n",
      "Speed: 1.0ms preprocess, 2.6ms inference, 0.7ms postprocess per image at shape (1, 3, 640, 640)\n",
      "\n",
      "0: 320x640 17 cars, 1 truck, 3.0ms\n",
      "Speed: 1.0ms preprocess, 3.0ms inference, 1.2ms postprocess per image at shape (1, 3, 640, 640)\n",
      "\n",
      "0: 320x640 17 cars, 1 truck, 2.6ms\n",
      "Speed: 1.2ms preprocess, 2.6ms inference, 0.7ms postprocess per image at shape (1, 3, 640, 640)\n"
     ]
    },
    {
     "name": "stdout",
     "output_type": "stream",
     "text": [
      "(1158, 610, 1399, 780)\n",
      "(1156, 608, 1395, 775)\n",
      "(1156, 608, 1395, 775)\n",
      "(1156, 607, 1395, 775)\n",
      "(1156, 607, 1395, 775)\n",
      "(1141, 606, 1378, 770)\n",
      "(1141, 606, 1378, 770)\n"
     ]
    },
    {
     "name": "stderr",
     "output_type": "stream",
     "text": [
      "\n",
      "0: 320x640 18 cars, 2.6ms\n",
      "Speed: 1.0ms preprocess, 2.6ms inference, 0.7ms postprocess per image at shape (1, 3, 640, 640)\n",
      "\n",
      "0: 320x640 18 cars, 3.5ms\n",
      "Speed: 1.3ms preprocess, 3.5ms inference, 1.1ms postprocess per image at shape (1, 3, 640, 640)\n",
      "\n",
      "0: 320x640 20 cars, 1 truck, 3.4ms\n",
      "Speed: 1.3ms preprocess, 3.4ms inference, 0.9ms postprocess per image at shape (1, 3, 640, 640)\n",
      "\n",
      "0: 320x640 19 cars, 1 truck, 2.6ms\n",
      "Speed: 1.0ms preprocess, 2.6ms inference, 0.7ms postprocess per image at shape (1, 3, 640, 640)\n",
      "\n",
      "0: 320x640 17 cars, 2.6ms\n",
      "Speed: 1.0ms preprocess, 2.6ms inference, 0.8ms postprocess per image at shape (1, 3, 640, 640)\n",
      "\n",
      "0: 320x640 17 cars, 2.5ms\n",
      "Speed: 1.1ms preprocess, 2.5ms inference, 0.7ms postprocess per image at shape (1, 3, 640, 640)\n",
      "\n",
      "0: 320x640 17 cars, 2.6ms\n",
      "Speed: 1.0ms preprocess, 2.6ms inference, 0.7ms postprocess per image at shape (1, 3, 640, 640)\n"
     ]
    },
    {
     "name": "stdout",
     "output_type": "stream",
     "text": [
      "(1138, 591, 1370, 764)\n",
      "(1138, 592, 1370, 764)\n",
      "(1132, 595, 1363, 761)\n",
      "(1132, 595, 1363, 761)\n",
      "(1128, 582, 1356, 754)\n",
      "(1128, 582, 1356, 754)\n",
      "(1122, 586, 1349, 751)\n"
     ]
    },
    {
     "name": "stderr",
     "output_type": "stream",
     "text": [
      "\n",
      "0: 320x640 16 cars, 2.6ms\n",
      "Speed: 1.0ms preprocess, 2.6ms inference, 0.7ms postprocess per image at shape (1, 3, 640, 640)\n",
      "\n",
      "0: 320x640 17 cars, 3.7ms\n",
      "Speed: 1.0ms preprocess, 3.7ms inference, 0.7ms postprocess per image at shape (1, 3, 640, 640)\n",
      "\n",
      "0: 320x640 17 cars, 4.1ms\n",
      "Speed: 1.0ms preprocess, 4.1ms inference, 0.9ms postprocess per image at shape (1, 3, 640, 640)\n",
      "\n",
      "0: 320x640 16 cars, 4.3ms\n",
      "Speed: 1.0ms preprocess, 4.3ms inference, 1.1ms postprocess per image at shape (1, 3, 640, 640)\n",
      "\n",
      "0: 320x640 16 cars, 4.2ms\n",
      "Speed: 1.0ms preprocess, 4.2ms inference, 1.1ms postprocess per image at shape (1, 3, 640, 640)\n",
      "\n",
      "0: 320x640 15 cars, 1 truck, 4.2ms\n",
      "Speed: 1.4ms preprocess, 4.2ms inference, 1.1ms postprocess per image at shape (1, 3, 640, 640)\n",
      "\n"
     ]
    },
    {
     "name": "stdout",
     "output_type": "stream",
     "text": [
      "(1122, 585, 1349, 751)\n",
      "(1123, 586, 1349, 751)\n",
      "(1122, 586, 1349, 751)\n",
      "(1111, 572, 1333, 744)\n",
      "(1111, 572, 1333, 744)\n",
      "(1103, 566, 1328, 741)\n"
     ]
    },
    {
     "name": "stderr",
     "output_type": "stream",
     "text": [
      "0: 320x640 15 cars, 1 truck, 4.6ms\n",
      "Speed: 1.4ms preprocess, 4.6ms inference, 1.1ms postprocess per image at shape (1, 3, 640, 640)\n",
      "\n",
      "0: 320x640 15 cars, 1 truck, 4.5ms\n",
      "Speed: 1.4ms preprocess, 4.5ms inference, 1.1ms postprocess per image at shape (1, 3, 640, 640)\n",
      "\n",
      "0: 320x640 15 cars, 1 truck, 4.2ms\n",
      "Speed: 1.5ms preprocess, 4.2ms inference, 1.1ms postprocess per image at shape (1, 3, 640, 640)\n",
      "\n",
      "0: 320x640 16 cars, 4.1ms\n",
      "Speed: 1.4ms preprocess, 4.1ms inference, 1.1ms postprocess per image at shape (1, 3, 640, 640)\n",
      "\n",
      "0: 320x640 16 cars, 4.1ms\n",
      "Speed: 1.5ms preprocess, 4.1ms inference, 1.0ms postprocess per image at shape (1, 3, 640, 640)\n",
      "\n",
      "0: 320x640 15 cars, 4.2ms\n",
      "Speed: 1.5ms preprocess, 4.2ms inference, 1.6ms postprocess per image at shape (1, 3, 640, 640)\n"
     ]
    },
    {
     "name": "stdout",
     "output_type": "stream",
     "text": [
      "(1103, 566, 1328, 741)\n",
      "(1102, 561, 1323, 737)\n",
      "(1102, 560, 1323, 737)\n",
      "(1091, 567, 1317, 730)\n",
      "(1092, 568, 1317, 730)\n",
      "(1088, 567, 1310, 727)\n"
     ]
    },
    {
     "name": "stderr",
     "output_type": "stream",
     "text": [
      "\n",
      "0: 320x640 15 cars, 4.3ms\n",
      "Speed: 2.0ms preprocess, 4.3ms inference, 1.1ms postprocess per image at shape (1, 3, 640, 640)\n",
      "\n",
      "0: 320x640 15 cars, 4.3ms\n",
      "Speed: 1.5ms preprocess, 4.3ms inference, 1.1ms postprocess per image at shape (1, 3, 640, 640)\n",
      "\n",
      "0: 320x640 15 cars, 4.2ms\n",
      "Speed: 1.5ms preprocess, 4.2ms inference, 1.1ms postprocess per image at shape (1, 3, 640, 640)\n",
      "\n",
      "0: 320x640 15 cars, 1 truck, 4.2ms\n",
      "Speed: 1.5ms preprocess, 4.2ms inference, 1.1ms postprocess per image at shape (1, 3, 640, 640)\n",
      "\n",
      "0: 320x640 15 cars, 1 truck, 4.1ms\n",
      "Speed: 1.4ms preprocess, 4.1ms inference, 1.1ms postprocess per image at shape (1, 3, 640, 640)\n",
      "\n",
      "0: 320x640 16 cars, 1 bus, 4.2ms\n",
      "Speed: 1.4ms preprocess, 4.2ms inference, 1.1ms postprocess per image at shape (1, 3, 640, 640)\n"
     ]
    },
    {
     "name": "stdout",
     "output_type": "stream",
     "text": [
      "(1088, 567, 1310, 727)\n",
      "(1088, 567, 1310, 727)\n",
      "(1088, 567, 1310, 727)\n",
      "(1079, 553, 1296, 718)\n",
      "(1079, 552, 1296, 718)\n",
      "(1072, 554, 1287, 717)\n"
     ]
    },
    {
     "name": "stderr",
     "output_type": "stream",
     "text": [
      "\n",
      "0: 320x640 16 cars, 1 bus, 4.1ms\n",
      "Speed: 1.4ms preprocess, 4.1ms inference, 2.1ms postprocess per image at shape (1, 3, 640, 640)\n",
      "\n",
      "0: 320x640 15 cars, 4.1ms\n",
      "Speed: 1.8ms preprocess, 4.1ms inference, 1.1ms postprocess per image at shape (1, 3, 640, 640)\n",
      "\n",
      "0: 320x640 16 cars, 3.0ms\n",
      "Speed: 1.0ms preprocess, 3.0ms inference, 1.2ms postprocess per image at shape (1, 3, 640, 640)\n"
     ]
    },
    {
     "name": "stdout",
     "output_type": "stream",
     "text": [
      "(1072, 555, 1289, 717)\n",
      "(1072, 555, 1289, 717)\n"
     ]
    },
    {
     "name": "stderr",
     "output_type": "stream",
     "text": [
      "\n",
      "0: 320x640 14 cars, 1 truck, 2.6ms\n",
      "Speed: 1.0ms preprocess, 2.6ms inference, 0.7ms postprocess per image at shape (1, 3, 640, 640)\n",
      "\n",
      "0: 320x640 14 cars, 1 truck, 2.8ms\n",
      "Speed: 1.0ms preprocess, 2.8ms inference, 0.7ms postprocess per image at shape (1, 3, 640, 640)\n",
      "\n",
      "0: 320x640 15 cars, 1 truck, 2.6ms\n",
      "Speed: 1.0ms preprocess, 2.6ms inference, 0.7ms postprocess per image at shape (1, 3, 640, 640)\n",
      "\n",
      "0: 320x640 15 cars, 1 truck, 2.6ms\n",
      "Speed: 0.9ms preprocess, 2.6ms inference, 0.7ms postprocess per image at shape (1, 3, 640, 640)\n",
      "\n",
      "0: 320x640 15 cars, 1 truck, 2.7ms\n",
      "Speed: 0.9ms preprocess, 2.7ms inference, 0.7ms postprocess per image at shape (1, 3, 640, 640)\n",
      "\n",
      "0: 320x640 15 cars, 1 truck, 2.7ms\n",
      "Speed: 1.0ms preprocess, 2.7ms inference, 0.7ms postprocess per image at shape (1, 3, 640, 640)\n"
     ]
    },
    {
     "name": "stdout",
     "output_type": "stream",
     "text": [
      "(1065, 549, 1281, 707)\n",
      "(1059, 539, 1275, 703)\n",
      "(1059, 537, 1276, 703)\n",
      "(1057, 536, 1268, 701)\n",
      "(1056, 539, 1268, 700)\n",
      "(1057, 536, 1268, 701)\n",
      "(1056, 537, 1268, 700)\n"
     ]
    },
    {
     "name": "stderr",
     "output_type": "stream",
     "text": [
      "\n",
      "0: 320x640 17 cars, 1 truck, 2.6ms\n",
      "Speed: 1.0ms preprocess, 2.6ms inference, 0.7ms postprocess per image at shape (1, 3, 640, 640)\n",
      "\n",
      "0: 320x640 17 cars, 1 truck, 3.0ms\n",
      "Speed: 0.9ms preprocess, 3.0ms inference, 0.9ms postprocess per image at shape (1, 3, 640, 640)\n",
      "\n",
      "0: 320x640 16 cars, 1 truck, 3.5ms\n",
      "Speed: 1.1ms preprocess, 3.5ms inference, 0.9ms postprocess per image at shape (1, 3, 640, 640)\n",
      "\n",
      "0: 320x640 16 cars, 1 truck, 2.6ms\n",
      "Speed: 0.9ms preprocess, 2.6ms inference, 0.7ms postprocess per image at shape (1, 3, 640, 640)\n",
      "\n",
      "0: 320x640 16 cars, 1 truck, 2.6ms\n",
      "Speed: 0.9ms preprocess, 2.6ms inference, 0.7ms postprocess per image at shape (1, 3, 640, 640)\n",
      "\n",
      "0: 320x640 16 cars, 1 truck, 2.6ms\n",
      "Speed: 0.9ms preprocess, 2.6ms inference, 0.7ms postprocess per image at shape (1, 3, 640, 640)\n",
      "\n",
      "0: 320x640 16 cars, 1 bus, 1 truck, 2.5ms\n",
      "Speed: 1.0ms preprocess, 2.5ms inference, 0.7ms postprocess per image at shape (1, 3, 640, 640)\n"
     ]
    },
    {
     "name": "stdout",
     "output_type": "stream",
     "text": [
      "(1044, 536, 1252, 694)\n",
      "(1044, 536, 1252, 694)\n",
      "(1039, 526, 1249, 691)\n",
      "(1039, 525, 1249, 691)\n",
      "(1032, 517, 1243, 684)\n",
      "(1032, 517, 1243, 685)\n",
      "(1030, 520, 1234, 678)\n"
     ]
    },
    {
     "name": "stderr",
     "output_type": "stream",
     "text": [
      "\n",
      "0: 320x640 16 cars, 1 bus, 1 truck, 2.6ms\n",
      "Speed: 1.0ms preprocess, 2.6ms inference, 0.7ms postprocess per image at shape (1, 3, 640, 640)\n",
      "\n",
      "0: 320x640 15 cars, 1 bus, 2.7ms\n",
      "Speed: 1.0ms preprocess, 2.7ms inference, 0.9ms postprocess per image at shape (1, 3, 640, 640)\n",
      "\n",
      "0: 320x640 15 cars, 1 bus, 2.5ms\n",
      "Speed: 0.9ms preprocess, 2.5ms inference, 0.7ms postprocess per image at shape (1, 3, 640, 640)\n",
      "\n",
      "0: 320x640 15 cars, 1 bus, 2.6ms\n",
      "Speed: 1.5ms preprocess, 2.6ms inference, 0.8ms postprocess per image at shape (1, 3, 640, 640)\n",
      "\n"
     ]
    },
    {
     "name": "stdout",
     "output_type": "stream",
     "text": [
      "(1030, 520, 1234, 678)\n",
      "(1023, 530, 1227, 674)\n",
      "(1026, 507, 1233, 677)\n",
      "(1026, 507, 1233, 677)\n"
     ]
    },
    {
     "name": "stderr",
     "output_type": "stream",
     "text": [
      "0: 320x640 15 cars, 1 bus, 3.0ms\n",
      "Speed: 1.0ms preprocess, 3.0ms inference, 0.7ms postprocess per image at shape (1, 3, 640, 640)\n",
      "\n",
      "0: 320x640 15 cars, 1 bus, 2.7ms\n",
      "Speed: 1.0ms preprocess, 2.7ms inference, 0.7ms postprocess per image at shape (1, 3, 640, 640)\n",
      "\n",
      "0: 320x640 15 cars, 1 bus, 2.8ms\n",
      "Speed: 0.9ms preprocess, 2.8ms inference, 0.7ms postprocess per image at shape (1, 3, 640, 640)\n",
      "\n",
      "0: 320x640 16 cars, 1 bus, 2.7ms\n",
      "Speed: 1.0ms preprocess, 2.7ms inference, 0.7ms postprocess per image at shape (1, 3, 640, 640)\n",
      "\n",
      "0: 320x640 16 cars, 1 bus, 2.8ms\n",
      "Speed: 0.9ms preprocess, 2.8ms inference, 0.7ms postprocess per image at shape (1, 3, 640, 640)\n",
      "\n",
      "0: 320x640 15 cars, 1 bus, 2.6ms\n",
      "Speed: 1.6ms preprocess, 2.6ms inference, 0.7ms postprocess per image at shape (1, 3, 640, 640)\n",
      "\n",
      "0: 320x640 15 cars, 1 bus, 3.0ms\n",
      "Speed: 1.0ms preprocess, 3.0ms inference, 0.7ms postprocess per image at shape (1, 3, 640, 640)\n"
     ]
    },
    {
     "name": "stdout",
     "output_type": "stream",
     "text": [
      "(1023, 526, 1227, 675)\n",
      "(1015, 497, 1218, 669)\n",
      "(1015, 497, 1218, 669)\n",
      "(1009, 493, 1210, 664)\n",
      "(1008, 494, 1210, 665)\n",
      "(1003, 490, 1205, 656)\n",
      "(1003, 490, 1205, 656)\n"
     ]
    },
    {
     "name": "stderr",
     "output_type": "stream",
     "text": [
      "\n",
      "0: 320x640 16 cars, 1 bus, 2.7ms\n",
      "Speed: 0.9ms preprocess, 2.7ms inference, 0.7ms postprocess per image at shape (1, 3, 640, 640)\n",
      "\n",
      "0: 320x640 16 cars, 1 bus, 2.6ms\n",
      "Speed: 0.9ms preprocess, 2.6ms inference, 0.8ms postprocess per image at shape (1, 3, 640, 640)\n",
      "\n",
      "0: 320x640 15 cars, 1 bus, 1 truck, 3.4ms\n",
      "Speed: 1.2ms preprocess, 3.4ms inference, 0.9ms postprocess per image at shape (1, 3, 640, 640)\n",
      "\n",
      "0: 320x640 15 cars, 1 truck, 2.6ms\n",
      "Speed: 0.9ms preprocess, 2.6ms inference, 0.7ms postprocess per image at shape (1, 3, 640, 640)\n",
      "\n",
      "0: 320x640 15 cars, 1 bus, 1 truck, 2.6ms\n",
      "Speed: 0.9ms preprocess, 2.6ms inference, 0.9ms postprocess per image at shape (1, 3, 640, 640)\n",
      "\n",
      "0: 320x640 15 cars, 1 bus, 1 truck, 2.7ms\n",
      "Speed: 0.9ms preprocess, 2.7ms inference, 0.7ms postprocess per image at shape (1, 3, 640, 640)\n",
      "\n",
      "0: 320x640 15 cars, 2.6ms\n",
      "Speed: 0.9ms preprocess, 2.6ms inference, 0.7ms postprocess per image at shape (1, 3, 640, 640)\n"
     ]
    },
    {
     "name": "stdout",
     "output_type": "stream",
     "text": [
      "(999, 487, 1200, 651)\n",
      "(999, 487, 1200, 651)\n",
      "(996, 486, 1197, 647)\n",
      "(994, 484, 1197, 646)\n",
      "(994, 484, 1197, 646)\n",
      "(994, 484, 1197, 646)\n",
      "(984, 490, 1180, 643)\n"
     ]
    },
    {
     "name": "stderr",
     "output_type": "stream",
     "text": [
      "\n",
      "0: 320x640 15 cars, 3.7ms\n",
      "Speed: 0.9ms preprocess, 3.7ms inference, 0.7ms postprocess per image at shape (1, 3, 640, 640)\n",
      "\n",
      "0: 320x640 15 cars, 3.8ms\n",
      "Speed: 1.4ms preprocess, 3.8ms inference, 0.7ms postprocess per image at shape (1, 3, 640, 640)\n",
      "\n",
      "0: 320x640 15 cars, 2.9ms\n",
      "Speed: 0.9ms preprocess, 2.9ms inference, 1.2ms postprocess per image at shape (1, 3, 640, 640)\n",
      "\n",
      "0: 320x640 15 cars, 1 truck, 3.5ms\n",
      "Speed: 0.9ms preprocess, 3.5ms inference, 1.3ms postprocess per image at shape (1, 3, 640, 640)\n",
      "\n",
      "0: 320x640 15 cars, 1 bus, 1 truck, 2.8ms\n",
      "Speed: 0.9ms preprocess, 2.8ms inference, 1.1ms postprocess per image at shape (1, 3, 640, 640)\n",
      "\n",
      "0: 320x640 15 cars, 1 truck, 4.2ms\n",
      "Speed: 0.9ms preprocess, 4.2ms inference, 2.2ms postprocess per image at shape (1, 3, 640, 640)\n",
      "\n",
      "0: 320x640 15 cars, 2.5ms\n",
      "Speed: 0.9ms preprocess, 2.5ms inference, 0.7ms postprocess per image at shape (1, 3, 640, 640)\n"
     ]
    },
    {
     "name": "stdout",
     "output_type": "stream",
     "text": [
      "(984, 491, 1180, 643)\n",
      "(977, 478, 1173, 640)\n",
      "(977, 478, 1173, 640)\n",
      "(973, 473, 1167, 633)\n",
      "(973, 473, 1167, 633)\n",
      "(970, 470, 1162, 630)\n",
      "(969, 470, 1160, 632)\n"
     ]
    },
    {
     "name": "stderr",
     "output_type": "stream",
     "text": [
      "\n",
      "0: 320x640 15 cars, 1 truck, 2.7ms\n",
      "Speed: 1.0ms preprocess, 2.7ms inference, 1.0ms postprocess per image at shape (1, 3, 640, 640)\n",
      "\n",
      "0: 320x640 15 cars, 1 truck, 3.6ms\n",
      "Speed: 1.0ms preprocess, 3.6ms inference, 0.8ms postprocess per image at shape (1, 3, 640, 640)\n",
      "\n",
      "0: 320x640 16 cars, 1 truck, 4.1ms\n",
      "Speed: 1.1ms preprocess, 4.1ms inference, 1.1ms postprocess per image at shape (1, 3, 640, 640)\n",
      "\n",
      "0: 320x640 16 cars, 1 truck, 3.5ms\n",
      "Speed: 0.9ms preprocess, 3.5ms inference, 1.1ms postprocess per image at shape (1, 3, 640, 640)\n",
      "\n",
      "0: 320x640 16 cars, 1 truck, 3.2ms\n",
      "Speed: 1.0ms preprocess, 3.2ms inference, 1.2ms postprocess per image at shape (1, 3, 640, 640)\n",
      "\n",
      "0: 320x640 16 cars, 1 truck, 4.3ms\n",
      "Speed: 1.0ms preprocess, 4.3ms inference, 1.6ms postprocess per image at shape (1, 3, 640, 640)\n",
      "\n"
     ]
    },
    {
     "name": "stdout",
     "output_type": "stream",
     "text": [
      "(963, 473, 1155, 627)\n",
      "(963, 472, 1155, 627)\n",
      "(963, 472, 1155, 627)\n",
      "(963, 472, 1154, 628)\n",
      "(953, 460, 1146, 616)\n",
      "(954, 459, 1143, 619)\n"
     ]
    },
    {
     "name": "stderr",
     "output_type": "stream",
     "text": [
      "0: 320x640 15 cars, 4.5ms\n",
      "Speed: 1.4ms preprocess, 4.5ms inference, 1.1ms postprocess per image at shape (1, 3, 640, 640)\n",
      "\n",
      "0: 320x640 16 cars, 1 truck, 4.8ms\n",
      "Speed: 1.4ms preprocess, 4.8ms inference, 1.1ms postprocess per image at shape (1, 3, 640, 640)\n",
      "\n",
      "0: 320x640 16 cars, 1 truck, 4.1ms\n",
      "Speed: 1.5ms preprocess, 4.1ms inference, 1.0ms postprocess per image at shape (1, 3, 640, 640)\n",
      "\n",
      "0: 320x640 16 cars, 1 truck, 4.2ms\n",
      "Speed: 1.7ms preprocess, 4.2ms inference, 1.1ms postprocess per image at shape (1, 3, 640, 640)\n",
      "\n",
      "0: 320x640 16 cars, 4.3ms\n",
      "Speed: 1.4ms preprocess, 4.3ms inference, 1.1ms postprocess per image at shape (1, 3, 640, 640)\n",
      "\n",
      "0: 320x640 17 cars, 4.3ms\n",
      "Speed: 1.4ms preprocess, 4.3ms inference, 1.5ms postprocess per image at shape (1, 3, 640, 640)\n"
     ]
    },
    {
     "name": "stdout",
     "output_type": "stream",
     "text": [
      "(949, 457, 1142, 619)\n",
      "(947, 455, 1141, 620)\n",
      "(944, 454, 1130, 608)\n",
      "(944, 453, 1130, 608)\n",
      "(939, 451, 1125, 604)\n"
     ]
    },
    {
     "name": "stderr",
     "output_type": "stream",
     "text": [
      "\n",
      "0: 320x640 18 cars, 1 bus, 2.6ms\n",
      "Speed: 0.9ms preprocess, 2.6ms inference, 0.7ms postprocess per image at shape (1, 3, 640, 640)\n",
      "\n",
      "0: 320x640 18 cars, 1 bus, 2.6ms\n",
      "Speed: 1.0ms preprocess, 2.6ms inference, 0.7ms postprocess per image at shape (1, 3, 640, 640)\n",
      "\n",
      "0: 320x640 18 cars, 1 bus, 2.6ms\n",
      "Speed: 1.2ms preprocess, 2.6ms inference, 0.7ms postprocess per image at shape (1, 3, 640, 640)\n",
      "\n",
      "0: 320x640 18 cars, 1 bus, 2.7ms\n",
      "Speed: 1.0ms preprocess, 2.7ms inference, 0.9ms postprocess per image at shape (1, 3, 640, 640)\n",
      "\n",
      "0: 320x640 17 cars, 2.6ms\n",
      "Speed: 0.9ms preprocess, 2.6ms inference, 1.8ms postprocess per image at shape (1, 3, 640, 640)\n"
     ]
    },
    {
     "name": "stdout",
     "output_type": "stream",
     "text": [
      "(939, 451, 1125, 604)\n",
      "(937, 451, 1115, 600)\n",
      "(936, 452, 1115, 600)\n",
      "(937, 451, 1116, 600)\n",
      "(937, 451, 1116, 600)\n",
      "(937, 451, 1116, 600)\n"
     ]
    },
    {
     "name": "stderr",
     "output_type": "stream",
     "text": [
      "\n",
      "0: 320x640 16 cars, 2.7ms\n",
      "Speed: 1.0ms preprocess, 2.7ms inference, 0.7ms postprocess per image at shape (1, 3, 640, 640)\n",
      "\n",
      "0: 320x640 16 cars, 2.8ms\n",
      "Speed: 1.0ms preprocess, 2.8ms inference, 0.7ms postprocess per image at shape (1, 3, 640, 640)\n",
      "\n",
      "0: 320x640 16 cars, 2.6ms\n",
      "Speed: 0.9ms preprocess, 2.6ms inference, 0.8ms postprocess per image at shape (1, 3, 640, 640)\n",
      "\n",
      "0: 320x640 16 cars, 2.6ms\n",
      "Speed: 1.0ms preprocess, 2.6ms inference, 0.7ms postprocess per image at shape (1, 3, 640, 640)\n",
      "\n",
      "0: 320x640 16 cars, 2.7ms\n",
      "Speed: 0.9ms preprocess, 2.7ms inference, 0.7ms postprocess per image at shape (1, 3, 640, 640)\n"
     ]
    },
    {
     "name": "stdout",
     "output_type": "stream",
     "text": [
      "(926, 465, 1102, 597)\n",
      "(926, 465, 1102, 597)\n",
      "(918, 463, 1097, 593)\n",
      "(916, 452, 1093, 592)\n"
     ]
    },
    {
     "name": "stderr",
     "output_type": "stream",
     "text": [
      "\n",
      "0: 320x640 17 cars, 2.7ms\n",
      "Speed: 0.9ms preprocess, 2.7ms inference, 0.9ms postprocess per image at shape (1, 3, 640, 640)\n",
      "\n",
      "0: 320x640 17 cars, 3.5ms\n",
      "Speed: 1.0ms preprocess, 3.5ms inference, 0.9ms postprocess per image at shape (1, 3, 640, 640)\n",
      "\n",
      "0: 320x640 16 cars, 2.6ms\n",
      "Speed: 0.9ms preprocess, 2.6ms inference, 0.7ms postprocess per image at shape (1, 3, 640, 640)\n"
     ]
    },
    {
     "name": "stdout",
     "output_type": "stream",
     "text": [
      "(916, 452, 1093, 592)\n",
      "(916, 452, 1093, 592)\n",
      "(910, 455, 1085, 586)\n"
     ]
    },
    {
     "name": "stderr",
     "output_type": "stream",
     "text": [
      "\n",
      "0: 320x640 16 cars, 2.6ms\n",
      "Speed: 0.9ms preprocess, 2.6ms inference, 0.7ms postprocess per image at shape (1, 3, 640, 640)\n",
      "\n",
      "0: 320x640 17 cars, 2.6ms\n",
      "Speed: 0.9ms preprocess, 2.6ms inference, 0.7ms postprocess per image at shape (1, 3, 640, 640)\n",
      "\n",
      "0: 320x640 17 cars, 2.8ms\n",
      "Speed: 1.0ms preprocess, 2.8ms inference, 0.7ms postprocess per image at shape (1, 3, 640, 640)\n",
      "\n",
      "0: 320x640 17 cars, 2.6ms\n",
      "Speed: 1.0ms preprocess, 2.6ms inference, 0.7ms postprocess per image at shape (1, 3, 640, 640)\n",
      "\n",
      "0: 320x640 17 cars, 2.6ms\n",
      "Speed: 1.0ms preprocess, 2.6ms inference, 0.7ms postprocess per image at shape (1, 3, 640, 640)\n"
     ]
    },
    {
     "name": "stdout",
     "output_type": "stream",
     "text": [
      "(910, 455, 1085, 586)\n",
      "(906, 449, 1080, 582)\n",
      "(906, 448, 1080, 582)\n",
      "(906, 448, 1080, 582)\n",
      "(906, 448, 1080, 582)\n"
     ]
    },
    {
     "name": "stderr",
     "output_type": "stream",
     "text": [
      "\n",
      "0: 320x640 18 cars, 2.6ms\n",
      "Speed: 1.7ms preprocess, 2.6ms inference, 0.7ms postprocess per image at shape (1, 3, 640, 640)\n",
      "\n",
      "0: 320x640 18 cars, 2.6ms\n",
      "Speed: 1.0ms preprocess, 2.6ms inference, 0.7ms postprocess per image at shape (1, 3, 640, 640)\n",
      "\n",
      "0: 320x640 17 cars, 2.6ms\n",
      "Speed: 1.0ms preprocess, 2.6ms inference, 0.7ms postprocess per image at shape (1, 3, 640, 640)\n",
      "\n",
      "0: 320x640 16 cars, 3.0ms\n",
      "Speed: 1.0ms preprocess, 3.0ms inference, 0.7ms postprocess per image at shape (1, 3, 640, 640)\n",
      "\n",
      "0: 320x640 16 cars, 2.6ms\n",
      "Speed: 1.1ms preprocess, 2.6ms inference, 0.7ms postprocess per image at shape (1, 3, 640, 640)\n"
     ]
    },
    {
     "name": "stdout",
     "output_type": "stream",
     "text": [
      "(906, 448, 1080, 582)\n",
      "(892, 445, 1063, 574)\n",
      "(892, 446, 1064, 573)\n",
      "(889, 429, 1057, 570)\n",
      "(889, 429, 1057, 570)\n",
      "(884, 426, 1052, 567)\n"
     ]
    },
    {
     "name": "stderr",
     "output_type": "stream",
     "text": [
      "\n",
      "0: 320x640 16 cars, 2.6ms\n",
      "Speed: 1.0ms preprocess, 2.6ms inference, 0.7ms postprocess per image at shape (1, 3, 640, 640)\n",
      "\n",
      "0: 320x640 16 cars, 2.7ms\n",
      "Speed: 1.1ms preprocess, 2.7ms inference, 0.9ms postprocess per image at shape (1, 3, 640, 640)\n",
      "\n",
      "0: 320x640 16 cars, 2.7ms\n",
      "Speed: 1.1ms preprocess, 2.7ms inference, 0.7ms postprocess per image at shape (1, 3, 640, 640)\n",
      "\n",
      "0: 320x640 16 cars, 2.8ms\n",
      "Speed: 1.0ms preprocess, 2.8ms inference, 0.7ms postprocess per image at shape (1, 3, 640, 640)\n",
      "\n",
      "0: 320x640 16 cars, 2.6ms\n",
      "Speed: 1.0ms preprocess, 2.6ms inference, 0.7ms postprocess per image at shape (1, 3, 640, 640)\n",
      "\n",
      "0: 320x640 17 cars, 2.6ms\n",
      "Speed: 1.0ms preprocess, 2.6ms inference, 0.7ms postprocess per image at shape (1, 3, 640, 640)\n"
     ]
    },
    {
     "name": "stdout",
     "output_type": "stream",
     "text": [
      "(885, 426, 1052, 567)\n",
      "(878, 430, 1048, 561)\n",
      "(878, 430, 1048, 561)\n",
      "(878, 431, 1048, 561)\n",
      "(878, 431, 1048, 561)\n"
     ]
    },
    {
     "name": "stderr",
     "output_type": "stream",
     "text": [
      "\n",
      "0: 320x640 18 cars, 2.6ms\n",
      "Speed: 1.0ms preprocess, 2.6ms inference, 0.7ms postprocess per image at shape (1, 3, 640, 640)\n",
      "\n",
      "0: 320x640 18 cars, 2.7ms\n",
      "Speed: 1.0ms preprocess, 2.7ms inference, 0.7ms postprocess per image at shape (1, 3, 640, 640)\n",
      "\n",
      "0: 320x640 18 cars, 2.7ms\n",
      "Speed: 1.1ms preprocess, 2.7ms inference, 0.7ms postprocess per image at shape (1, 3, 640, 640)\n",
      "\n",
      "0: 320x640 18 cars, 2.9ms\n",
      "Speed: 0.9ms preprocess, 2.9ms inference, 1.2ms postprocess per image at shape (1, 3, 640, 640)\n",
      "\n",
      "0: 320x640 18 cars, 2.6ms\n",
      "Speed: 1.0ms preprocess, 2.6ms inference, 0.7ms postprocess per image at shape (1, 3, 640, 640)\n"
     ]
    },
    {
     "name": "stdout",
     "output_type": "stream",
     "text": [
      "(878, 431, 1048, 561)\n",
      "(866, 429, 1035, 557)\n",
      "(865, 421, 1033, 552)\n",
      "(865, 421, 1033, 552)\n",
      "(864, 421, 1025, 550)\n",
      "(864, 421, 1025, 550)\n"
     ]
    },
    {
     "name": "stderr",
     "output_type": "stream",
     "text": [
      "\n",
      "0: 320x640 16 cars, 2.7ms\n",
      "Speed: 1.0ms preprocess, 2.7ms inference, 0.7ms postprocess per image at shape (1, 3, 640, 640)\n",
      "\n",
      "0: 320x640 16 cars, 2.6ms\n",
      "Speed: 1.0ms preprocess, 2.6ms inference, 0.7ms postprocess per image at shape (1, 3, 640, 640)\n",
      "\n",
      "0: 320x640 17 cars, 1 truck, 2.7ms\n",
      "Speed: 1.0ms preprocess, 2.7ms inference, 0.7ms postprocess per image at shape (1, 3, 640, 640)\n",
      "\n",
      "0: 320x640 17 cars, 2.6ms\n",
      "Speed: 1.0ms preprocess, 2.6ms inference, 0.7ms postprocess per image at shape (1, 3, 640, 640)\n",
      "\n",
      "0: 320x640 17 cars, 2.8ms\n",
      "Speed: 1.5ms preprocess, 2.8ms inference, 0.7ms postprocess per image at shape (1, 3, 640, 640)\n",
      "\n",
      "0: 320x640 17 cars, 1 truck, 2.8ms\n",
      "Speed: 1.0ms preprocess, 2.8ms inference, 0.8ms postprocess per image at shape (1, 3, 640, 640)\n"
     ]
    },
    {
     "name": "stdout",
     "output_type": "stream",
     "text": [
      "(857, 423, 1019, 546)\n",
      "(857, 423, 1019, 546)\n",
      "(853, 407, 1014, 545)\n",
      "(853, 407, 1014, 545)\n",
      "(853, 407, 1014, 545)\n"
     ]
    },
    {
     "name": "stderr",
     "output_type": "stream",
     "text": [
      "\n",
      "0: 320x640 19 cars, 1 truck, 2.8ms\n",
      "Speed: 0.9ms preprocess, 2.8ms inference, 0.9ms postprocess per image at shape (1, 3, 640, 640)\n",
      "\n",
      "0: 320x640 19 cars, 1 truck, 2.6ms\n",
      "Speed: 1.5ms preprocess, 2.6ms inference, 0.7ms postprocess per image at shape (1, 3, 640, 640)\n",
      "\n",
      "0: 320x640 19 cars, 2.8ms\n",
      "Speed: 1.0ms preprocess, 2.8ms inference, 0.7ms postprocess per image at shape (1, 3, 640, 640)\n",
      "\n"
     ]
    },
    {
     "name": "stdout",
     "output_type": "stream",
     "text": [
      "(853, 407, 1014, 545)\n",
      "(853, 407, 1014, 545)\n",
      "(847, 415, 1001, 536)\n",
      "(841, 413, 998, 531)\n"
     ]
    },
    {
     "name": "stderr",
     "output_type": "stream",
     "text": [
      "0: 320x640 18 cars, 2.9ms\n",
      "Speed: 0.9ms preprocess, 2.9ms inference, 0.7ms postprocess per image at shape (1, 3, 640, 640)\n",
      "\n",
      "0: 320x640 19 cars, 2.6ms\n",
      "Speed: 1.0ms preprocess, 2.6ms inference, 0.7ms postprocess per image at shape (1, 3, 640, 640)\n",
      "\n",
      "0: 320x640 18 cars, 2.7ms\n",
      "Speed: 1.2ms preprocess, 2.7ms inference, 0.7ms postprocess per image at shape (1, 3, 640, 640)\n",
      "\n",
      "0: 320x640 16 cars, 2.9ms\n",
      "Speed: 0.9ms preprocess, 2.9ms inference, 0.7ms postprocess per image at shape (1, 3, 640, 640)\n",
      "\n",
      "0: 320x640 16 cars, 2.7ms\n",
      "Speed: 0.9ms preprocess, 2.7ms inference, 1.9ms postprocess per image at shape (1, 3, 640, 640)\n",
      "\n",
      "0: 320x640 16 cars, 2 trucks, 2.6ms\n",
      "Speed: 0.9ms preprocess, 2.6ms inference, 0.7ms postprocess per image at shape (1, 3, 640, 640)\n",
      "\n",
      "0: 320x640 16 cars, 2 trucks, 2.6ms\n",
      "Speed: 0.9ms preprocess, 2.6ms inference, 0.7ms postprocess per image at shape (1, 3, 640, 640)\n"
     ]
    },
    {
     "name": "stdout",
     "output_type": "stream",
     "text": [
      "(841, 413, 998, 531)\n",
      "(838, 411, 993, 530)\n",
      "(838, 410, 993, 530)\n",
      "(833, 408, 989, 526)\n",
      "(833, 408, 989, 526)\n",
      "(827, 406, 983, 525)\n",
      "(827, 406, 983, 525)\n"
     ]
    },
    {
     "name": "stderr",
     "output_type": "stream",
     "text": [
      "\n",
      "0: 320x640 17 cars, 2 trucks, 2.7ms\n",
      "Speed: 0.9ms preprocess, 2.7ms inference, 0.8ms postprocess per image at shape (1, 3, 640, 640)\n",
      "\n",
      "0: 320x640 16 cars, 2 trucks, 2.8ms\n",
      "Speed: 1.0ms preprocess, 2.8ms inference, 0.7ms postprocess per image at shape (1, 3, 640, 640)\n",
      "\n",
      "0: 320x640 17 cars, 1 truck, 2.8ms\n",
      "Speed: 0.9ms preprocess, 2.8ms inference, 0.7ms postprocess per image at shape (1, 3, 640, 640)\n",
      "\n",
      "0: 320x640 17 cars, 1 truck, 3.0ms\n",
      "Speed: 0.9ms preprocess, 3.0ms inference, 0.8ms postprocess per image at shape (1, 3, 640, 640)\n",
      "\n",
      "0: 320x640 17 cars, 1 truck, 2.7ms\n",
      "Speed: 0.9ms preprocess, 2.7ms inference, 0.7ms postprocess per image at shape (1, 3, 640, 640)\n",
      "\n",
      "0: 320x640 17 cars, 1 truck, 2.9ms\n",
      "Speed: 1.0ms preprocess, 2.9ms inference, 0.8ms postprocess per image at shape (1, 3, 640, 640)\n",
      "\n",
      "0: 320x640 18 cars, 1 truck, 2.6ms\n",
      "Speed: 1.0ms preprocess, 2.6ms inference, 0.7ms postprocess per image at shape (1, 3, 640, 640)\n"
     ]
    },
    {
     "name": "stdout",
     "output_type": "stream",
     "text": [
      "(828, 408, 983, 524)\n",
      "(827, 406, 983, 525)\n",
      "(820, 404, 972, 517)\n",
      "(820, 404, 972, 517)\n",
      "(818, 401, 967, 516)\n",
      "(818, 401, 967, 516)\n",
      "(815, 387, 962, 512)\n"
     ]
    },
    {
     "name": "stderr",
     "output_type": "stream",
     "text": [
      "\n",
      "0: 320x640 18 cars, 1 truck, 2.8ms\n",
      "Speed: 0.9ms preprocess, 2.8ms inference, 0.7ms postprocess per image at shape (1, 3, 640, 640)\n",
      "\n",
      "0: 320x640 17 cars, 3.4ms\n",
      "Speed: 0.9ms preprocess, 3.4ms inference, 0.7ms postprocess per image at shape (1, 3, 640, 640)\n",
      "\n",
      "0: 320x640 17 cars, 2.5ms\n",
      "Speed: 0.9ms preprocess, 2.5ms inference, 2.1ms postprocess per image at shape (1, 3, 640, 640)\n",
      "\n",
      "0: 320x640 18 cars, 2 trucks, 2.5ms\n",
      "Speed: 0.9ms preprocess, 2.5ms inference, 0.7ms postprocess per image at shape (1, 3, 640, 640)\n",
      "\n",
      "0: 320x640 18 cars, 2 trucks, 2.6ms\n",
      "Speed: 1.1ms preprocess, 2.6ms inference, 0.7ms postprocess per image at shape (1, 3, 640, 640)\n",
      "\n",
      "0: 320x640 18 cars, 2 trucks, 2.6ms\n",
      "Speed: 1.1ms preprocess, 2.6ms inference, 0.9ms postprocess per image at shape (1, 3, 640, 640)\n",
      "\n",
      "0: 320x640 18 cars, 2 trucks, 2.5ms\n",
      "Speed: 0.9ms preprocess, 2.5ms inference, 0.7ms postprocess per image at shape (1, 3, 640, 640)\n"
     ]
    },
    {
     "name": "stdout",
     "output_type": "stream",
     "text": [
      "(815, 389, 962, 512)\n",
      "(807, 398, 959, 508)\n",
      "(807, 398, 959, 508)\n",
      "(802, 399, 952, 508)\n",
      "(805, 400, 952, 506)\n",
      "(802, 399, 952, 508)\n",
      "(802, 399, 952, 508)\n"
     ]
    },
    {
     "name": "stderr",
     "output_type": "stream",
     "text": [
      "\n",
      "0: 320x640 17 cars, 1 truck, 2.6ms\n",
      "Speed: 0.9ms preprocess, 2.6ms inference, 0.7ms postprocess per image at shape (1, 3, 640, 640)\n",
      "\n",
      "0: 320x640 17 cars, 1 truck, 2.6ms\n",
      "Speed: 0.9ms preprocess, 2.6ms inference, 0.7ms postprocess per image at shape (1, 3, 640, 640)\n",
      "\n",
      "0: 320x640 17 cars, 2.6ms\n",
      "Speed: 0.9ms preprocess, 2.6ms inference, 0.7ms postprocess per image at shape (1, 3, 640, 640)\n",
      "\n",
      "0: 320x640 17 cars, 2.6ms\n",
      "Speed: 1.1ms preprocess, 2.6ms inference, 0.7ms postprocess per image at shape (1, 3, 640, 640)\n",
      "\n",
      "0: 320x640 16 cars, 1 truck, 2.9ms\n",
      "Speed: 1.0ms preprocess, 2.9ms inference, 0.8ms postprocess per image at shape (1, 3, 640, 640)\n",
      "\n",
      "0: 320x640 16 cars, 1 truck, 3.2ms\n",
      "Speed: 1.2ms preprocess, 3.2ms inference, 0.8ms postprocess per image at shape (1, 3, 640, 640)\n",
      "\n",
      "0: 320x640 17 cars, 1 truck, 3.2ms\n",
      "Speed: 0.9ms preprocess, 3.2ms inference, 1.0ms postprocess per image at shape (1, 3, 640, 640)\n"
     ]
    },
    {
     "name": "stdout",
     "output_type": "stream",
     "text": [
      "(795, 406, 940, 500)\n",
      "(795, 408, 940, 500)\n",
      "(792, 398, 936, 498)\n",
      "(792, 399, 936, 498)\n",
      "(786, 399, 932, 497)\n",
      "(786, 398, 932, 497)\n",
      "(781, 404, 929, 493)\n"
     ]
    },
    {
     "name": "stderr",
     "output_type": "stream",
     "text": [
      "\n",
      "0: 320x640 17 cars, 1 truck, 2.6ms\n",
      "Speed: 0.9ms preprocess, 2.6ms inference, 1.7ms postprocess per image at shape (1, 3, 640, 640)\n",
      "\n",
      "0: 320x640 15 cars, 1 truck, 2.5ms\n",
      "Speed: 0.9ms preprocess, 2.5ms inference, 0.7ms postprocess per image at shape (1, 3, 640, 640)\n",
      "\n",
      "0: 320x640 15 cars, 1 truck, 2.5ms\n",
      "Speed: 0.9ms preprocess, 2.5ms inference, 0.7ms postprocess per image at shape (1, 3, 640, 640)\n",
      "\n",
      "0: 320x640 15 cars, 1 truck, 2.7ms\n",
      "Speed: 0.9ms preprocess, 2.7ms inference, 0.8ms postprocess per image at shape (1, 3, 640, 640)\n",
      "\n",
      "0: 320x640 15 cars, 2 trucks, 2.6ms\n",
      "Speed: 1.0ms preprocess, 2.6ms inference, 0.7ms postprocess per image at shape (1, 3, 640, 640)\n",
      "\n",
      "0: 320x640 16 cars, 1 truck, 2.7ms\n",
      "Speed: 0.9ms preprocess, 2.7ms inference, 0.7ms postprocess per image at shape (1, 3, 640, 640)\n",
      "\n",
      "0: 320x640 16 cars, 1 truck, 2.8ms\n",
      "Speed: 0.9ms preprocess, 2.8ms inference, 0.7ms postprocess per image at shape (1, 3, 640, 640)\n"
     ]
    },
    {
     "name": "stdout",
     "output_type": "stream",
     "text": [
      "(781, 404, 929, 493)\n",
      "(781, 388, 922, 488)\n",
      "(781, 387, 922, 488)\n",
      "(781, 384, 922, 488)\n",
      "(781, 356, 922, 489)\n",
      "(770, 355, 914, 484)\n",
      "(770, 355, 914, 484)\n"
     ]
    },
    {
     "name": "stderr",
     "output_type": "stream",
     "text": [
      "\n",
      "0: 320x640 16 cars, 2.6ms\n",
      "Speed: 1.0ms preprocess, 2.6ms inference, 1.8ms postprocess per image at shape (1, 3, 640, 640)\n",
      "\n",
      "0: 320x640 16 cars, 2.5ms\n",
      "Speed: 0.9ms preprocess, 2.5ms inference, 0.7ms postprocess per image at shape (1, 3, 640, 640)\n",
      "\n",
      "0: 320x640 15 cars, 1 truck, 2.5ms\n",
      "Speed: 1.1ms preprocess, 2.5ms inference, 0.7ms postprocess per image at shape (1, 3, 640, 640)\n",
      "\n",
      "0: 320x640 15 cars, 1 truck, 2.6ms\n",
      "Speed: 0.9ms preprocess, 2.6ms inference, 0.7ms postprocess per image at shape (1, 3, 640, 640)\n",
      "\n",
      "0: 320x640 16 cars, 1 truck, 2.8ms\n",
      "Speed: 0.9ms preprocess, 2.8ms inference, 0.7ms postprocess per image at shape (1, 3, 640, 640)\n",
      "\n",
      "0: 320x640 16 cars, 1 truck, 2.8ms\n",
      "Speed: 0.9ms preprocess, 2.8ms inference, 0.7ms postprocess per image at shape (1, 3, 640, 640)\n",
      "\n",
      "0: 320x640 17 cars, 1 truck, 2.5ms\n",
      "Speed: 0.9ms preprocess, 2.5ms inference, 1.9ms postprocess per image at shape (1, 3, 640, 640)\n"
     ]
    },
    {
     "name": "stdout",
     "output_type": "stream",
     "text": [
      "(768, 354, 910, 479)\n",
      "(768, 354, 910, 479)\n",
      "(765, 361, 903, 476)\n",
      "(765, 358, 904, 476)\n",
      "(761, 354, 900, 474)\n",
      "(761, 354, 900, 474)\n",
      "(755, 352, 895, 472)\n"
     ]
    },
    {
     "name": "stderr",
     "output_type": "stream",
     "text": [
      "\n",
      "0: 320x640 16 cars, 1 truck, 2.6ms\n",
      "Speed: 1.0ms preprocess, 2.6ms inference, 2.0ms postprocess per image at shape (1, 3, 640, 640)\n",
      "\n",
      "0: 320x640 17 cars, 1 truck, 2.6ms\n",
      "Speed: 0.9ms preprocess, 2.6ms inference, 0.7ms postprocess per image at shape (1, 3, 640, 640)\n",
      "\n",
      "0: 320x640 17 cars, 1 truck, 2.7ms\n",
      "Speed: 0.9ms preprocess, 2.7ms inference, 0.7ms postprocess per image at shape (1, 3, 640, 640)\n",
      "\n",
      "0: 320x640 16 cars, 1 truck, 2.6ms\n",
      "Speed: 0.9ms preprocess, 2.6ms inference, 0.7ms postprocess per image at shape (1, 3, 640, 640)\n",
      "\n",
      "0: 320x640 16 cars, 1 truck, 2.6ms\n",
      "Speed: 0.9ms preprocess, 2.6ms inference, 0.7ms postprocess per image at shape (1, 3, 640, 640)\n",
      "\n",
      "0: 320x640 16 cars, 1 truck, 2.7ms\n",
      "Speed: 0.9ms preprocess, 2.7ms inference, 0.8ms postprocess per image at shape (1, 3, 640, 640)\n",
      "\n",
      "0: 320x640 16 cars, 1 truck, 2.6ms\n",
      "Speed: 0.9ms preprocess, 2.6ms inference, 0.8ms postprocess per image at shape (1, 3, 640, 640)\n"
     ]
    },
    {
     "name": "stdout",
     "output_type": "stream",
     "text": [
      "(754, 352, 895, 472)\n",
      "(754, 352, 895, 472)\n",
      "(754, 352, 895, 472)\n",
      "(749, 356, 885, 465)\n",
      "(749, 356, 885, 465)\n",
      "(746, 354, 880, 461)\n",
      "(746, 354, 880, 461)\n"
     ]
    },
    {
     "name": "stderr",
     "output_type": "stream",
     "text": [
      "\n",
      "0: 320x640 16 cars, 1 truck, 2.7ms\n",
      "Speed: 0.9ms preprocess, 2.7ms inference, 0.7ms postprocess per image at shape (1, 3, 640, 640)\n",
      "\n",
      "0: 320x640 16 cars, 1 truck, 2.6ms\n",
      "Speed: 0.9ms preprocess, 2.6ms inference, 1.5ms postprocess per image at shape (1, 3, 640, 640)\n",
      "\n",
      "0: 320x640 16 cars, 2 trucks, 2.6ms\n",
      "Speed: 0.9ms preprocess, 2.6ms inference, 0.7ms postprocess per image at shape (1, 3, 640, 640)\n",
      "\n",
      "0: 320x640 15 cars, 2 trucks, 3.2ms\n",
      "Speed: 1.0ms preprocess, 3.2ms inference, 0.9ms postprocess per image at shape (1, 3, 640, 640)\n",
      "\n",
      "0: 320x640 16 cars, 1 truck, 2.7ms\n",
      "Speed: 1.0ms preprocess, 2.7ms inference, 0.7ms postprocess per image at shape (1, 3, 640, 640)\n",
      "\n",
      "0: 320x640 15 cars, 1 truck, 2.6ms\n",
      "Speed: 1.0ms preprocess, 2.6ms inference, 0.7ms postprocess per image at shape (1, 3, 640, 640)\n",
      "\n",
      "0: 320x640 16 cars, 1 truck, 2.8ms\n",
      "Speed: 1.0ms preprocess, 2.8ms inference, 0.7ms postprocess per image at shape (1, 3, 640, 640)\n"
     ]
    },
    {
     "name": "stdout",
     "output_type": "stream",
     "text": [
      "(742, 351, 877, 460)\n",
      "(742, 351, 877, 460)\n",
      "(738, 351, 872, 457)\n",
      "(737, 352, 872, 457)\n",
      "(732, 348, 869, 452)\n",
      "(732, 348, 869, 452)\n",
      "(732, 347, 869, 452)\n"
     ]
    },
    {
     "name": "stderr",
     "output_type": "stream",
     "text": [
      "\n",
      "0: 320x640 16 cars, 1 truck, 2.6ms\n",
      "Speed: 0.9ms preprocess, 2.6ms inference, 0.7ms postprocess per image at shape (1, 3, 640, 640)\n",
      "\n",
      "0: 320x640 16 cars, 2.8ms\n",
      "Speed: 1.0ms preprocess, 2.8ms inference, 2.0ms postprocess per image at shape (1, 3, 640, 640)\n",
      "\n",
      "0: 320x640 16 cars, 3.6ms\n",
      "Speed: 1.2ms preprocess, 3.6ms inference, 1.3ms postprocess per image at shape (1, 3, 640, 640)\n",
      "\n",
      "0: 320x640 19 cars, 2.6ms\n",
      "Speed: 0.9ms preprocess, 2.6ms inference, 0.7ms postprocess per image at shape (1, 3, 640, 640)\n",
      "\n",
      "0: 320x640 19 cars, 2.6ms\n",
      "Speed: 0.9ms preprocess, 2.6ms inference, 0.7ms postprocess per image at shape (1, 3, 640, 640)\n",
      "\n",
      "0: 320x640 20 cars, 2.6ms\n",
      "Speed: 0.9ms preprocess, 2.6ms inference, 0.8ms postprocess per image at shape (1, 3, 640, 640)\n",
      "\n",
      "0: 320x640 20 cars, 3.8ms\n",
      "Speed: 1.2ms preprocess, 3.8ms inference, 0.9ms postprocess per image at shape (1, 3, 640, 640)\n"
     ]
    },
    {
     "name": "stdout",
     "output_type": "stream",
     "text": [
      "(732, 347, 869, 452)\n",
      "(723, 347, 858, 448)\n",
      "(723, 347, 858, 448)\n",
      "(721, 346, 851, 448)\n",
      "(721, 346, 851, 448)\n",
      "(719, 347, 844, 445)\n",
      "(719, 347, 844, 445)\n"
     ]
    },
    {
     "name": "stderr",
     "output_type": "stream",
     "text": [
      "\n",
      "0: 320x640 18 cars, 2.9ms\n",
      "Speed: 1.0ms preprocess, 2.9ms inference, 0.7ms postprocess per image at shape (1, 3, 640, 640)\n",
      "\n",
      "0: 320x640 18 cars, 2.6ms\n",
      "Speed: 1.1ms preprocess, 2.6ms inference, 0.9ms postprocess per image at shape (1, 3, 640, 640)\n",
      "\n",
      "0: 320x640 18 cars, 1 truck, 2.6ms\n",
      "Speed: 0.9ms preprocess, 2.6ms inference, 0.7ms postprocess per image at shape (1, 3, 640, 640)\n",
      "\n",
      "0: 320x640 18 cars, 1 truck, 2.6ms\n",
      "Speed: 1.0ms preprocess, 2.6ms inference, 0.7ms postprocess per image at shape (1, 3, 640, 640)\n",
      "\n",
      "0: 320x640 19 cars, 1 truck, 2.7ms\n",
      "Speed: 1.0ms preprocess, 2.7ms inference, 0.7ms postprocess per image at shape (1, 3, 640, 640)\n",
      "\n",
      "0: 320x640 18 cars, 1 truck, 2.6ms\n",
      "Speed: 1.3ms preprocess, 2.6ms inference, 0.7ms postprocess per image at shape (1, 3, 640, 640)\n",
      "\n",
      "0: 320x640 16 cars, 1 truck, 2.9ms\n",
      "Speed: 0.9ms preprocess, 2.9ms inference, 0.8ms postprocess per image at shape (1, 3, 640, 640)\n"
     ]
    },
    {
     "name": "stdout",
     "output_type": "stream",
     "text": [
      "(713, 344, 839, 442)\n",
      "(713, 344, 839, 441)\n",
      "(711, 341, 843, 438)\n",
      "(711, 341, 843, 438)\n",
      "(711, 341, 843, 439)\n",
      "(711, 341, 843, 438)\n",
      "(704, 340, 827, 431)\n"
     ]
    },
    {
     "name": "stderr",
     "output_type": "stream",
     "text": [
      "\n",
      "0: 320x640 16 cars, 1 truck, 2.6ms\n",
      "Speed: 0.9ms preprocess, 2.6ms inference, 2.0ms postprocess per image at shape (1, 3, 640, 640)\n",
      "\n",
      "0: 320x640 15 cars, 1 truck, 2.6ms\n",
      "Speed: 0.9ms preprocess, 2.6ms inference, 0.7ms postprocess per image at shape (1, 3, 640, 640)\n",
      "\n",
      "0: 320x640 15 cars, 1 truck, 2.6ms\n",
      "Speed: 0.9ms preprocess, 2.6ms inference, 0.7ms postprocess per image at shape (1, 3, 640, 640)\n",
      "\n",
      "0: 320x640 15 cars, 1 truck, 2.9ms\n",
      "Speed: 0.9ms preprocess, 2.9ms inference, 0.7ms postprocess per image at shape (1, 3, 640, 640)\n",
      "\n",
      "0: 320x640 15 cars, 1 truck, 2.6ms\n",
      "Speed: 1.2ms preprocess, 2.6ms inference, 0.7ms postprocess per image at shape (1, 3, 640, 640)\n",
      "\n",
      "0: 320x640 17 cars, 1 truck, 3.1ms\n",
      "Speed: 0.9ms preprocess, 3.1ms inference, 0.7ms postprocess per image at shape (1, 3, 640, 640)\n",
      "\n",
      "0: 320x640 17 cars, 1 truck, 2.6ms\n",
      "Speed: 0.9ms preprocess, 2.6ms inference, 0.7ms postprocess per image at shape (1, 3, 640, 640)\n"
     ]
    },
    {
     "name": "stdout",
     "output_type": "stream",
     "text": [
      "(704, 340, 827, 432)\n",
      "(701, 340, 826, 429)\n",
      "(701, 340, 826, 429)\n",
      "(698, 335, 820, 425)\n",
      "(698, 335, 820, 425)\n",
      "(693, 335, 819, 425)\n",
      "(693, 335, 819, 425)\n"
     ]
    },
    {
     "name": "stderr",
     "output_type": "stream",
     "text": [
      "\n",
      "0: 320x640 18 cars, 1 truck, 2.7ms\n",
      "Speed: 0.9ms preprocess, 2.7ms inference, 0.7ms postprocess per image at shape (1, 3, 640, 640)\n",
      "\n",
      "0: 320x640 18 cars, 1 truck, 3.0ms\n",
      "Speed: 1.0ms preprocess, 3.0ms inference, 1.4ms postprocess per image at shape (1, 3, 640, 640)\n",
      "\n",
      "0: 320x640 18 cars, 1 truck, 3.1ms\n",
      "Speed: 0.9ms preprocess, 3.1ms inference, 1.1ms postprocess per image at shape (1, 3, 640, 640)\n",
      "\n",
      "0: 320x640 18 cars, 1 truck, 3.5ms\n",
      "Speed: 1.2ms preprocess, 3.5ms inference, 0.9ms postprocess per image at shape (1, 3, 640, 640)\n",
      "\n",
      "0: 320x640 17 cars, 1 truck, 3.8ms\n",
      "Speed: 1.4ms preprocess, 3.8ms inference, 0.8ms postprocess per image at shape (1, 3, 640, 640)\n",
      "\n",
      "0: 320x640 17 cars, 1 truck, 2.7ms\n",
      "Speed: 1.0ms preprocess, 2.7ms inference, 0.7ms postprocess per image at shape (1, 3, 640, 640)\n",
      "\n",
      "0: 320x640 16 cars, 1 truck, 2.6ms\n",
      "Speed: 0.9ms preprocess, 2.6ms inference, 1.0ms postprocess per image at shape (1, 3, 640, 640)\n"
     ]
    },
    {
     "name": "stdout",
     "output_type": "stream",
     "text": [
      "(687, 330, 817, 424)\n",
      "(686, 330, 817, 424)\n",
      "(686, 331, 817, 424)\n",
      "(687, 331, 817, 424)\n",
      "(684, 323, 808, 414)\n",
      "(684, 325, 807, 415)\n",
      "(684, 326, 801, 411)\n"
     ]
    },
    {
     "name": "stderr",
     "output_type": "stream",
     "text": [
      "\n",
      "0: 320x640 16 cars, 1 truck, 2.8ms\n",
      "Speed: 1.0ms preprocess, 2.8ms inference, 0.7ms postprocess per image at shape (1, 3, 640, 640)\n",
      "\n",
      "0: 320x640 16 cars, 1 truck, 2.6ms\n",
      "Speed: 1.0ms preprocess, 2.6ms inference, 0.7ms postprocess per image at shape (1, 3, 640, 640)\n",
      "\n",
      "0: 320x640 16 cars, 1 truck, 2.6ms\n",
      "Speed: 1.0ms preprocess, 2.6ms inference, 0.7ms postprocess per image at shape (1, 3, 640, 640)\n",
      "\n",
      "0: 320x640 18 cars, 1 truck, 2.6ms\n",
      "Speed: 0.9ms preprocess, 2.6ms inference, 0.7ms postprocess per image at shape (1, 3, 640, 640)\n",
      "\n",
      "0: 320x640 18 cars, 1 truck, 2.6ms\n",
      "Speed: 0.9ms preprocess, 2.6ms inference, 0.7ms postprocess per image at shape (1, 3, 640, 640)\n",
      "\n",
      "0: 320x640 16 cars, 3.6ms\n",
      "Speed: 1.2ms preprocess, 3.6ms inference, 0.9ms postprocess per image at shape (1, 3, 640, 640)\n",
      "\n",
      "0: 320x640 16 cars, 3.2ms\n",
      "Speed: 1.4ms preprocess, 3.2ms inference, 0.7ms postprocess per image at shape (1, 3, 640, 640)\n"
     ]
    },
    {
     "name": "stdout",
     "output_type": "stream",
     "text": [
      "(684, 326, 801, 412)\n",
      "(679, 338, 797, 413)\n",
      "(679, 338, 797, 413)\n",
      "(672, 316, 781, 395)\n",
      "(672, 316, 781, 394)\n",
      "(666, 315, 788, 407)\n",
      "(666, 315, 788, 407)\n"
     ]
    },
    {
     "name": "stderr",
     "output_type": "stream",
     "text": [
      "\n",
      "0: 320x640 16 cars, 2.7ms\n",
      "Speed: 1.0ms preprocess, 2.7ms inference, 0.7ms postprocess per image at shape (1, 3, 640, 640)\n",
      "\n",
      "0: 320x640 16 cars, 2.8ms\n",
      "Speed: 1.1ms preprocess, 2.8ms inference, 0.8ms postprocess per image at shape (1, 3, 640, 640)\n",
      "\n",
      "0: 320x640 16 cars, 2.7ms\n",
      "Speed: 1.0ms preprocess, 2.7ms inference, 0.7ms postprocess per image at shape (1, 3, 640, 640)\n",
      "\n",
      "0: 320x640 16 cars, 2.7ms\n",
      "Speed: 1.0ms preprocess, 2.7ms inference, 0.7ms postprocess per image at shape (1, 3, 640, 640)\n",
      "\n",
      "0: 320x640 16 cars, 1 truck, 2.8ms\n",
      "Speed: 1.0ms preprocess, 2.8ms inference, 0.7ms postprocess per image at shape (1, 3, 640, 640)\n",
      "\n",
      "0: 320x640 16 cars, 1 truck, 3.7ms\n",
      "Speed: 1.6ms preprocess, 3.7ms inference, 0.7ms postprocess per image at shape (1, 3, 640, 640)\n",
      "\n",
      "0: 320x640 16 cars, 2.7ms\n",
      "Speed: 1.1ms preprocess, 2.7ms inference, 0.7ms postprocess per image at shape (1, 3, 640, 640)\n"
     ]
    },
    {
     "name": "stdout",
     "output_type": "stream",
     "text": [
      "(666, 315, 788, 407)\n",
      "(666, 315, 788, 407)\n",
      "(661, 312, 783, 400)\n",
      "(661, 312, 783, 400)\n",
      "(660, 306, 778, 399)\n",
      "(660, 306, 778, 399)\n",
      "(655, 308, 774, 396)\n"
     ]
    },
    {
     "name": "stderr",
     "output_type": "stream",
     "text": [
      "\n",
      "0: 320x640 16 cars, 3.2ms\n",
      "Speed: 1.1ms preprocess, 3.2ms inference, 1.0ms postprocess per image at shape (1, 3, 640, 640)\n",
      "\n",
      "0: 320x640 15 cars, 1 truck, 2.7ms\n",
      "Speed: 1.0ms preprocess, 2.7ms inference, 1.3ms postprocess per image at shape (1, 3, 640, 640)\n",
      "\n",
      "0: 320x640 15 cars, 1 truck, 3.3ms\n",
      "Speed: 1.0ms preprocess, 3.3ms inference, 1.3ms postprocess per image at shape (1, 3, 640, 640)\n",
      "\n",
      "0: 320x640 16 cars, 1 truck, 2.6ms\n",
      "Speed: 1.0ms preprocess, 2.6ms inference, 0.7ms postprocess per image at shape (1, 3, 640, 640)\n",
      "\n",
      "0: 320x640 16 cars, 1 truck, 2.6ms\n",
      "Speed: 1.0ms preprocess, 2.6ms inference, 0.7ms postprocess per image at shape (1, 3, 640, 640)\n",
      "\n",
      "0: 320x640 16 cars, 1 truck, 2.6ms\n",
      "Speed: 1.1ms preprocess, 2.6ms inference, 0.7ms postprocess per image at shape (1, 3, 640, 640)\n",
      "\n",
      "0: 320x640 16 cars, 1 truck, 2.6ms\n",
      "Speed: 1.1ms preprocess, 2.6ms inference, 0.7ms postprocess per image at shape (1, 3, 640, 640)\n"
     ]
    },
    {
     "name": "stdout",
     "output_type": "stream",
     "text": [
      "(654, 303, 774, 398)\n",
      "(651, 299, 771, 394)\n",
      "(651, 299, 771, 394)\n",
      "(647, 304, 763, 391)\n",
      "(647, 304, 763, 391)\n",
      "(647, 304, 763, 391)\n",
      "(647, 304, 763, 391)\n"
     ]
    },
    {
     "name": "stderr",
     "output_type": "stream",
     "text": [
      "\n",
      "0: 320x640 16 cars, 2.8ms\n",
      "Speed: 1.0ms preprocess, 2.8ms inference, 0.7ms postprocess per image at shape (1, 3, 640, 640)\n",
      "\n",
      "0: 320x640 16 cars, 3.0ms\n",
      "Speed: 1.1ms preprocess, 3.0ms inference, 0.8ms postprocess per image at shape (1, 3, 640, 640)\n",
      "\n",
      "0: 320x640 16 cars, 1 truck, 2.8ms\n",
      "Speed: 1.0ms preprocess, 2.8ms inference, 0.8ms postprocess per image at shape (1, 3, 640, 640)\n",
      "\n",
      "0: 320x640 16 cars, 1 truck, 2.6ms\n",
      "Speed: 1.0ms preprocess, 2.6ms inference, 0.7ms postprocess per image at shape (1, 3, 640, 640)\n",
      "\n",
      "0: 320x640 14 cars, 1 truck, 2.8ms\n",
      "Speed: 0.9ms preprocess, 2.8ms inference, 0.7ms postprocess per image at shape (1, 3, 640, 640)\n",
      "\n",
      "0: 320x640 14 cars, 1 truck, 2.9ms\n",
      "Speed: 1.0ms preprocess, 2.9ms inference, 0.7ms postprocess per image at shape (1, 3, 640, 640)\n",
      "\n",
      "0: 320x640 15 cars, 2.6ms\n",
      "Speed: 1.0ms preprocess, 2.6ms inference, 2.0ms postprocess per image at shape (1, 3, 640, 640)\n"
     ]
    },
    {
     "name": "stdout",
     "output_type": "stream",
     "text": [
      "(638, 293, 755, 387)\n",
      "(638, 293, 755, 387)\n",
      "(637, 293, 751, 383)\n",
      "(637, 293, 751, 383)\n",
      "(635, 293, 748, 381)\n",
      "(635, 293, 748, 381)\n",
      "(629, 292, 747, 378)\n"
     ]
    },
    {
     "name": "stderr",
     "output_type": "stream",
     "text": [
      "\n",
      "0: 320x640 15 cars, 2.6ms\n",
      "Speed: 0.9ms preprocess, 2.6ms inference, 0.7ms postprocess per image at shape (1, 3, 640, 640)\n",
      "\n",
      "0: 320x640 16 cars, 2.6ms\n",
      "Speed: 0.9ms preprocess, 2.6ms inference, 0.7ms postprocess per image at shape (1, 3, 640, 640)\n",
      "\n",
      "0: 320x640 16 cars, 2.6ms\n",
      "Speed: 0.9ms preprocess, 2.6ms inference, 0.7ms postprocess per image at shape (1, 3, 640, 640)\n",
      "\n",
      "0: 320x640 16 cars, 2.6ms\n",
      "Speed: 0.9ms preprocess, 2.6ms inference, 0.7ms postprocess per image at shape (1, 3, 640, 640)\n",
      "\n",
      "0: 320x640 15 cars, 2.7ms\n",
      "Speed: 1.0ms preprocess, 2.7ms inference, 0.7ms postprocess per image at shape (1, 3, 640, 640)\n",
      "\n",
      "0: 320x640 16 cars, 2.8ms\n",
      "Speed: 1.0ms preprocess, 2.8ms inference, 0.7ms postprocess per image at shape (1, 3, 640, 640)\n",
      "\n",
      "0: 320x640 16 cars, 2.7ms\n",
      "Speed: 1.2ms preprocess, 2.7ms inference, 0.7ms postprocess per image at shape (1, 3, 640, 640)\n"
     ]
    },
    {
     "name": "stdout",
     "output_type": "stream",
     "text": [
      "(630, 292, 747, 378)\n",
      "(626, 294, 742, 376)\n",
      "(626, 294, 742, 376)\n",
      "(626, 294, 742, 376)\n",
      "(626, 294, 742, 376)\n",
      "(625, 290, 734, 370)\n",
      "(625, 290, 734, 370)\n"
     ]
    },
    {
     "name": "stderr",
     "output_type": "stream",
     "text": [
      "\n",
      "0: 320x640 15 cars, 2.8ms\n",
      "Speed: 0.9ms preprocess, 2.8ms inference, 1.3ms postprocess per image at shape (1, 3, 640, 640)\n",
      "\n",
      "0: 320x640 15 cars, 2.6ms\n",
      "Speed: 1.0ms preprocess, 2.6ms inference, 1.8ms postprocess per image at shape (1, 3, 640, 640)\n",
      "\n",
      "0: 320x640 16 cars, 2.6ms\n",
      "Speed: 1.0ms preprocess, 2.6ms inference, 0.7ms postprocess per image at shape (1, 3, 640, 640)\n",
      "\n",
      "0: 320x640 16 cars, 2.6ms\n",
      "Speed: 1.0ms preprocess, 2.6ms inference, 0.9ms postprocess per image at shape (1, 3, 640, 640)\n",
      "\n",
      "0: 320x640 17 cars, 2.6ms\n",
      "Speed: 1.0ms preprocess, 2.6ms inference, 0.7ms postprocess per image at shape (1, 3, 640, 640)\n",
      "\n",
      "0: 320x640 17 cars, 2.8ms\n",
      "Speed: 1.0ms preprocess, 2.8ms inference, 0.7ms postprocess per image at shape (1, 3, 640, 640)\n",
      "\n",
      "0: 320x640 15 cars, 2.6ms\n",
      "Speed: 1.1ms preprocess, 2.6ms inference, 0.7ms postprocess per image at shape (1, 3, 640, 640)\n"
     ]
    },
    {
     "name": "stdout",
     "output_type": "stream",
     "text": [
      "(621, 291, 730, 367)\n",
      "(621, 291, 730, 367)\n",
      "(616, 281, 727, 366)\n",
      "(616, 281, 727, 367)\n",
      "(615, 279, 724, 365)\n",
      "(615, 279, 724, 365)\n",
      "(607, 280, 719, 365)\n"
     ]
    },
    {
     "name": "stderr",
     "output_type": "stream",
     "text": [
      "\n",
      "0: 320x640 15 cars, 2.7ms\n",
      "Speed: 1.0ms preprocess, 2.7ms inference, 0.7ms postprocess per image at shape (1, 3, 640, 640)\n",
      "\n",
      "0: 320x640 15 cars, 3.7ms\n",
      "Speed: 1.1ms preprocess, 3.7ms inference, 0.7ms postprocess per image at shape (1, 3, 640, 640)\n",
      "\n",
      "0: 320x640 16 cars, 4.3ms\n",
      "Speed: 1.2ms preprocess, 4.3ms inference, 1.1ms postprocess per image at shape (1, 3, 640, 640)\n",
      "\n",
      "0: 320x640 14 cars, 4.3ms\n",
      "Speed: 1.0ms preprocess, 4.3ms inference, 1.1ms postprocess per image at shape (1, 3, 640, 640)\n",
      "\n",
      "0: 320x640 14 cars, 4.1ms\n",
      "Speed: 1.4ms preprocess, 4.1ms inference, 1.1ms postprocess per image at shape (1, 3, 640, 640)\n",
      "\n",
      "0: 320x640 16 cars, 4.2ms\n",
      "Speed: 1.4ms preprocess, 4.2ms inference, 1.1ms postprocess per image at shape (1, 3, 640, 640)\n"
     ]
    },
    {
     "name": "stdout",
     "output_type": "stream",
     "text": [
      "(608, 280, 719, 366)\n",
      "(607, 280, 719, 366)\n",
      "(608, 280, 719, 365)\n",
      "(600, 275, 710, 364)\n",
      "(600, 275, 710, 364)\n",
      "(598, 271, 707, 359)\n"
     ]
    },
    {
     "name": "stderr",
     "output_type": "stream",
     "text": [
      "\n",
      "0: 320x640 15 cars, 4.3ms\n",
      "Speed: 1.4ms preprocess, 4.3ms inference, 1.1ms postprocess per image at shape (1, 3, 640, 640)\n",
      "\n",
      "0: 320x640 14 cars, 4.1ms\n",
      "Speed: 1.4ms preprocess, 4.1ms inference, 1.1ms postprocess per image at shape (1, 3, 640, 640)\n",
      "\n",
      "0: 320x640 14 cars, 3.9ms\n",
      "Speed: 1.4ms preprocess, 3.9ms inference, 1.1ms postprocess per image at shape (1, 3, 640, 640)\n",
      "\n",
      "0: 320x640 16 cars, 4.0ms\n",
      "Speed: 1.4ms preprocess, 4.0ms inference, 1.0ms postprocess per image at shape (1, 3, 640, 640)\n",
      "\n",
      "0: 320x640 16 cars, 4.6ms\n",
      "Speed: 1.4ms preprocess, 4.6ms inference, 1.2ms postprocess per image at shape (1, 3, 640, 640)\n",
      "\n",
      "0: 320x640 14 cars, 4.3ms\n",
      "Speed: 1.9ms preprocess, 4.3ms inference, 1.1ms postprocess per image at shape (1, 3, 640, 640)\n"
     ]
    },
    {
     "name": "stdout",
     "output_type": "stream",
     "text": [
      "(598, 271, 707, 359)\n",
      "(593, 269, 703, 356)\n",
      "(594, 269, 703, 356)\n",
      "(592, 271, 701, 353)\n",
      "(592, 271, 701, 353)\n",
      "(589, 269, 700, 348)\n"
     ]
    },
    {
     "name": "stderr",
     "output_type": "stream",
     "text": [
      "\n",
      "0: 320x640 14 cars, 4.1ms\n",
      "Speed: 1.4ms preprocess, 4.1ms inference, 1.1ms postprocess per image at shape (1, 3, 640, 640)\n",
      "\n",
      "0: 320x640 14 cars, 4.1ms\n",
      "Speed: 1.4ms preprocess, 4.1ms inference, 1.1ms postprocess per image at shape (1, 3, 640, 640)\n",
      "\n",
      "0: 320x640 14 cars, 4.2ms\n",
      "Speed: 1.4ms preprocess, 4.2ms inference, 1.7ms postprocess per image at shape (1, 3, 640, 640)\n",
      "\n",
      "0: 320x640 14 cars, 5.7ms\n",
      "Speed: 1.7ms preprocess, 5.7ms inference, 1.3ms postprocess per image at shape (1, 3, 640, 640)\n",
      "\n",
      "0: 320x640 14 cars, 4.0ms\n",
      "Speed: 1.3ms preprocess, 4.0ms inference, 1.0ms postprocess per image at shape (1, 3, 640, 640)\n",
      "\n",
      "0: 320x640 18 cars, 3.7ms\n",
      "Speed: 1.3ms preprocess, 3.7ms inference, 2.1ms postprocess per image at shape (1, 3, 640, 640)\n"
     ]
    },
    {
     "name": "stdout",
     "output_type": "stream",
     "text": [
      "(589, 269, 700, 348)\n",
      "(589, 268, 700, 348)\n",
      "(588, 268, 700, 348)\n",
      "(582, 266, 689, 343)\n",
      "(582, 266, 688, 343)\n",
      "(577, 264, 685, 341)\n"
     ]
    },
    {
     "name": "stderr",
     "output_type": "stream",
     "text": [
      "\n",
      "0: 320x640 18 cars, 4.3ms\n",
      "Speed: 1.4ms preprocess, 4.3ms inference, 1.0ms postprocess per image at shape (1, 3, 640, 640)\n",
      "\n",
      "0: 320x640 19 cars, 2.8ms\n",
      "Speed: 1.1ms preprocess, 2.8ms inference, 0.7ms postprocess per image at shape (1, 3, 640, 640)\n",
      "\n",
      "0: 320x640 19 cars, 2.6ms\n",
      "Speed: 1.1ms preprocess, 2.6ms inference, 0.7ms postprocess per image at shape (1, 3, 640, 640)\n",
      "\n",
      "0: 320x640 19 cars, 2.7ms\n",
      "Speed: 1.0ms preprocess, 2.7ms inference, 0.7ms postprocess per image at shape (1, 3, 640, 640)\n",
      "\n",
      "0: 320x640 19 cars, 3.2ms\n",
      "Speed: 1.0ms preprocess, 3.2ms inference, 0.8ms postprocess per image at shape (1, 3, 640, 640)\n",
      "\n",
      "0: 320x640 13 cars, 2 trucks, 2.6ms\n",
      "Speed: 1.0ms preprocess, 2.6ms inference, 1.8ms postprocess per image at shape (1, 3, 640, 640)\n",
      "\n",
      "0: 320x640 15 cars, 2 trucks, 2.8ms\n",
      "Speed: 1.0ms preprocess, 2.8ms inference, 1.3ms postprocess per image at shape (1, 3, 640, 640)\n"
     ]
    },
    {
     "name": "stdout",
     "output_type": "stream",
     "text": [
      "(577, 264, 685, 341)\n",
      "(578, 263, 680, 340)\n",
      "(578, 263, 680, 339)\n",
      "(574, 257, 678, 338)\n",
      "(574, 257, 678, 338)\n",
      "(567, 254, 677, 337)\n",
      "(567, 254, 677, 337)\n"
     ]
    },
    {
     "name": "stderr",
     "output_type": "stream",
     "text": [
      "\n",
      "0: 320x640 13 cars, 2 trucks, 3.0ms\n",
      "Speed: 1.0ms preprocess, 3.0ms inference, 1.3ms postprocess per image at shape (1, 3, 640, 640)\n",
      "\n",
      "0: 320x640 14 cars, 2 trucks, 3.5ms\n",
      "Speed: 1.2ms preprocess, 3.5ms inference, 1.0ms postprocess per image at shape (1, 3, 640, 640)\n",
      "\n",
      "0: 320x640 15 cars, 2 trucks, 2.6ms\n",
      "Speed: 1.0ms preprocess, 2.6ms inference, 0.7ms postprocess per image at shape (1, 3, 640, 640)\n",
      "\n",
      "0: 320x640 16 cars, 2 trucks, 2.6ms\n",
      "Speed: 0.9ms preprocess, 2.6ms inference, 0.7ms postprocess per image at shape (1, 3, 640, 640)\n",
      "\n",
      "0: 320x640 21 cars, 2.6ms\n",
      "Speed: 1.0ms preprocess, 2.6ms inference, 0.7ms postprocess per image at shape (1, 3, 640, 640)\n",
      "\n",
      "0: 320x640 21 cars, 2.6ms\n",
      "Speed: 1.0ms preprocess, 2.6ms inference, 0.7ms postprocess per image at shape (1, 3, 640, 640)\n",
      "\n",
      "0: 320x640 19 cars, 1 truck, 2.6ms\n",
      "Speed: 0.9ms preprocess, 2.6ms inference, 0.7ms postprocess per image at shape (1, 3, 640, 640)\n"
     ]
    },
    {
     "name": "stdout",
     "output_type": "stream",
     "text": [
      "(567, 254, 677, 338)\n",
      "(567, 253, 677, 338)\n",
      "(563, 252, 670, 333)\n",
      "(563, 252, 670, 334)\n",
      "(560, 251, 665, 332)\n",
      "(560, 251, 665, 332)\n",
      "(555, 248, 659, 328)\n"
     ]
    },
    {
     "name": "stderr",
     "output_type": "stream",
     "text": [
      "\n",
      "0: 320x640 19 cars, 1 truck, 2.7ms\n",
      "Speed: 1.0ms preprocess, 2.7ms inference, 0.7ms postprocess per image at shape (1, 3, 640, 640)\n",
      "\n",
      "0: 320x640 18 cars, 1 truck, 2.8ms\n",
      "Speed: 0.9ms preprocess, 2.8ms inference, 0.7ms postprocess per image at shape (1, 3, 640, 640)\n",
      "\n",
      "0: 320x640 20 cars, 1 truck, 3.1ms\n",
      "Speed: 1.0ms preprocess, 3.1ms inference, 0.8ms postprocess per image at shape (1, 3, 640, 640)\n",
      "\n",
      "0: 320x640 18 cars, 2.9ms\n",
      "Speed: 0.9ms preprocess, 2.9ms inference, 1.3ms postprocess per image at shape (1, 3, 640, 640)\n",
      "\n",
      "0: 320x640 18 cars, 3.1ms\n",
      "Speed: 0.9ms preprocess, 3.1ms inference, 1.3ms postprocess per image at shape (1, 3, 640, 640)\n",
      "\n",
      "0: 320x640 18 cars, 2.6ms\n",
      "Speed: 0.9ms preprocess, 2.6ms inference, 0.7ms postprocess per image at shape (1, 3, 640, 640)\n",
      "\n",
      "0: 320x640 18 cars, 2.6ms\n",
      "Speed: 0.9ms preprocess, 2.6ms inference, 0.7ms postprocess per image at shape (1, 3, 640, 640)\n"
     ]
    },
    {
     "name": "stdout",
     "output_type": "stream",
     "text": [
      "(555, 248, 659, 328)\n",
      "(552, 248, 656, 327)\n",
      "(552, 248, 656, 327)\n",
      "(550, 248, 653, 325)\n",
      "(550, 248, 653, 325)\n",
      "(550, 248, 653, 325)\n",
      "(550, 248, 653, 325)\n"
     ]
    },
    {
     "name": "stderr",
     "output_type": "stream",
     "text": [
      "\n",
      "0: 320x640 16 cars, 2.7ms\n",
      "Speed: 0.9ms preprocess, 2.7ms inference, 0.7ms postprocess per image at shape (1, 3, 640, 640)\n",
      "\n",
      "0: 320x640 16 cars, 2.6ms\n",
      "Speed: 1.0ms preprocess, 2.6ms inference, 0.7ms postprocess per image at shape (1, 3, 640, 640)\n",
      "\n",
      "0: 320x640 17 cars, 1 truck, 3.4ms\n",
      "Speed: 1.2ms preprocess, 3.4ms inference, 0.9ms postprocess per image at shape (1, 3, 640, 640)\n",
      "\n",
      "0: 320x640 17 cars, 1 truck, 3.7ms\n",
      "Speed: 1.3ms preprocess, 3.7ms inference, 1.1ms postprocess per image at shape (1, 3, 640, 640)\n",
      "\n",
      "0: 320x640 18 cars, 2 trucks, 2.6ms\n",
      "Speed: 0.9ms preprocess, 2.6ms inference, 0.7ms postprocess per image at shape (1, 3, 640, 640)\n",
      "\n",
      "0: 320x640 18 cars, 2 trucks, 2.7ms\n",
      "Speed: 0.9ms preprocess, 2.7ms inference, 0.7ms postprocess per image at shape (1, 3, 640, 640)\n",
      "\n",
      "0: 320x640 18 cars, 2.6ms\n",
      "Speed: 1.0ms preprocess, 2.6ms inference, 0.7ms postprocess per image at shape (1, 3, 640, 640)\n"
     ]
    },
    {
     "name": "stdout",
     "output_type": "stream",
     "text": [
      "(546, 244, 648, 319)\n",
      "(546, 244, 648, 319)\n",
      "(542, 244, 646, 318)\n",
      "(542, 244, 646, 318)\n",
      "(540, 243, 641, 315)\n",
      "(541, 243, 641, 314)\n",
      "(535, 241, 636, 315)\n"
     ]
    },
    {
     "name": "stderr",
     "output_type": "stream",
     "text": [
      "\n",
      "0: 320x640 18 cars, 2.7ms\n",
      "Speed: 1.0ms preprocess, 2.7ms inference, 0.7ms postprocess per image at shape (1, 3, 640, 640)\n",
      "\n",
      "0: 320x640 18 cars, 2 trucks, 2.8ms\n",
      "Speed: 1.0ms preprocess, 2.8ms inference, 0.7ms postprocess per image at shape (1, 3, 640, 640)\n",
      "\n",
      "0: 320x640 18 cars, 1 truck, 2.6ms\n",
      "Speed: 1.0ms preprocess, 2.6ms inference, 0.7ms postprocess per image at shape (1, 3, 640, 640)\n",
      "\n",
      "0: 320x640 19 cars, 1 truck, 2.7ms\n",
      "Speed: 0.9ms preprocess, 2.7ms inference, 0.7ms postprocess per image at shape (1, 3, 640, 640)\n",
      "\n",
      "0: 320x640 18 cars, 1 truck, 2.9ms\n",
      "Speed: 0.9ms preprocess, 2.9ms inference, 1.3ms postprocess per image at shape (1, 3, 640, 640)\n",
      "\n",
      "0: 320x640 16 cars, 1 truck, 2.5ms\n",
      "Speed: 0.9ms preprocess, 2.5ms inference, 1.8ms postprocess per image at shape (1, 3, 640, 640)\n",
      "\n",
      "0: 320x640 16 cars, 1 truck, 2.6ms\n",
      "Speed: 0.9ms preprocess, 2.6ms inference, 1.8ms postprocess per image at shape (1, 3, 640, 640)\n"
     ]
    },
    {
     "name": "stdout",
     "output_type": "stream",
     "text": [
      "(535, 241, 636, 314)\n",
      "(534, 237, 633, 313)\n",
      "(534, 237, 633, 313)\n",
      "(534, 237, 633, 313)\n",
      "(534, 238, 633, 313)\n",
      "(528, 236, 629, 310)\n",
      "(528, 236, 629, 310)\n"
     ]
    },
    {
     "name": "stderr",
     "output_type": "stream",
     "text": [
      "\n",
      "0: 320x640 18 cars, 1 truck, 2.5ms\n",
      "Speed: 0.9ms preprocess, 2.5ms inference, 0.7ms postprocess per image at shape (1, 3, 640, 640)\n",
      "\n",
      "0: 320x640 18 cars, 1 truck, 2.6ms\n",
      "Speed: 0.9ms preprocess, 2.6ms inference, 1.0ms postprocess per image at shape (1, 3, 640, 640)\n",
      "\n",
      "0: 320x640 17 cars, 1 truck, 2.6ms\n",
      "Speed: 0.9ms preprocess, 2.6ms inference, 0.7ms postprocess per image at shape (1, 3, 640, 640)\n",
      "\n",
      "0: 320x640 17 cars, 1 truck, 2.6ms\n",
      "Speed: 1.0ms preprocess, 2.6ms inference, 0.7ms postprocess per image at shape (1, 3, 640, 640)\n",
      "\n",
      "0: 320x640 18 cars, 2.7ms\n",
      "Speed: 1.0ms preprocess, 2.7ms inference, 0.7ms postprocess per image at shape (1, 3, 640, 640)\n",
      "\n",
      "0: 320x640 18 cars, 2.7ms\n",
      "Speed: 1.2ms preprocess, 2.7ms inference, 0.7ms postprocess per image at shape (1, 3, 640, 640)\n",
      "\n",
      "0: 320x640 18 cars, 2.9ms\n",
      "Speed: 1.0ms preprocess, 2.9ms inference, 0.7ms postprocess per image at shape (1, 3, 640, 640)\n"
     ]
    },
    {
     "name": "stdout",
     "output_type": "stream",
     "text": [
      "(526, 232, 626, 307)\n",
      "(526, 232, 626, 307)\n",
      "(522, 232, 623, 304)\n",
      "(522, 232, 623, 304)\n",
      "(518, 230, 618, 304)\n",
      "(518, 229, 619, 304)\n",
      "(518, 229, 619, 304)\n"
     ]
    },
    {
     "name": "stderr",
     "output_type": "stream",
     "text": [
      "\n",
      "0: 320x640 20 cars, 2.5ms\n",
      "Speed: 0.9ms preprocess, 2.5ms inference, 1.8ms postprocess per image at shape (1, 3, 640, 640)\n",
      "\n",
      "0: 320x640 20 cars, 2.5ms\n",
      "Speed: 0.9ms preprocess, 2.5ms inference, 1.8ms postprocess per image at shape (1, 3, 640, 640)\n",
      "\n",
      "0: 320x640 19 cars, 2.6ms\n",
      "Speed: 0.9ms preprocess, 2.6ms inference, 0.7ms postprocess per image at shape (1, 3, 640, 640)\n",
      "\n",
      "0: 320x640 19 cars, 2.7ms\n",
      "Speed: 0.9ms preprocess, 2.7ms inference, 0.7ms postprocess per image at shape (1, 3, 640, 640)\n",
      "\n",
      "0: 320x640 19 cars, 2.6ms\n",
      "Speed: 0.9ms preprocess, 2.6ms inference, 0.7ms postprocess per image at shape (1, 3, 640, 640)\n",
      "\n",
      "0: 320x640 17 cars, 2.6ms\n",
      "Speed: 0.9ms preprocess, 2.6ms inference, 0.7ms postprocess per image at shape (1, 3, 640, 640)\n",
      "\n",
      "0: 320x640 17 cars, 2.8ms\n",
      "Speed: 1.2ms preprocess, 2.8ms inference, 0.7ms postprocess per image at shape (1, 3, 640, 640)\n"
     ]
    },
    {
     "name": "stdout",
     "output_type": "stream",
     "text": [
      "(517, 226, 615, 302)\n",
      "(517, 226, 615, 302)\n",
      "(517, 226, 615, 302)\n",
      "(511, 224, 607, 296)\n",
      "(511, 224, 607, 296)\n",
      "(508, 223, 606, 294)\n",
      "(508, 223, 606, 294)\n"
     ]
    },
    {
     "name": "stderr",
     "output_type": "stream",
     "text": [
      "\n",
      "0: 320x640 19 cars, 2.6ms\n",
      "Speed: 0.9ms preprocess, 2.6ms inference, 0.7ms postprocess per image at shape (1, 3, 640, 640)\n",
      "\n",
      "0: 320x640 19 cars, 3.0ms\n",
      "Speed: 0.9ms preprocess, 3.0ms inference, 0.7ms postprocess per image at shape (1, 3, 640, 640)\n",
      "\n",
      "0: 320x640 17 cars, 2.6ms\n",
      "Speed: 0.9ms preprocess, 2.6ms inference, 0.7ms postprocess per image at shape (1, 3, 640, 640)\n",
      "\n",
      "0: 320x640 17 cars, 2.5ms\n",
      "Speed: 0.9ms preprocess, 2.5ms inference, 0.7ms postprocess per image at shape (1, 3, 640, 640)\n",
      "\n",
      "0: 320x640 19 cars, 1 truck, 2.5ms\n",
      "Speed: 0.9ms preprocess, 2.5ms inference, 0.7ms postprocess per image at shape (1, 3, 640, 640)\n",
      "\n",
      "0: 320x640 19 cars, 1 truck, 2.5ms\n",
      "Speed: 0.9ms preprocess, 2.5ms inference, 0.7ms postprocess per image at shape (1, 3, 640, 640)\n",
      "\n",
      "0: 320x640 19 cars, 1 truck, 2.6ms\n",
      "Speed: 1.0ms preprocess, 2.6ms inference, 0.7ms postprocess per image at shape (1, 3, 640, 640)\n"
     ]
    },
    {
     "name": "stdout",
     "output_type": "stream",
     "text": [
      "(504, 222, 603, 293)\n",
      "(504, 222, 603, 293)\n",
      "(503, 216, 599, 292)\n",
      "(503, 216, 599, 292)\n",
      "(500, 220, 595, 289)\n",
      "(500, 220, 595, 289)\n",
      "(500, 220, 595, 289)\n"
     ]
    },
    {
     "name": "stderr",
     "output_type": "stream",
     "text": [
      "\n",
      "0: 320x640 18 cars, 1 truck, 2.6ms\n",
      "Speed: 1.0ms preprocess, 2.6ms inference, 0.7ms postprocess per image at shape (1, 3, 640, 640)\n",
      "\n",
      "0: 320x640 17 cars, 1 truck, 2.6ms\n",
      "Speed: 1.0ms preprocess, 2.6ms inference, 0.7ms postprocess per image at shape (1, 3, 640, 640)\n",
      "\n",
      "0: 320x640 18 cars, 1 truck, 2.6ms\n",
      "Speed: 0.9ms preprocess, 2.6ms inference, 0.7ms postprocess per image at shape (1, 3, 640, 640)\n",
      "\n",
      "0: 320x640 18 cars, 3.1ms\n",
      "Speed: 1.0ms preprocess, 3.1ms inference, 0.7ms postprocess per image at shape (1, 3, 640, 640)\n",
      "\n",
      "0: 320x640 18 cars, 2.6ms\n",
      "Speed: 1.0ms preprocess, 2.6ms inference, 0.7ms postprocess per image at shape (1, 3, 640, 640)\n",
      "\n",
      "0: 320x640 18 cars, 2.6ms\n",
      "Speed: 0.9ms preprocess, 2.6ms inference, 0.7ms postprocess per image at shape (1, 3, 640, 640)\n",
      "\n",
      "0: 320x640 18 cars, 2.6ms\n",
      "Speed: 0.9ms preprocess, 2.6ms inference, 0.9ms postprocess per image at shape (1, 3, 640, 640)\n"
     ]
    },
    {
     "name": "stdout",
     "output_type": "stream",
     "text": [
      "(500, 220, 595, 289)\n",
      "(493, 213, 589, 285)\n",
      "(493, 213, 589, 285)\n",
      "(492, 210, 586, 284)\n",
      "(492, 210, 586, 284)\n",
      "(491, 211, 581, 283)\n",
      "(491, 212, 581, 283)\n"
     ]
    },
    {
     "name": "stderr",
     "output_type": "stream",
     "text": [
      "\n",
      "0: 320x640 18 cars, 2.6ms\n",
      "Speed: 0.9ms preprocess, 2.6ms inference, 0.7ms postprocess per image at shape (1, 3, 640, 640)\n",
      "\n",
      "0: 320x640 18 cars, 2.6ms\n",
      "Speed: 0.9ms preprocess, 2.6ms inference, 0.7ms postprocess per image at shape (1, 3, 640, 640)\n",
      "\n",
      "0: 320x640 19 cars, 1 truck, 2.6ms\n",
      "Speed: 1.0ms preprocess, 2.6ms inference, 0.7ms postprocess per image at shape (1, 3, 640, 640)\n",
      "\n",
      "0: 320x640 19 cars, 1 truck, 2.7ms\n",
      "Speed: 1.1ms preprocess, 2.7ms inference, 0.7ms postprocess per image at shape (1, 3, 640, 640)\n",
      "\n",
      "0: 320x640 18 cars, 1 truck, 3.0ms\n",
      "Speed: 0.9ms preprocess, 3.0ms inference, 1.3ms postprocess per image at shape (1, 3, 640, 640)\n",
      "\n",
      "0: 320x640 18 cars, 1 truck, 2.7ms\n",
      "Speed: 1.0ms preprocess, 2.7ms inference, 0.7ms postprocess per image at shape (1, 3, 640, 640)\n",
      "\n",
      "0: 320x640 19 cars, 1 truck, 2.7ms\n",
      "Speed: 0.9ms preprocess, 2.7ms inference, 1.9ms postprocess per image at shape (1, 3, 640, 640)\n"
     ]
    },
    {
     "name": "stdout",
     "output_type": "stream",
     "text": [
      "(488, 209, 581, 280)\n",
      "(488, 209, 581, 280)\n",
      "(481, 208, 578, 280)\n",
      "(481, 208, 577, 280)\n",
      "(481, 208, 578, 280)\n",
      "(481, 208, 578, 280)\n",
      "(479, 205, 570, 274)\n"
     ]
    },
    {
     "name": "stderr",
     "output_type": "stream",
     "text": [
      "\n",
      "0: 320x640 19 cars, 1 truck, 2.9ms\n",
      "Speed: 1.0ms preprocess, 2.9ms inference, 1.9ms postprocess per image at shape (1, 3, 640, 640)\n",
      "\n",
      "0: 320x640 18 cars, 1 truck, 3.1ms\n",
      "Speed: 1.0ms preprocess, 3.1ms inference, 1.4ms postprocess per image at shape (1, 3, 640, 640)\n",
      "\n",
      "0: 320x640 18 cars, 1 truck, 3.1ms\n",
      "Speed: 1.0ms preprocess, 3.1ms inference, 1.5ms postprocess per image at shape (1, 3, 640, 640)\n",
      "\n",
      "0: 320x640 18 cars, 1 truck, 2.6ms\n",
      "Speed: 1.1ms preprocess, 2.6ms inference, 2.0ms postprocess per image at shape (1, 3, 640, 640)\n",
      "\n",
      "0: 320x640 18 cars, 1 truck, 2.7ms\n",
      "Speed: 1.0ms preprocess, 2.7ms inference, 1.8ms postprocess per image at shape (1, 3, 640, 640)\n",
      "\n",
      "0: 320x640 17 cars, 1 truck, 2.8ms\n",
      "Speed: 1.0ms preprocess, 2.8ms inference, 1.4ms postprocess per image at shape (1, 3, 640, 640)\n",
      "\n",
      "0: 320x640 17 cars, 1 truck, 2.7ms\n",
      "Speed: 1.0ms preprocess, 2.7ms inference, 0.7ms postprocess per image at shape (1, 3, 640, 640)\n"
     ]
    },
    {
     "name": "stdout",
     "output_type": "stream",
     "text": [
      "(479, 205, 570, 274)\n",
      "(476, 201, 567, 271)\n",
      "(476, 201, 567, 271)\n",
      "(470, 202, 563, 270)\n",
      "(470, 202, 563, 270)\n",
      "(469, 200, 560, 269)\n",
      "(469, 200, 560, 269)\n"
     ]
    },
    {
     "name": "stderr",
     "output_type": "stream",
     "text": [
      "\n",
      "0: 320x640 18 cars, 1 truck, 2.6ms\n",
      "Speed: 1.0ms preprocess, 2.6ms inference, 0.7ms postprocess per image at shape (1, 3, 640, 640)\n",
      "\n",
      "0: 320x640 17 cars, 1 truck, 2.6ms\n",
      "Speed: 0.9ms preprocess, 2.6ms inference, 0.7ms postprocess per image at shape (1, 3, 640, 640)\n",
      "\n",
      "0: 320x640 17 cars, 1 truck, 2.6ms\n",
      "Speed: 0.9ms preprocess, 2.6ms inference, 0.7ms postprocess per image at shape (1, 3, 640, 640)\n",
      "\n",
      "0: 320x640 17 cars, 1 truck, 2.8ms\n",
      "Speed: 1.0ms preprocess, 2.8ms inference, 0.8ms postprocess per image at shape (1, 3, 640, 640)\n",
      "\n",
      "0: 320x640 17 cars, 1 truck, 2.8ms\n",
      "Speed: 1.0ms preprocess, 2.8ms inference, 0.7ms postprocess per image at shape (1, 3, 640, 640)\n",
      "\n",
      "0: 320x640 17 cars, 1 truck, 2.8ms\n",
      "Speed: 1.0ms preprocess, 2.8ms inference, 0.7ms postprocess per image at shape (1, 3, 640, 640)\n",
      "\n",
      "0: 320x640 16 cars, 1 truck, 3.0ms\n",
      "Speed: 0.9ms preprocess, 3.0ms inference, 1.4ms postprocess per image at shape (1, 3, 640, 640)\n"
     ]
    },
    {
     "name": "stdout",
     "output_type": "stream",
     "text": [
      "(467, 203, 557, 267)\n",
      "(467, 203, 557, 267)\n",
      "(467, 203, 557, 267)\n",
      "(467, 203, 557, 267)\n",
      "(464, 200, 553, 265)\n",
      "(464, 200, 552, 265)\n",
      "(460, 199, 551, 264)\n"
     ]
    },
    {
     "name": "stderr",
     "output_type": "stream",
     "text": [
      "\n",
      "0: 320x640 16 cars, 1 truck, 2.5ms\n",
      "Speed: 0.9ms preprocess, 2.5ms inference, 1.3ms postprocess per image at shape (1, 3, 640, 640)\n",
      "\n",
      "0: 320x640 17 cars, 2.6ms\n",
      "Speed: 0.9ms preprocess, 2.6ms inference, 0.7ms postprocess per image at shape (1, 3, 640, 640)\n",
      "\n",
      "0: 320x640 16 cars, 1 truck, 2.6ms\n",
      "Speed: 0.9ms preprocess, 2.6ms inference, 0.7ms postprocess per image at shape (1, 3, 640, 640)\n",
      "\n",
      "0: 320x640 14 cars, 2.7ms\n",
      "Speed: 0.9ms preprocess, 2.7ms inference, 0.7ms postprocess per image at shape (1, 3, 640, 640)\n",
      "\n",
      "0: 320x640 14 cars, 2.6ms\n",
      "Speed: 1.0ms preprocess, 2.6ms inference, 0.7ms postprocess per image at shape (1, 3, 640, 640)\n",
      "\n",
      "0: 320x640 13 cars, 2.6ms\n",
      "Speed: 0.9ms preprocess, 2.6ms inference, 0.7ms postprocess per image at shape (1, 3, 640, 640)\n",
      "\n",
      "0: 320x640 13 cars, 2.6ms\n",
      "Speed: 0.9ms preprocess, 2.6ms inference, 0.7ms postprocess per image at shape (1, 3, 640, 640)\n"
     ]
    },
    {
     "name": "stdout",
     "output_type": "stream",
     "text": [
      "(460, 199, 551, 264)\n",
      "(458, 196, 545, 261)\n",
      "(458, 196, 545, 261)\n",
      "(455, 192, 543, 260)\n",
      "(455, 192, 543, 260)\n",
      "(452, 188, 542, 259)\n",
      "(452, 188, 542, 259)\n"
     ]
    },
    {
     "name": "stderr",
     "output_type": "stream",
     "text": [
      "\n",
      "0: 320x640 13 cars, 2.6ms\n",
      "Speed: 0.9ms preprocess, 2.6ms inference, 0.7ms postprocess per image at shape (1, 3, 640, 640)\n",
      "\n",
      "0: 320x640 14 cars, 3.6ms\n",
      "Speed: 1.0ms preprocess, 3.6ms inference, 0.7ms postprocess per image at shape (1, 3, 640, 640)\n",
      "\n",
      "0: 320x640 15 cars, 4.3ms\n",
      "Speed: 1.0ms preprocess, 4.3ms inference, 0.9ms postprocess per image at shape (1, 3, 640, 640)\n",
      "\n",
      "0: 320x640 15 cars, 3.0ms\n",
      "Speed: 0.9ms preprocess, 3.0ms inference, 1.1ms postprocess per image at shape (1, 3, 640, 640)\n",
      "\n",
      "0: 320x640 16 cars, 2.6ms\n",
      "Speed: 0.9ms preprocess, 2.6ms inference, 0.7ms postprocess per image at shape (1, 3, 640, 640)\n",
      "\n",
      "0: 320x640 16 cars, 4.2ms\n",
      "Speed: 1.6ms preprocess, 4.2ms inference, 1.0ms postprocess per image at shape (1, 3, 640, 640)\n",
      "\n",
      "0: 320x640 14 cars, 2.8ms\n",
      "Speed: 1.0ms preprocess, 2.8ms inference, 1.1ms postprocess per image at shape (1, 3, 640, 640)\n"
     ]
    },
    {
     "name": "stdout",
     "output_type": "stream",
     "text": [
      "(452, 188, 542, 259)\n",
      "(452, 188, 542, 259)\n",
      "(446, 188, 535, 256)\n",
      "(446, 188, 535, 256)\n",
      "(446, 185, 531, 256)\n",
      "(446, 185, 531, 255)\n",
      "(446, 185, 529, 254)\n"
     ]
    },
    {
     "name": "stderr",
     "output_type": "stream",
     "text": [
      "\n",
      "0: 320x640 14 cars, 5.7ms\n",
      "Speed: 2.2ms preprocess, 5.7ms inference, 1.0ms postprocess per image at shape (1, 3, 640, 640)\n",
      "\n",
      "0: 320x640 15 cars, 5.4ms\n",
      "Speed: 1.4ms preprocess, 5.4ms inference, 1.4ms postprocess per image at shape (1, 3, 640, 640)\n",
      "\n",
      "0: 320x640 15 cars, 2.5ms\n",
      "Speed: 0.9ms preprocess, 2.5ms inference, 0.7ms postprocess per image at shape (1, 3, 640, 640)\n",
      "\n",
      "0: 320x640 13 cars, 2.7ms\n",
      "Speed: 1.6ms preprocess, 2.7ms inference, 0.7ms postprocess per image at shape (1, 3, 640, 640)\n",
      "\n",
      "0: 320x640 13 cars, 2.9ms\n",
      "Speed: 0.9ms preprocess, 2.9ms inference, 1.3ms postprocess per image at shape (1, 3, 640, 640)\n",
      "\n",
      "0: 320x640 14 cars, 3.2ms\n",
      "Speed: 0.9ms preprocess, 3.2ms inference, 0.7ms postprocess per image at shape (1, 3, 640, 640)\n",
      "\n",
      "0: 320x640 13 cars, 3.6ms\n",
      "Speed: 0.9ms preprocess, 3.6ms inference, 1.0ms postprocess per image at shape (1, 3, 640, 640)\n"
     ]
    },
    {
     "name": "stdout",
     "output_type": "stream",
     "text": [
      "(446, 185, 529, 254)\n",
      "(444, 183, 528, 250)\n",
      "(444, 184, 527, 250)\n",
      "(437, 183, 526, 248)\n",
      "(437, 183, 526, 249)\n",
      "(437, 183, 526, 249)\n",
      "(438, 184, 526, 248)\n"
     ]
    },
    {
     "name": "stderr",
     "output_type": "stream",
     "text": [
      "\n",
      "0: 320x640 16 cars, 2.6ms\n",
      "Speed: 0.9ms preprocess, 2.6ms inference, 1.0ms postprocess per image at shape (1, 3, 640, 640)\n",
      "\n",
      "0: 320x640 16 cars, 2.6ms\n",
      "Speed: 0.9ms preprocess, 2.6ms inference, 0.7ms postprocess per image at shape (1, 3, 640, 640)\n",
      "\n",
      "0: 320x640 18 cars, 3.7ms\n",
      "Speed: 0.9ms preprocess, 3.7ms inference, 0.7ms postprocess per image at shape (1, 3, 640, 640)\n",
      "\n",
      "0: 320x640 17 cars, 4.1ms\n",
      "Speed: 1.3ms preprocess, 4.1ms inference, 0.9ms postprocess per image at shape (1, 3, 640, 640)\n",
      "\n",
      "0: 320x640 18 cars, 4.2ms\n",
      "Speed: 1.4ms preprocess, 4.2ms inference, 1.1ms postprocess per image at shape (1, 3, 640, 640)\n",
      "\n",
      "0: 320x640 18 cars, 4.2ms\n",
      "Speed: 1.8ms preprocess, 4.2ms inference, 1.1ms postprocess per image at shape (1, 3, 640, 640)\n",
      "\n",
      "0: 320x640 14 cars, 4.1ms\n",
      "Speed: 0.9ms preprocess, 4.1ms inference, 1.0ms postprocess per image at shape (1, 3, 640, 640)\n"
     ]
    },
    {
     "name": "stdout",
     "output_type": "stream",
     "text": [
      "(432, 178, 518, 243)\n",
      "(432, 178, 518, 244)\n",
      "(430, 176, 516, 242)\n",
      "(430, 176, 516, 242)\n",
      "(429, 177, 514, 242)\n",
      "(429, 177, 514, 242)\n",
      "(425, 177, 508, 240)\n"
     ]
    },
    {
     "name": "stderr",
     "output_type": "stream",
     "text": [
      "\n",
      "0: 320x640 14 cars, 3.2ms\n",
      "Speed: 1.7ms preprocess, 3.2ms inference, 0.7ms postprocess per image at shape (1, 3, 640, 640)\n",
      "\n",
      "0: 320x640 13 cars, 4.7ms\n",
      "Speed: 1.1ms preprocess, 4.7ms inference, 0.8ms postprocess per image at shape (1, 3, 640, 640)\n",
      "\n",
      "0: 320x640 13 cars, 4.2ms\n",
      "Speed: 0.9ms preprocess, 4.2ms inference, 1.0ms postprocess per image at shape (1, 3, 640, 640)\n",
      "\n",
      "0: 320x640 13 cars, 2.6ms\n",
      "Speed: 0.9ms preprocess, 2.6ms inference, 1.9ms postprocess per image at shape (1, 3, 640, 640)\n",
      "\n",
      "0: 320x640 13 cars, 2.6ms\n",
      "Speed: 0.9ms preprocess, 2.6ms inference, 0.7ms postprocess per image at shape (1, 3, 640, 640)\n",
      "\n",
      "0: 320x640 15 cars, 2.6ms\n",
      "Speed: 0.9ms preprocess, 2.6ms inference, 0.7ms postprocess per image at shape (1, 3, 640, 640)\n",
      "\n",
      "0: 320x640 16 cars, 3.6ms\n",
      "Speed: 0.9ms preprocess, 3.6ms inference, 0.7ms postprocess per image at shape (1, 3, 640, 640)\n"
     ]
    },
    {
     "name": "stdout",
     "output_type": "stream",
     "text": [
      "(425, 177, 509, 240)\n",
      "(424, 176, 509, 239)\n",
      "(424, 177, 509, 239)\n",
      "(424, 176, 508, 239)\n",
      "(424, 176, 509, 239)\n",
      "(421, 177, 504, 237)\n",
      "(421, 177, 504, 237)\n"
     ]
    },
    {
     "name": "stderr",
     "output_type": "stream",
     "text": [
      "\n",
      "0: 320x640 17 cars, 4.1ms\n",
      "Speed: 1.2ms preprocess, 4.1ms inference, 1.1ms postprocess per image at shape (1, 3, 640, 640)\n",
      "\n",
      "0: 320x640 16 cars, 4.0ms\n",
      "Speed: 0.9ms preprocess, 4.0ms inference, 1.1ms postprocess per image at shape (1, 3, 640, 640)\n",
      "\n",
      "0: 320x640 15 cars, 4.1ms\n",
      "Speed: 1.0ms preprocess, 4.1ms inference, 1.1ms postprocess per image at shape (1, 3, 640, 640)\n",
      "\n",
      "0: 320x640 17 cars, 4.1ms\n",
      "Speed: 1.4ms preprocess, 4.1ms inference, 1.1ms postprocess per image at shape (1, 3, 640, 640)\n",
      "\n",
      "0: 320x640 14 cars, 4.1ms\n",
      "Speed: 1.3ms preprocess, 4.1ms inference, 1.1ms postprocess per image at shape (1, 3, 640, 640)\n",
      "\n",
      "0: 320x640 14 cars, 4.4ms\n",
      "Speed: 1.4ms preprocess, 4.4ms inference, 1.1ms postprocess per image at shape (1, 3, 640, 640)\n"
     ]
    },
    {
     "name": "stdout",
     "output_type": "stream",
     "text": [
      "(420, 175, 500, 234)\n",
      "(419, 175, 500, 234)\n",
      "(416, 174, 497, 233)\n",
      "(416, 174, 497, 233)\n",
      "(412, 170, 493, 232)\n",
      "(412, 170, 493, 232)\n"
     ]
    },
    {
     "name": "stderr",
     "output_type": "stream",
     "text": [
      "\n",
      "0: 320x640 16 cars, 4.2ms\n",
      "Speed: 2.1ms preprocess, 4.2ms inference, 1.1ms postprocess per image at shape (1, 3, 640, 640)\n",
      "\n",
      "0: 320x640 15 cars, 4.1ms\n",
      "Speed: 1.4ms preprocess, 4.1ms inference, 1.1ms postprocess per image at shape (1, 3, 640, 640)\n",
      "\n",
      "0: 320x640 16 cars, 4.1ms\n",
      "Speed: 1.3ms preprocess, 4.1ms inference, 1.1ms postprocess per image at shape (1, 3, 640, 640)\n",
      "\n",
      "0: 320x640 14 cars, 4.1ms\n",
      "Speed: 1.3ms preprocess, 4.1ms inference, 1.1ms postprocess per image at shape (1, 3, 640, 640)\n",
      "\n",
      "0: 320x640 13 cars, 4.5ms\n",
      "Speed: 1.3ms preprocess, 4.5ms inference, 1.1ms postprocess per image at shape (1, 3, 640, 640)\n",
      "\n",
      "0: 320x640 14 cars, 4.1ms\n",
      "Speed: 1.9ms preprocess, 4.1ms inference, 1.1ms postprocess per image at shape (1, 3, 640, 640)\n"
     ]
    },
    {
     "name": "stdout",
     "output_type": "stream",
     "text": [
      "(409, 165, 491, 231)\n",
      "(409, 165, 491, 231)\n",
      "(409, 166, 491, 231)\n",
      "(409, 166, 491, 231)\n",
      "(408, 166, 486, 227)\n",
      "(406, 166, 486, 228)\n"
     ]
    },
    {
     "name": "stderr",
     "output_type": "stream",
     "text": [
      "\n",
      "0: 320x640 13 cars, 4.1ms\n",
      "Speed: 1.4ms preprocess, 4.1ms inference, 1.0ms postprocess per image at shape (1, 3, 640, 640)\n",
      "\n",
      "0: 320x640 13 cars, 4.0ms\n",
      "Speed: 1.4ms preprocess, 4.0ms inference, 1.0ms postprocess per image at shape (1, 3, 640, 640)\n",
      "\n",
      "0: 320x640 15 cars, 4.1ms\n",
      "Speed: 1.4ms preprocess, 4.1ms inference, 1.0ms postprocess per image at shape (1, 3, 640, 640)\n",
      "\n",
      "0: 320x640 15 cars, 4.2ms\n",
      "Speed: 1.3ms preprocess, 4.2ms inference, 1.0ms postprocess per image at shape (1, 3, 640, 640)\n",
      "\n",
      "0: 320x640 15 cars, 4.1ms\n",
      "Speed: 2.1ms preprocess, 4.1ms inference, 1.1ms postprocess per image at shape (1, 3, 640, 640)\n",
      "\n",
      "0: 320x640 14 cars, 4.1ms\n",
      "Speed: 1.4ms preprocess, 4.1ms inference, 1.1ms postprocess per image at shape (1, 3, 640, 640)\n"
     ]
    },
    {
     "name": "stdout",
     "output_type": "stream",
     "text": [
      "(402, 165, 483, 225)\n",
      "(402, 165, 483, 225)\n",
      "(399, 165, 482, 223)\n",
      "(399, 165, 482, 223)\n",
      "(398, 166, 478, 222)\n",
      "(395, 166, 476, 220)\n"
     ]
    },
    {
     "name": "stderr",
     "output_type": "stream",
     "text": [
      "\n",
      "0: 320x640 14 cars, 4.1ms\n",
      "Speed: 1.7ms preprocess, 4.1ms inference, 1.3ms postprocess per image at shape (1, 3, 640, 640)\n",
      "\n",
      "0: 320x640 14 cars, 4.0ms\n",
      "Speed: 1.7ms preprocess, 4.0ms inference, 1.5ms postprocess per image at shape (1, 3, 640, 640)\n",
      "\n",
      "0: 320x640 14 cars, 4.1ms\n",
      "Speed: 1.3ms preprocess, 4.1ms inference, 1.1ms postprocess per image at shape (1, 3, 640, 640)\n",
      "\n",
      "0: 320x640 15 cars, 4.1ms\n",
      "Speed: 1.4ms preprocess, 4.1ms inference, 1.1ms postprocess per image at shape (1, 3, 640, 640)\n",
      "\n",
      "0: 320x640 14 cars, 4.1ms\n",
      "Speed: 1.3ms preprocess, 4.1ms inference, 1.0ms postprocess per image at shape (1, 3, 640, 640)\n",
      "\n",
      "0: 320x640 14 cars, 4.1ms\n",
      "Speed: 1.4ms preprocess, 4.1ms inference, 1.1ms postprocess per image at shape (1, 3, 640, 640)\n"
     ]
    },
    {
     "name": "stdout",
     "output_type": "stream",
     "text": [
      "(395, 166, 476, 220)\n",
      "(395, 166, 476, 220)\n",
      "(394, 166, 476, 220)\n",
      "(394, 166, 477, 219)\n",
      "(394, 162, 471, 216)\n",
      "(394, 163, 471, 216)\n"
     ]
    },
    {
     "name": "stderr",
     "output_type": "stream",
     "text": [
      "\n",
      "0: 320x640 14 cars, 2.7ms\n",
      "Speed: 1.2ms preprocess, 2.7ms inference, 0.7ms postprocess per image at shape (1, 3, 640, 640)\n",
      "\n",
      "0: 320x640 14 cars, 4.4ms\n",
      "Speed: 1.4ms preprocess, 4.4ms inference, 1.1ms postprocess per image at shape (1, 3, 640, 640)\n",
      "\n",
      "0: 320x640 14 cars, 4.7ms\n",
      "Speed: 1.3ms preprocess, 4.7ms inference, 1.1ms postprocess per image at shape (1, 3, 640, 640)\n",
      "\n",
      "0: 320x640 14 cars, 4.6ms\n",
      "Speed: 1.3ms preprocess, 4.6ms inference, 1.1ms postprocess per image at shape (1, 3, 640, 640)\n",
      "\n",
      "0: 320x640 15 cars, 4.3ms\n",
      "Speed: 1.4ms preprocess, 4.3ms inference, 1.1ms postprocess per image at shape (1, 3, 640, 640)\n",
      "\n",
      "0: 320x640 16 cars, 4.2ms\n",
      "Speed: 1.5ms preprocess, 4.2ms inference, 1.1ms postprocess per image at shape (1, 3, 640, 640)\n"
     ]
    },
    {
     "name": "stdout",
     "output_type": "stream",
     "text": [
      "(390, 163, 470, 215)\n",
      "(390, 163, 470, 215)\n",
      "(387, 162, 466, 215)\n",
      "(387, 162, 466, 215)\n",
      "(386, 161, 464, 214)\n",
      "(386, 161, 464, 214)\n"
     ]
    },
    {
     "name": "stderr",
     "output_type": "stream",
     "text": [
      "\n",
      "0: 320x640 15 cars, 4.0ms\n",
      "Speed: 1.3ms preprocess, 4.0ms inference, 2.3ms postprocess per image at shape (1, 3, 640, 640)\n",
      "\n",
      "0: 320x640 15 cars, 4.5ms\n",
      "Speed: 1.3ms preprocess, 4.5ms inference, 1.1ms postprocess per image at shape (1, 3, 640, 640)\n",
      "\n",
      "0: 320x640 15 cars, 4.2ms\n",
      "Speed: 1.4ms preprocess, 4.2ms inference, 1.1ms postprocess per image at shape (1, 3, 640, 640)\n",
      "\n",
      "0: 320x640 15 cars, 4.2ms\n",
      "Speed: 1.4ms preprocess, 4.2ms inference, 1.1ms postprocess per image at shape (1, 3, 640, 640)\n",
      "\n",
      "0: 320x640 14 cars, 4.0ms\n",
      "Speed: 1.4ms preprocess, 4.0ms inference, 1.0ms postprocess per image at shape (1, 3, 640, 640)\n",
      "\n",
      "0: 320x640 14 cars, 4.1ms\n",
      "Speed: 1.3ms preprocess, 4.1ms inference, 1.0ms postprocess per image at shape (1, 3, 640, 640)\n"
     ]
    },
    {
     "name": "stdout",
     "output_type": "stream",
     "text": [
      "(384, 161, 461, 213)\n",
      "(385, 161, 461, 213)\n",
      "(385, 161, 461, 213)\n",
      "(385, 161, 461, 213)\n",
      "(381, 161, 459, 210)\n",
      "(381, 161, 459, 210)\n"
     ]
    },
    {
     "name": "stderr",
     "output_type": "stream",
     "text": [
      "\n",
      "0: 320x640 14 cars, 4.2ms\n",
      "Speed: 1.3ms preprocess, 4.2ms inference, 1.5ms postprocess per image at shape (1, 3, 640, 640)\n",
      "\n",
      "0: 320x640 14 cars, 4.3ms\n",
      "Speed: 1.5ms preprocess, 4.3ms inference, 1.0ms postprocess per image at shape (1, 3, 640, 640)\n",
      "\n",
      "0: 320x640 14 cars, 4.3ms\n",
      "Speed: 1.4ms preprocess, 4.3ms inference, 1.0ms postprocess per image at shape (1, 3, 640, 640)\n",
      "\n",
      "0: 320x640 14 cars, 4.2ms\n",
      "Speed: 1.4ms preprocess, 4.2ms inference, 1.0ms postprocess per image at shape (1, 3, 640, 640)\n",
      "\n",
      "0: 320x640 16 cars, 4.5ms\n",
      "Speed: 1.4ms preprocess, 4.5ms inference, 1.1ms postprocess per image at shape (1, 3, 640, 640)\n",
      "\n",
      "0: 320x640 16 cars, 4.3ms\n",
      "Speed: 1.4ms preprocess, 4.3ms inference, 1.2ms postprocess per image at shape (1, 3, 640, 640)\n"
     ]
    },
    {
     "name": "stdout",
     "output_type": "stream",
     "text": [
      "(376, 158, 456, 210)\n",
      "(377, 158, 456, 210)\n",
      "(372, 157, 454, 209)\n",
      "(372, 157, 454, 209)\n",
      "(373, 155, 449, 208)\n",
      "(373, 155, 449, 208)\n"
     ]
    },
    {
     "name": "stderr",
     "output_type": "stream",
     "text": [
      "\n",
      "0: 320x640 15 cars, 4.3ms\n",
      "Speed: 1.5ms preprocess, 4.3ms inference, 1.1ms postprocess per image at shape (1, 3, 640, 640)\n",
      "\n",
      "0: 320x640 15 cars, 4.2ms\n",
      "Speed: 1.4ms preprocess, 4.2ms inference, 1.1ms postprocess per image at shape (1, 3, 640, 640)\n",
      "\n",
      "0: 320x640 15 cars, 4.1ms\n",
      "Speed: 1.4ms preprocess, 4.1ms inference, 1.1ms postprocess per image at shape (1, 3, 640, 640)\n",
      "\n",
      "0: 320x640 15 cars, 4.1ms\n",
      "Speed: 1.4ms preprocess, 4.1ms inference, 2.1ms postprocess per image at shape (1, 3, 640, 640)\n",
      "\n",
      "0: 320x640 14 cars, 1 truck, 4.1ms\n",
      "Speed: 1.4ms preprocess, 4.1ms inference, 1.1ms postprocess per image at shape (1, 3, 640, 640)\n",
      "\n",
      "0: 320x640 14 cars, 1 truck, 4.1ms\n",
      "Speed: 1.4ms preprocess, 4.1ms inference, 1.0ms postprocess per image at shape (1, 3, 640, 640)\n"
     ]
    },
    {
     "name": "stdout",
     "output_type": "stream",
     "text": [
      "(372, 154, 448, 205)\n",
      "(372, 154, 448, 205)\n",
      "(372, 154, 448, 205)\n",
      "(372, 154, 448, 205)\n",
      "(372, 153, 443, 201)\n",
      "(372, 153, 443, 201)\n"
     ]
    },
    {
     "name": "stderr",
     "output_type": "stream",
     "text": [
      "\n",
      "0: 320x640 14 cars, 2 trucks, 4.1ms\n",
      "Speed: 1.4ms preprocess, 4.1ms inference, 1.3ms postprocess per image at shape (1, 3, 640, 640)\n",
      "\n",
      "0: 320x640 14 cars, 2 trucks, 4.1ms\n",
      "Speed: 1.3ms preprocess, 4.1ms inference, 2.0ms postprocess per image at shape (1, 3, 640, 640)\n",
      "\n",
      "0: 320x640 13 cars, 2 trucks, 4.2ms\n",
      "Speed: 1.3ms preprocess, 4.2ms inference, 1.1ms postprocess per image at shape (1, 3, 640, 640)\n",
      "\n",
      "0: 320x640 13 cars, 2 trucks, 4.4ms\n",
      "Speed: 1.4ms preprocess, 4.4ms inference, 1.1ms postprocess per image at shape (1, 3, 640, 640)\n",
      "\n",
      "0: 320x640 16 cars, 2 trucks, 4.3ms\n",
      "Speed: 1.4ms preprocess, 4.3ms inference, 1.1ms postprocess per image at shape (1, 3, 640, 640)\n",
      "\n",
      "0: 320x640 16 cars, 3 trucks, 4.2ms\n",
      "Speed: 1.4ms preprocess, 4.2ms inference, 1.1ms postprocess per image at shape (1, 3, 640, 640)\n"
     ]
    },
    {
     "name": "stdout",
     "output_type": "stream",
     "text": [
      "(371, 152, 441, 200)\n",
      "(371, 152, 441, 200)\n",
      "(368, 151, 438, 198)\n",
      "(368, 151, 438, 198)\n",
      "(365, 149, 437, 198)\n",
      "(365, 150, 437, 198)\n"
     ]
    },
    {
     "name": "stderr",
     "output_type": "stream",
     "text": [
      "\n",
      "0: 320x640 17 cars, 1 truck, 4.4ms\n",
      "Speed: 1.4ms preprocess, 4.4ms inference, 1.2ms postprocess per image at shape (1, 3, 640, 640)\n",
      "\n",
      "0: 320x640 17 cars, 1 truck, 4.3ms\n",
      "Speed: 1.5ms preprocess, 4.3ms inference, 1.1ms postprocess per image at shape (1, 3, 640, 640)\n",
      "\n",
      "0: 320x640 17 cars, 1 truck, 4.0ms\n",
      "Speed: 1.3ms preprocess, 4.0ms inference, 1.1ms postprocess per image at shape (1, 3, 640, 640)\n",
      "\n",
      "0: 320x640 17 cars, 1 truck, 4.1ms\n",
      "Speed: 1.3ms preprocess, 4.1ms inference, 1.6ms postprocess per image at shape (1, 3, 640, 640)\n",
      "\n",
      "0: 320x640 18 cars, 4.1ms\n",
      "Speed: 1.4ms preprocess, 4.1ms inference, 1.0ms postprocess per image at shape (1, 3, 640, 640)\n",
      "\n",
      "0: 320x640 18 cars, 4.0ms\n",
      "Speed: 1.3ms preprocess, 4.0ms inference, 1.2ms postprocess per image at shape (1, 3, 640, 640)\n"
     ]
    },
    {
     "name": "stdout",
     "output_type": "stream",
     "text": [
      "(363, 147, 434, 197)\n",
      "(363, 147, 434, 197)\n",
      "(364, 147, 434, 197)\n",
      "(363, 147, 434, 197)\n",
      "(358, 140, 431, 193)\n",
      "(358, 140, 431, 193)\n"
     ]
    },
    {
     "name": "stderr",
     "output_type": "stream",
     "text": [
      "\n",
      "0: 320x640 16 cars, 4.1ms\n",
      "Speed: 1.3ms preprocess, 4.1ms inference, 1.0ms postprocess per image at shape (1, 3, 640, 640)\n",
      "\n",
      "0: 320x640 16 cars, 4.3ms\n",
      "Speed: 1.3ms preprocess, 4.3ms inference, 1.1ms postprocess per image at shape (1, 3, 640, 640)\n",
      "\n",
      "0: 320x640 14 cars, 4.3ms\n",
      "Speed: 1.3ms preprocess, 4.3ms inference, 1.1ms postprocess per image at shape (1, 3, 640, 640)\n",
      "\n",
      "0: 320x640 15 cars, 4.4ms\n",
      "Speed: 1.4ms preprocess, 4.4ms inference, 1.3ms postprocess per image at shape (1, 3, 640, 640)\n",
      "\n",
      "0: 320x640 15 cars, 4.1ms\n",
      "Speed: 1.3ms preprocess, 4.1ms inference, 1.1ms postprocess per image at shape (1, 3, 640, 640)\n",
      "\n",
      "0: 320x640 15 cars, 4.2ms\n",
      "Speed: 1.3ms preprocess, 4.2ms inference, 1.1ms postprocess per image at shape (1, 3, 640, 640)\n"
     ]
    },
    {
     "name": "stdout",
     "output_type": "stream",
     "text": [
      "(355, 139, 428, 191)\n",
      "(355, 139, 428, 191)\n",
      "(354, 138, 425, 191)\n",
      "(354, 138, 425, 191)\n",
      "(348, 138, 421, 190)\n",
      "(348, 138, 421, 190)\n"
     ]
    },
    {
     "name": "stderr",
     "output_type": "stream",
     "text": [
      "\n",
      "0: 320x640 14 cars, 4.5ms\n",
      "Speed: 1.4ms preprocess, 4.5ms inference, 1.1ms postprocess per image at shape (1, 3, 640, 640)\n",
      "\n",
      "0: 320x640 16 cars, 4.1ms\n",
      "Speed: 1.4ms preprocess, 4.1ms inference, 1.1ms postprocess per image at shape (1, 3, 640, 640)\n",
      "\n",
      "0: 320x640 15 cars, 4.1ms\n",
      "Speed: 1.3ms preprocess, 4.1ms inference, 1.1ms postprocess per image at shape (1, 3, 640, 640)\n",
      "\n",
      "0: 320x640 15 cars, 4.4ms\n",
      "Speed: 1.4ms preprocess, 4.4ms inference, 1.1ms postprocess per image at shape (1, 3, 640, 640)\n",
      "\n",
      "0: 320x640 14 cars, 4.5ms\n",
      "Speed: 1.4ms preprocess, 4.5ms inference, 1.1ms postprocess per image at shape (1, 3, 640, 640)\n",
      "\n",
      "0: 320x640 14 cars, 4.1ms\n",
      "Speed: 1.4ms preprocess, 4.1ms inference, 1.3ms postprocess per image at shape (1, 3, 640, 640)\n"
     ]
    },
    {
     "name": "stdout",
     "output_type": "stream",
     "text": [
      "(347, 138, 421, 188)\n",
      "(347, 138, 421, 188)\n",
      "(347, 138, 421, 188)\n",
      "(347, 138, 421, 188)\n",
      "(346, 137, 415, 187)\n",
      "(346, 137, 415, 187)\n"
     ]
    },
    {
     "name": "stderr",
     "output_type": "stream",
     "text": [
      "\n",
      "0: 320x640 15 cars, 4.1ms\n",
      "Speed: 1.3ms preprocess, 4.1ms inference, 1.0ms postprocess per image at shape (1, 3, 640, 640)\n",
      "\n",
      "0: 320x640 15 cars, 4.5ms\n",
      "Speed: 1.4ms preprocess, 4.5ms inference, 1.1ms postprocess per image at shape (1, 3, 640, 640)\n",
      "\n",
      "0: 320x640 14 cars, 1 truck, 4.5ms\n",
      "Speed: 1.2ms preprocess, 4.5ms inference, 1.5ms postprocess per image at shape (1, 3, 640, 640)\n",
      "\n",
      "0: 320x640 14 cars, 1 truck, 2.7ms\n",
      "Speed: 1.1ms preprocess, 2.7ms inference, 0.7ms postprocess per image at shape (1, 3, 640, 640)\n",
      "\n",
      "0: 320x640 16 cars, 2.6ms\n",
      "Speed: 1.0ms preprocess, 2.6ms inference, 0.7ms postprocess per image at shape (1, 3, 640, 640)\n",
      "\n",
      "0: 320x640 15 cars, 3.4ms\n",
      "Speed: 1.1ms preprocess, 3.4ms inference, 0.9ms postprocess per image at shape (1, 3, 640, 640)\n",
      "\n",
      "0: 320x640 13 cars, 2.6ms\n",
      "Speed: 0.9ms preprocess, 2.6ms inference, 0.7ms postprocess per image at shape (1, 3, 640, 640)\n"
     ]
    },
    {
     "name": "stdout",
     "output_type": "stream",
     "text": [
      "(346, 138, 414, 187)\n",
      "(346, 138, 414, 187)\n",
      "(343, 129, 414, 186)\n",
      "(343, 129, 414, 185)\n",
      "(341, 127, 411, 184)\n",
      "(341, 127, 411, 184)\n"
     ]
    },
    {
     "name": "stderr",
     "output_type": "stream",
     "text": [
      "\n",
      "0: 320x640 13 cars, 2.8ms\n",
      "Speed: 1.4ms preprocess, 2.8ms inference, 0.7ms postprocess per image at shape (1, 3, 640, 640)\n",
      "\n",
      "0: 320x640 13 cars, 2.6ms\n",
      "Speed: 0.9ms preprocess, 2.6ms inference, 0.7ms postprocess per image at shape (1, 3, 640, 640)\n",
      "\n",
      "0: 320x640 13 cars, 2.6ms\n",
      "Speed: 0.9ms preprocess, 2.6ms inference, 0.7ms postprocess per image at shape (1, 3, 640, 640)\n",
      "\n",
      "0: 320x640 15 cars, 2.5ms\n",
      "Speed: 0.9ms preprocess, 2.5ms inference, 0.7ms postprocess per image at shape (1, 3, 640, 640)\n",
      "\n",
      "0: 320x640 15 cars, 2.6ms\n",
      "Speed: 0.9ms preprocess, 2.6ms inference, 0.7ms postprocess per image at shape (1, 3, 640, 640)\n",
      "\n",
      "0: 320x640 17 cars, 2.7ms\n",
      "Speed: 0.9ms preprocess, 2.7ms inference, 0.8ms postprocess per image at shape (1, 3, 640, 640)\n"
     ]
    },
    {
     "name": "stdout",
     "output_type": "stream",
     "text": [
      "(337, 126, 408, 182)\n",
      "(337, 126, 408, 182)\n",
      "(337, 126, 408, 182)\n",
      "(337, 126, 409, 182)\n",
      "(331, 124, 403, 178)\n",
      "(331, 124, 403, 178)\n",
      "(330, 123, 400, 176)\n"
     ]
    },
    {
     "name": "stderr",
     "output_type": "stream",
     "text": [
      "\n",
      "0: 320x640 17 cars, 2.8ms\n",
      "Speed: 0.9ms preprocess, 2.8ms inference, 1.2ms postprocess per image at shape (1, 3, 640, 640)\n",
      "\n",
      "0: 320x640 16 cars, 3.0ms\n",
      "Speed: 0.9ms preprocess, 3.0ms inference, 0.7ms postprocess per image at shape (1, 3, 640, 640)\n",
      "\n",
      "0: 320x640 16 cars, 2.6ms\n",
      "Speed: 0.9ms preprocess, 2.6ms inference, 0.7ms postprocess per image at shape (1, 3, 640, 640)\n",
      "\n",
      "0: 320x640 14 cars, 2.7ms\n",
      "Speed: 1.0ms preprocess, 2.7ms inference, 0.7ms postprocess per image at shape (1, 3, 640, 640)\n",
      "\n",
      "0: 320x640 14 cars, 2.6ms\n",
      "Speed: 1.0ms preprocess, 2.6ms inference, 0.7ms postprocess per image at shape (1, 3, 640, 640)\n",
      "\n",
      "0: 320x640 13 cars, 1 truck, 2.6ms\n",
      "Speed: 1.0ms preprocess, 2.6ms inference, 0.7ms postprocess per image at shape (1, 3, 640, 640)\n",
      "\n",
      "0: 320x640 13 cars, 1 truck, 2.6ms\n",
      "Speed: 0.9ms preprocess, 2.6ms inference, 0.7ms postprocess per image at shape (1, 3, 640, 640)\n"
     ]
    },
    {
     "name": "stdout",
     "output_type": "stream",
     "text": [
      "(330, 123, 400, 176)\n",
      "(327, 123, 398, 175)\n",
      "(326, 123, 398, 175)\n",
      "(325, 122, 399, 174)\n",
      "(325, 122, 399, 174)\n",
      "(323, 121, 395, 173)\n",
      "(323, 121, 395, 173)\n"
     ]
    },
    {
     "name": "stderr",
     "output_type": "stream",
     "text": [
      "\n",
      "0: 320x640 13 cars, 1 truck, 2.7ms\n",
      "Speed: 0.9ms preprocess, 2.7ms inference, 1.3ms postprocess per image at shape (1, 3, 640, 640)\n",
      "\n",
      "0: 320x640 13 cars, 1 truck, 2.6ms\n",
      "Speed: 0.9ms preprocess, 2.6ms inference, 0.7ms postprocess per image at shape (1, 3, 640, 640)\n",
      "\n",
      "0: 320x640 14 cars, 2.6ms\n",
      "Speed: 0.9ms preprocess, 2.6ms inference, 0.8ms postprocess per image at shape (1, 3, 640, 640)\n",
      "\n",
      "0: 320x640 14 cars, 4.2ms\n",
      "Speed: 0.9ms preprocess, 4.2ms inference, 0.8ms postprocess per image at shape (1, 3, 640, 640)\n",
      "\n",
      "0: 320x640 14 cars, 3.4ms\n",
      "Speed: 0.9ms preprocess, 3.4ms inference, 1.1ms postprocess per image at shape (1, 3, 640, 640)\n",
      "\n",
      "0: 320x640 14 cars, 2.9ms\n",
      "Speed: 1.2ms preprocess, 2.9ms inference, 1.0ms postprocess per image at shape (1, 3, 640, 640)\n",
      "\n",
      "0: 320x640 14 cars, 2.6ms\n",
      "Speed: 1.5ms preprocess, 2.6ms inference, 0.7ms postprocess per image at shape (1, 3, 640, 640)\n"
     ]
    },
    {
     "name": "stdout",
     "output_type": "stream",
     "text": [
      "(323, 121, 395, 173)\n",
      "(323, 121, 395, 173)\n",
      "(324, 121, 392, 171)\n",
      "(324, 121, 392, 171)\n",
      "(322, 120, 390, 170)\n",
      "(322, 120, 390, 170)\n",
      "(319, 118, 390, 168)\n"
     ]
    },
    {
     "name": "stderr",
     "output_type": "stream",
     "text": [
      "\n",
      "0: 320x640 14 cars, 2.9ms\n",
      "Speed: 0.9ms preprocess, 2.9ms inference, 1.2ms postprocess per image at shape (1, 3, 640, 640)\n",
      "\n",
      "0: 320x640 16 cars, 2.8ms\n",
      "Speed: 1.0ms preprocess, 2.8ms inference, 0.7ms postprocess per image at shape (1, 3, 640, 640)\n",
      "\n",
      "0: 320x640 16 cars, 2.7ms\n",
      "Speed: 0.9ms preprocess, 2.7ms inference, 1.0ms postprocess per image at shape (1, 3, 640, 640)\n",
      "\n",
      "0: 320x640 14 cars, 2.7ms\n",
      "Speed: 0.9ms preprocess, 2.7ms inference, 0.7ms postprocess per image at shape (1, 3, 640, 640)\n",
      "\n",
      "0: 320x640 15 cars, 2.7ms\n",
      "Speed: 1.0ms preprocess, 2.7ms inference, 0.8ms postprocess per image at shape (1, 3, 640, 640)\n",
      "\n",
      "0: 320x640 14 cars, 2.6ms\n",
      "Speed: 1.1ms preprocess, 2.6ms inference, 0.7ms postprocess per image at shape (1, 3, 640, 640)\n",
      "\n",
      "0: 320x640 15 cars, 3.8ms\n",
      "Speed: 1.1ms preprocess, 3.8ms inference, 1.0ms postprocess per image at shape (1, 3, 640, 640)\n"
     ]
    },
    {
     "name": "stdout",
     "output_type": "stream",
     "text": [
      "(319, 118, 390, 168)\n",
      "(318, 118, 388, 168)\n",
      "(318, 118, 388, 168)\n",
      "(315, 117, 386, 167)\n",
      "(315, 117, 386, 167)\n",
      "(316, 117, 386, 167)\n",
      "(316, 117, 386, 167)\n"
     ]
    },
    {
     "name": "stderr",
     "output_type": "stream",
     "text": [
      "\n",
      "0: 320x640 15 cars, 1 truck, 2.6ms\n",
      "Speed: 1.0ms preprocess, 2.6ms inference, 0.8ms postprocess per image at shape (1, 3, 640, 640)\n",
      "\n",
      "0: 320x640 15 cars, 1 truck, 3.0ms\n",
      "Speed: 1.0ms preprocess, 3.0ms inference, 1.3ms postprocess per image at shape (1, 3, 640, 640)\n",
      "\n",
      "0: 320x640 14 cars, 1 truck, 2.7ms\n",
      "Speed: 0.9ms preprocess, 2.7ms inference, 0.7ms postprocess per image at shape (1, 3, 640, 640)\n",
      "\n",
      "0: 320x640 14 cars, 1 truck, 3.1ms\n",
      "Speed: 0.9ms preprocess, 3.1ms inference, 0.7ms postprocess per image at shape (1, 3, 640, 640)\n",
      "\n",
      "0: 320x640 13 cars, 1 truck, 2.8ms\n",
      "Speed: 0.9ms preprocess, 2.8ms inference, 0.7ms postprocess per image at shape (1, 3, 640, 640)\n",
      "\n",
      "0: 320x640 13 cars, 1 truck, 2.7ms\n",
      "Speed: 0.9ms preprocess, 2.7ms inference, 0.7ms postprocess per image at shape (1, 3, 640, 640)\n",
      "\n",
      "0: 320x640 15 cars, 2.8ms\n",
      "Speed: 0.9ms preprocess, 2.8ms inference, 0.7ms postprocess per image at shape (1, 3, 640, 640)\n"
     ]
    },
    {
     "name": "stdout",
     "output_type": "stream",
     "text": [
      "(313, 116, 382, 164)\n",
      "(313, 116, 382, 165)\n",
      "(313, 115, 380, 165)\n",
      "(313, 115, 380, 165)\n",
      "(311, 115, 378, 163)\n",
      "(311, 115, 378, 163)\n",
      "(311, 114, 374, 163)\n"
     ]
    },
    {
     "name": "stderr",
     "output_type": "stream",
     "text": [
      "\n",
      "0: 320x640 15 cars, 2.7ms\n",
      "Speed: 0.9ms preprocess, 2.7ms inference, 0.8ms postprocess per image at shape (1, 3, 640, 640)\n",
      "\n",
      "0: 320x640 15 cars, 2.6ms\n",
      "Speed: 0.9ms preprocess, 2.6ms inference, 0.7ms postprocess per image at shape (1, 3, 640, 640)\n",
      "\n",
      "0: 320x640 15 cars, 2.6ms\n",
      "Speed: 0.9ms preprocess, 2.6ms inference, 0.9ms postprocess per image at shape (1, 3, 640, 640)\n",
      "\n",
      "0: 320x640 15 cars, 2.6ms\n",
      "Speed: 0.9ms preprocess, 2.6ms inference, 0.7ms postprocess per image at shape (1, 3, 640, 640)\n",
      "\n",
      "0: 320x640 15 cars, 2.8ms\n",
      "Speed: 0.9ms preprocess, 2.8ms inference, 0.7ms postprocess per image at shape (1, 3, 640, 640)\n",
      "\n",
      "0: 320x640 13 cars, 2.8ms\n",
      "Speed: 0.9ms preprocess, 2.8ms inference, 0.7ms postprocess per image at shape (1, 3, 640, 640)\n",
      "\n",
      "0: 320x640 14 cars, 1 truck, 3.1ms\n",
      "Speed: 0.9ms preprocess, 3.1ms inference, 1.3ms postprocess per image at shape (1, 3, 640, 640)\n"
     ]
    },
    {
     "name": "stdout",
     "output_type": "stream",
     "text": [
      "(311, 114, 374, 163)\n",
      "(308, 114, 373, 162)\n",
      "(308, 115, 373, 162)\n",
      "(308, 114, 373, 162)\n",
      "(308, 114, 373, 162)\n",
      "(304, 109, 369, 160)\n",
      "(304, 109, 369, 160)\n"
     ]
    },
    {
     "name": "stderr",
     "output_type": "stream",
     "text": [
      "\n",
      "0: 320x640 13 cars, 1 truck, 2.5ms\n",
      "Speed: 0.9ms preprocess, 2.5ms inference, 0.7ms postprocess per image at shape (1, 3, 640, 640)\n",
      "\n",
      "0: 320x640 13 cars, 1 truck, 2.6ms\n",
      "Speed: 0.9ms preprocess, 2.6ms inference, 0.7ms postprocess per image at shape (1, 3, 640, 640)\n",
      "\n",
      "0: 320x640 14 cars, 1 truck, 2.6ms\n",
      "Speed: 0.9ms preprocess, 2.6ms inference, 0.7ms postprocess per image at shape (1, 3, 640, 640)\n",
      "\n",
      "0: 320x640 14 cars, 1 truck, 2.7ms\n",
      "Speed: 0.9ms preprocess, 2.7ms inference, 0.7ms postprocess per image at shape (1, 3, 640, 640)\n",
      "\n",
      "0: 320x640 15 cars, 3.0ms\n",
      "Speed: 0.9ms preprocess, 3.0ms inference, 1.3ms postprocess per image at shape (1, 3, 640, 640)\n",
      "\n",
      "0: 320x640 15 cars, 2.5ms\n",
      "Speed: 0.9ms preprocess, 2.5ms inference, 0.7ms postprocess per image at shape (1, 3, 640, 640)\n",
      "\n",
      "0: 320x640 16 cars, 2.7ms\n",
      "Speed: 0.9ms preprocess, 2.7ms inference, 0.9ms postprocess per image at shape (1, 3, 640, 640)\n"
     ]
    },
    {
     "name": "stdout",
     "output_type": "stream",
     "text": [
      "(304, 111, 368, 158)\n",
      "(304, 111, 368, 158)\n",
      "(304, 109, 366, 154)\n",
      "(304, 109, 366, 154)\n",
      "(302, 107, 364, 153)\n",
      "(303, 107, 364, 153)\n",
      "(302, 108, 362, 152)\n"
     ]
    },
    {
     "name": "stderr",
     "output_type": "stream",
     "text": [
      "\n",
      "0: 320x640 15 cars, 2.6ms\n",
      "Speed: 0.9ms preprocess, 2.6ms inference, 0.7ms postprocess per image at shape (1, 3, 640, 640)\n",
      "\n",
      "0: 320x640 15 cars, 2.7ms\n",
      "Speed: 0.9ms preprocess, 2.7ms inference, 0.7ms postprocess per image at shape (1, 3, 640, 640)\n",
      "\n",
      "0: 320x640 16 cars, 2.7ms\n",
      "Speed: 0.9ms preprocess, 2.7ms inference, 0.8ms postprocess per image at shape (1, 3, 640, 640)\n",
      "\n",
      "0: 320x640 14 cars, 2.6ms\n",
      "Speed: 1.0ms preprocess, 2.6ms inference, 0.7ms postprocess per image at shape (1, 3, 640, 640)\n",
      "\n",
      "0: 320x640 15 cars, 2.6ms\n",
      "Speed: 0.9ms preprocess, 2.6ms inference, 0.7ms postprocess per image at shape (1, 3, 640, 640)\n",
      "\n",
      "0: 320x640 14 cars, 2.7ms\n",
      "Speed: 0.9ms preprocess, 2.7ms inference, 0.7ms postprocess per image at shape (1, 3, 640, 640)\n",
      "\n",
      "0: 320x640 14 cars, 2.8ms\n",
      "Speed: 1.0ms preprocess, 2.8ms inference, 0.7ms postprocess per image at shape (1, 3, 640, 640)\n"
     ]
    },
    {
     "name": "stdout",
     "output_type": "stream",
     "text": [
      "(302, 108, 363, 152)\n",
      "(302, 108, 362, 152)\n",
      "(302, 108, 362, 152)\n",
      "(296, 105, 360, 149)\n",
      "(296, 104, 360, 149)\n",
      "(295, 104, 358, 148)\n",
      "(295, 103, 358, 148)\n"
     ]
    },
    {
     "name": "stderr",
     "output_type": "stream",
     "text": [
      "\n",
      "0: 320x640 13 cars, 2.7ms\n",
      "Speed: 0.9ms preprocess, 2.7ms inference, 0.7ms postprocess per image at shape (1, 3, 640, 640)\n",
      "\n",
      "0: 320x640 13 cars, 2.6ms\n",
      "Speed: 0.9ms preprocess, 2.6ms inference, 1.9ms postprocess per image at shape (1, 3, 640, 640)\n",
      "\n",
      "0: 320x640 13 cars, 3.1ms\n",
      "Speed: 1.1ms preprocess, 3.1ms inference, 0.7ms postprocess per image at shape (1, 3, 640, 640)\n",
      "\n",
      "0: 320x640 13 cars, 2.8ms\n",
      "Speed: 1.0ms preprocess, 2.8ms inference, 1.0ms postprocess per image at shape (1, 3, 640, 640)\n",
      "\n",
      "0: 320x640 15 cars, 2.6ms\n",
      "Speed: 0.9ms preprocess, 2.6ms inference, 0.7ms postprocess per image at shape (1, 3, 640, 640)\n",
      "\n",
      "0: 320x640 15 cars, 2.7ms\n",
      "Speed: 0.9ms preprocess, 2.7ms inference, 0.7ms postprocess per image at shape (1, 3, 640, 640)\n",
      "\n",
      "0: 320x640 16 cars, 2.6ms\n",
      "Speed: 0.9ms preprocess, 2.6ms inference, 0.7ms postprocess per image at shape (1, 3, 640, 640)\n"
     ]
    },
    {
     "name": "stdout",
     "output_type": "stream",
     "text": [
      "(293, 102, 356, 148)\n",
      "(293, 102, 356, 149)\n",
      "(289, 99, 352, 148)\n",
      "(289, 99, 352, 148)\n",
      "(289, 99, 350, 146)\n",
      "(289, 99, 350, 146)\n",
      "(289, 99, 350, 146)\n"
     ]
    },
    {
     "name": "stderr",
     "output_type": "stream",
     "text": [
      "\n",
      "0: 320x640 15 cars, 2.6ms\n",
      "Speed: 0.9ms preprocess, 2.6ms inference, 0.7ms postprocess per image at shape (1, 3, 640, 640)\n",
      "\n",
      "0: 320x640 14 cars, 2.5ms\n",
      "Speed: 0.9ms preprocess, 2.5ms inference, 0.9ms postprocess per image at shape (1, 3, 640, 640)\n",
      "\n",
      "0: 320x640 14 cars, 2.6ms\n",
      "Speed: 1.0ms preprocess, 2.6ms inference, 0.7ms postprocess per image at shape (1, 3, 640, 640)\n",
      "\n",
      "0: 320x640 15 cars, 3.2ms\n",
      "Speed: 1.0ms preprocess, 3.2ms inference, 0.7ms postprocess per image at shape (1, 3, 640, 640)\n",
      "\n",
      "0: 320x640 15 cars, 2.8ms\n",
      "Speed: 1.1ms preprocess, 2.8ms inference, 0.7ms postprocess per image at shape (1, 3, 640, 640)\n",
      "\n",
      "0: 320x640 15 cars, 2.5ms\n",
      "Speed: 0.9ms preprocess, 2.5ms inference, 1.9ms postprocess per image at shape (1, 3, 640, 640)\n",
      "\n",
      "0: 320x640 15 cars, 2.8ms\n",
      "Speed: 0.9ms preprocess, 2.8ms inference, 0.7ms postprocess per image at shape (1, 3, 640, 640)\n"
     ]
    },
    {
     "name": "stdout",
     "output_type": "stream",
     "text": [
      "(289, 99, 350, 146)\n",
      "(286, 99, 349, 145)\n",
      "(286, 99, 349, 145)\n",
      "(286, 101, 347, 145)\n",
      "(286, 101, 347, 145)\n",
      "(285, 98, 346, 143)\n",
      "(285, 98, 346, 143)\n"
     ]
    },
    {
     "name": "stderr",
     "output_type": "stream",
     "text": [
      "\n",
      "0: 320x640 14 cars, 2.7ms\n",
      "Speed: 1.0ms preprocess, 2.7ms inference, 0.7ms postprocess per image at shape (1, 3, 640, 640)\n",
      "\n",
      "0: 320x640 15 cars, 2.6ms\n",
      "Speed: 1.0ms preprocess, 2.6ms inference, 0.7ms postprocess per image at shape (1, 3, 640, 640)\n",
      "\n",
      "0: 320x640 13 cars, 2.9ms\n",
      "Speed: 1.0ms preprocess, 2.9ms inference, 0.7ms postprocess per image at shape (1, 3, 640, 640)\n",
      "\n",
      "0: 320x640 13 cars, 2.8ms\n",
      "Speed: 1.0ms preprocess, 2.8ms inference, 0.8ms postprocess per image at shape (1, 3, 640, 640)\n",
      "\n",
      "0: 320x640 13 cars, 3.1ms\n",
      "Speed: 1.0ms preprocess, 3.1ms inference, 1.4ms postprocess per image at shape (1, 3, 640, 640)\n",
      "\n",
      "0: 320x640 13 cars, 2.7ms\n",
      "Speed: 1.0ms preprocess, 2.7ms inference, 0.7ms postprocess per image at shape (1, 3, 640, 640)\n",
      "\n",
      "0: 320x640 15 cars, 2.7ms\n",
      "Speed: 1.0ms preprocess, 2.7ms inference, 0.7ms postprocess per image at shape (1, 3, 640, 640)\n"
     ]
    },
    {
     "name": "stdout",
     "output_type": "stream",
     "text": [
      "(283, 97, 344, 143)\n",
      "(283, 97, 344, 143)\n",
      "(280, 95, 342, 141)\n",
      "(280, 95, 342, 141)\n",
      "(280, 95, 342, 141)\n",
      "(280, 95, 342, 141)\n",
      "(279, 93, 337, 140)\n"
     ]
    },
    {
     "name": "stderr",
     "output_type": "stream",
     "text": [
      "\n",
      "0: 320x640 15 cars, 3.1ms\n",
      "Speed: 0.9ms preprocess, 3.1ms inference, 0.7ms postprocess per image at shape (1, 3, 640, 640)\n",
      "\n",
      "0: 320x640 17 cars, 2.7ms\n",
      "Speed: 1.0ms preprocess, 2.7ms inference, 0.7ms postprocess per image at shape (1, 3, 640, 640)\n",
      "\n",
      "0: 320x640 17 cars, 2.7ms\n",
      "Speed: 1.0ms preprocess, 2.7ms inference, 0.7ms postprocess per image at shape (1, 3, 640, 640)\n",
      "\n",
      "0: 320x640 17 cars, 2.7ms\n",
      "Speed: 0.9ms preprocess, 2.7ms inference, 0.7ms postprocess per image at shape (1, 3, 640, 640)\n",
      "\n",
      "0: 320x640 17 cars, 3.1ms\n",
      "Speed: 0.9ms preprocess, 3.1ms inference, 1.3ms postprocess per image at shape (1, 3, 640, 640)\n",
      "\n",
      "0: 320x640 14 cars, 2.5ms\n",
      "Speed: 0.9ms preprocess, 2.5ms inference, 0.7ms postprocess per image at shape (1, 3, 640, 640)\n",
      "\n",
      "0: 320x640 14 cars, 2.6ms\n",
      "Speed: 0.9ms preprocess, 2.6ms inference, 0.9ms postprocess per image at shape (1, 3, 640, 640)\n"
     ]
    },
    {
     "name": "stdout",
     "output_type": "stream",
     "text": [
      "(279, 93, 337, 140)\n",
      "(277, 92, 337, 139)\n",
      "(277, 92, 336, 139)\n",
      "(277, 91, 335, 139)\n",
      "(277, 92, 335, 139)\n",
      "(277, 92, 335, 139)\n",
      "(277, 92, 335, 139)\n"
     ]
    },
    {
     "name": "stderr",
     "output_type": "stream",
     "text": [
      "\n",
      "0: 320x640 14 cars, 3.2ms\n",
      "Speed: 0.9ms preprocess, 3.2ms inference, 0.7ms postprocess per image at shape (1, 3, 640, 640)\n",
      "\n",
      "0: 320x640 14 cars, 3.2ms\n",
      "Speed: 0.9ms preprocess, 3.2ms inference, 0.7ms postprocess per image at shape (1, 3, 640, 640)\n",
      "\n",
      "0: 320x640 14 cars, 2.6ms\n",
      "Speed: 1.5ms preprocess, 2.6ms inference, 0.7ms postprocess per image at shape (1, 3, 640, 640)\n",
      "\n",
      "0: 320x640 14 cars, 4.1ms\n",
      "Speed: 0.9ms preprocess, 4.1ms inference, 1.1ms postprocess per image at shape (1, 3, 640, 640)\n",
      "\n",
      "0: 320x640 18 cars, 3.0ms\n",
      "Speed: 0.9ms preprocess, 3.0ms inference, 1.5ms postprocess per image at shape (1, 3, 640, 640)\n",
      "\n",
      "0: 320x640 18 cars, 3.7ms\n",
      "Speed: 1.3ms preprocess, 3.7ms inference, 0.7ms postprocess per image at shape (1, 3, 640, 640)\n",
      "\n",
      "0: 320x640 15 cars, 2.6ms\n",
      "Speed: 0.9ms preprocess, 2.6ms inference, 0.7ms postprocess per image at shape (1, 3, 640, 640)\n"
     ]
    },
    {
     "name": "stdout",
     "output_type": "stream",
     "text": [
      "(276, 91, 335, 139)\n",
      "(276, 91, 335, 139)\n",
      "(276, 91, 335, 139)\n",
      "(276, 91, 335, 139)\n",
      "(274, 90, 329, 138)\n",
      "(274, 90, 329, 137)\n",
      "(270, 87, 327, 136)\n"
     ]
    },
    {
     "name": "stderr",
     "output_type": "stream",
     "text": [
      "\n",
      "0: 320x640 15 cars, 2.6ms\n",
      "Speed: 0.9ms preprocess, 2.6ms inference, 0.9ms postprocess per image at shape (1, 3, 640, 640)\n",
      "\n",
      "0: 320x640 15 cars, 2.6ms\n",
      "Speed: 0.9ms preprocess, 2.6ms inference, 0.7ms postprocess per image at shape (1, 3, 640, 640)\n",
      "\n",
      "0: 320x640 15 cars, 2.7ms\n",
      "Speed: 0.9ms preprocess, 2.7ms inference, 0.7ms postprocess per image at shape (1, 3, 640, 640)\n",
      "\n",
      "0: 320x640 14 cars, 3.2ms\n",
      "Speed: 1.3ms preprocess, 3.2ms inference, 0.7ms postprocess per image at shape (1, 3, 640, 640)\n",
      "\n",
      "0: 320x640 14 cars, 3.0ms\n",
      "Speed: 1.0ms preprocess, 3.0ms inference, 0.7ms postprocess per image at shape (1, 3, 640, 640)\n",
      "\n",
      "0: 320x640 15 cars, 2.6ms\n",
      "Speed: 0.9ms preprocess, 2.6ms inference, 1.9ms postprocess per image at shape (1, 3, 640, 640)\n",
      "\n",
      "0: 320x640 15 cars, 2.7ms\n",
      "Speed: 0.9ms preprocess, 2.7ms inference, 0.7ms postprocess per image at shape (1, 3, 640, 640)\n"
     ]
    },
    {
     "name": "stdout",
     "output_type": "stream",
     "text": [
      "(271, 87, 327, 136)\n",
      "(271, 88, 326, 135)\n",
      "(271, 89, 326, 135)\n",
      "(271, 88, 325, 134)\n",
      "(271, 88, 325, 134)\n",
      "(268, 86, 324, 131)\n",
      "(268, 86, 324, 131)\n"
     ]
    },
    {
     "name": "stderr",
     "output_type": "stream",
     "text": [
      "\n",
      "0: 320x640 15 cars, 2.6ms\n",
      "Speed: 0.9ms preprocess, 2.6ms inference, 0.7ms postprocess per image at shape (1, 3, 640, 640)\n",
      "\n",
      "0: 320x640 15 cars, 2.6ms\n",
      "Speed: 1.0ms preprocess, 2.6ms inference, 0.8ms postprocess per image at shape (1, 3, 640, 640)\n",
      "\n",
      "0: 320x640 16 cars, 2.7ms\n",
      "Speed: 0.9ms preprocess, 2.7ms inference, 0.7ms postprocess per image at shape (1, 3, 640, 640)\n",
      "\n",
      "0: 320x640 17 cars, 2.6ms\n",
      "Speed: 1.0ms preprocess, 2.6ms inference, 0.7ms postprocess per image at shape (1, 3, 640, 640)\n",
      "\n",
      "0: 320x640 17 cars, 1 truck, 2.6ms\n",
      "Speed: 1.2ms preprocess, 2.6ms inference, 0.7ms postprocess per image at shape (1, 3, 640, 640)\n",
      "\n",
      "0: 320x640 17 cars, 1 truck, 2.9ms\n",
      "Speed: 0.9ms preprocess, 2.9ms inference, 0.7ms postprocess per image at shape (1, 3, 640, 640)\n",
      "\n",
      "0: 320x640 18 cars, 2.6ms\n",
      "Speed: 0.9ms preprocess, 2.6ms inference, 2.0ms postprocess per image at shape (1, 3, 640, 640)\n"
     ]
    },
    {
     "name": "stdout",
     "output_type": "stream",
     "text": [
      "(268, 86, 324, 132)\n",
      "(268, 86, 324, 132)\n",
      "(264, 84, 320, 128)\n",
      "(264, 84, 320, 128)\n",
      "(264, 82, 319, 126)\n",
      "(264, 82, 319, 126)\n",
      "(261, 83, 318, 125)\n"
     ]
    },
    {
     "name": "stderr",
     "output_type": "stream",
     "text": [
      "\n",
      "0: 320x640 18 cars, 2.6ms\n",
      "Speed: 0.9ms preprocess, 2.6ms inference, 0.7ms postprocess per image at shape (1, 3, 640, 640)\n",
      "\n",
      "0: 320x640 16 cars, 2.6ms\n",
      "Speed: 1.0ms preprocess, 2.6ms inference, 0.7ms postprocess per image at shape (1, 3, 640, 640)\n",
      "\n",
      "0: 320x640 15 cars, 2.6ms\n",
      "Speed: 1.0ms preprocess, 2.6ms inference, 0.9ms postprocess per image at shape (1, 3, 640, 640)\n",
      "\n",
      "0: 320x640 15 cars, 1 truck, 2.7ms\n",
      "Speed: 1.0ms preprocess, 2.7ms inference, 0.7ms postprocess per image at shape (1, 3, 640, 640)\n",
      "\n",
      "0: 320x640 15 cars, 1 truck, 2.6ms\n",
      "Speed: 0.9ms preprocess, 2.6ms inference, 0.7ms postprocess per image at shape (1, 3, 640, 640)\n",
      "\n",
      "0: 320x640 15 cars, 1 truck, 2.6ms\n",
      "Speed: 1.0ms preprocess, 2.6ms inference, 0.7ms postprocess per image at shape (1, 3, 640, 640)\n",
      "\n",
      "0: 320x640 15 cars, 1 truck, 3.1ms\n",
      "Speed: 1.1ms preprocess, 3.1ms inference, 0.7ms postprocess per image at shape (1, 3, 640, 640)\n"
     ]
    },
    {
     "name": "stdout",
     "output_type": "stream",
     "text": [
      "(261, 83, 318, 125)\n",
      "(259, 83, 317, 123)\n",
      "(259, 83, 317, 124)\n",
      "(257, 82, 314, 123)\n",
      "(257, 82, 314, 123)\n",
      "(257, 82, 314, 123)\n",
      "(257, 82, 314, 123)\n"
     ]
    },
    {
     "name": "stderr",
     "output_type": "stream",
     "text": [
      "\n",
      "0: 320x640 16 cars, 2.6ms\n",
      "Speed: 1.0ms preprocess, 2.6ms inference, 0.7ms postprocess per image at shape (1, 3, 640, 640)\n",
      "\n",
      "0: 320x640 16 cars, 2.6ms\n",
      "Speed: 0.9ms preprocess, 2.6ms inference, 0.7ms postprocess per image at shape (1, 3, 640, 640)\n",
      "\n",
      "0: 320x640 15 cars, 2.8ms\n",
      "Speed: 0.9ms preprocess, 2.8ms inference, 0.8ms postprocess per image at shape (1, 3, 640, 640)\n",
      "\n",
      "0: 320x640 15 cars, 3.0ms\n",
      "Speed: 1.0ms preprocess, 3.0ms inference, 0.7ms postprocess per image at shape (1, 3, 640, 640)\n",
      "\n",
      "0: 320x640 15 cars, 2.7ms\n",
      "Speed: 1.0ms preprocess, 2.7ms inference, 0.7ms postprocess per image at shape (1, 3, 640, 640)\n",
      "\n",
      "0: 320x640 15 cars, 2.8ms\n",
      "Speed: 1.6ms preprocess, 2.8ms inference, 0.8ms postprocess per image at shape (1, 3, 640, 640)\n",
      "\n",
      "0: 320x640 16 cars, 2.9ms\n",
      "Speed: 1.0ms preprocess, 2.9ms inference, 1.4ms postprocess per image at shape (1, 3, 640, 640)\n"
     ]
    },
    {
     "name": "stdout",
     "output_type": "stream",
     "text": [
      "(254, 81, 312, 121)\n",
      "(254, 81, 312, 121)\n",
      "(251, 81, 311, 121)\n",
      "(251, 81, 311, 121)\n",
      "(251, 81, 309, 120)\n",
      "(251, 80, 309, 120)\n",
      "(251, 77, 307, 118)\n"
     ]
    },
    {
     "name": "stderr",
     "output_type": "stream",
     "text": [
      "\n",
      "0: 320x640 16 cars, 2.6ms\n",
      "Speed: 1.0ms preprocess, 2.6ms inference, 0.7ms postprocess per image at shape (1, 3, 640, 640)\n",
      "\n",
      "0: 320x640 17 cars, 2.6ms\n",
      "Speed: 1.0ms preprocess, 2.6ms inference, 0.7ms postprocess per image at shape (1, 3, 640, 640)\n",
      "\n",
      "0: 320x640 17 cars, 2.7ms\n",
      "Speed: 1.0ms preprocess, 2.7ms inference, 0.7ms postprocess per image at shape (1, 3, 640, 640)\n",
      "\n",
      "0: 320x640 17 cars, 3.0ms\n",
      "Speed: 1.2ms preprocess, 3.0ms inference, 0.7ms postprocess per image at shape (1, 3, 640, 640)\n",
      "\n",
      "0: 320x640 17 cars, 3.1ms\n",
      "Speed: 0.9ms preprocess, 3.1ms inference, 0.7ms postprocess per image at shape (1, 3, 640, 640)\n",
      "\n",
      "0: 320x640 17 cars, 3.1ms\n",
      "Speed: 1.0ms preprocess, 3.1ms inference, 0.7ms postprocess per image at shape (1, 3, 640, 640)\n",
      "\n",
      "0: 320x640 17 cars, 2.5ms\n",
      "Speed: 0.9ms preprocess, 2.5ms inference, 0.9ms postprocess per image at shape (1, 3, 640, 640)\n"
     ]
    },
    {
     "name": "stdout",
     "output_type": "stream",
     "text": [
      "(251, 77, 307, 118)\n",
      "(249, 77, 303, 117)\n",
      "(249, 77, 303, 117)\n",
      "(249, 77, 303, 117)\n",
      "(249, 77, 303, 117)\n",
      "(246, 76, 301, 115)\n",
      "(246, 76, 301, 115)\n"
     ]
    },
    {
     "name": "stderr",
     "output_type": "stream",
     "text": [
      "\n",
      "0: 320x640 17 cars, 2.6ms\n",
      "Speed: 0.9ms preprocess, 2.6ms inference, 0.7ms postprocess per image at shape (1, 3, 640, 640)\n",
      "\n",
      "0: 320x640 17 cars, 2.6ms\n",
      "Speed: 1.0ms preprocess, 2.6ms inference, 0.7ms postprocess per image at shape (1, 3, 640, 640)\n",
      "\n",
      "0: 320x640 16 cars, 3.0ms\n",
      "Speed: 0.9ms preprocess, 3.0ms inference, 0.7ms postprocess per image at shape (1, 3, 640, 640)\n",
      "\n",
      "0: 320x640 16 cars, 2.8ms\n",
      "Speed: 1.3ms preprocess, 2.8ms inference, 0.7ms postprocess per image at shape (1, 3, 640, 640)\n",
      "\n",
      "0: 320x640 16 cars, 2.7ms\n",
      "Speed: 1.0ms preprocess, 2.7ms inference, 0.7ms postprocess per image at shape (1, 3, 640, 640)\n",
      "\n",
      "0: 320x640 15 cars, 2.7ms\n",
      "Speed: 1.1ms preprocess, 2.7ms inference, 0.7ms postprocess per image at shape (1, 3, 640, 640)\n",
      "\n",
      "0: 320x640 15 cars, 2.7ms\n",
      "Speed: 1.0ms preprocess, 2.7ms inference, 0.8ms postprocess per image at shape (1, 3, 640, 640)\n"
     ]
    },
    {
     "name": "stdout",
     "output_type": "stream",
     "text": [
      "(248, 75, 302, 115)\n",
      "(248, 75, 302, 115)\n",
      "(247, 75, 300, 114)\n",
      "(247, 75, 300, 115)\n",
      "(245, 74, 299, 115)\n",
      "(244, 74, 299, 115)\n",
      "(243, 74, 297, 114)\n"
     ]
    },
    {
     "name": "stderr",
     "output_type": "stream",
     "text": [
      "\n",
      "0: 320x640 15 cars, 2.8ms\n",
      "Speed: 1.1ms preprocess, 2.8ms inference, 0.7ms postprocess per image at shape (1, 3, 640, 640)\n",
      "\n",
      "0: 320x640 15 cars, 2.7ms\n",
      "Speed: 0.9ms preprocess, 2.7ms inference, 0.7ms postprocess per image at shape (1, 3, 640, 640)\n",
      "\n",
      "0: 320x640 15 cars, 2.6ms\n",
      "Speed: 0.9ms preprocess, 2.6ms inference, 0.7ms postprocess per image at shape (1, 3, 640, 640)\n",
      "\n",
      "0: 320x640 15 cars, 2.6ms\n",
      "Speed: 0.9ms preprocess, 2.6ms inference, 0.7ms postprocess per image at shape (1, 3, 640, 640)\n",
      "\n",
      "0: 320x640 15 cars, 2.6ms\n",
      "Speed: 0.9ms preprocess, 2.6ms inference, 0.7ms postprocess per image at shape (1, 3, 640, 640)\n",
      "\n",
      "0: 320x640 14 cars, 2.6ms\n",
      "Speed: 1.0ms preprocess, 2.6ms inference, 0.7ms postprocess per image at shape (1, 3, 640, 640)\n",
      "\n",
      "0: 320x640 14 cars, 2.7ms\n",
      "Speed: 1.4ms preprocess, 2.7ms inference, 0.8ms postprocess per image at shape (1, 3, 640, 640)\n"
     ]
    },
    {
     "name": "stdout",
     "output_type": "stream",
     "text": [
      "(243, 74, 297, 114)\n",
      "(243, 74, 297, 114)\n",
      "(243, 74, 297, 114)\n",
      "(240, 73, 296, 114)\n",
      "(240, 73, 296, 114)\n",
      "(240, 72, 295, 114)\n",
      "(240, 72, 295, 114)\n"
     ]
    },
    {
     "name": "stderr",
     "output_type": "stream",
     "text": [
      "\n",
      "0: 320x640 14 cars, 2.9ms\n",
      "Speed: 0.9ms preprocess, 2.9ms inference, 1.2ms postprocess per image at shape (1, 3, 640, 640)\n",
      "\n",
      "0: 320x640 14 cars, 2.6ms\n",
      "Speed: 0.9ms preprocess, 2.6ms inference, 0.7ms postprocess per image at shape (1, 3, 640, 640)\n",
      "\n",
      "0: 320x640 14 cars, 2.6ms\n",
      "Speed: 0.9ms preprocess, 2.6ms inference, 0.7ms postprocess per image at shape (1, 3, 640, 640)\n",
      "\n",
      "0: 320x640 14 cars, 3.6ms\n",
      "Speed: 1.0ms preprocess, 3.6ms inference, 0.7ms postprocess per image at shape (1, 3, 640, 640)\n",
      "\n",
      "0: 320x640 14 cars, 2.6ms\n",
      "Speed: 1.5ms preprocess, 2.6ms inference, 0.7ms postprocess per image at shape (1, 3, 640, 640)\n",
      "\n",
      "0: 320x640 14 cars, 3.2ms\n",
      "Speed: 0.9ms preprocess, 3.2ms inference, 1.1ms postprocess per image at shape (1, 3, 640, 640)\n",
      "\n",
      "0: 320x640 14 cars, 3.2ms\n",
      "Speed: 1.0ms preprocess, 3.2ms inference, 0.7ms postprocess per image at shape (1, 3, 640, 640)\n",
      "\n"
     ]
    },
    {
     "name": "stdout",
     "output_type": "stream",
     "text": [
      "(239, 71, 293, 112)\n",
      "(239, 71, 293, 112)\n",
      "(238, 71, 291, 110)\n",
      "(238, 71, 291, 110)\n",
      "(236, 71, 291, 110)\n",
      "(236, 71, 291, 110)\n",
      "(236, 71, 291, 110)\n"
     ]
    },
    {
     "name": "stderr",
     "output_type": "stream",
     "text": [
      "0: 320x640 14 cars, 4.3ms\n",
      "Speed: 1.0ms preprocess, 4.3ms inference, 1.1ms postprocess per image at shape (1, 3, 640, 640)\n",
      "\n",
      "0: 320x640 15 cars, 3.2ms\n",
      "Speed: 0.9ms preprocess, 3.2ms inference, 0.7ms postprocess per image at shape (1, 3, 640, 640)\n",
      "\n",
      "0: 320x640 15 cars, 3.1ms\n",
      "Speed: 0.9ms preprocess, 3.1ms inference, 1.1ms postprocess per image at shape (1, 3, 640, 640)\n",
      "\n",
      "0: 320x640 14 cars, 2.7ms\n",
      "Speed: 0.9ms preprocess, 2.7ms inference, 0.8ms postprocess per image at shape (1, 3, 640, 640)\n",
      "\n",
      "0: 320x640 14 cars, 3.2ms\n",
      "Speed: 1.0ms preprocess, 3.2ms inference, 1.1ms postprocess per image at shape (1, 3, 640, 640)\n",
      "\n",
      "0: 320x640 15 cars, 3.3ms\n",
      "Speed: 0.9ms preprocess, 3.3ms inference, 1.1ms postprocess per image at shape (1, 3, 640, 640)\n",
      "\n",
      "0: 320x640 15 cars, 2.8ms\n",
      "Speed: 1.0ms preprocess, 2.8ms inference, 0.7ms postprocess per image at shape (1, 3, 640, 640)\n"
     ]
    },
    {
     "name": "stdout",
     "output_type": "stream",
     "text": [
      "(236, 71, 291, 110)\n",
      "(234, 69, 288, 107)\n",
      "(234, 69, 288, 107)\n",
      "(233, 66, 287, 107)\n",
      "(233, 66, 287, 107)\n",
      "(231, 67, 283, 106)\n",
      "(231, 67, 283, 106)\n"
     ]
    },
    {
     "name": "stderr",
     "output_type": "stream",
     "text": [
      "\n",
      "0: 320x640 15 cars, 2.6ms\n",
      "Speed: 1.0ms preprocess, 2.6ms inference, 0.7ms postprocess per image at shape (1, 3, 640, 640)\n",
      "\n",
      "0: 320x640 15 cars, 3.6ms\n",
      "Speed: 0.9ms preprocess, 3.6ms inference, 1.1ms postprocess per image at shape (1, 3, 640, 640)\n",
      "\n",
      "0: 320x640 15 cars, 2.6ms\n",
      "Speed: 1.0ms preprocess, 2.6ms inference, 0.7ms postprocess per image at shape (1, 3, 640, 640)\n",
      "\n",
      "0: 320x640 15 cars, 2.6ms\n",
      "Speed: 0.9ms preprocess, 2.6ms inference, 0.7ms postprocess per image at shape (1, 3, 640, 640)\n",
      "\n",
      "0: 320x640 15 cars, 3.4ms\n",
      "Speed: 1.2ms preprocess, 3.4ms inference, 0.9ms postprocess per image at shape (1, 3, 640, 640)\n",
      "\n",
      "0: 320x640 15 cars, 2.6ms\n",
      "Speed: 1.0ms preprocess, 2.6ms inference, 0.7ms postprocess per image at shape (1, 3, 640, 640)\n",
      "\n",
      "0: 320x640 14 cars, 2.7ms\n",
      "Speed: 1.0ms preprocess, 2.7ms inference, 0.7ms postprocess per image at shape (1, 3, 640, 640)\n"
     ]
    },
    {
     "name": "stdout",
     "output_type": "stream",
     "text": [
      "(231, 66, 283, 105)\n",
      "(231, 66, 283, 105)\n",
      "(231, 64, 279, 104)\n",
      "(231, 64, 279, 104)\n",
      "(231, 64, 279, 104)\n",
      "(231, 64, 279, 104)\n",
      "(228, 62, 278, 103)\n"
     ]
    },
    {
     "name": "stderr",
     "output_type": "stream",
     "text": [
      "\n",
      "0: 320x640 13 cars, 2.8ms\n",
      "Speed: 0.9ms preprocess, 2.8ms inference, 0.7ms postprocess per image at shape (1, 3, 640, 640)\n",
      "\n",
      "0: 320x640 14 cars, 2.6ms\n",
      "Speed: 0.9ms preprocess, 2.6ms inference, 0.7ms postprocess per image at shape (1, 3, 640, 640)\n",
      "\n",
      "0: 320x640 14 cars, 2.6ms\n",
      "Speed: 1.0ms preprocess, 2.6ms inference, 0.9ms postprocess per image at shape (1, 3, 640, 640)\n",
      "\n",
      "0: 320x640 14 cars, 2.6ms\n",
      "Speed: 0.9ms preprocess, 2.6ms inference, 0.7ms postprocess per image at shape (1, 3, 640, 640)\n",
      "\n",
      "0: 320x640 14 cars, 2.7ms\n",
      "Speed: 1.2ms preprocess, 2.7ms inference, 0.7ms postprocess per image at shape (1, 3, 640, 640)\n",
      "\n",
      "0: 320x640 15 cars, 2.6ms\n",
      "Speed: 1.3ms preprocess, 2.6ms inference, 0.7ms postprocess per image at shape (1, 3, 640, 640)\n",
      "\n",
      "0: 320x640 15 cars, 2.9ms\n",
      "Speed: 0.9ms preprocess, 2.9ms inference, 1.4ms postprocess per image at shape (1, 3, 640, 640)\n"
     ]
    },
    {
     "name": "stdout",
     "output_type": "stream",
     "text": [
      "(227, 62, 278, 103)\n",
      "(227, 63, 278, 102)\n",
      "(227, 63, 278, 102)\n",
      "(223, 59, 276, 101)\n",
      "(223, 59, 276, 101)\n",
      "(222, 60, 275, 101)\n",
      "(222, 60, 275, 101)\n"
     ]
    },
    {
     "name": "stderr",
     "output_type": "stream",
     "text": [
      "\n",
      "0: 320x640 14 cars, 2.6ms\n",
      "Speed: 0.9ms preprocess, 2.6ms inference, 0.7ms postprocess per image at shape (1, 3, 640, 640)\n",
      "\n",
      "0: 320x640 14 cars, 2.5ms\n",
      "Speed: 0.9ms preprocess, 2.5ms inference, 0.7ms postprocess per image at shape (1, 3, 640, 640)\n",
      "\n",
      "0: 320x640 14 cars, 2.6ms\n",
      "Speed: 0.9ms preprocess, 2.6ms inference, 0.7ms postprocess per image at shape (1, 3, 640, 640)\n",
      "\n",
      "0: 320x640 14 cars, 2.6ms\n",
      "Speed: 1.2ms preprocess, 2.6ms inference, 0.7ms postprocess per image at shape (1, 3, 640, 640)\n",
      "\n",
      "0: 320x640 16 cars, 3.5ms\n",
      "Speed: 0.9ms preprocess, 3.5ms inference, 1.3ms postprocess per image at shape (1, 3, 640, 640)\n",
      "\n",
      "0: 320x640 16 cars, 2.6ms\n",
      "Speed: 0.9ms preprocess, 2.6ms inference, 1.7ms postprocess per image at shape (1, 3, 640, 640)\n",
      "\n",
      "0: 320x640 15 cars, 2.5ms\n",
      "Speed: 0.9ms preprocess, 2.5ms inference, 0.7ms postprocess per image at shape (1, 3, 640, 640)\n"
     ]
    },
    {
     "name": "stdout",
     "output_type": "stream",
     "text": [
      "(221, 58, 274, 99)\n",
      "(221, 59, 275, 99)\n",
      "(221, 59, 275, 99)\n",
      "(221, 59, 274, 99)\n",
      "(218, 57, 272, 97)\n",
      "(218, 58, 272, 97)\n",
      "(218, 57, 269, 97)\n"
     ]
    },
    {
     "name": "stderr",
     "output_type": "stream",
     "text": [
      "\n",
      "0: 320x640 15 cars, 2.5ms\n",
      "Speed: 0.9ms preprocess, 2.5ms inference, 0.7ms postprocess per image at shape (1, 3, 640, 640)\n",
      "\n",
      "0: 320x640 15 cars, 4.0ms\n",
      "Speed: 0.9ms preprocess, 4.0ms inference, 0.8ms postprocess per image at shape (1, 3, 640, 640)\n",
      "\n",
      "0: 320x640 15 cars, 3.3ms\n",
      "Speed: 0.9ms preprocess, 3.3ms inference, 1.1ms postprocess per image at shape (1, 3, 640, 640)\n",
      "\n",
      "0: 320x640 15 cars, 4.1ms\n",
      "Speed: 1.1ms preprocess, 4.1ms inference, 1.0ms postprocess per image at shape (1, 3, 640, 640)\n",
      "\n",
      "0: 320x640 15 cars, 4.1ms\n",
      "Speed: 1.0ms preprocess, 4.1ms inference, 1.1ms postprocess per image at shape (1, 3, 640, 640)\n",
      "\n",
      "0: 320x640 16 cars, 2.6ms\n",
      "Speed: 0.9ms preprocess, 2.6ms inference, 0.8ms postprocess per image at shape (1, 3, 640, 640)\n",
      "\n",
      "0: 320x640 16 cars, 3.7ms\n",
      "Speed: 0.9ms preprocess, 3.7ms inference, 1.1ms postprocess per image at shape (1, 3, 640, 640)\n"
     ]
    },
    {
     "name": "stdout",
     "output_type": "stream",
     "text": [
      "(218, 57, 269, 97)\n",
      "(216, 57, 269, 96)\n",
      "(216, 57, 269, 96)\n",
      "(217, 58, 267, 95)\n",
      "(216, 58, 267, 95)\n",
      "(216, 58, 266, 96)\n",
      "(216, 59, 266, 95)\n"
     ]
    },
    {
     "name": "stderr",
     "output_type": "stream",
     "text": [
      "\n",
      "0: 320x640 17 cars, 2.7ms\n",
      "Speed: 0.9ms preprocess, 2.7ms inference, 1.1ms postprocess per image at shape (1, 3, 640, 640)\n",
      "\n",
      "0: 320x640 17 cars, 3.5ms\n",
      "Speed: 1.0ms preprocess, 3.5ms inference, 1.0ms postprocess per image at shape (1, 3, 640, 640)\n",
      "\n",
      "0: 320x640 14 cars, 2.8ms\n",
      "Speed: 0.9ms preprocess, 2.8ms inference, 1.5ms postprocess per image at shape (1, 3, 640, 640)\n",
      "\n",
      "0: 320x640 14 cars, 2.6ms\n",
      "Speed: 0.9ms preprocess, 2.6ms inference, 0.7ms postprocess per image at shape (1, 3, 640, 640)\n",
      "\n",
      "0: 320x640 14 cars, 2.6ms\n",
      "Speed: 1.0ms preprocess, 2.6ms inference, 0.7ms postprocess per image at shape (1, 3, 640, 640)\n",
      "\n",
      "0: 320x640 13 cars, 2.6ms\n",
      "Speed: 0.9ms preprocess, 2.6ms inference, 0.7ms postprocess per image at shape (1, 3, 640, 640)\n",
      "\n",
      "0: 320x640 15 cars, 2.5ms\n",
      "Speed: 0.9ms preprocess, 2.5ms inference, 0.7ms postprocess per image at shape (1, 3, 640, 640)\n"
     ]
    },
    {
     "name": "stdout",
     "output_type": "stream",
     "text": [
      "(216, 59, 266, 95)\n",
      "(216, 59, 266, 95)\n",
      "(214, 52, 265, 94)\n",
      "(214, 52, 265, 94)\n",
      "(212, 51, 264, 93)\n",
      "(212, 51, 264, 93)\n",
      "(212, 51, 263, 92)\n"
     ]
    },
    {
     "name": "stderr",
     "output_type": "stream",
     "text": [
      "\n",
      "0: 320x640 15 cars, 2.6ms\n",
      "Speed: 0.9ms preprocess, 2.6ms inference, 0.7ms postprocess per image at shape (1, 3, 640, 640)\n",
      "\n",
      "0: 320x640 17 cars, 3.6ms\n",
      "Speed: 1.1ms preprocess, 3.6ms inference, 0.9ms postprocess per image at shape (1, 3, 640, 640)\n",
      "\n",
      "0: 320x640 15 cars, 3.3ms\n",
      "Speed: 0.9ms preprocess, 3.3ms inference, 0.7ms postprocess per image at shape (1, 3, 640, 640)\n",
      "\n",
      "0: 320x640 15 cars, 2.6ms\n",
      "Speed: 1.0ms preprocess, 2.6ms inference, 0.7ms postprocess per image at shape (1, 3, 640, 640)\n",
      "\n",
      "0: 320x640 14 cars, 3.4ms\n",
      "Speed: 0.9ms preprocess, 3.4ms inference, 0.9ms postprocess per image at shape (1, 3, 640, 640)\n",
      "\n",
      "0: 320x640 14 cars, 3.9ms\n",
      "Speed: 1.2ms preprocess, 3.9ms inference, 0.9ms postprocess per image at shape (1, 3, 640, 640)\n",
      "\n",
      "0: 320x640 14 cars, 4.4ms\n",
      "Speed: 1.2ms preprocess, 4.4ms inference, 1.0ms postprocess per image at shape (1, 3, 640, 640)\n"
     ]
    },
    {
     "name": "stdout",
     "output_type": "stream",
     "text": [
      "(212, 51, 263, 92)\n",
      "(212, 53, 261, 91)\n",
      "(212, 53, 261, 91)\n",
      "(209, 52, 261, 92)\n",
      "(209, 52, 261, 92)\n",
      "(209, 52, 261, 91)\n",
      "(209, 52, 261, 91)\n"
     ]
    },
    {
     "name": "stderr",
     "output_type": "stream",
     "text": [
      "\n",
      "0: 320x640 14 cars, 3.4ms\n",
      "Speed: 1.3ms preprocess, 3.4ms inference, 0.7ms postprocess per image at shape (1, 3, 640, 640)\n",
      "\n",
      "0: 320x640 14 cars, 3.0ms\n",
      "Speed: 0.9ms preprocess, 3.0ms inference, 0.7ms postprocess per image at shape (1, 3, 640, 640)\n",
      "\n",
      "0: 320x640 15 cars, 2.6ms\n",
      "Speed: 0.9ms preprocess, 2.6ms inference, 0.7ms postprocess per image at shape (1, 3, 640, 640)\n",
      "\n",
      "0: 320x640 15 cars, 2.6ms\n",
      "Speed: 0.9ms preprocess, 2.6ms inference, 0.7ms postprocess per image at shape (1, 3, 640, 640)\n",
      "\n",
      "0: 320x640 15 cars, 2.6ms\n",
      "Speed: 0.9ms preprocess, 2.6ms inference, 0.7ms postprocess per image at shape (1, 3, 640, 640)\n",
      "\n",
      "0: 320x640 15 cars, 2.6ms\n",
      "Speed: 1.0ms preprocess, 2.6ms inference, 0.7ms postprocess per image at shape (1, 3, 640, 640)\n",
      "\n",
      "0: 320x640 15 cars, 3.0ms\n",
      "Speed: 0.9ms preprocess, 3.0ms inference, 1.2ms postprocess per image at shape (1, 3, 640, 640)\n",
      "\n"
     ]
    },
    {
     "name": "stdout",
     "output_type": "stream",
     "text": [
      "(210, 49, 260, 91)\n",
      "(210, 49, 260, 91)\n",
      "(208, 49, 260, 91)\n",
      "(208, 49, 260, 91)\n",
      "(206, 48, 258, 91)\n",
      "(206, 48, 258, 91)\n",
      "(206, 49, 256, 90)\n"
     ]
    },
    {
     "name": "stderr",
     "output_type": "stream",
     "text": [
      "0: 320x640 15 cars, 2.6ms\n",
      "Speed: 1.0ms preprocess, 2.6ms inference, 0.7ms postprocess per image at shape (1, 3, 640, 640)\n",
      "\n",
      "0: 320x640 14 cars, 2.5ms\n",
      "Speed: 0.9ms preprocess, 2.5ms inference, 0.7ms postprocess per image at shape (1, 3, 640, 640)\n",
      "\n",
      "0: 320x640 14 cars, 2.6ms\n",
      "Speed: 0.9ms preprocess, 2.6ms inference, 0.7ms postprocess per image at shape (1, 3, 640, 640)\n",
      "\n",
      "0: 320x640 14 cars, 2.6ms\n",
      "Speed: 1.0ms preprocess, 2.6ms inference, 0.7ms postprocess per image at shape (1, 3, 640, 640)\n",
      "\n",
      "0: 320x640 14 cars, 3.6ms\n",
      "Speed: 0.9ms preprocess, 3.6ms inference, 0.7ms postprocess per image at shape (1, 3, 640, 640)\n",
      "\n",
      "0: 320x640 16 cars, 2.9ms\n",
      "Speed: 1.0ms preprocess, 2.9ms inference, 2.1ms postprocess per image at shape (1, 3, 640, 640)\n",
      "\n",
      "0: 320x640 16 cars, 4.3ms\n",
      "Speed: 1.0ms preprocess, 4.3ms inference, 1.2ms postprocess per image at shape (1, 3, 640, 640)\n"
     ]
    },
    {
     "name": "stdout",
     "output_type": "stream",
     "text": [
      "(206, 49, 256, 90)\n",
      "(205, 50, 256, 89)\n",
      "(205, 49, 256, 89)\n",
      "(205, 49, 256, 89)\n",
      "(205, 49, 257, 89)\n",
      "(203, 48, 254, 87)\n",
      "(203, 49, 254, 87)\n"
     ]
    },
    {
     "name": "stderr",
     "output_type": "stream",
     "text": [
      "\n",
      "0: 320x640 17 cars, 2.5ms\n",
      "Speed: 0.9ms preprocess, 2.5ms inference, 0.7ms postprocess per image at shape (1, 3, 640, 640)\n",
      "\n",
      "0: 320x640 17 cars, 4.1ms\n",
      "Speed: 1.0ms preprocess, 4.1ms inference, 1.0ms postprocess per image at shape (1, 3, 640, 640)\n",
      "\n",
      "0: 320x640 17 cars, 3.7ms\n",
      "Speed: 0.9ms preprocess, 3.7ms inference, 1.1ms postprocess per image at shape (1, 3, 640, 640)\n",
      "\n",
      "0: 320x640 17 cars, 2.6ms\n",
      "Speed: 0.9ms preprocess, 2.6ms inference, 0.7ms postprocess per image at shape (1, 3, 640, 640)\n",
      "\n",
      "0: 320x640 16 cars, 3.4ms\n",
      "Speed: 1.0ms preprocess, 3.4ms inference, 1.1ms postprocess per image at shape (1, 3, 640, 640)\n",
      "\n",
      "0: 320x640 17 cars, 2.7ms\n",
      "Speed: 1.0ms preprocess, 2.7ms inference, 0.7ms postprocess per image at shape (1, 3, 640, 640)\n",
      "\n",
      "0: 320x640 16 cars, 3.2ms\n",
      "Speed: 1.1ms preprocess, 3.2ms inference, 0.8ms postprocess per image at shape (1, 3, 640, 640)\n"
     ]
    },
    {
     "name": "stdout",
     "output_type": "stream",
     "text": [
      "(202, 48, 253, 86)\n",
      "(202, 48, 253, 86)\n",
      "(202, 50, 250, 85)\n",
      "(202, 50, 250, 85)\n",
      "(201, 49, 248, 85)\n",
      "(201, 49, 248, 85)\n",
      "(201, 47, 249, 84)\n"
     ]
    },
    {
     "name": "stderr",
     "output_type": "stream",
     "text": [
      "\n",
      "0: 320x640 17 cars, 3.2ms\n",
      "Speed: 1.2ms preprocess, 3.2ms inference, 0.9ms postprocess per image at shape (1, 3, 640, 640)\n",
      "\n",
      "0: 320x640 16 cars, 3.3ms\n",
      "Speed: 1.2ms preprocess, 3.3ms inference, 0.9ms postprocess per image at shape (1, 3, 640, 640)\n",
      "\n",
      "0: 320x640 17 cars, 3.2ms\n",
      "Speed: 1.2ms preprocess, 3.2ms inference, 0.9ms postprocess per image at shape (1, 3, 640, 640)\n",
      "\n",
      "0: 320x640 17 cars, 2.6ms\n",
      "Speed: 1.4ms preprocess, 2.6ms inference, 0.7ms postprocess per image at shape (1, 3, 640, 640)\n",
      "\n",
      "0: 320x640 17 cars, 2.6ms\n",
      "Speed: 1.0ms preprocess, 2.6ms inference, 0.7ms postprocess per image at shape (1, 3, 640, 640)\n",
      "\n",
      "0: 320x640 16 cars, 2.9ms\n",
      "Speed: 1.0ms preprocess, 2.9ms inference, 0.7ms postprocess per image at shape (1, 3, 640, 640)\n",
      "\n",
      "0: 320x640 16 cars, 2.6ms\n",
      "Speed: 1.0ms preprocess, 2.6ms inference, 1.9ms postprocess per image at shape (1, 3, 640, 640)\n"
     ]
    },
    {
     "name": "stdout",
     "output_type": "stream",
     "text": [
      "(201, 48, 249, 84)\n",
      "(201, 48, 249, 84)\n",
      "(201, 48, 249, 84)\n",
      "(197, 46, 248, 83)\n",
      "(197, 46, 248, 83)\n",
      "(193, 45, 246, 81)\n",
      "(193, 45, 247, 81)\n"
     ]
    },
    {
     "name": "stderr",
     "output_type": "stream",
     "text": [
      "\n",
      "0: 320x640 18 cars, 2.6ms\n",
      "Speed: 1.0ms preprocess, 2.6ms inference, 0.7ms postprocess per image at shape (1, 3, 640, 640)\n",
      "\n",
      "0: 320x640 17 cars, 2.6ms\n",
      "Speed: 1.0ms preprocess, 2.6ms inference, 0.7ms postprocess per image at shape (1, 3, 640, 640)\n",
      "\n",
      "0: 320x640 17 cars, 2.6ms\n",
      "Speed: 1.0ms preprocess, 2.6ms inference, 0.7ms postprocess per image at shape (1, 3, 640, 640)\n",
      "\n",
      "0: 320x640 17 cars, 2.7ms\n",
      "Speed: 1.0ms preprocess, 2.7ms inference, 0.8ms postprocess per image at shape (1, 3, 640, 640)\n",
      "\n",
      "0: 320x640 15 cars, 3.4ms\n",
      "Speed: 0.9ms preprocess, 3.4ms inference, 0.7ms postprocess per image at shape (1, 3, 640, 640)\n",
      "\n",
      "0: 320x640 16 cars, 2.6ms\n",
      "Speed: 0.9ms preprocess, 2.6ms inference, 0.7ms postprocess per image at shape (1, 3, 640, 640)\n",
      "\n",
      "0: 320x640 15 cars, 2.6ms\n",
      "Speed: 0.9ms preprocess, 2.6ms inference, 0.9ms postprocess per image at shape (1, 3, 640, 640)\n"
     ]
    },
    {
     "name": "stdout",
     "output_type": "stream",
     "text": [
      "(192, 42, 247, 81)\n",
      "(192, 42, 246, 81)\n",
      "(192, 42, 245, 81)\n",
      "(192, 42, 245, 81)\n",
      "(191, 38, 244, 80)\n",
      "(191, 38, 244, 80)\n",
      "(191, 38, 244, 80)\n"
     ]
    },
    {
     "name": "stderr",
     "output_type": "stream",
     "text": [
      "\n",
      "0: 320x640 15 cars, 2.6ms\n",
      "Speed: 1.2ms preprocess, 2.6ms inference, 0.7ms postprocess per image at shape (1, 3, 640, 640)\n",
      "\n",
      "0: 320x640 17 cars, 2.7ms\n",
      "Speed: 1.0ms preprocess, 2.7ms inference, 0.7ms postprocess per image at shape (1, 3, 640, 640)\n",
      "\n",
      "0: 320x640 17 cars, 2.6ms\n",
      "Speed: 1.0ms preprocess, 2.6ms inference, 0.7ms postprocess per image at shape (1, 3, 640, 640)\n",
      "\n",
      "0: 320x640 18 cars, 3.9ms\n",
      "Speed: 0.9ms preprocess, 3.9ms inference, 0.7ms postprocess per image at shape (1, 3, 640, 640)\n",
      "\n",
      "0: 320x640 18 cars, 4.4ms\n",
      "Speed: 2.0ms preprocess, 4.4ms inference, 1.1ms postprocess per image at shape (1, 3, 640, 640)\n",
      "\n",
      "0: 320x640 18 cars, 4.5ms\n",
      "Speed: 1.2ms preprocess, 4.5ms inference, 1.1ms postprocess per image at shape (1, 3, 640, 640)\n",
      "\n",
      "0: 320x640 18 cars, 4.6ms\n",
      "Speed: 1.0ms preprocess, 4.6ms inference, 1.2ms postprocess per image at shape (1, 3, 640, 640)\n"
     ]
    },
    {
     "name": "stdout",
     "output_type": "stream",
     "text": [
      "(191, 38, 244, 80)\n",
      "(190, 38, 243, 80)\n",
      "(190, 38, 243, 80)\n",
      "(188, 37, 242, 79)\n",
      "(188, 37, 242, 79)\n",
      "(186, 38, 239, 79)\n",
      "(186, 38, 239, 79)\n"
     ]
    },
    {
     "name": "stderr",
     "output_type": "stream",
     "text": [
      "\n",
      "0: 320x640 18 cars, 4.3ms\n",
      "Speed: 1.5ms preprocess, 4.3ms inference, 1.2ms postprocess per image at shape (1, 3, 640, 640)\n",
      "\n",
      "0: 320x640 18 cars, 4.2ms\n",
      "Speed: 1.4ms preprocess, 4.2ms inference, 1.0ms postprocess per image at shape (1, 3, 640, 640)\n",
      "\n",
      "0: 320x640 18 cars, 4.1ms\n",
      "Speed: 1.4ms preprocess, 4.1ms inference, 1.0ms postprocess per image at shape (1, 3, 640, 640)\n",
      "\n",
      "0: 320x640 18 cars, 4.5ms\n",
      "Speed: 1.4ms preprocess, 4.5ms inference, 1.0ms postprocess per image at shape (1, 3, 640, 640)\n",
      "\n",
      "0: 320x640 18 cars, 4.1ms\n",
      "Speed: 1.5ms preprocess, 4.1ms inference, 1.1ms postprocess per image at shape (1, 3, 640, 640)\n",
      "\n",
      "0: 320x640 18 cars, 4.2ms\n",
      "Speed: 1.4ms preprocess, 4.2ms inference, 1.1ms postprocess per image at shape (1, 3, 640, 640)\n"
     ]
    },
    {
     "name": "stdout",
     "output_type": "stream",
     "text": [
      "(186, 36, 238, 77)\n",
      "(186, 36, 238, 77)\n",
      "(184, 36, 236, 77)\n",
      "(184, 36, 236, 76)\n",
      "(184, 36, 236, 77)\n",
      "(184, 36, 236, 77)\n"
     ]
    },
    {
     "name": "stderr",
     "output_type": "stream",
     "text": [
      "\n",
      "0: 320x640 15 cars, 4.1ms\n",
      "Speed: 1.4ms preprocess, 4.1ms inference, 1.1ms postprocess per image at shape (1, 3, 640, 640)\n",
      "\n",
      "0: 320x640 15 cars, 4.1ms\n",
      "Speed: 1.5ms preprocess, 4.1ms inference, 1.0ms postprocess per image at shape (1, 3, 640, 640)\n",
      "\n",
      "0: 320x640 14 cars, 4.1ms\n",
      "Speed: 1.5ms preprocess, 4.1ms inference, 1.1ms postprocess per image at shape (1, 3, 640, 640)\n",
      "\n",
      "0: 320x640 14 cars, 4.1ms\n",
      "Speed: 1.4ms preprocess, 4.1ms inference, 1.1ms postprocess per image at shape (1, 3, 640, 640)\n",
      "\n",
      "0: 320x640 16 cars, 4.0ms\n",
      "Speed: 1.5ms preprocess, 4.0ms inference, 1.3ms postprocess per image at shape (1, 3, 640, 640)\n",
      "\n",
      "0: 320x640 15 cars, 4.5ms\n",
      "Speed: 1.4ms preprocess, 4.5ms inference, 1.6ms postprocess per image at shape (1, 3, 640, 640)\n"
     ]
    },
    {
     "name": "stdout",
     "output_type": "stream",
     "text": [
      "(183, 36, 236, 76)\n",
      "(183, 36, 236, 76)\n",
      "(182, 36, 235, 74)\n",
      "(182, 36, 235, 74)\n",
      "(180, 37, 231, 73)\n",
      "(180, 37, 231, 73)\n"
     ]
    },
    {
     "name": "stderr",
     "output_type": "stream",
     "text": [
      "\n",
      "0: 320x640 15 cars, 4.2ms\n",
      "Speed: 2.1ms preprocess, 4.2ms inference, 1.1ms postprocess per image at shape (1, 3, 640, 640)\n",
      "\n",
      "0: 320x640 14 cars, 4.1ms\n",
      "Speed: 1.5ms preprocess, 4.1ms inference, 1.1ms postprocess per image at shape (1, 3, 640, 640)\n",
      "\n",
      "0: 320x640 14 cars, 4.1ms\n",
      "Speed: 1.4ms preprocess, 4.1ms inference, 1.0ms postprocess per image at shape (1, 3, 640, 640)\n",
      "\n",
      "0: 320x640 14 cars, 4.1ms\n",
      "Speed: 1.4ms preprocess, 4.1ms inference, 1.1ms postprocess per image at shape (1, 3, 640, 640)\n",
      "\n",
      "0: 320x640 14 cars, 4.1ms\n",
      "Speed: 1.4ms preprocess, 4.1ms inference, 1.5ms postprocess per image at shape (1, 3, 640, 640)\n",
      "\n",
      "0: 320x640 14 cars, 4.5ms\n",
      "Speed: 1.5ms preprocess, 4.5ms inference, 1.1ms postprocess per image at shape (1, 3, 640, 640)\n"
     ]
    },
    {
     "name": "stdout",
     "output_type": "stream",
     "text": [
      "(181, 34, 233, 71)\n",
      "(182, 35, 233, 71)\n",
      "(179, 34, 234, 71)\n",
      "(179, 34, 233, 71)\n",
      "(179, 34, 233, 71)\n",
      "(179, 34, 233, 71)\n"
     ]
    },
    {
     "name": "stderr",
     "output_type": "stream",
     "text": [
      "\n",
      "0: 320x640 14 cars, 4.5ms\n",
      "Speed: 1.6ms preprocess, 4.5ms inference, 1.1ms postprocess per image at shape (1, 3, 640, 640)\n",
      "\n",
      "0: 320x640 14 cars, 3.3ms\n",
      "Speed: 1.3ms preprocess, 3.3ms inference, 0.9ms postprocess per image at shape (1, 3, 640, 640)\n",
      "\n",
      "0: 320x640 14 cars, 3.2ms\n",
      "Speed: 1.2ms preprocess, 3.2ms inference, 0.8ms postprocess per image at shape (1, 3, 640, 640)\n",
      "\n",
      "0: 320x640 14 cars, 3.2ms\n",
      "Speed: 1.2ms preprocess, 3.2ms inference, 0.8ms postprocess per image at shape (1, 3, 640, 640)\n",
      "\n",
      "0: 320x640 14 cars, 3.1ms\n",
      "Speed: 1.2ms preprocess, 3.1ms inference, 0.8ms postprocess per image at shape (1, 3, 640, 640)\n",
      "\n",
      "0: 320x640 14 cars, 3.2ms\n",
      "Speed: 1.2ms preprocess, 3.2ms inference, 0.8ms postprocess per image at shape (1, 3, 640, 640)\n",
      "\n",
      "0: 320x640 15 cars, 3.2ms\n",
      "Speed: 1.2ms preprocess, 3.2ms inference, 0.8ms postprocess per image at shape (1, 3, 640, 640)\n"
     ]
    },
    {
     "name": "stdout",
     "output_type": "stream",
     "text": [
      "(178, 34, 231, 67)\n",
      "(178, 34, 230, 67)\n",
      "(176, 32, 230, 66)\n",
      "(176, 32, 230, 66)\n",
      "(174, 32, 227, 65)\n",
      "(174, 32, 227, 65)\n"
     ]
    },
    {
     "name": "stderr",
     "output_type": "stream",
     "text": [
      "\n",
      "0: 320x640 15 cars, 3.2ms\n",
      "Speed: 1.2ms preprocess, 3.2ms inference, 0.8ms postprocess per image at shape (1, 3, 640, 640)\n",
      "\n",
      "0: 320x640 15 cars, 3.2ms\n",
      "Speed: 1.2ms preprocess, 3.2ms inference, 0.8ms postprocess per image at shape (1, 3, 640, 640)\n",
      "\n",
      "0: 320x640 16 cars, 2.5ms\n",
      "Speed: 0.9ms preprocess, 2.5ms inference, 0.7ms postprocess per image at shape (1, 3, 640, 640)\n",
      "\n",
      "0: 320x640 15 cars, 2.6ms\n",
      "Speed: 0.9ms preprocess, 2.6ms inference, 0.7ms postprocess per image at shape (1, 3, 640, 640)\n",
      "\n",
      "0: 320x640 15 cars, 3.3ms\n",
      "Speed: 1.2ms preprocess, 3.3ms inference, 0.9ms postprocess per image at shape (1, 3, 640, 640)\n",
      "\n",
      "0: 320x640 14 cars, 3.2ms\n",
      "Speed: 1.2ms preprocess, 3.2ms inference, 0.9ms postprocess per image at shape (1, 3, 640, 640)\n"
     ]
    },
    {
     "name": "stdout",
     "output_type": "stream",
     "text": [
      "(173, 33, 226, 66)\n",
      "(173, 33, 226, 65)\n",
      "(172, 31, 227, 65)\n",
      "(172, 31, 227, 65)\n",
      "(172, 32, 227, 65)\n",
      "(172, 32, 227, 65)\n",
      "(170, 31, 222, 66)\n"
     ]
    },
    {
     "name": "stderr",
     "output_type": "stream",
     "text": [
      "\n",
      "0: 320x640 14 cars, 3.3ms\n",
      "Speed: 1.2ms preprocess, 3.3ms inference, 0.8ms postprocess per image at shape (1, 3, 640, 640)\n",
      "\n",
      "0: 320x640 14 cars, 3.2ms\n",
      "Speed: 1.2ms preprocess, 3.2ms inference, 0.9ms postprocess per image at shape (1, 3, 640, 640)\n",
      "\n",
      "0: 320x640 14 cars, 3.3ms\n",
      "Speed: 1.2ms preprocess, 3.3ms inference, 0.8ms postprocess per image at shape (1, 3, 640, 640)\n",
      "\n",
      "0: 320x640 14 cars, 3.3ms\n",
      "Speed: 1.2ms preprocess, 3.3ms inference, 0.8ms postprocess per image at shape (1, 3, 640, 640)\n",
      "\n",
      "0: 320x640 14 cars, 3.2ms\n",
      "Speed: 1.2ms preprocess, 3.2ms inference, 0.8ms postprocess per image at shape (1, 3, 640, 640)\n",
      "\n",
      "0: 320x640 14 cars, 3.2ms\n",
      "Speed: 1.2ms preprocess, 3.2ms inference, 0.8ms postprocess per image at shape (1, 3, 640, 640)\n",
      "\n",
      "0: 320x640 14 cars, 3.2ms\n",
      "Speed: 1.2ms preprocess, 3.2ms inference, 0.8ms postprocess per image at shape (1, 3, 640, 640)\n"
     ]
    },
    {
     "name": "stdout",
     "output_type": "stream",
     "text": [
      "(170, 31, 222, 66)\n",
      "(170, 31, 221, 66)\n",
      "(170, 31, 221, 66)\n",
      "(171, 30, 220, 65)\n",
      "(171, 30, 220, 65)\n",
      "(169, 29, 219, 65)\n",
      "(169, 29, 219, 65)\n"
     ]
    },
    {
     "name": "stderr",
     "output_type": "stream",
     "text": [
      "\n",
      "0: 320x640 14 cars, 3.2ms\n",
      "Speed: 1.2ms preprocess, 3.2ms inference, 0.8ms postprocess per image at shape (1, 3, 640, 640)\n",
      "\n",
      "0: 320x640 14 cars, 3.3ms\n",
      "Speed: 1.2ms preprocess, 3.3ms inference, 0.8ms postprocess per image at shape (1, 3, 640, 640)\n",
      "\n",
      "0: 320x640 14 cars, 3.4ms\n",
      "Speed: 1.3ms preprocess, 3.4ms inference, 0.9ms postprocess per image at shape (1, 3, 640, 640)\n",
      "\n",
      "0: 320x640 14 cars, 3.3ms\n",
      "Speed: 1.2ms preprocess, 3.3ms inference, 0.9ms postprocess per image at shape (1, 3, 640, 640)\n",
      "\n",
      "0: 320x640 15 cars, 3.2ms\n",
      "Speed: 1.2ms preprocess, 3.2ms inference, 0.8ms postprocess per image at shape (1, 3, 640, 640)\n",
      "\n",
      "0: 320x640 15 cars, 3.2ms\n",
      "Speed: 1.2ms preprocess, 3.2ms inference, 0.9ms postprocess per image at shape (1, 3, 640, 640)\n",
      "\n",
      "0: 320x640 16 cars, 3.2ms\n",
      "Speed: 1.2ms preprocess, 3.2ms inference, 0.8ms postprocess per image at shape (1, 3, 640, 640)\n"
     ]
    },
    {
     "name": "stdout",
     "output_type": "stream",
     "text": [
      "(168, 29, 218, 64)\n",
      "(168, 29, 218, 64)\n",
      "(168, 28, 217, 64)\n",
      "(168, 28, 218, 64)\n",
      "(166, 27, 214, 63)\n",
      "(165, 27, 214, 63)\n",
      "(166, 26, 213, 62)\n"
     ]
    },
    {
     "name": "stderr",
     "output_type": "stream",
     "text": [
      "\n",
      "0: 320x640 15 cars, 3.2ms\n",
      "Speed: 1.2ms preprocess, 3.2ms inference, 0.8ms postprocess per image at shape (1, 3, 640, 640)\n",
      "\n",
      "0: 320x640 15 cars, 3.5ms\n",
      "Speed: 1.2ms preprocess, 3.5ms inference, 0.9ms postprocess per image at shape (1, 3, 640, 640)\n",
      "\n",
      "0: 320x640 15 cars, 3.2ms\n",
      "Speed: 1.2ms preprocess, 3.2ms inference, 0.9ms postprocess per image at shape (1, 3, 640, 640)\n",
      "\n",
      "0: 320x640 15 cars, 3.2ms\n",
      "Speed: 1.2ms preprocess, 3.2ms inference, 0.9ms postprocess per image at shape (1, 3, 640, 640)\n",
      "\n",
      "0: 320x640 15 cars, 3.2ms\n",
      "Speed: 1.2ms preprocess, 3.2ms inference, 0.8ms postprocess per image at shape (1, 3, 640, 640)\n",
      "\n",
      "0: 320x640 15 cars, 3.2ms\n",
      "Speed: 1.2ms preprocess, 3.2ms inference, 0.8ms postprocess per image at shape (1, 3, 640, 640)\n",
      "\n",
      "0: 320x640 15 cars, 3.2ms\n",
      "Speed: 1.2ms preprocess, 3.2ms inference, 0.8ms postprocess per image at shape (1, 3, 640, 640)\n"
     ]
    },
    {
     "name": "stdout",
     "output_type": "stream",
     "text": [
      "(166, 26, 213, 62)\n",
      "(165, 25, 211, 59)\n",
      "(165, 25, 211, 59)\n",
      "(163, 24, 214, 59)\n",
      "(163, 24, 214, 59)\n",
      "(163, 26, 211, 59)\n",
      "(163, 26, 211, 59)\n"
     ]
    },
    {
     "name": "stderr",
     "output_type": "stream",
     "text": [
      "\n",
      "0: 320x640 15 cars, 3.2ms\n",
      "Speed: 1.2ms preprocess, 3.2ms inference, 0.8ms postprocess per image at shape (1, 3, 640, 640)\n",
      "\n",
      "0: 320x640 15 cars, 3.2ms\n",
      "Speed: 1.2ms preprocess, 3.2ms inference, 0.8ms postprocess per image at shape (1, 3, 640, 640)\n",
      "\n",
      "0: 320x640 15 cars, 3.2ms\n",
      "Speed: 1.2ms preprocess, 3.2ms inference, 0.8ms postprocess per image at shape (1, 3, 640, 640)\n",
      "\n",
      "0: 320x640 15 cars, 3.2ms\n",
      "Speed: 1.2ms preprocess, 3.2ms inference, 0.9ms postprocess per image at shape (1, 3, 640, 640)\n",
      "\n",
      "0: 320x640 14 cars, 3.2ms\n",
      "Speed: 1.2ms preprocess, 3.2ms inference, 0.9ms postprocess per image at shape (1, 3, 640, 640)\n",
      "\n",
      "0: 320x640 14 cars, 3.5ms\n",
      "Speed: 1.2ms preprocess, 3.5ms inference, 0.9ms postprocess per image at shape (1, 3, 640, 640)\n",
      "\n",
      "0: 320x640 14 cars, 1 truck, 3.4ms\n",
      "Speed: 1.2ms preprocess, 3.4ms inference, 0.9ms postprocess per image at shape (1, 3, 640, 640)\n"
     ]
    },
    {
     "name": "stdout",
     "output_type": "stream",
     "text": [
      "(163, 26, 211, 59)\n",
      "(163, 26, 211, 59)\n",
      "(161, 23, 208, 59)\n",
      "(161, 23, 207, 59)\n",
      "(161, 23, 208, 57)\n",
      "(161, 23, 208, 57)\n"
     ]
    },
    {
     "name": "stderr",
     "output_type": "stream",
     "text": [
      "\n",
      "0: 320x640 14 cars, 1 truck, 2.6ms\n",
      "Speed: 1.0ms preprocess, 2.6ms inference, 0.7ms postprocess per image at shape (1, 3, 640, 640)\n",
      "\n",
      "0: 320x640 15 cars, 2.6ms\n",
      "Speed: 0.9ms preprocess, 2.6ms inference, 0.7ms postprocess per image at shape (1, 3, 640, 640)\n",
      "\n",
      "0: 320x640 15 cars, 2.6ms\n",
      "Speed: 0.9ms preprocess, 2.6ms inference, 0.7ms postprocess per image at shape (1, 3, 640, 640)\n",
      "\n",
      "0: 320x640 16 cars, 2.8ms\n",
      "Speed: 0.9ms preprocess, 2.8ms inference, 0.7ms postprocess per image at shape (1, 3, 640, 640)\n",
      "\n",
      "0: 320x640 16 cars, 4.0ms\n",
      "Speed: 1.3ms preprocess, 4.0ms inference, 1.3ms postprocess per image at shape (1, 3, 640, 640)\n",
      "\n",
      "0: 320x640 16 cars, 3.7ms\n",
      "Speed: 1.0ms preprocess, 3.7ms inference, 0.8ms postprocess per image at shape (1, 3, 640, 640)\n"
     ]
    },
    {
     "name": "stdout",
     "output_type": "stream",
     "text": [
      "(160, 24, 209, 56)\n",
      "(160, 24, 208, 56)\n",
      "(159, 24, 206, 56)\n",
      "(159, 24, 206, 56)\n",
      "(157, 24, 205, 57)\n",
      "(157, 24, 205, 57)\n",
      "(157, 24, 205, 57)\n"
     ]
    },
    {
     "name": "stderr",
     "output_type": "stream",
     "text": [
      "\n",
      "0: 320x640 16 cars, 3.0ms\n",
      "Speed: 0.9ms preprocess, 3.0ms inference, 1.0ms postprocess per image at shape (1, 3, 640, 640)\n",
      "\n",
      "0: 320x640 16 cars, 4.1ms\n",
      "Speed: 0.9ms preprocess, 4.1ms inference, 1.2ms postprocess per image at shape (1, 3, 640, 640)\n",
      "\n",
      "0: 320x640 17 cars, 3.1ms\n",
      "Speed: 1.0ms preprocess, 3.1ms inference, 1.0ms postprocess per image at shape (1, 3, 640, 640)\n",
      "\n",
      "0: 320x640 15 cars, 3.4ms\n",
      "Speed: 0.9ms preprocess, 3.4ms inference, 1.1ms postprocess per image at shape (1, 3, 640, 640)\n",
      "\n",
      "0: 320x640 15 cars, 2.8ms\n",
      "Speed: 1.0ms preprocess, 2.8ms inference, 1.1ms postprocess per image at shape (1, 3, 640, 640)\n",
      "\n",
      "0: 320x640 15 cars, 3.1ms\n",
      "Speed: 1.0ms preprocess, 3.1ms inference, 1.0ms postprocess per image at shape (1, 3, 640, 640)\n",
      "\n",
      "0: 320x640 15 cars, 3.3ms\n",
      "Speed: 1.0ms preprocess, 3.3ms inference, 1.1ms postprocess per image at shape (1, 3, 640, 640)\n"
     ]
    },
    {
     "name": "stdout",
     "output_type": "stream",
     "text": [
      "(157, 24, 205, 57)\n",
      "(157, 23, 203, 56)\n",
      "(157, 23, 203, 56)\n",
      "(157, 24, 201, 57)\n",
      "(157, 23, 201, 57)\n",
      "(157, 24, 201, 57)\n"
     ]
    },
    {
     "name": "stderr",
     "output_type": "stream",
     "text": [
      "\n",
      "0: 320x640 16 cars, 4.2ms\n",
      "Speed: 1.4ms preprocess, 4.2ms inference, 1.1ms postprocess per image at shape (1, 3, 640, 640)\n",
      "\n",
      "0: 320x640 16 cars, 4.1ms\n",
      "Speed: 1.5ms preprocess, 4.1ms inference, 1.0ms postprocess per image at shape (1, 3, 640, 640)\n",
      "\n",
      "0: 320x640 14 cars, 4.1ms\n",
      "Speed: 1.5ms preprocess, 4.1ms inference, 1.2ms postprocess per image at shape (1, 3, 640, 640)\n",
      "\n",
      "0: 320x640 14 cars, 4.1ms\n",
      "Speed: 1.4ms preprocess, 4.1ms inference, 1.1ms postprocess per image at shape (1, 3, 640, 640)\n",
      "\n",
      "0: 320x640 14 cars, 3.3ms\n",
      "Speed: 1.2ms preprocess, 3.3ms inference, 2.1ms postprocess per image at shape (1, 3, 640, 640)\n"
     ]
    },
    {
     "name": "stdout",
     "output_type": "stream",
     "text": [
      "(157, 24, 201, 57)\n",
      "(156, 22, 200, 57)\n",
      "(156, 22, 200, 56)\n",
      "(155, 21, 200, 57)\n",
      "(155, 21, 200, 57)\n",
      "(155, 21, 200, 57)\n"
     ]
    },
    {
     "name": "stderr",
     "output_type": "stream",
     "text": [
      "\n",
      "0: 320x640 14 cars, 3.4ms\n",
      "Speed: 1.2ms preprocess, 3.4ms inference, 1.3ms postprocess per image at shape (1, 3, 640, 640)\n",
      "\n",
      "0: 320x640 15 cars, 3.0ms\n",
      "Speed: 1.0ms preprocess, 3.0ms inference, 0.7ms postprocess per image at shape (1, 3, 640, 640)\n",
      "\n",
      "0: 320x640 15 cars, 2.9ms\n",
      "Speed: 1.2ms preprocess, 2.9ms inference, 1.3ms postprocess per image at shape (1, 3, 640, 640)\n",
      "\n",
      "0: 320x640 14 cars, 2.6ms\n",
      "Speed: 0.9ms preprocess, 2.6ms inference, 0.7ms postprocess per image at shape (1, 3, 640, 640)\n",
      "\n",
      "0: 320x640 16 cars, 2.6ms\n",
      "Speed: 1.2ms preprocess, 2.6ms inference, 0.7ms postprocess per image at shape (1, 3, 640, 640)\n",
      "\n",
      "0: 320x640 14 cars, 1 truck, 2.6ms\n",
      "Speed: 0.9ms preprocess, 2.6ms inference, 0.7ms postprocess per image at shape (1, 3, 640, 640)\n",
      "\n",
      "0: 320x640 14 cars, 1 truck, 2.6ms\n",
      "Speed: 0.9ms preprocess, 2.6ms inference, 0.7ms postprocess per image at shape (1, 3, 640, 640)\n"
     ]
    },
    {
     "name": "stdout",
     "output_type": "stream",
     "text": [
      "(155, 21, 200, 57)\n",
      "(152, 18, 198, 53)\n",
      "(152, 18, 198, 53)\n",
      "(150, 18, 196, 51)\n",
      "(150, 18, 196, 51)\n",
      "(149, 18, 197, 52)\n",
      "(149, 18, 197, 51)\n"
     ]
    },
    {
     "name": "stderr",
     "output_type": "stream",
     "text": [
      "\n",
      "0: 320x640 15 cars, 2.6ms\n",
      "Speed: 0.9ms preprocess, 2.6ms inference, 0.7ms postprocess per image at shape (1, 3, 640, 640)\n",
      "\n",
      "0: 320x640 15 cars, 2.8ms\n",
      "Speed: 1.0ms preprocess, 2.8ms inference, 1.2ms postprocess per image at shape (1, 3, 640, 640)\n",
      "\n",
      "0: 320x640 15 cars, 2.6ms\n",
      "Speed: 0.9ms preprocess, 2.6ms inference, 0.7ms postprocess per image at shape (1, 3, 640, 640)\n",
      "\n",
      "0: 320x640 15 cars, 2.6ms\n",
      "Speed: 0.9ms preprocess, 2.6ms inference, 0.8ms postprocess per image at shape (1, 3, 640, 640)\n",
      "\n",
      "0: 320x640 15 cars, 2.6ms\n",
      "Speed: 0.9ms preprocess, 2.6ms inference, 0.7ms postprocess per image at shape (1, 3, 640, 640)\n",
      "\n",
      "0: 320x640 15 cars, 3.7ms\n",
      "Speed: 1.4ms preprocess, 3.7ms inference, 0.7ms postprocess per image at shape (1, 3, 640, 640)\n",
      "\n",
      "0: 320x640 14 cars, 3.7ms\n",
      "Speed: 1.0ms preprocess, 3.7ms inference, 1.0ms postprocess per image at shape (1, 3, 640, 640)\n"
     ]
    },
    {
     "name": "stdout",
     "output_type": "stream",
     "text": [
      "(148, 17, 196, 51)\n",
      "(148, 17, 196, 51)\n",
      "(148, 17, 195, 50)\n",
      "(148, 17, 196, 50)\n",
      "(148, 17, 196, 50)\n",
      "(148, 17, 196, 51)\n"
     ]
    },
    {
     "name": "stderr",
     "output_type": "stream",
     "text": [
      "\n",
      "0: 320x640 14 cars, 2.7ms\n",
      "Speed: 0.9ms preprocess, 2.7ms inference, 0.7ms postprocess per image at shape (1, 3, 640, 640)\n",
      "\n",
      "0: 320x640 16 cars, 2.9ms\n",
      "Speed: 0.9ms preprocess, 2.9ms inference, 0.7ms postprocess per image at shape (1, 3, 640, 640)\n",
      "\n",
      "0: 320x640 16 cars, 2.9ms\n",
      "Speed: 1.0ms preprocess, 2.9ms inference, 0.8ms postprocess per image at shape (1, 3, 640, 640)\n"
     ]
    },
    {
     "name": "stdout",
     "output_type": "stream",
     "text": [
      "(148, 17, 196, 51)\n",
      "(148, 17, 196, 51)\n",
      "(148, 17, 196, 51)\n"
     ]
    },
    {
     "name": "stderr",
     "output_type": "stream",
     "text": [
      "\n",
      "0: 320x640 16 cars, 1 truck, 2.6ms\n",
      "Speed: 0.9ms preprocess, 2.6ms inference, 0.9ms postprocess per image at shape (1, 3, 640, 640)\n",
      "\n",
      "0: 320x640 16 cars, 1 truck, 2.8ms\n",
      "Speed: 0.9ms preprocess, 2.8ms inference, 0.7ms postprocess per image at shape (1, 3, 640, 640)\n",
      "\n",
      "0: 320x640 15 cars, 1 truck, 2.5ms\n",
      "Speed: 0.9ms preprocess, 2.5ms inference, 0.7ms postprocess per image at shape (1, 3, 640, 640)\n"
     ]
    },
    {
     "name": "stdout",
     "output_type": "stream",
     "text": [
      "(148, 17, 196, 51)\n",
      "(148, 17, 196, 51)\n",
      "(148, 17, 196, 51)\n"
     ]
    },
    {
     "name": "stderr",
     "output_type": "stream",
     "text": [
      "\n",
      "0: 320x640 16 cars, 1 truck, 2.5ms\n",
      "Speed: 0.9ms preprocess, 2.5ms inference, 0.7ms postprocess per image at shape (1, 3, 640, 640)\n",
      "\n",
      "0: 320x640 16 cars, 2.6ms\n",
      "Speed: 0.9ms preprocess, 2.6ms inference, 0.7ms postprocess per image at shape (1, 3, 640, 640)\n",
      "\n",
      "0: 320x640 16 cars, 2.6ms\n",
      "Speed: 1.0ms preprocess, 2.6ms inference, 0.7ms postprocess per image at shape (1, 3, 640, 640)\n",
      "\n",
      "0: 320x640 16 cars, 2.8ms\n",
      "Speed: 1.0ms preprocess, 2.8ms inference, 0.7ms postprocess per image at shape (1, 3, 640, 640)\n",
      "\n",
      "0: 320x640 16 cars, 2.6ms\n",
      "Speed: 0.9ms preprocess, 2.6ms inference, 1.9ms postprocess per image at shape (1, 3, 640, 640)\n"
     ]
    },
    {
     "name": "stdout",
     "output_type": "stream",
     "text": [
      "(197, 47, 247, 82)\n",
      "(197, 47, 247, 82)\n",
      "(200, 41, 249, 83)\n",
      "(200, 41, 249, 83)\n",
      "(200, 41, 249, 83)\n"
     ]
    },
    {
     "name": "stderr",
     "output_type": "stream",
     "text": [
      "\n",
      "0: 320x640 15 cars, 2.5ms\n",
      "Speed: 0.9ms preprocess, 2.5ms inference, 0.7ms postprocess per image at shape (1, 3, 640, 640)\n",
      "\n",
      "0: 320x640 15 cars, 2.6ms\n",
      "Speed: 1.0ms preprocess, 2.6ms inference, 0.7ms postprocess per image at shape (1, 3, 640, 640)\n",
      "\n",
      "0: 320x640 16 cars, 2.5ms\n",
      "Speed: 0.9ms preprocess, 2.5ms inference, 0.7ms postprocess per image at shape (1, 3, 640, 640)\n",
      "\n",
      "0: 320x640 16 cars, 2.6ms\n",
      "Speed: 0.9ms preprocess, 2.6ms inference, 0.7ms postprocess per image at shape (1, 3, 640, 640)\n",
      "\n",
      "0: 320x640 16 cars, 3.8ms\n",
      "Speed: 1.5ms preprocess, 3.8ms inference, 0.7ms postprocess per image at shape (1, 3, 640, 640)\n",
      "\n",
      "0: 320x640 16 cars, 4.0ms\n",
      "Speed: 0.9ms preprocess, 4.0ms inference, 1.1ms postprocess per image at shape (1, 3, 640, 640)\n"
     ]
    },
    {
     "name": "stdout",
     "output_type": "stream",
     "text": [
      "(200, 41, 249, 83)\n",
      "(199, 40, 247, 82)\n",
      "(199, 39, 247, 82)\n",
      "(198, 38, 246, 81)\n",
      "(198, 38, 246, 81)\n",
      "(198, 36, 247, 81)\n",
      "(198, 36, 247, 81)\n"
     ]
    },
    {
     "name": "stderr",
     "output_type": "stream",
     "text": [
      "\n",
      "0: 320x640 16 cars, 4.1ms\n",
      "Speed: 1.1ms preprocess, 4.1ms inference, 1.1ms postprocess per image at shape (1, 3, 640, 640)\n",
      "\n",
      "0: 320x640 16 cars, 2.9ms\n",
      "Speed: 0.9ms preprocess, 2.9ms inference, 0.7ms postprocess per image at shape (1, 3, 640, 640)\n",
      "\n",
      "0: 320x640 16 cars, 2.6ms\n",
      "Speed: 1.0ms preprocess, 2.6ms inference, 0.7ms postprocess per image at shape (1, 3, 640, 640)\n",
      "\n",
      "0: 320x640 16 cars, 2.6ms\n",
      "Speed: 1.0ms preprocess, 2.6ms inference, 0.7ms postprocess per image at shape (1, 3, 640, 640)\n",
      "\n",
      "0: 320x640 16 cars, 2.9ms\n",
      "Speed: 1.5ms preprocess, 2.9ms inference, 0.7ms postprocess per image at shape (1, 3, 640, 640)\n",
      "\n",
      "0: 320x640 16 cars, 3.0ms\n",
      "Speed: 1.0ms preprocess, 3.0ms inference, 1.3ms postprocess per image at shape (1, 3, 640, 640)\n"
     ]
    },
    {
     "name": "stdout",
     "output_type": "stream",
     "text": [
      "(198, 36, 247, 81)\n",
      "(191, 37, 240, 78)\n",
      "(194, 39, 243, 81)\n",
      "(194, 39, 243, 81)\n",
      "(194, 39, 243, 81)\n",
      "(194, 39, 243, 81)\n"
     ]
    },
    {
     "name": "stderr",
     "output_type": "stream",
     "text": [
      "\n",
      "0: 320x640 16 cars, 2.5ms\n",
      "Speed: 1.0ms preprocess, 2.5ms inference, 0.7ms postprocess per image at shape (1, 3, 640, 640)\n",
      "\n",
      "0: 320x640 16 cars, 2.5ms\n",
      "Speed: 0.9ms preprocess, 2.5ms inference, 0.7ms postprocess per image at shape (1, 3, 640, 640)\n"
     ]
    },
    {
     "name": "stdout",
     "output_type": "stream",
     "text": [
      "(194, 37, 241, 80)\n",
      "(194, 37, 242, 80)\n"
     ]
    },
    {
     "name": "stderr",
     "output_type": "stream",
     "text": [
      "\n",
      "0: 320x640 10 cars, 2.3ms\n",
      "Speed: 1.1ms preprocess, 2.3ms inference, 0.6ms postprocess per image at shape (1, 3, 640, 640)\n",
      "\n",
      "0: 320x640 10 cars, 2.5ms\n",
      "Speed: 0.9ms preprocess, 2.5ms inference, 0.7ms postprocess per image at shape (1, 3, 640, 640)\n",
      "\n",
      "0: 320x640 10 cars, 2.7ms\n",
      "Speed: 1.0ms preprocess, 2.7ms inference, 0.7ms postprocess per image at shape (1, 3, 640, 640)\n",
      "\n",
      "0: 320x640 8 cars, 2.6ms\n",
      "Speed: 1.0ms preprocess, 2.6ms inference, 0.7ms postprocess per image at shape (1, 3, 640, 640)\n",
      "\n",
      "0: 320x640 8 cars, 3.3ms\n",
      "Speed: 1.0ms preprocess, 3.3ms inference, 0.8ms postprocess per image at shape (1, 3, 640, 640)\n",
      "\n",
      "0: 320x640 8 cars, 2.5ms\n",
      "Speed: 0.9ms preprocess, 2.5ms inference, 0.7ms postprocess per image at shape (1, 3, 640, 640)\n",
      "\n",
      "0: 320x640 9 cars, 2.6ms\n",
      "Speed: 1.0ms preprocess, 2.6ms inference, 0.7ms postprocess per image at shape (1, 3, 640, 640)\n",
      "\n",
      "0: 320x640 7 cars, 3.4ms\n"
     ]
    },
    {
     "name": "stdout",
     "output_type": "stream",
     "text": [
      "(1383, 301, 1536, 375)\n",
      "(1386, 306, 1540, 369)\n",
      "(1386, 306, 1540, 369)\n",
      "(1384, 305, 1534, 370)\n",
      "(1384, 305, 1534, 369)\n",
      "(1370, 307, 1522, 369)\n",
      "(1371, 307, 1523, 369)\n"
     ]
    },
    {
     "name": "stderr",
     "output_type": "stream",
     "text": [
      "Speed: 1.0ms preprocess, 3.4ms inference, 0.7ms postprocess per image at shape (1, 3, 640, 640)\n",
      "\n",
      "0: 320x640 7 cars, 3.2ms\n",
      "Speed: 1.0ms preprocess, 3.2ms inference, 0.7ms postprocess per image at shape (1, 3, 640, 640)\n",
      "\n",
      "0: 320x640 7 cars, 2.6ms\n",
      "Speed: 0.9ms preprocess, 2.6ms inference, 0.7ms postprocess per image at shape (1, 3, 640, 640)\n",
      "\n",
      "0: 320x640 7 cars, 3.9ms\n",
      "Speed: 1.1ms preprocess, 3.9ms inference, 0.7ms postprocess per image at shape (1, 3, 640, 640)\n",
      "\n",
      "0: 320x640 8 cars, 2.6ms\n",
      "Speed: 1.0ms preprocess, 2.6ms inference, 0.7ms postprocess per image at shape (1, 3, 640, 640)\n",
      "\n",
      "0: 320x640 8 cars, 2.6ms\n",
      "Speed: 1.0ms preprocess, 2.6ms inference, 1.7ms postprocess per image at shape (1, 3, 640, 640)\n",
      "\n",
      "0: 320x640 8 cars, 3.6ms\n",
      "Speed: 0.9ms preprocess, 3.6ms inference, 0.9ms postprocess per image at shape (1, 3, 640, 640)\n",
      "\n",
      "0: 320x640 8 cars, 3.0ms\n",
      "Speed: 0.9ms preprocess, 3.0ms inference, 1.0ms postprocess per image at shape (1, 3, 640, 640)\n"
     ]
    },
    {
     "name": "stdout",
     "output_type": "stream",
     "text": [
      "(1364, 307, 1518, 371)\n",
      "(1365, 307, 1519, 371)\n",
      "(1355, 305, 1510, 373)\n",
      "(1355, 305, 1510, 373)\n",
      "(1341, 308, 1494, 374)\n",
      "(1339, 304, 1495, 374)\n",
      "(1339, 304, 1495, 374)\n"
     ]
    },
    {
     "name": "stderr",
     "output_type": "stream",
     "text": [
      "\n",
      "0: 320x640 8 cars, 3.0ms\n",
      "Speed: 1.1ms preprocess, 3.0ms inference, 1.1ms postprocess per image at shape (1, 3, 640, 640)\n",
      "\n",
      "0: 320x640 8 cars, 3.2ms\n",
      "Speed: 1.0ms preprocess, 3.2ms inference, 1.5ms postprocess per image at shape (1, 3, 640, 640)\n",
      "\n",
      "0: 320x640 7 cars, 1 truck, 3.5ms\n",
      "Speed: 1.0ms preprocess, 3.5ms inference, 1.1ms postprocess per image at shape (1, 3, 640, 640)\n",
      "\n",
      "0: 320x640 7 cars, 1 truck, 4.2ms\n",
      "Speed: 1.4ms preprocess, 4.2ms inference, 1.1ms postprocess per image at shape (1, 3, 640, 640)\n",
      "\n",
      "0: 320x640 7 cars, 1 truck, 4.1ms\n",
      "Speed: 1.4ms preprocess, 4.1ms inference, 2.2ms postprocess per image at shape (1, 3, 640, 640)\n",
      "\n",
      "0: 320x640 7 cars, 1 truck, 4.1ms\n",
      "Speed: 1.4ms preprocess, 4.1ms inference, 2.0ms postprocess per image at shape (1, 3, 640, 640)\n"
     ]
    },
    {
     "name": "stdout",
     "output_type": "stream",
     "text": [
      "(1339, 304, 1494, 374)\n",
      "(1334, 308, 1487, 374)\n",
      "(1335, 308, 1487, 374)\n",
      "(1330, 306, 1480, 375)\n",
      "(1330, 306, 1480, 375)\n",
      "(1326, 310, 1472, 375)\n",
      "(1327, 310, 1473, 375)\n"
     ]
    },
    {
     "name": "stderr",
     "output_type": "stream",
     "text": [
      "\n",
      "0: 320x640 8 cars, 2.5ms\n",
      "Speed: 0.9ms preprocess, 2.5ms inference, 0.7ms postprocess per image at shape (1, 3, 640, 640)\n",
      "\n",
      "0: 320x640 8 cars, 2.6ms\n",
      "Speed: 1.0ms preprocess, 2.6ms inference, 0.7ms postprocess per image at shape (1, 3, 640, 640)\n",
      "\n",
      "0: 320x640 9 cars, 2.6ms\n",
      "Speed: 0.9ms preprocess, 2.6ms inference, 0.7ms postprocess per image at shape (1, 3, 640, 640)\n",
      "\n",
      "0: 320x640 9 cars, 3.5ms\n",
      "Speed: 0.9ms preprocess, 3.5ms inference, 0.7ms postprocess per image at shape (1, 3, 640, 640)\n",
      "\n",
      "0: 320x640 9 cars, 2.6ms\n",
      "Speed: 0.9ms preprocess, 2.6ms inference, 0.7ms postprocess per image at shape (1, 3, 640, 640)\n",
      "\n",
      "0: 320x640 9 cars, 4.0ms\n",
      "Speed: 1.0ms preprocess, 4.0ms inference, 1.1ms postprocess per image at shape (1, 3, 640, 640)\n"
     ]
    },
    {
     "name": "stdout",
     "output_type": "stream",
     "text": [
      "(1321, 311, 1467, 374)\n",
      "(1321, 311, 1467, 374)\n",
      "(1309, 313, 1455, 376)\n",
      "(1308, 313, 1455, 376)\n",
      "(1308, 313, 1455, 376)\n",
      "(1308, 313, 1455, 376)\n"
     ]
    },
    {
     "name": "stderr",
     "output_type": "stream",
     "text": [
      "\n",
      "0: 320x640 9 cars, 2.7ms\n",
      "Speed: 1.0ms preprocess, 2.7ms inference, 0.8ms postprocess per image at shape (1, 3, 640, 640)\n",
      "\n",
      "0: 320x640 9 cars, 2.7ms\n",
      "Speed: 1.0ms preprocess, 2.7ms inference, 0.7ms postprocess per image at shape (1, 3, 640, 640)\n",
      "\n",
      "0: 320x640 9 cars, 2.7ms\n",
      "Speed: 1.0ms preprocess, 2.7ms inference, 0.8ms postprocess per image at shape (1, 3, 640, 640)\n",
      "\n",
      "0: 320x640 9 cars, 2.6ms\n",
      "Speed: 0.9ms preprocess, 2.6ms inference, 0.7ms postprocess per image at shape (1, 3, 640, 640)\n",
      "\n",
      "0: 320x640 8 cars, 2.6ms\n",
      "Speed: 0.9ms preprocess, 2.6ms inference, 0.7ms postprocess per image at shape (1, 3, 640, 640)\n"
     ]
    },
    {
     "name": "stdout",
     "output_type": "stream",
     "text": [
      "(1291, 315, 1445, 377)\n",
      "(1327, 315, 1447, 374)\n",
      "(1327, 315, 1447, 374)\n",
      "(1327, 315, 1447, 374)\n"
     ]
    },
    {
     "name": "stderr",
     "output_type": "stream",
     "text": [
      "\n",
      "0: 320x640 8 cars, 2.6ms\n",
      "Speed: 1.0ms preprocess, 2.6ms inference, 0.7ms postprocess per image at shape (1, 3, 640, 640)\n",
      "\n",
      "0: 320x640 8 cars, 2.8ms\n",
      "Speed: 0.9ms preprocess, 2.8ms inference, 0.7ms postprocess per image at shape (1, 3, 640, 640)\n",
      "\n",
      "0: 320x640 8 cars, 2.6ms\n",
      "Speed: 0.9ms preprocess, 2.6ms inference, 0.7ms postprocess per image at shape (1, 3, 640, 640)\n",
      "\n",
      "0: 320x640 8 cars, 2.5ms\n",
      "Speed: 0.9ms preprocess, 2.5ms inference, 0.7ms postprocess per image at shape (1, 3, 640, 640)\n"
     ]
    },
    {
     "name": "stdout",
     "output_type": "stream",
     "text": [
      "(1279, 316, 1432, 378)\n",
      "(1288, 315, 1434, 375)\n",
      "(1289, 315, 1427, 376)\n",
      "(1289, 315, 1427, 376)\n",
      "(1259, 317, 1410, 379)\n"
     ]
    },
    {
     "name": "stderr",
     "output_type": "stream",
     "text": [
      "\n",
      "0: 320x640 8 cars, 2.6ms\n",
      "Speed: 0.9ms preprocess, 2.6ms inference, 0.7ms postprocess per image at shape (1, 3, 640, 640)\n",
      "\n",
      "0: 320x640 8 cars, 2.6ms\n",
      "Speed: 1.1ms preprocess, 2.6ms inference, 0.7ms postprocess per image at shape (1, 3, 640, 640)\n",
      "\n",
      "0: 320x640 8 cars, 2.7ms\n",
      "Speed: 0.9ms preprocess, 2.7ms inference, 0.9ms postprocess per image at shape (1, 3, 640, 640)\n",
      "\n",
      "0: 320x640 9 cars, 2.6ms\n",
      "Speed: 1.0ms preprocess, 2.6ms inference, 1.7ms postprocess per image at shape (1, 3, 640, 640)\n"
     ]
    },
    {
     "name": "stdout",
     "output_type": "stream",
     "text": [
      "(1262, 316, 1412, 378)\n",
      "(1262, 316, 1412, 378)\n",
      "(1262, 316, 1412, 378)\n",
      "(1255, 318, 1405, 380)\n"
     ]
    },
    {
     "name": "stderr",
     "output_type": "stream",
     "text": [
      "\n",
      "0: 320x640 9 cars, 2.6ms\n",
      "Speed: 1.0ms preprocess, 2.6ms inference, 0.7ms postprocess per image at shape (1, 3, 640, 640)\n",
      "\n",
      "0: 320x640 9 cars, 2.6ms\n",
      "Speed: 0.9ms preprocess, 2.6ms inference, 0.7ms postprocess per image at shape (1, 3, 640, 640)\n",
      "\n",
      "0: 320x640 9 cars, 2.6ms\n",
      "Speed: 1.2ms preprocess, 2.6ms inference, 0.7ms postprocess per image at shape (1, 3, 640, 640)\n",
      "\n",
      "0: 320x640 8 cars, 2.6ms\n",
      "Speed: 0.9ms preprocess, 2.6ms inference, 0.7ms postprocess per image at shape (1, 3, 640, 640)\n",
      "\n",
      "0: 320x640 8 cars, 3.9ms\n",
      "Speed: 0.9ms preprocess, 3.9ms inference, 0.7ms postprocess per image at shape (1, 3, 640, 640)\n",
      "\n",
      "0: 320x640 8 cars, 3.6ms\n",
      "Speed: 0.9ms preprocess, 3.6ms inference, 1.0ms postprocess per image at shape (1, 3, 640, 640)\n",
      "\n",
      "0: 320x640 8 cars, 2.6ms\n",
      "Speed: 1.0ms preprocess, 2.6ms inference, 0.7ms postprocess per image at shape (1, 3, 640, 640)\n",
      "\n"
     ]
    },
    {
     "name": "stdout",
     "output_type": "stream",
     "text": [
      "(1250, 315, 1406, 386)\n",
      "(1245, 316, 1401, 382)\n",
      "(1245, 316, 1401, 382)\n",
      "(1236, 316, 1394, 381)\n",
      "(1237, 316, 1394, 381)\n",
      "(1235, 316, 1386, 383)\n",
      "(1236, 316, 1386, 382)\n"
     ]
    },
    {
     "name": "stderr",
     "output_type": "stream",
     "text": [
      "0: 320x640 8 cars, 3.9ms\n",
      "Speed: 1.1ms preprocess, 3.9ms inference, 1.4ms postprocess per image at shape (1, 3, 640, 640)\n",
      "\n",
      "0: 320x640 8 cars, 4.1ms\n",
      "Speed: 1.4ms preprocess, 4.1ms inference, 1.1ms postprocess per image at shape (1, 3, 640, 640)\n",
      "\n",
      "0: 320x640 8 cars, 4.1ms\n",
      "Speed: 1.4ms preprocess, 4.1ms inference, 1.1ms postprocess per image at shape (1, 3, 640, 640)\n",
      "\n",
      "0: 320x640 8 cars, 4.1ms\n",
      "Speed: 1.4ms preprocess, 4.1ms inference, 1.0ms postprocess per image at shape (1, 3, 640, 640)\n",
      "\n",
      "0: 320x640 7 cars, 2.5ms\n",
      "Speed: 0.9ms preprocess, 2.5ms inference, 0.7ms postprocess per image at shape (1, 3, 640, 640)\n"
     ]
    },
    {
     "name": "stdout",
     "output_type": "stream",
     "text": [
      "(1226, 316, 1373, 381)\n",
      "(1227, 316, 1373, 381)\n",
      "(1227, 316, 1373, 381)\n",
      "(1227, 316, 1373, 381)\n"
     ]
    },
    {
     "name": "stderr",
     "output_type": "stream",
     "text": [
      "\n",
      "0: 320x640 7 cars, 2.6ms\n",
      "Speed: 1.0ms preprocess, 2.6ms inference, 0.7ms postprocess per image at shape (1, 3, 640, 640)\n",
      "\n",
      "0: 320x640 8 cars, 3.0ms\n",
      "Speed: 0.9ms preprocess, 3.0ms inference, 0.7ms postprocess per image at shape (1, 3, 640, 640)\n",
      "\n",
      "0: 320x640 8 cars, 2.7ms\n",
      "Speed: 1.0ms preprocess, 2.7ms inference, 1.2ms postprocess per image at shape (1, 3, 640, 640)\n"
     ]
    },
    {
     "name": "stdout",
     "output_type": "stream",
     "text": [
      "(1227, 316, 1373, 381)\n",
      "(1227, 316, 1373, 381)\n",
      "(1227, 316, 1373, 381)\n",
      "(1227, 316, 1373, 381)\n"
     ]
    },
    {
     "name": "stderr",
     "output_type": "stream",
     "text": [
      "\n",
      "0: 320x640 9 cars, 2.9ms\n",
      "Speed: 0.9ms preprocess, 2.9ms inference, 1.2ms postprocess per image at shape (1, 3, 640, 640)\n",
      "\n",
      "0: 320x640 9 cars, 3.0ms\n",
      "Speed: 0.9ms preprocess, 3.0ms inference, 1.2ms postprocess per image at shape (1, 3, 640, 640)\n",
      "\n",
      "0: 320x640 9 cars, 2.6ms\n",
      "Speed: 0.9ms preprocess, 2.6ms inference, 0.7ms postprocess per image at shape (1, 3, 640, 640)\n",
      "\n",
      "0: 320x640 9 cars, 2.6ms\n",
      "Speed: 0.9ms preprocess, 2.6ms inference, 0.7ms postprocess per image at shape (1, 3, 640, 640)\n",
      "\n",
      "0: 320x640 9 cars, 2.6ms\n",
      "Speed: 0.9ms preprocess, 2.6ms inference, 0.7ms postprocess per image at shape (1, 3, 640, 640)\n",
      "\n",
      "0: 320x640 9 cars, 4.1ms\n",
      "Speed: 0.9ms preprocess, 4.1ms inference, 0.9ms postprocess per image at shape (1, 3, 640, 640)\n",
      "\n",
      "0: 320x640 8 cars, 2.5ms\n",
      "Speed: 0.9ms preprocess, 2.5ms inference, 0.7ms postprocess per image at shape (1, 3, 640, 640)\n",
      "\n"
     ]
    },
    {
     "name": "stdout",
     "output_type": "stream",
     "text": [
      "(1227, 316, 1373, 381)\n",
      "(1202, 318, 1351, 387)\n",
      "(1205, 319, 1344, 381)\n",
      "(1205, 319, 1343, 381)\n",
      "(1182, 320, 1332, 389)\n",
      "(1180, 320, 1330, 388)\n",
      "(1180, 320, 1330, 388)\n"
     ]
    },
    {
     "name": "stderr",
     "output_type": "stream",
     "text": [
      "0: 320x640 8 cars, 3.7ms\n",
      "Speed: 0.9ms preprocess, 3.7ms inference, 0.9ms postprocess per image at shape (1, 3, 640, 640)\n",
      "\n",
      "0: 320x640 8 cars, 3.7ms\n",
      "Speed: 1.0ms preprocess, 3.7ms inference, 1.0ms postprocess per image at shape (1, 3, 640, 640)\n",
      "\n",
      "0: 320x640 9 cars, 3.3ms\n",
      "Speed: 0.9ms preprocess, 3.3ms inference, 1.1ms postprocess per image at shape (1, 3, 640, 640)\n",
      "\n",
      "0: 320x640 9 cars, 4.2ms\n",
      "Speed: 1.4ms preprocess, 4.2ms inference, 1.1ms postprocess per image at shape (1, 3, 640, 640)\n",
      "\n",
      "0: 320x640 9 cars, 4.2ms\n",
      "Speed: 1.4ms preprocess, 4.2ms inference, 1.0ms postprocess per image at shape (1, 3, 640, 640)\n",
      "\n",
      "0: 320x640 10 cars, 4.7ms\n",
      "Speed: 1.4ms preprocess, 4.7ms inference, 1.3ms postprocess per image at shape (1, 3, 640, 640)\n",
      "\n"
     ]
    },
    {
     "name": "stdout",
     "output_type": "stream",
     "text": [
      "(1181, 320, 1330, 390)\n",
      "(1178, 320, 1320, 388)\n",
      "(1178, 320, 1320, 387)\n",
      "(1171, 322, 1317, 387)\n",
      "(1171, 322, 1316, 387)\n",
      "(1164, 323, 1309, 389)\n"
     ]
    },
    {
     "name": "stderr",
     "output_type": "stream",
     "text": [
      "0: 320x640 10 cars, 4.2ms\n",
      "Speed: 1.4ms preprocess, 4.2ms inference, 1.0ms postprocess per image at shape (1, 3, 640, 640)\n",
      "\n",
      "0: 320x640 8 cars, 4.1ms\n",
      "Speed: 1.4ms preprocess, 4.1ms inference, 1.1ms postprocess per image at shape (1, 3, 640, 640)\n",
      "\n",
      "0: 320x640 8 cars, 4.0ms\n",
      "Speed: 1.4ms preprocess, 4.0ms inference, 2.0ms postprocess per image at shape (1, 3, 640, 640)\n",
      "\n",
      "0: 320x640 8 cars, 4.6ms\n",
      "Speed: 1.4ms preprocess, 4.6ms inference, 1.0ms postprocess per image at shape (1, 3, 640, 640)\n",
      "\n",
      "0: 320x640 8 cars, 4.3ms\n",
      "Speed: 1.4ms preprocess, 4.3ms inference, 1.1ms postprocess per image at shape (1, 3, 640, 640)\n",
      "\n",
      "0: 320x640 8 cars, 4.2ms\n",
      "Speed: 1.4ms preprocess, 4.2ms inference, 1.1ms postprocess per image at shape (1, 3, 640, 640)\n",
      "\n",
      "0: 320x640 8 cars, 4.3ms\n",
      "Speed: 1.8ms preprocess, 4.3ms inference, 1.1ms postprocess per image at shape (1, 3, 640, 640)\n"
     ]
    },
    {
     "name": "stdout",
     "output_type": "stream",
     "text": [
      "(1164, 323, 1309, 389)\n",
      "(1156, 324, 1303, 390)\n",
      "(1156, 324, 1303, 390)\n",
      "(1140, 327, 1291, 390)\n",
      "(1140, 327, 1291, 390)\n",
      "(1140, 327, 1291, 390)\n"
     ]
    },
    {
     "name": "stderr",
     "output_type": "stream",
     "text": [
      "\n",
      "0: 320x640 8 cars, 4.2ms\n",
      "Speed: 1.3ms preprocess, 4.2ms inference, 1.0ms postprocess per image at shape (1, 3, 640, 640)\n",
      "\n",
      "0: 320x640 8 cars, 4.3ms\n",
      "Speed: 1.4ms preprocess, 4.3ms inference, 1.1ms postprocess per image at shape (1, 3, 640, 640)\n",
      "\n",
      "0: 320x640 8 cars, 4.1ms\n",
      "Speed: 1.5ms preprocess, 4.1ms inference, 1.0ms postprocess per image at shape (1, 3, 640, 640)\n",
      "\n",
      "0: 320x640 8 cars, 4.1ms\n",
      "Speed: 1.4ms preprocess, 4.1ms inference, 1.0ms postprocess per image at shape (1, 3, 640, 640)\n",
      "\n",
      "0: 320x640 8 cars, 4.1ms\n",
      "Speed: 1.4ms preprocess, 4.1ms inference, 1.0ms postprocess per image at shape (1, 3, 640, 640)\n",
      "\n",
      "0: 320x640 8 cars, 4.1ms\n",
      "Speed: 1.4ms preprocess, 4.1ms inference, 1.1ms postprocess per image at shape (1, 3, 640, 640)\n"
     ]
    },
    {
     "name": "stdout",
     "output_type": "stream",
     "text": [
      "(1140, 327, 1291, 389)\n",
      "(1132, 327, 1285, 391)\n",
      "(1132, 326, 1285, 391)\n",
      "(1129, 325, 1279, 392)\n",
      "(1129, 325, 1279, 392)\n",
      "(1121, 327, 1272, 389)\n"
     ]
    },
    {
     "name": "stderr",
     "output_type": "stream",
     "text": [
      "\n",
      "0: 320x640 8 cars, 4.1ms\n",
      "Speed: 1.3ms preprocess, 4.1ms inference, 1.0ms postprocess per image at shape (1, 3, 640, 640)\n",
      "\n",
      "0: 320x640 8 cars, 1 truck, 4.1ms\n",
      "Speed: 1.4ms preprocess, 4.1ms inference, 1.1ms postprocess per image at shape (1, 3, 640, 640)\n",
      "\n",
      "0: 320x640 8 cars, 1 truck, 4.1ms\n",
      "Speed: 1.3ms preprocess, 4.1ms inference, 1.1ms postprocess per image at shape (1, 3, 640, 640)\n",
      "\n",
      "0: 320x640 8 cars, 1 truck, 4.2ms\n",
      "Speed: 1.3ms preprocess, 4.2ms inference, 1.1ms postprocess per image at shape (1, 3, 640, 640)\n",
      "\n",
      "0: 320x640 8 cars, 1 truck, 4.1ms\n",
      "Speed: 0.9ms preprocess, 4.1ms inference, 1.0ms postprocess per image at shape (1, 3, 640, 640)\n",
      "\n",
      "0: 320x640 8 cars, 1 truck, 4.2ms\n",
      "Speed: 1.0ms preprocess, 4.2ms inference, 1.1ms postprocess per image at shape (1, 3, 640, 640)\n"
     ]
    },
    {
     "name": "stdout",
     "output_type": "stream",
     "text": [
      "(1120, 327, 1271, 389)\n",
      "(1122, 327, 1264, 386)\n",
      "(1121, 326, 1264, 386)\n",
      "(1110, 327, 1247, 390)\n",
      "(1110, 327, 1247, 390)\n",
      "(1110, 327, 1247, 390)\n",
      "(1110, 327, 1247, 390)\n"
     ]
    },
    {
     "name": "stderr",
     "output_type": "stream",
     "text": [
      "\n",
      "0: 320x640 8 cars, 1 truck, 2.8ms\n",
      "Speed: 1.5ms preprocess, 2.8ms inference, 0.7ms postprocess per image at shape (1, 3, 640, 640)\n",
      "\n",
      "0: 320x640 8 cars, 1 truck, 4.1ms\n",
      "Speed: 1.5ms preprocess, 4.1ms inference, 0.9ms postprocess per image at shape (1, 3, 640, 640)\n",
      "\n",
      "0: 320x640 8 cars, 1 truck, 4.0ms\n",
      "Speed: 1.2ms preprocess, 4.0ms inference, 0.8ms postprocess per image at shape (1, 3, 640, 640)\n",
      "\n",
      "0: 320x640 8 cars, 1 truck, 4.1ms\n",
      "Speed: 1.2ms preprocess, 4.1ms inference, 0.9ms postprocess per image at shape (1, 3, 640, 640)\n",
      "\n",
      "0: 320x640 8 cars, 1 truck, 3.3ms\n",
      "Speed: 1.5ms preprocess, 3.3ms inference, 0.8ms postprocess per image at shape (1, 3, 640, 640)\n",
      "\n",
      "0: 320x640 8 cars, 1 truck, 2.6ms\n",
      "Speed: 0.9ms preprocess, 2.6ms inference, 0.7ms postprocess per image at shape (1, 3, 640, 640)\n",
      "\n",
      "0: 320x640 8 cars, 2.7ms\n",
      "Speed: 0.9ms preprocess, 2.7ms inference, 0.7ms postprocess per image at shape (1, 3, 640, 640)\n"
     ]
    },
    {
     "name": "stdout",
     "output_type": "stream",
     "text": [
      "(1110, 328, 1246, 389)\n",
      "(1115, 327, 1244, 382)\n",
      "(1111, 327, 1235, 381)\n",
      "(1110, 327, 1235, 380)\n",
      "(1109, 328, 1232, 387)\n",
      "(1109, 329, 1232, 387)\n",
      "(1077, 328, 1225, 396)\n"
     ]
    },
    {
     "name": "stderr",
     "output_type": "stream",
     "text": [
      "\n",
      "0: 320x640 8 cars, 2.7ms\n",
      "Speed: 1.0ms preprocess, 2.7ms inference, 0.7ms postprocess per image at shape (1, 3, 640, 640)\n",
      "\n",
      "0: 320x640 8 cars, 1 truck, 3.7ms\n",
      "Speed: 0.9ms preprocess, 3.7ms inference, 0.7ms postprocess per image at shape (1, 3, 640, 640)\n",
      "\n",
      "0: 320x640 8 cars, 1 truck, 2.6ms\n",
      "Speed: 0.9ms preprocess, 2.6ms inference, 0.7ms postprocess per image at shape (1, 3, 640, 640)\n",
      "\n",
      "0: 320x640 8 cars, 1 truck, 2.7ms\n",
      "Speed: 0.9ms preprocess, 2.7ms inference, 1.0ms postprocess per image at shape (1, 3, 640, 640)\n",
      "\n",
      "0: 320x640 8 cars, 1 truck, 2.6ms\n",
      "Speed: 0.9ms preprocess, 2.6ms inference, 0.7ms postprocess per image at shape (1, 3, 640, 640)\n",
      "\n",
      "0: 320x640 8 cars, 2.7ms\n",
      "Speed: 0.9ms preprocess, 2.7ms inference, 0.7ms postprocess per image at shape (1, 3, 640, 640)\n",
      "\n",
      "0: 320x640 8 cars, 2.7ms\n",
      "Speed: 0.9ms preprocess, 2.7ms inference, 0.7ms postprocess per image at shape (1, 3, 640, 640)\n",
      "\n",
      "0: 320x640 8 cars, 1 truck, 2.7ms\n",
      "Speed: 1.0ms preprocess, 2.7ms inference, 0.7ms postprocess per image at shape (1, 3, 640, 640)\n"
     ]
    },
    {
     "name": "stdout",
     "output_type": "stream",
     "text": [
      "(1078, 328, 1225, 396)\n",
      "(1061, 330, 1212, 395)\n",
      "(1061, 330, 1212, 395)\n",
      "(1061, 330, 1212, 395)\n",
      "(1061, 330, 1212, 395)\n",
      "(1054, 328, 1207, 400)\n",
      "(1054, 328, 1207, 399)\n"
     ]
    },
    {
     "name": "stderr",
     "output_type": "stream",
     "text": [
      "\n",
      "0: 320x640 8 cars, 1 truck, 2.6ms\n",
      "Speed: 1.0ms preprocess, 2.6ms inference, 0.7ms postprocess per image at shape (1, 3, 640, 640)\n",
      "\n",
      "0: 320x640 8 cars, 1 truck, 3.0ms\n",
      "Speed: 0.9ms preprocess, 3.0ms inference, 0.7ms postprocess per image at shape (1, 3, 640, 640)\n",
      "\n",
      "0: 320x640 8 cars, 1 truck, 2.7ms\n",
      "Speed: 1.0ms preprocess, 2.7ms inference, 0.7ms postprocess per image at shape (1, 3, 640, 640)\n",
      "\n",
      "0: 320x640 7 cars, 1 truck, 2.6ms\n",
      "Speed: 0.9ms preprocess, 2.6ms inference, 0.7ms postprocess per image at shape (1, 3, 640, 640)\n",
      "\n",
      "0: 320x640 7 cars, 1 truck, 4.2ms\n",
      "Speed: 1.0ms preprocess, 4.2ms inference, 0.9ms postprocess per image at shape (1, 3, 640, 640)\n",
      "\n",
      "0: 320x640 7 cars, 4.2ms\n",
      "Speed: 1.0ms preprocess, 4.2ms inference, 1.0ms postprocess per image at shape (1, 3, 640, 640)\n",
      "\n"
     ]
    },
    {
     "name": "stdout",
     "output_type": "stream",
     "text": [
      "(1046, 329, 1200, 397)\n",
      "(1047, 329, 1200, 398)\n",
      "(1050, 329, 1190, 393)\n",
      "(1050, 328, 1190, 393)\n",
      "(1033, 330, 1182, 397)\n",
      "(1033, 330, 1182, 397)\n",
      "(1037, 329, 1172, 391)\n"
     ]
    },
    {
     "name": "stderr",
     "output_type": "stream",
     "text": [
      "0: 320x640 7 cars, 4.2ms\n",
      "Speed: 1.4ms preprocess, 4.2ms inference, 1.1ms postprocess per image at shape (1, 3, 640, 640)\n",
      "\n",
      "0: 320x640 7 cars, 2.6ms\n",
      "Speed: 1.0ms preprocess, 2.6ms inference, 0.7ms postprocess per image at shape (1, 3, 640, 640)\n",
      "\n",
      "0: 320x640 7 cars, 2.6ms\n",
      "Speed: 0.9ms preprocess, 2.6ms inference, 0.7ms postprocess per image at shape (1, 3, 640, 640)\n",
      "\n",
      "0: 320x640 7 cars, 2.6ms\n",
      "Speed: 1.0ms preprocess, 2.6ms inference, 0.7ms postprocess per image at shape (1, 3, 640, 640)\n",
      "\n",
      "0: 320x640 7 cars, 3.7ms\n",
      "Speed: 0.9ms preprocess, 3.7ms inference, 1.0ms postprocess per image at shape (1, 3, 640, 640)\n",
      "\n",
      "0: 320x640 7 cars, 2.6ms\n",
      "Speed: 0.9ms preprocess, 2.6ms inference, 1.7ms postprocess per image at shape (1, 3, 640, 640)\n",
      "\n",
      "0: 320x640 7 cars, 3.0ms\n",
      "Speed: 0.9ms preprocess, 3.0ms inference, 1.1ms postprocess per image at shape (1, 3, 640, 640)\n",
      "\n"
     ]
    },
    {
     "name": "stdout",
     "output_type": "stream",
     "text": [
      "(1038, 329, 1172, 390)\n",
      "(1038, 329, 1172, 390)\n",
      "(1038, 329, 1172, 390)\n",
      "(1031, 329, 1164, 393)\n",
      "(1031, 329, 1164, 393)\n",
      "(1006, 329, 1160, 398)\n",
      "(1006, 329, 1160, 398)\n"
     ]
    },
    {
     "name": "stderr",
     "output_type": "stream",
     "text": [
      "0: 320x640 7 cars, 2.8ms\n",
      "Speed: 0.9ms preprocess, 2.8ms inference, 0.7ms postprocess per image at shape (1, 3, 640, 640)\n",
      "\n",
      "0: 320x640 7 cars, 2.7ms\n",
      "Speed: 0.9ms preprocess, 2.7ms inference, 1.1ms postprocess per image at shape (1, 3, 640, 640)\n",
      "\n",
      "0: 320x640 7 cars, 2.7ms\n",
      "Speed: 0.9ms preprocess, 2.7ms inference, 0.8ms postprocess per image at shape (1, 3, 640, 640)\n",
      "\n",
      "0: 320x640 7 cars, 3.3ms\n",
      "Speed: 0.9ms preprocess, 3.3ms inference, 1.1ms postprocess per image at shape (1, 3, 640, 640)\n",
      "\n",
      "0: 320x640 7 cars, 2.7ms\n",
      "Speed: 0.9ms preprocess, 2.7ms inference, 0.7ms postprocess per image at shape (1, 3, 640, 640)\n",
      "\n",
      "0: 320x640 7 cars, 2.6ms\n",
      "Speed: 0.9ms preprocess, 2.6ms inference, 0.7ms postprocess per image at shape (1, 3, 640, 640)\n",
      "\n",
      "0: 320x640 7 cars, 4.0ms\n",
      "Speed: 1.2ms preprocess, 4.0ms inference, 1.0ms postprocess per image at shape (1, 3, 640, 640)\n",
      "\n"
     ]
    },
    {
     "name": "stdout",
     "output_type": "stream",
     "text": [
      "(1004, 329, 1148, 395)\n",
      "(1004, 329, 1148, 395)\n",
      "(1004, 329, 1146, 392)\n",
      "(1004, 329, 1146, 391)\n",
      "(998, 330, 1137, 394)\n",
      "(998, 330, 1138, 394)\n",
      "(998, 330, 1137, 393)\n"
     ]
    },
    {
     "name": "stderr",
     "output_type": "stream",
     "text": [
      "0: 320x640 7 cars, 3.0ms\n",
      "Speed: 0.9ms preprocess, 3.0ms inference, 0.7ms postprocess per image at shape (1, 3, 640, 640)\n",
      "\n",
      "0: 320x640 7 cars, 2.6ms\n",
      "Speed: 1.0ms preprocess, 2.6ms inference, 0.9ms postprocess per image at shape (1, 3, 640, 640)\n",
      "\n",
      "0: 320x640 7 cars, 2.7ms\n",
      "Speed: 0.9ms preprocess, 2.7ms inference, 0.7ms postprocess per image at shape (1, 3, 640, 640)\n",
      "\n",
      "0: 320x640 7 cars, 2.6ms\n",
      "Speed: 0.9ms preprocess, 2.6ms inference, 0.7ms postprocess per image at shape (1, 3, 640, 640)\n",
      "\n",
      "0: 320x640 7 cars, 3.1ms\n",
      "Speed: 0.9ms preprocess, 3.1ms inference, 1.2ms postprocess per image at shape (1, 3, 640, 640)\n",
      "\n",
      "0: 320x640 7 cars, 2.6ms\n",
      "Speed: 1.0ms preprocess, 2.6ms inference, 0.8ms postprocess per image at shape (1, 3, 640, 640)\n",
      "\n",
      "0: 320x640 7 cars, 2.7ms\n",
      "Speed: 1.0ms preprocess, 2.7ms inference, 0.8ms postprocess per image at shape (1, 3, 640, 640)\n",
      "\n",
      "0: 320x640 7 cars, 2.7ms\n",
      "Speed: 0.9ms preprocess, 2.7ms inference, 0.7ms postprocess per image at shape (1, 3, 640, 640)\n"
     ]
    },
    {
     "name": "stdout",
     "output_type": "stream",
     "text": [
      "(998, 330, 1137, 393)\n",
      "(998, 330, 1128, 385)\n",
      "(998, 330, 1128, 386)\n",
      "(996, 330, 1124, 396)\n",
      "(996, 330, 1124, 396)\n",
      "(998, 331, 1117, 391)\n",
      "(999, 332, 1117, 390)\n"
     ]
    },
    {
     "name": "stderr",
     "output_type": "stream",
     "text": [
      "\n",
      "0: 320x640 7 cars, 2.6ms\n",
      "Speed: 0.9ms preprocess, 2.6ms inference, 0.7ms postprocess per image at shape (1, 3, 640, 640)\n",
      "\n",
      "0: 320x640 7 cars, 1 truck, 2.6ms\n",
      "Speed: 0.9ms preprocess, 2.6ms inference, 0.7ms postprocess per image at shape (1, 3, 640, 640)\n",
      "\n",
      "0: 320x640 7 cars, 2.7ms\n",
      "Speed: 0.9ms preprocess, 2.7ms inference, 0.7ms postprocess per image at shape (1, 3, 640, 640)\n",
      "\n",
      "0: 320x640 8 cars, 2.6ms\n",
      "Speed: 1.0ms preprocess, 2.6ms inference, 0.7ms postprocess per image at shape (1, 3, 640, 640)\n"
     ]
    },
    {
     "name": "stdout",
     "output_type": "stream",
     "text": [
      "(995, 330, 1110, 389)\n",
      "(995, 329, 1110, 390)\n",
      "(995, 329, 1110, 390)\n",
      "(995, 329, 1110, 390)\n"
     ]
    },
    {
     "name": "stderr",
     "output_type": "stream",
     "text": [
      "\n",
      "0: 320x640 8 cars, 3.0ms\n",
      "Speed: 1.0ms preprocess, 3.0ms inference, 0.7ms postprocess per image at shape (1, 3, 640, 640)\n",
      "\n",
      "0: 320x640 7 cars, 3.0ms\n",
      "Speed: 1.0ms preprocess, 3.0ms inference, 1.8ms postprocess per image at shape (1, 3, 640, 640)\n",
      "\n",
      "0: 320x640 7 cars, 2.6ms\n",
      "Speed: 0.9ms preprocess, 2.6ms inference, 0.7ms postprocess per image at shape (1, 3, 640, 640)\n",
      "\n",
      "0: 320x640 7 cars, 2.7ms\n",
      "Speed: 1.0ms preprocess, 2.7ms inference, 0.7ms postprocess per image at shape (1, 3, 640, 640)\n"
     ]
    },
    {
     "name": "stdout",
     "output_type": "stream",
     "text": [
      "(938, 328, 1099, 396)\n",
      "(939, 330, 1093, 399)\n",
      "(939, 330, 1093, 399)\n",
      "(939, 330, 1093, 399)\n"
     ]
    },
    {
     "name": "stderr",
     "output_type": "stream",
     "text": [
      "\n",
      "0: 320x640 7 cars, 3.4ms\n",
      "Speed: 1.2ms preprocess, 3.4ms inference, 0.9ms postprocess per image at shape (1, 3, 640, 640)\n",
      "\n",
      "0: 320x640 9 cars, 1 truck, 2.7ms\n",
      "Speed: 1.0ms preprocess, 2.7ms inference, 0.7ms postprocess per image at shape (1, 3, 640, 640)\n",
      "\n",
      "0: 320x640 9 cars, 1 truck, 2.8ms\n",
      "Speed: 1.0ms preprocess, 2.8ms inference, 1.1ms postprocess per image at shape (1, 3, 640, 640)\n"
     ]
    },
    {
     "name": "stdout",
     "output_type": "stream",
     "text": [
      "(939, 330, 1093, 399)\n",
      "(939, 330, 1093, 399)\n",
      "(917, 329, 1080, 397)\n"
     ]
    },
    {
     "name": "stderr",
     "output_type": "stream",
     "text": [
      "\n",
      "0: 320x640 8 cars, 2.8ms\n",
      "Speed: 1.2ms preprocess, 2.8ms inference, 0.8ms postprocess per image at shape (1, 3, 640, 640)\n",
      "\n",
      "0: 320x640 8 cars, 3.3ms\n",
      "Speed: 1.0ms preprocess, 3.3ms inference, 1.5ms postprocess per image at shape (1, 3, 640, 640)\n",
      "\n",
      "0: 320x640 7 cars, 1 truck, 2.5ms\n",
      "Speed: 0.9ms preprocess, 2.5ms inference, 0.8ms postprocess per image at shape (1, 3, 640, 640)\n",
      "\n",
      "0: 320x640 7 cars, 1 truck, 2.6ms\n",
      "Speed: 0.9ms preprocess, 2.6ms inference, 0.7ms postprocess per image at shape (1, 3, 640, 640)\n",
      "\n",
      "0: 320x640 7 cars, 1 truck, 4.1ms\n",
      "Speed: 1.1ms preprocess, 4.1ms inference, 0.9ms postprocess per image at shape (1, 3, 640, 640)\n",
      "\n",
      "0: 320x640 7 cars, 1 truck, 4.6ms\n",
      "Speed: 0.9ms preprocess, 4.6ms inference, 0.9ms postprocess per image at shape (1, 3, 640, 640)\n",
      "\n"
     ]
    },
    {
     "name": "stdout",
     "output_type": "stream",
     "text": [
      "(920, 330, 1078, 395)\n",
      "(913, 333, 1077, 394)\n",
      "(913, 333, 1077, 394)\n",
      "(902, 331, 1064, 393)\n",
      "(902, 331, 1063, 393)\n",
      "(901, 331, 1063, 393)\n",
      "(901, 331, 1064, 393)\n"
     ]
    },
    {
     "name": "stderr",
     "output_type": "stream",
     "text": [
      "0: 320x640 8 cars, 1 truck, 2.8ms\n",
      "Speed: 0.9ms preprocess, 2.8ms inference, 0.7ms postprocess per image at shape (1, 3, 640, 640)\n",
      "\n",
      "0: 320x640 8 cars, 1 truck, 3.7ms\n",
      "Speed: 0.9ms preprocess, 3.7ms inference, 0.7ms postprocess per image at shape (1, 3, 640, 640)\n",
      "\n",
      "0: 320x640 8 cars, 1 truck, 2.6ms\n",
      "Speed: 0.9ms preprocess, 2.6ms inference, 0.7ms postprocess per image at shape (1, 3, 640, 640)\n",
      "\n",
      "0: 320x640 8 cars, 1 truck, 2.6ms\n",
      "Speed: 0.9ms preprocess, 2.6ms inference, 0.7ms postprocess per image at shape (1, 3, 640, 640)\n",
      "\n",
      "0: 320x640 7 cars, 1 truck, 2.6ms\n",
      "Speed: 1.0ms preprocess, 2.6ms inference, 0.7ms postprocess per image at shape (1, 3, 640, 640)\n",
      "\n",
      "0: 320x640 7 cars, 2 trucks, 2.9ms\n",
      "Speed: 0.9ms preprocess, 2.9ms inference, 1.9ms postprocess per image at shape (1, 3, 640, 640)\n",
      "\n",
      "0: 320x640 9 cars, 2.6ms\n",
      "Speed: 0.9ms preprocess, 2.6ms inference, 0.7ms postprocess per image at shape (1, 3, 640, 640)\n"
     ]
    },
    {
     "name": "stdout",
     "output_type": "stream",
     "text": [
      "(894, 330, 1054, 394)\n",
      "(894, 330, 1054, 394)\n",
      "(888, 331, 1048, 391)\n",
      "(888, 331, 1049, 391)\n",
      "(886, 329, 1048, 391)\n",
      "(888, 330, 1045, 391)\n"
     ]
    },
    {
     "name": "stderr",
     "output_type": "stream",
     "text": [
      "\n",
      "0: 320x640 9 cars, 2.6ms\n",
      "Speed: 0.9ms preprocess, 2.6ms inference, 0.7ms postprocess per image at shape (1, 3, 640, 640)\n",
      "\n",
      "0: 320x640 7 cars, 2.6ms\n",
      "Speed: 0.9ms preprocess, 2.6ms inference, 0.7ms postprocess per image at shape (1, 3, 640, 640)\n",
      "\n",
      "0: 320x640 7 cars, 2.6ms\n",
      "Speed: 1.4ms preprocess, 2.6ms inference, 0.7ms postprocess per image at shape (1, 3, 640, 640)\n",
      "\n",
      "0: 320x640 7 cars, 2.6ms\n",
      "Speed: 0.9ms preprocess, 2.6ms inference, 0.7ms postprocess per image at shape (1, 3, 640, 640)\n",
      "\n",
      "0: 320x640 7 cars, 2.6ms\n",
      "Speed: 0.9ms preprocess, 2.6ms inference, 0.7ms postprocess per image at shape (1, 3, 640, 640)\n",
      "\n",
      "0: 320x640 7 cars, 1 truck, 4.1ms\n",
      "Speed: 1.0ms preprocess, 4.1ms inference, 0.7ms postprocess per image at shape (1, 3, 640, 640)\n"
     ]
    },
    {
     "name": "stdout",
     "output_type": "stream",
     "text": [
      "(879, 328, 1040, 391)\n",
      "(879, 327, 1043, 392)\n",
      "(870, 327, 1028, 392)\n",
      "(870, 327, 1028, 392)\n",
      "(869, 327, 1028, 392)\n",
      "(870, 327, 1028, 392)\n"
     ]
    },
    {
     "name": "stderr",
     "output_type": "stream",
     "text": [
      "\n",
      "0: 320x640 7 cars, 1 truck, 2.6ms\n",
      "Speed: 0.9ms preprocess, 2.6ms inference, 0.7ms postprocess per image at shape (1, 3, 640, 640)\n",
      "\n",
      "0: 320x640 7 cars, 1 truck, 2.6ms\n",
      "Speed: 1.1ms preprocess, 2.6ms inference, 0.7ms postprocess per image at shape (1, 3, 640, 640)\n",
      "\n",
      "0: 320x640 7 cars, 1 truck, 2.9ms\n",
      "Speed: 0.9ms preprocess, 2.9ms inference, 1.2ms postprocess per image at shape (1, 3, 640, 640)\n",
      "\n",
      "0: 320x640 7 cars, 1 truck, 2.6ms\n",
      "Speed: 0.9ms preprocess, 2.6ms inference, 0.9ms postprocess per image at shape (1, 3, 640, 640)\n",
      "\n",
      "0: 320x640 6 cars, 1 truck, 2.6ms\n",
      "Speed: 1.0ms preprocess, 2.6ms inference, 0.7ms postprocess per image at shape (1, 3, 640, 640)\n",
      "\n"
     ]
    },
    {
     "name": "stdout",
     "output_type": "stream",
     "text": [
      "(870, 327, 1028, 392)\n",
      "(870, 327, 1028, 392)\n",
      "(865, 328, 1017, 391)\n",
      "(865, 328, 1017, 391)\n",
      "(856, 327, 1009, 391)\n",
      "(856, 327, 1009, 391)\n"
     ]
    },
    {
     "name": "stderr",
     "output_type": "stream",
     "text": [
      "0: 320x640 6 cars, 1 truck, 2.7ms\n",
      "Speed: 1.6ms preprocess, 2.7ms inference, 0.7ms postprocess per image at shape (1, 3, 640, 640)\n",
      "\n",
      "0: 320x640 6 cars, 1 truck, 2.6ms\n",
      "Speed: 0.9ms preprocess, 2.6ms inference, 1.9ms postprocess per image at shape (1, 3, 640, 640)\n",
      "\n",
      "0: 320x640 5 cars, 1 truck, 4.2ms\n",
      "Speed: 1.3ms preprocess, 4.2ms inference, 0.9ms postprocess per image at shape (1, 3, 640, 640)\n",
      "\n",
      "0: 320x640 5 cars, 1 truck, 2.5ms\n",
      "Speed: 0.9ms preprocess, 2.5ms inference, 1.6ms postprocess per image at shape (1, 3, 640, 640)\n",
      "\n",
      "0: 320x640 5 cars, 1 truck, 2.5ms\n",
      "Speed: 0.9ms preprocess, 2.5ms inference, 0.7ms postprocess per image at shape (1, 3, 640, 640)\n"
     ]
    },
    {
     "name": "stdout",
     "output_type": "stream",
     "text": [
      "(853, 326, 1005, 392)\n",
      "(851, 326, 1003, 389)\n",
      "(851, 326, 1003, 389)\n",
      "(838, 326, 999, 392)\n"
     ]
    },
    {
     "name": "stderr",
     "output_type": "stream",
     "text": [
      "\n",
      "0: 320x640 5 cars, 1 truck, 2.6ms\n",
      "Speed: 0.9ms preprocess, 2.6ms inference, 0.7ms postprocess per image at shape (1, 3, 640, 640)\n",
      "\n",
      "0: 320x640 6 cars, 1 truck, 2.6ms\n",
      "Speed: 0.9ms preprocess, 2.6ms inference, 0.7ms postprocess per image at shape (1, 3, 640, 640)\n",
      "\n",
      "0: 320x640 6 cars, 1 truck, 2.6ms\n",
      "Speed: 0.9ms preprocess, 2.6ms inference, 0.7ms postprocess per image at shape (1, 3, 640, 640)\n",
      "\n",
      "0: 320x640 5 cars, 2.6ms\n",
      "Speed: 0.9ms preprocess, 2.6ms inference, 0.7ms postprocess per image at shape (1, 3, 640, 640)\n"
     ]
    },
    {
     "name": "stdout",
     "output_type": "stream",
     "text": [
      "(838, 326, 999, 392)\n",
      "(838, 326, 999, 392)\n",
      "(838, 326, 999, 392)\n",
      "(838, 327, 983, 392)\n",
      "(836, 326, 977, 391)\n"
     ]
    },
    {
     "name": "stderr",
     "output_type": "stream",
     "text": [
      "\n",
      "0: 320x640 6 cars, 2.6ms\n",
      "Speed: 1.0ms preprocess, 2.6ms inference, 0.7ms postprocess per image at shape (1, 3, 640, 640)\n",
      "\n",
      "0: 320x640 5 cars, 2.6ms\n",
      "Speed: 0.9ms preprocess, 2.6ms inference, 0.7ms postprocess per image at shape (1, 3, 640, 640)\n",
      "\n",
      "0: 320x640 5 cars, 2.6ms\n",
      "Speed: 0.9ms preprocess, 2.6ms inference, 0.7ms postprocess per image at shape (1, 3, 640, 640)\n",
      "\n",
      "0: 320x640 6 cars, 3.0ms\n",
      "Speed: 0.9ms preprocess, 3.0ms inference, 1.1ms postprocess per image at shape (1, 3, 640, 640)\n",
      "\n",
      "0: 320x640 6 cars, 2.8ms\n",
      "Speed: 0.9ms preprocess, 2.8ms inference, 1.0ms postprocess per image at shape (1, 3, 640, 640)\n",
      "\n",
      "0: 320x640 4 cars, 1 truck, 3.3ms\n",
      "Speed: 0.9ms preprocess, 3.3ms inference, 1.1ms postprocess per image at shape (1, 3, 640, 640)\n",
      "\n",
      "0: 320x640 5 cars, 1 truck, 4.2ms\n",
      "Speed: 1.1ms preprocess, 4.2ms inference, 1.4ms postprocess per image at shape (1, 3, 640, 640)\n",
      "\n"
     ]
    },
    {
     "name": "stdout",
     "output_type": "stream",
     "text": [
      "(836, 326, 977, 391)\n",
      "(842, 324, 972, 390)\n",
      "(842, 324, 972, 390)\n",
      "(836, 323, 974, 390)\n",
      "(835, 323, 974, 390)\n",
      "(790, 326, 968, 388)\n",
      "(794, 325, 966, 393)\n"
     ]
    },
    {
     "name": "stderr",
     "output_type": "stream",
     "text": [
      "0: 320x640 5 cars, 1 truck, 4.3ms\n",
      "Speed: 0.9ms preprocess, 4.3ms inference, 1.1ms postprocess per image at shape (1, 3, 640, 640)\n",
      "\n",
      "0: 320x640 5 cars, 1 truck, 4.1ms\n",
      "Speed: 1.0ms preprocess, 4.1ms inference, 1.1ms postprocess per image at shape (1, 3, 640, 640)\n",
      "\n",
      "0: 320x640 6 cars, 1 truck, 4.0ms\n",
      "Speed: 1.3ms preprocess, 4.0ms inference, 1.0ms postprocess per image at shape (1, 3, 640, 640)\n",
      "\n",
      "0: 320x640 6 cars, 1 truck, 4.0ms\n",
      "Speed: 1.4ms preprocess, 4.0ms inference, 1.1ms postprocess per image at shape (1, 3, 640, 640)\n",
      "\n",
      "0: 320x640 5 cars, 4.1ms\n",
      "Speed: 1.4ms preprocess, 4.1ms inference, 2.1ms postprocess per image at shape (1, 3, 640, 640)\n",
      "\n",
      "0: 320x640 5 cars, 4.5ms\n",
      "Speed: 1.4ms preprocess, 4.5ms inference, 1.6ms postprocess per image at shape (1, 3, 640, 640)\n",
      "\n",
      "0: 320x640 6 cars, 4.5ms\n",
      "Speed: 1.3ms preprocess, 4.5ms inference, 1.6ms postprocess per image at shape (1, 3, 640, 640)\n"
     ]
    },
    {
     "name": "stdout",
     "output_type": "stream",
     "text": [
      "(794, 325, 965, 393)\n",
      "(830, 324, 963, 387)\n",
      "(806, 323, 957, 383)\n",
      "(804, 323, 957, 383)\n",
      "(790, 323, 946, 380)\n",
      "(788, 322, 948, 384)\n"
     ]
    },
    {
     "name": "stderr",
     "output_type": "stream",
     "text": [
      "\n",
      "0: 320x640 6 cars, 4.7ms\n",
      "Speed: 1.4ms preprocess, 4.7ms inference, 1.1ms postprocess per image at shape (1, 3, 640, 640)\n",
      "\n",
      "0: 320x640 5 cars, 4.9ms\n",
      "Speed: 1.4ms preprocess, 4.9ms inference, 1.1ms postprocess per image at shape (1, 3, 640, 640)\n",
      "\n",
      "0: 320x640 5 cars, 4.5ms\n",
      "Speed: 1.4ms preprocess, 4.5ms inference, 1.1ms postprocess per image at shape (1, 3, 640, 640)\n",
      "\n",
      "0: 320x640 5 cars, 4.5ms\n",
      "Speed: 1.4ms preprocess, 4.5ms inference, 1.1ms postprocess per image at shape (1, 3, 640, 640)\n",
      "\n",
      "0: 320x640 5 cars, 4.7ms\n",
      "Speed: 1.4ms preprocess, 4.7ms inference, 1.1ms postprocess per image at shape (1, 3, 640, 640)\n",
      "\n",
      "0: 320x640 5 cars, 4.2ms\n",
      "Speed: 1.4ms preprocess, 4.2ms inference, 1.8ms postprocess per image at shape (1, 3, 640, 640)\n"
     ]
    },
    {
     "name": "stdout",
     "output_type": "stream",
     "text": [
      "(784, 321, 942, 387)\n",
      "(784, 321, 942, 387)\n",
      "(780, 321, 941, 384)\n",
      "(780, 321, 940, 384)\n",
      "(774, 320, 925, 384)\n",
      "(773, 320, 926, 387)\n",
      "(773, 320, 926, 387)\n"
     ]
    },
    {
     "name": "stderr",
     "output_type": "stream",
     "text": [
      "\n",
      "0: 320x640 5 cars, 4.5ms\n",
      "Speed: 1.4ms preprocess, 4.5ms inference, 1.7ms postprocess per image at shape (1, 3, 640, 640)\n",
      "\n",
      "0: 320x640 7 cars, 4.3ms\n",
      "Speed: 1.3ms preprocess, 4.3ms inference, 1.7ms postprocess per image at shape (1, 3, 640, 640)\n",
      "\n",
      "0: 320x640 7 cars, 4.2ms\n",
      "Speed: 1.4ms preprocess, 4.2ms inference, 1.1ms postprocess per image at shape (1, 3, 640, 640)\n",
      "\n",
      "0: 320x640 9 cars, 4.1ms\n",
      "Speed: 1.5ms preprocess, 4.1ms inference, 1.2ms postprocess per image at shape (1, 3, 640, 640)\n",
      "\n",
      "0: 320x640 9 cars, 4.3ms\n",
      "Speed: 1.6ms preprocess, 4.3ms inference, 1.1ms postprocess per image at shape (1, 3, 640, 640)\n",
      "\n",
      "0: 320x640 6 cars, 4.1ms\n",
      "Speed: 1.4ms preprocess, 4.1ms inference, 1.1ms postprocess per image at shape (1, 3, 640, 640)\n",
      "\n"
     ]
    },
    {
     "name": "stdout",
     "output_type": "stream",
     "text": [
      "(773, 320, 926, 387)\n",
      "(769, 319, 924, 388)\n",
      "(769, 319, 924, 388)\n",
      "(764, 319, 920, 384)\n",
      "(764, 319, 920, 384)\n",
      "(758, 318, 911, 383)\n"
     ]
    },
    {
     "name": "stderr",
     "output_type": "stream",
     "text": [
      "0: 320x640 6 cars, 4.5ms\n",
      "Speed: 1.4ms preprocess, 4.5ms inference, 1.1ms postprocess per image at shape (1, 3, 640, 640)\n",
      "\n",
      "0: 320x640 6 cars, 1 truck, 4.3ms\n",
      "Speed: 1.4ms preprocess, 4.3ms inference, 1.1ms postprocess per image at shape (1, 3, 640, 640)\n",
      "\n",
      "0: 320x640 6 cars, 1 truck, 4.4ms\n",
      "Speed: 1.5ms preprocess, 4.4ms inference, 1.1ms postprocess per image at shape (1, 3, 640, 640)\n",
      "\n",
      "0: 320x640 5 cars, 1 truck, 3.3ms\n",
      "Speed: 1.3ms preprocess, 3.3ms inference, 0.9ms postprocess per image at shape (1, 3, 640, 640)\n",
      "\n",
      "0: 320x640 5 cars, 1 truck, 3.9ms\n",
      "Speed: 1.0ms preprocess, 3.9ms inference, 1.1ms postprocess per image at shape (1, 3, 640, 640)\n",
      "\n",
      "0: 320x640 5 cars, 1 truck, 4.4ms\n",
      "Speed: 1.4ms preprocess, 4.4ms inference, 1.1ms postprocess per image at shape (1, 3, 640, 640)\n",
      "\n",
      "0: 320x640 5 cars, 1 truck, 4.2ms\n",
      "Speed: 1.4ms preprocess, 4.2ms inference, 1.1ms postprocess per image at shape (1, 3, 640, 640)\n"
     ]
    },
    {
     "name": "stdout",
     "output_type": "stream",
     "text": [
      "(758, 318, 911, 383)\n",
      "(752, 317, 905, 381)\n",
      "(752, 317, 905, 380)\n",
      "(745, 318, 897, 375)\n",
      "(745, 318, 897, 375)\n",
      "(746, 318, 897, 375)\n"
     ]
    },
    {
     "name": "stderr",
     "output_type": "stream",
     "text": [
      "\n",
      "0: 320x640 6 cars, 1 truck, 4.3ms\n",
      "Speed: 1.4ms preprocess, 4.3ms inference, 1.2ms postprocess per image at shape (1, 3, 640, 640)\n",
      "\n",
      "0: 320x640 6 cars, 1 truck, 4.5ms\n",
      "Speed: 1.5ms preprocess, 4.5ms inference, 1.2ms postprocess per image at shape (1, 3, 640, 640)\n",
      "\n",
      "0: 320x640 5 cars, 1 truck, 4.2ms\n",
      "Speed: 1.4ms preprocess, 4.2ms inference, 1.1ms postprocess per image at shape (1, 3, 640, 640)\n",
      "\n",
      "0: 320x640 5 cars, 1 truck, 4.2ms\n",
      "Speed: 1.4ms preprocess, 4.2ms inference, 1.1ms postprocess per image at shape (1, 3, 640, 640)\n",
      "\n",
      "0: 320x640 4 cars, 1 truck, 4.3ms\n",
      "Speed: 1.4ms preprocess, 4.3ms inference, 1.0ms postprocess per image at shape (1, 3, 640, 640)\n",
      "\n",
      "0: 320x640 4 cars, 1 truck, 4.3ms\n",
      "Speed: 1.4ms preprocess, 4.3ms inference, 1.1ms postprocess per image at shape (1, 3, 640, 640)\n"
     ]
    },
    {
     "name": "stdout",
     "output_type": "stream",
     "text": [
      "(747, 317, 895, 374)\n",
      "(739, 315, 894, 374)\n",
      "(739, 315, 894, 373)\n",
      "(733, 313, 887, 373)\n",
      "(733, 313, 888, 373)\n",
      "(730, 312, 881, 373)\n"
     ]
    },
    {
     "name": "stderr",
     "output_type": "stream",
     "text": [
      "\n",
      "0: 320x640 6 cars, 1 truck, 3.3ms\n",
      "Speed: 1.2ms preprocess, 3.3ms inference, 0.9ms postprocess per image at shape (1, 3, 640, 640)\n",
      "\n",
      "0: 320x640 6 cars, 1 truck, 2.6ms\n",
      "Speed: 0.9ms preprocess, 2.6ms inference, 0.7ms postprocess per image at shape (1, 3, 640, 640)\n",
      "\n",
      "0: 320x640 5 cars, 1 truck, 4.1ms\n",
      "Speed: 1.0ms preprocess, 4.1ms inference, 1.1ms postprocess per image at shape (1, 3, 640, 640)\n",
      "\n",
      "0: 320x640 5 cars, 1 truck, 4.1ms\n",
      "Speed: 1.4ms preprocess, 4.1ms inference, 1.0ms postprocess per image at shape (1, 3, 640, 640)\n",
      "\n",
      "0: 320x640 5 cars, 1 truck, 4.1ms\n",
      "Speed: 1.4ms preprocess, 4.1ms inference, 1.1ms postprocess per image at shape (1, 3, 640, 640)\n",
      "\n",
      "0: 320x640 5 cars, 1 truck, 4.2ms\n",
      "Speed: 1.4ms preprocess, 4.2ms inference, 1.1ms postprocess per image at shape (1, 3, 640, 640)\n"
     ]
    },
    {
     "name": "stdout",
     "output_type": "stream",
     "text": [
      "(730, 311, 881, 373)\n",
      "(726, 311, 876, 366)\n",
      "(727, 311, 876, 366)\n",
      "(719, 309, 869, 369)\n",
      "(719, 309, 868, 369)\n",
      "(719, 309, 869, 369)\n",
      "(719, 309, 869, 369)\n"
     ]
    },
    {
     "name": "stderr",
     "output_type": "stream",
     "text": [
      "\n",
      "0: 320x640 6 cars, 1 truck, 4.1ms\n",
      "Speed: 1.4ms preprocess, 4.1ms inference, 1.1ms postprocess per image at shape (1, 3, 640, 640)\n",
      "\n",
      "0: 320x640 6 cars, 1 truck, 4.2ms\n",
      "Speed: 1.4ms preprocess, 4.2ms inference, 1.1ms postprocess per image at shape (1, 3, 640, 640)\n",
      "\n",
      "0: 320x640 6 cars, 1 truck, 4.3ms\n",
      "Speed: 1.4ms preprocess, 4.3ms inference, 1.1ms postprocess per image at shape (1, 3, 640, 640)\n",
      "\n",
      "0: 320x640 5 cars, 1 truck, 4.4ms\n",
      "Speed: 1.4ms preprocess, 4.4ms inference, 1.1ms postprocess per image at shape (1, 3, 640, 640)\n",
      "\n",
      "0: 320x640 6 cars, 1 truck, 4.3ms\n",
      "Speed: 1.4ms preprocess, 4.3ms inference, 1.1ms postprocess per image at shape (1, 3, 640, 640)\n",
      "\n",
      "0: 320x640 6 cars, 1 truck, 4.0ms\n",
      "Speed: 1.4ms preprocess, 4.0ms inference, 1.2ms postprocess per image at shape (1, 3, 640, 640)\n",
      "\n",
      "0: 320x640 7 cars, 4.0ms\n",
      "Speed: 1.3ms preprocess, 4.0ms inference, 1.0ms postprocess per image at shape (1, 3, 640, 640)\n"
     ]
    },
    {
     "name": "stdout",
     "output_type": "stream",
     "text": [
      "(712, 309, 866, 369)\n",
      "(712, 309, 866, 370)\n",
      "(710, 307, 859, 374)\n",
      "(710, 308, 859, 374)\n",
      "(704, 306, 856, 368)\n",
      "(704, 306, 856, 368)\n"
     ]
    },
    {
     "name": "stderr",
     "output_type": "stream",
     "text": [
      "\n",
      "0: 320x640 7 cars, 3.8ms\n",
      "Speed: 1.3ms preprocess, 3.8ms inference, 1.0ms postprocess per image at shape (1, 3, 640, 640)\n",
      "\n",
      "0: 320x640 5 cars, 1 truck, 3.8ms\n",
      "Speed: 1.3ms preprocess, 3.8ms inference, 1.0ms postprocess per image at shape (1, 3, 640, 640)\n",
      "\n",
      "0: 320x640 6 cars, 1 truck, 3.8ms\n",
      "Speed: 1.3ms preprocess, 3.8ms inference, 1.0ms postprocess per image at shape (1, 3, 640, 640)\n",
      "\n",
      "0: 320x640 5 cars, 1 truck, 3.8ms\n",
      "Speed: 1.3ms preprocess, 3.8ms inference, 1.0ms postprocess per image at shape (1, 3, 640, 640)\n",
      "\n",
      "0: 320x640 5 cars, 1 truck, 3.8ms\n",
      "Speed: 1.3ms preprocess, 3.8ms inference, 1.0ms postprocess per image at shape (1, 3, 640, 640)\n",
      "\n",
      "0: 320x640 5 cars, 4.4ms\n",
      "Speed: 1.4ms preprocess, 4.4ms inference, 1.1ms postprocess per image at shape (1, 3, 640, 640)\n"
     ]
    },
    {
     "name": "stdout",
     "output_type": "stream",
     "text": [
      "(697, 304, 845, 369)\n",
      "(699, 304, 845, 370)\n",
      "(693, 304, 840, 371)\n",
      "(692, 304, 840, 371)\n",
      "(693, 304, 840, 371)\n",
      "(693, 304, 840, 371)\n",
      "(688, 301, 830, 370)\n"
     ]
    },
    {
     "name": "stderr",
     "output_type": "stream",
     "text": [
      "\n",
      "0: 320x640 5 cars, 1 truck, 3.8ms\n",
      "Speed: 1.8ms preprocess, 3.8ms inference, 1.0ms postprocess per image at shape (1, 3, 640, 640)\n",
      "\n",
      "0: 320x640 6 cars, 1 truck, 3.9ms\n",
      "Speed: 1.6ms preprocess, 3.9ms inference, 1.0ms postprocess per image at shape (1, 3, 640, 640)\n",
      "\n",
      "0: 320x640 6 cars, 1 truck, 3.9ms\n",
      "Speed: 1.4ms preprocess, 3.9ms inference, 1.0ms postprocess per image at shape (1, 3, 640, 640)\n",
      "\n",
      "0: 320x640 5 cars, 3.8ms\n",
      "Speed: 1.3ms preprocess, 3.8ms inference, 1.0ms postprocess per image at shape (1, 3, 640, 640)\n",
      "\n",
      "0: 320x640 5 cars, 6.2ms\n",
      "Speed: 1.7ms preprocess, 6.2ms inference, 1.4ms postprocess per image at shape (1, 3, 640, 640)\n",
      "\n",
      "0: 320x640 7 cars, 1 truck, 3.9ms\n",
      "Speed: 1.6ms preprocess, 3.9ms inference, 1.0ms postprocess per image at shape (1, 3, 640, 640)\n",
      "\n",
      "0: 320x640 7 cars, 1 truck, 3.8ms\n",
      "Speed: 1.3ms preprocess, 3.8ms inference, 1.0ms postprocess per image at shape (1, 3, 640, 640)\n"
     ]
    },
    {
     "name": "stdout",
     "output_type": "stream",
     "text": [
      "(688, 301, 830, 370)\n",
      "(686, 300, 826, 368)\n",
      "(686, 300, 826, 368)\n",
      "(684, 299, 822, 368)\n",
      "(685, 299, 822, 368)\n",
      "(676, 299, 819, 368)\n"
     ]
    },
    {
     "name": "stderr",
     "output_type": "stream",
     "text": [
      "\n",
      "0: 320x640 9 cars, 1 truck, 3.8ms\n",
      "Speed: 1.4ms preprocess, 3.8ms inference, 1.0ms postprocess per image at shape (1, 3, 640, 640)\n",
      "\n",
      "0: 320x640 8 cars, 1 truck, 3.8ms\n",
      "Speed: 1.3ms preprocess, 3.8ms inference, 1.0ms postprocess per image at shape (1, 3, 640, 640)\n",
      "\n",
      "0: 320x640 8 cars, 1 truck, 3.8ms\n",
      "Speed: 1.4ms preprocess, 3.8ms inference, 1.0ms postprocess per image at shape (1, 3, 640, 640)\n",
      "\n",
      "0: 320x640 9 cars, 1 truck, 3.8ms\n",
      "Speed: 1.3ms preprocess, 3.8ms inference, 1.0ms postprocess per image at shape (1, 3, 640, 640)\n",
      "\n",
      "0: 320x640 8 cars, 3.8ms\n",
      "Speed: 1.4ms preprocess, 3.8ms inference, 1.0ms postprocess per image at shape (1, 3, 640, 640)\n",
      "\n",
      "0: 320x640 8 cars, 3.9ms\n",
      "Speed: 1.3ms preprocess, 3.9ms inference, 1.0ms postprocess per image at shape (1, 3, 640, 640)\n"
     ]
    },
    {
     "name": "stdout",
     "output_type": "stream",
     "text": [
      "(676, 299, 819, 367)\n",
      "(668, 298, 810, 364)\n",
      "(669, 298, 810, 364)\n",
      "(669, 298, 810, 364)\n",
      "(669, 298, 810, 364)\n",
      "(661, 296, 807, 363)\n",
      "(660, 296, 807, 363)\n"
     ]
    },
    {
     "name": "stderr",
     "output_type": "stream",
     "text": [
      "\n",
      "0: 320x640 8 cars, 3.9ms\n",
      "Speed: 1.3ms preprocess, 3.9ms inference, 1.0ms postprocess per image at shape (1, 3, 640, 640)\n",
      "\n",
      "0: 320x640 8 cars, 4.2ms\n",
      "Speed: 1.4ms preprocess, 4.2ms inference, 1.0ms postprocess per image at shape (1, 3, 640, 640)\n",
      "\n",
      "0: 320x640 7 cars, 1 truck, 4.4ms\n",
      "Speed: 1.4ms preprocess, 4.4ms inference, 1.0ms postprocess per image at shape (1, 3, 640, 640)\n",
      "\n",
      "0: 320x640 7 cars, 1 truck, 3.8ms\n",
      "Speed: 1.3ms preprocess, 3.8ms inference, 1.0ms postprocess per image at shape (1, 3, 640, 640)\n",
      "\n",
      "0: 320x640 7 cars, 3.8ms\n",
      "Speed: 1.3ms preprocess, 3.8ms inference, 1.0ms postprocess per image at shape (1, 3, 640, 640)\n",
      "\n",
      "0: 320x640 7 cars, 1 truck, 4.1ms\n",
      "Speed: 1.4ms preprocess, 4.1ms inference, 1.0ms postprocess per image at shape (1, 3, 640, 640)\n",
      "\n",
      "0: 320x640 8 cars, 3.8ms\n",
      "Speed: 1.4ms preprocess, 3.8ms inference, 1.0ms postprocess per image at shape (1, 3, 640, 640)\n"
     ]
    },
    {
     "name": "stdout",
     "output_type": "stream",
     "text": [
      "(659, 294, 802, 364)\n",
      "(659, 294, 802, 364)\n",
      "(659, 292, 795, 361)\n",
      "(659, 292, 795, 361)\n",
      "(657, 291, 792, 363)\n",
      "(657, 291, 792, 363)\n",
      "(648, 291, 781, 359)\n"
     ]
    },
    {
     "name": "stderr",
     "output_type": "stream",
     "text": [
      "\n",
      "0: 320x640 8 cars, 3.8ms\n",
      "Speed: 1.4ms preprocess, 3.8ms inference, 1.0ms postprocess per image at shape (1, 3, 640, 640)\n",
      "\n",
      "0: 320x640 8 cars, 3.8ms\n",
      "Speed: 1.3ms preprocess, 3.8ms inference, 1.5ms postprocess per image at shape (1, 3, 640, 640)\n",
      "\n",
      "0: 320x640 8 cars, 4.1ms\n",
      "Speed: 1.3ms preprocess, 4.1ms inference, 1.6ms postprocess per image at shape (1, 3, 640, 640)\n",
      "\n",
      "0: 320x640 8 cars, 3.7ms\n",
      "Speed: 1.3ms preprocess, 3.7ms inference, 1.0ms postprocess per image at shape (1, 3, 640, 640)\n",
      "\n",
      "0: 320x640 8 cars, 3.8ms\n",
      "Speed: 1.3ms preprocess, 3.8ms inference, 1.5ms postprocess per image at shape (1, 3, 640, 640)\n",
      "\n",
      "0: 320x640 7 cars, 4.0ms\n",
      "Speed: 1.4ms preprocess, 4.0ms inference, 1.5ms postprocess per image at shape (1, 3, 640, 640)\n",
      "\n",
      "0: 320x640 7 cars, 3.8ms\n",
      "Speed: 1.3ms preprocess, 3.8ms inference, 1.5ms postprocess per image at shape (1, 3, 640, 640)\n"
     ]
    },
    {
     "name": "stdout",
     "output_type": "stream",
     "text": [
      "(648, 292, 782, 359)\n",
      "(648, 291, 781, 359)\n",
      "(648, 291, 781, 359)\n",
      "(648, 289, 776, 359)\n",
      "(648, 289, 776, 359)\n",
      "(644, 287, 772, 358)\n",
      "(644, 287, 773, 358)\n"
     ]
    },
    {
     "name": "stderr",
     "output_type": "stream",
     "text": [
      "\n",
      "0: 320x640 8 cars, 4.3ms\n",
      "Speed: 1.4ms preprocess, 4.3ms inference, 1.0ms postprocess per image at shape (1, 3, 640, 640)\n",
      "\n",
      "0: 320x640 8 cars, 3.9ms\n",
      "Speed: 1.4ms preprocess, 3.9ms inference, 1.0ms postprocess per image at shape (1, 3, 640, 640)\n",
      "\n",
      "0: 320x640 9 cars, 4.4ms\n",
      "Speed: 1.4ms preprocess, 4.4ms inference, 1.0ms postprocess per image at shape (1, 3, 640, 640)\n",
      "\n",
      "0: 320x640 9 cars, 3.9ms\n",
      "Speed: 1.4ms preprocess, 3.9ms inference, 1.0ms postprocess per image at shape (1, 3, 640, 640)\n",
      "\n",
      "0: 320x640 8 cars, 3.9ms\n",
      "Speed: 1.3ms preprocess, 3.9ms inference, 1.0ms postprocess per image at shape (1, 3, 640, 640)\n",
      "\n",
      "0: 320x640 8 cars, 4.1ms\n",
      "Speed: 1.4ms preprocess, 4.1ms inference, 1.0ms postprocess per image at shape (1, 3, 640, 640)\n",
      "\n",
      "0: 320x640 8 cars, 4.4ms\n",
      "Speed: 1.3ms preprocess, 4.4ms inference, 1.0ms postprocess per image at shape (1, 3, 640, 640)\n"
     ]
    },
    {
     "name": "stdout",
     "output_type": "stream",
     "text": [
      "(641, 288, 767, 357)\n",
      "(641, 288, 767, 356)\n",
      "(636, 285, 768, 355)\n",
      "(636, 285, 767, 355)\n",
      "(628, 282, 757, 353)\n",
      "(628, 282, 757, 353)\n",
      "(628, 282, 757, 353)\n"
     ]
    },
    {
     "name": "stderr",
     "output_type": "stream",
     "text": [
      "\n",
      "0: 320x640 8 cars, 4.2ms\n",
      "Speed: 1.4ms preprocess, 4.2ms inference, 1.0ms postprocess per image at shape (1, 3, 640, 640)\n",
      "\n",
      "0: 320x640 9 cars, 4.2ms\n",
      "Speed: 1.3ms preprocess, 4.2ms inference, 1.0ms postprocess per image at shape (1, 3, 640, 640)\n",
      "\n",
      "0: 320x640 9 cars, 4.1ms\n",
      "Speed: 1.4ms preprocess, 4.1ms inference, 1.0ms postprocess per image at shape (1, 3, 640, 640)\n",
      "\n",
      "0: 320x640 10 cars, 4.1ms\n",
      "Speed: 1.3ms preprocess, 4.1ms inference, 1.0ms postprocess per image at shape (1, 3, 640, 640)\n",
      "\n",
      "0: 320x640 10 cars, 3.9ms\n",
      "Speed: 1.4ms preprocess, 3.9ms inference, 1.0ms postprocess per image at shape (1, 3, 640, 640)\n",
      "\n",
      "0: 320x640 8 cars, 3.8ms\n",
      "Speed: 1.3ms preprocess, 3.8ms inference, 1.0ms postprocess per image at shape (1, 3, 640, 640)\n",
      "\n",
      "0: 320x640 7 cars, 3.8ms\n",
      "Speed: 1.4ms preprocess, 3.8ms inference, 1.0ms postprocess per image at shape (1, 3, 640, 640)\n"
     ]
    },
    {
     "name": "stdout",
     "output_type": "stream",
     "text": [
      "(628, 282, 757, 353)\n",
      "(625, 282, 751, 352)\n",
      "(625, 282, 751, 352)\n",
      "(623, 282, 748, 351)\n",
      "(624, 282, 749, 351)\n",
      "(619, 282, 743, 350)\n"
     ]
    },
    {
     "name": "stderr",
     "output_type": "stream",
     "text": [
      "\n",
      "0: 320x640 8 cars, 1 truck, 3.8ms\n",
      "Speed: 1.4ms preprocess, 3.8ms inference, 1.0ms postprocess per image at shape (1, 3, 640, 640)\n",
      "\n",
      "0: 320x640 8 cars, 1 truck, 3.9ms\n",
      "Speed: 1.4ms preprocess, 3.9ms inference, 1.0ms postprocess per image at shape (1, 3, 640, 640)\n",
      "\n",
      "0: 320x640 7 cars, 1 truck, 3.8ms\n",
      "Speed: 1.4ms preprocess, 3.8ms inference, 1.0ms postprocess per image at shape (1, 3, 640, 640)\n",
      "\n",
      "0: 320x640 7 cars, 1 truck, 3.8ms\n",
      "Speed: 1.4ms preprocess, 3.8ms inference, 1.1ms postprocess per image at shape (1, 3, 640, 640)\n",
      "\n",
      "0: 320x640 7 cars, 1 truck, 3.9ms\n",
      "Speed: 1.3ms preprocess, 3.9ms inference, 1.0ms postprocess per image at shape (1, 3, 640, 640)\n",
      "\n",
      "0: 320x640 7 cars, 1 truck, 4.2ms\n",
      "Speed: 1.4ms preprocess, 4.2ms inference, 1.0ms postprocess per image at shape (1, 3, 640, 640)\n"
     ]
    },
    {
     "name": "stdout",
     "output_type": "stream",
     "text": [
      "(619, 282, 743, 350)\n",
      "(613, 277, 735, 346)\n",
      "(614, 277, 735, 346)\n",
      "(607, 276, 730, 345)\n",
      "(607, 276, 730, 345)\n",
      "(607, 276, 730, 345)\n",
      "(607, 276, 730, 345)\n"
     ]
    },
    {
     "name": "stderr",
     "output_type": "stream",
     "text": [
      "\n",
      "0: 320x640 9 cars, 3.8ms\n",
      "Speed: 1.3ms preprocess, 3.8ms inference, 1.0ms postprocess per image at shape (1, 3, 640, 640)\n",
      "\n",
      "0: 320x640 8 cars, 4.1ms\n",
      "Speed: 1.4ms preprocess, 4.1ms inference, 1.0ms postprocess per image at shape (1, 3, 640, 640)\n",
      "\n",
      "0: 320x640 8 cars, 4.2ms\n",
      "Speed: 1.3ms preprocess, 4.2ms inference, 1.0ms postprocess per image at shape (1, 3, 640, 640)\n",
      "\n",
      "0: 320x640 8 cars, 4.4ms\n",
      "Speed: 1.3ms preprocess, 4.4ms inference, 1.0ms postprocess per image at shape (1, 3, 640, 640)\n",
      "\n",
      "0: 320x640 9 cars, 3.9ms\n",
      "Speed: 1.3ms preprocess, 3.9ms inference, 1.4ms postprocess per image at shape (1, 3, 640, 640)\n",
      "\n",
      "0: 320x640 9 cars, 3.9ms\n",
      "Speed: 1.3ms preprocess, 3.9ms inference, 1.5ms postprocess per image at shape (1, 3, 640, 640)\n",
      "\n",
      "0: 320x640 9 cars, 4.2ms\n",
      "Speed: 1.3ms preprocess, 4.2ms inference, 1.0ms postprocess per image at shape (1, 3, 640, 640)\n"
     ]
    },
    {
     "name": "stdout",
     "output_type": "stream",
     "text": [
      "(605, 275, 726, 345)\n",
      "(605, 275, 726, 345)\n",
      "(602, 274, 726, 344)\n",
      "(602, 274, 725, 344)\n",
      "(599, 273, 721, 342)\n",
      "(599, 273, 721, 342)\n"
     ]
    },
    {
     "name": "stderr",
     "output_type": "stream",
     "text": [
      "\n",
      "0: 320x640 9 cars, 3.8ms\n",
      "Speed: 1.3ms preprocess, 3.8ms inference, 1.0ms postprocess per image at shape (1, 3, 640, 640)\n",
      "\n",
      "0: 320x640 10 cars, 3.8ms\n",
      "Speed: 1.3ms preprocess, 3.8ms inference, 1.0ms postprocess per image at shape (1, 3, 640, 640)\n",
      "\n",
      "0: 320x640 10 cars, 8.4ms\n",
      "Speed: 1.7ms preprocess, 8.4ms inference, 1.7ms postprocess per image at shape (1, 3, 640, 640)\n",
      "\n",
      "0: 320x640 11 cars, 3.8ms\n",
      "Speed: 1.3ms preprocess, 3.8ms inference, 1.0ms postprocess per image at shape (1, 3, 640, 640)\n",
      "\n",
      "0: 320x640 11 cars, 3.8ms\n",
      "Speed: 1.3ms preprocess, 3.8ms inference, 1.0ms postprocess per image at shape (1, 3, 640, 640)\n",
      "\n"
     ]
    },
    {
     "name": "stdout",
     "output_type": "stream",
     "text": [
      "(598, 272, 717, 341)\n",
      "(598, 272, 717, 341)\n",
      "(591, 270, 707, 337)\n",
      "(591, 269, 707, 339)\n",
      "(591, 269, 707, 339)\n",
      "(591, 269, 707, 339)\n"
     ]
    },
    {
     "name": "stderr",
     "output_type": "stream",
     "text": [
      "0: 320x640 11 cars, 4.1ms\n",
      "Speed: 1.3ms preprocess, 4.1ms inference, 1.2ms postprocess per image at shape (1, 3, 640, 640)\n",
      "\n",
      "0: 320x640 11 cars, 3.8ms\n",
      "Speed: 1.3ms preprocess, 3.8ms inference, 1.1ms postprocess per image at shape (1, 3, 640, 640)\n",
      "\n",
      "0: 320x640 11 cars, 3.9ms\n",
      "Speed: 1.3ms preprocess, 3.9ms inference, 1.1ms postprocess per image at shape (1, 3, 640, 640)\n",
      "\n",
      "0: 320x640 11 cars, 3.9ms\n",
      "Speed: 1.3ms preprocess, 3.9ms inference, 1.0ms postprocess per image at shape (1, 3, 640, 640)\n",
      "\n",
      "0: 320x640 9 cars, 3.9ms\n",
      "Speed: 1.3ms preprocess, 3.9ms inference, 1.0ms postprocess per image at shape (1, 3, 640, 640)\n",
      "\n",
      "0: 320x640 9 cars, 4.0ms\n",
      "Speed: 1.3ms preprocess, 4.0ms inference, 1.0ms postprocess per image at shape (1, 3, 640, 640)\n",
      "\n",
      "0: 320x640 9 cars, 4.1ms\n"
     ]
    },
    {
     "name": "stdout",
     "output_type": "stream",
     "text": [
      "(589, 269, 700, 337)\n",
      "(589, 269, 700, 337)\n",
      "(587, 268, 698, 336)\n",
      "(587, 268, 698, 336)\n",
      "(581, 267, 696, 334)\n",
      "(581, 267, 696, 334)\n"
     ]
    },
    {
     "name": "stderr",
     "output_type": "stream",
     "text": [
      "Speed: 1.3ms preprocess, 4.1ms inference, 2.3ms postprocess per image at shape (1, 3, 640, 640)\n",
      "\n",
      "0: 320x640 9 cars, 4.7ms\n",
      "Speed: 1.4ms preprocess, 4.7ms inference, 1.0ms postprocess per image at shape (1, 3, 640, 640)\n",
      "\n",
      "0: 320x640 9 cars, 3.1ms\n",
      "Speed: 0.9ms preprocess, 3.1ms inference, 1.3ms postprocess per image at shape (1, 3, 640, 640)\n",
      "\n",
      "0: 320x640 9 cars, 3.8ms\n",
      "Speed: 1.1ms preprocess, 3.8ms inference, 1.1ms postprocess per image at shape (1, 3, 640, 640)\n",
      "\n",
      "0: 320x640 9 cars, 3.8ms\n",
      "Speed: 1.4ms preprocess, 3.8ms inference, 2.2ms postprocess per image at shape (1, 3, 640, 640)\n",
      "\n",
      "0: 320x640 9 cars, 4.5ms\n",
      "Speed: 1.3ms preprocess, 4.5ms inference, 1.5ms postprocess per image at shape (1, 3, 640, 640)\n",
      "\n",
      "0: 320x640 9 cars, 4.0ms\n",
      "Speed: 1.3ms preprocess, 4.0ms inference, 1.1ms postprocess per image at shape (1, 3, 640, 640)\n"
     ]
    },
    {
     "name": "stdout",
     "output_type": "stream",
     "text": [
      "(580, 266, 694, 332)\n",
      "(579, 265, 694, 333)\n",
      "(576, 262, 688, 331)\n",
      "(576, 262, 687, 331)\n",
      "(576, 262, 687, 331)\n",
      "(576, 262, 687, 331)\n"
     ]
    },
    {
     "name": "stderr",
     "output_type": "stream",
     "text": [
      "\n",
      "0: 320x640 9 cars, 4.3ms\n",
      "Speed: 1.5ms preprocess, 4.3ms inference, 1.2ms postprocess per image at shape (1, 3, 640, 640)\n",
      "\n",
      "0: 320x640 9 cars, 3.6ms\n",
      "Speed: 1.4ms preprocess, 3.6ms inference, 0.9ms postprocess per image at shape (1, 3, 640, 640)\n",
      "\n",
      "0: 320x640 9 cars, 3.8ms\n",
      "Speed: 1.3ms preprocess, 3.8ms inference, 1.0ms postprocess per image at shape (1, 3, 640, 640)\n",
      "\n",
      "0: 320x640 9 cars, 3.9ms\n",
      "Speed: 1.3ms preprocess, 3.9ms inference, 1.0ms postprocess per image at shape (1, 3, 640, 640)\n",
      "\n",
      "0: 320x640 9 cars, 3.8ms\n",
      "Speed: 1.3ms preprocess, 3.8ms inference, 1.0ms postprocess per image at shape (1, 3, 640, 640)\n",
      "\n",
      "0: 320x640 10 cars, 1 truck, 4.5ms\n",
      "Speed: 1.4ms preprocess, 4.5ms inference, 1.1ms postprocess per image at shape (1, 3, 640, 640)\n"
     ]
    },
    {
     "name": "stdout",
     "output_type": "stream",
     "text": [
      "(568, 265, 681, 330)\n",
      "(568, 265, 681, 330)\n",
      "(565, 264, 675, 328)\n",
      "(565, 264, 675, 328)\n",
      "(562, 260, 676, 326)\n",
      "(562, 260, 677, 326)\n"
     ]
    },
    {
     "name": "stderr",
     "output_type": "stream",
     "text": [
      "\n",
      "0: 320x640 10 cars, 1 truck, 4.2ms\n",
      "Speed: 1.4ms preprocess, 4.2ms inference, 1.1ms postprocess per image at shape (1, 3, 640, 640)\n",
      "\n",
      "0: 320x640 9 cars, 1 truck, 4.2ms\n",
      "Speed: 1.4ms preprocess, 4.2ms inference, 1.1ms postprocess per image at shape (1, 3, 640, 640)\n",
      "\n",
      "0: 320x640 9 cars, 1 truck, 4.3ms\n",
      "Speed: 1.4ms preprocess, 4.3ms inference, 1.1ms postprocess per image at shape (1, 3, 640, 640)\n",
      "\n",
      "0: 320x640 9 cars, 1 truck, 3.8ms\n",
      "Speed: 1.3ms preprocess, 3.8ms inference, 1.3ms postprocess per image at shape (1, 3, 640, 640)\n",
      "\n",
      "0: 320x640 9 cars, 1 truck, 3.8ms\n",
      "Speed: 1.3ms preprocess, 3.8ms inference, 1.0ms postprocess per image at shape (1, 3, 640, 640)\n",
      "\n"
     ]
    },
    {
     "name": "stdout",
     "output_type": "stream",
     "text": [
      "(561, 260, 672, 323)\n",
      "(561, 260, 672, 323)\n",
      "(554, 255, 665, 320)\n",
      "(554, 255, 665, 320)\n",
      "(554, 255, 665, 320)\n",
      "(554, 255, 665, 321)\n"
     ]
    },
    {
     "name": "stderr",
     "output_type": "stream",
     "text": [
      "0: 320x640 10 cars, 1 truck, 4.8ms\n",
      "Speed: 1.4ms preprocess, 4.8ms inference, 1.1ms postprocess per image at shape (1, 3, 640, 640)\n",
      "\n",
      "0: 320x640 10 cars, 1 truck, 4.3ms\n",
      "Speed: 1.4ms preprocess, 4.3ms inference, 1.1ms postprocess per image at shape (1, 3, 640, 640)\n",
      "\n",
      "0: 320x640 10 cars, 1 truck, 4.0ms\n",
      "Speed: 1.4ms preprocess, 4.0ms inference, 1.1ms postprocess per image at shape (1, 3, 640, 640)\n",
      "\n",
      "0: 320x640 10 cars, 1 truck, 3.9ms\n",
      "Speed: 1.5ms preprocess, 3.9ms inference, 1.1ms postprocess per image at shape (1, 3, 640, 640)\n",
      "\n",
      "0: 320x640 10 cars, 1 truck, 3.8ms\n",
      "Speed: 1.3ms preprocess, 3.8ms inference, 1.0ms postprocess per image at shape (1, 3, 640, 640)\n",
      "\n",
      "0: 320x640 10 cars, 1 truck, 3.8ms\n",
      "Speed: 1.4ms preprocess, 3.8ms inference, 1.1ms postprocess per image at shape (1, 3, 640, 640)\n",
      "\n"
     ]
    },
    {
     "name": "stdout",
     "output_type": "stream",
     "text": [
      "(552, 256, 661, 320)\n",
      "(553, 256, 661, 320)\n",
      "(550, 252, 657, 314)\n",
      "(550, 252, 657, 314)\n",
      "(548, 250, 656, 314)\n",
      "(548, 250, 655, 314)\n"
     ]
    },
    {
     "name": "stderr",
     "output_type": "stream",
     "text": [
      "0: 320x640 10 cars, 4.7ms\n",
      "Speed: 1.4ms preprocess, 4.7ms inference, 1.3ms postprocess per image at shape (1, 3, 640, 640)\n",
      "\n",
      "0: 320x640 10 cars, 4.1ms\n",
      "Speed: 1.4ms preprocess, 4.1ms inference, 1.1ms postprocess per image at shape (1, 3, 640, 640)\n",
      "\n",
      "0: 320x640 10 cars, 4.2ms\n",
      "Speed: 1.4ms preprocess, 4.2ms inference, 2.3ms postprocess per image at shape (1, 3, 640, 640)\n",
      "\n",
      "0: 320x640 10 cars, 4.0ms\n",
      "Speed: 1.4ms preprocess, 4.0ms inference, 1.2ms postprocess per image at shape (1, 3, 640, 640)\n",
      "\n",
      "0: 320x640 10 cars, 4.2ms\n",
      "Speed: 1.4ms preprocess, 4.2ms inference, 1.1ms postprocess per image at shape (1, 3, 640, 640)\n",
      "\n",
      "0: 320x640 10 cars, 4.2ms\n",
      "Speed: 1.8ms preprocess, 4.2ms inference, 1.1ms postprocess per image at shape (1, 3, 640, 640)\n",
      "\n"
     ]
    },
    {
     "name": "stdout",
     "output_type": "stream",
     "text": [
      "(545, 249, 652, 313)\n",
      "(545, 250, 653, 313)\n",
      "(542, 248, 648, 311)\n",
      "(542, 248, 648, 311)\n",
      "(542, 248, 648, 311)\n",
      "(542, 248, 648, 311)\n"
     ]
    },
    {
     "name": "stderr",
     "output_type": "stream",
     "text": [
      "0: 320x640 10 cars, 4.7ms\n",
      "Speed: 1.4ms preprocess, 4.7ms inference, 1.1ms postprocess per image at shape (1, 3, 640, 640)\n",
      "\n",
      "0: 320x640 10 cars, 4.2ms\n",
      "Speed: 1.4ms preprocess, 4.2ms inference, 1.1ms postprocess per image at shape (1, 3, 640, 640)\n",
      "\n",
      "0: 320x640 10 cars, 4.3ms\n",
      "Speed: 1.4ms preprocess, 4.3ms inference, 1.1ms postprocess per image at shape (1, 3, 640, 640)\n",
      "\n",
      "0: 320x640 10 cars, 4.3ms\n",
      "Speed: 1.4ms preprocess, 4.3ms inference, 1.1ms postprocess per image at shape (1, 3, 640, 640)\n",
      "\n",
      "0: 320x640 10 cars, 1 truck, 4.1ms\n",
      "Speed: 1.4ms preprocess, 4.1ms inference, 1.3ms postprocess per image at shape (1, 3, 640, 640)\n",
      "\n",
      "0: 320x640 10 cars, 1 truck, 4.1ms\n",
      "Speed: 1.6ms preprocess, 4.1ms inference, 1.0ms postprocess per image at shape (1, 3, 640, 640)\n",
      "\n"
     ]
    },
    {
     "name": "stdout",
     "output_type": "stream",
     "text": [
      "(542, 247, 642, 309)\n",
      "(542, 247, 642, 309)\n",
      "(539, 245, 639, 308)\n",
      "(539, 246, 640, 308)\n",
      "(537, 246, 635, 306)\n",
      "(538, 247, 635, 307)\n"
     ]
    },
    {
     "name": "stderr",
     "output_type": "stream",
     "text": [
      "0: 320x640 10 cars, 4.0ms\n",
      "Speed: 1.5ms preprocess, 4.0ms inference, 1.3ms postprocess per image at shape (1, 3, 640, 640)\n",
      "\n",
      "0: 320x640 10 cars, 4.4ms\n",
      "Speed: 1.4ms preprocess, 4.4ms inference, 1.2ms postprocess per image at shape (1, 3, 640, 640)\n",
      "\n",
      "0: 320x640 10 cars, 4.0ms\n",
      "Speed: 1.4ms preprocess, 4.0ms inference, 1.2ms postprocess per image at shape (1, 3, 640, 640)\n",
      "\n",
      "0: 320x640 10 cars, 3.9ms\n",
      "Speed: 1.5ms preprocess, 3.9ms inference, 1.1ms postprocess per image at shape (1, 3, 640, 640)\n",
      "\n",
      "0: 320x640 10 cars, 3.9ms\n",
      "Speed: 1.4ms preprocess, 3.9ms inference, 1.1ms postprocess per image at shape (1, 3, 640, 640)\n",
      "\n",
      "0: 320x640 10 cars, 4.2ms\n",
      "Speed: 1.4ms preprocess, 4.2ms inference, 1.0ms postprocess per image at shape (1, 3, 640, 640)\n",
      "\n"
     ]
    },
    {
     "name": "stdout",
     "output_type": "stream",
     "text": [
      "(533, 246, 632, 305)\n",
      "(532, 246, 632, 305)\n",
      "(529, 243, 626, 302)\n",
      "(529, 243, 626, 302)\n",
      "(528, 243, 626, 302)\n",
      "(528, 243, 626, 302)\n"
     ]
    },
    {
     "name": "stderr",
     "output_type": "stream",
     "text": [
      "0: 320x640 10 cars, 4.6ms\n",
      "Speed: 1.4ms preprocess, 4.6ms inference, 1.1ms postprocess per image at shape (1, 3, 640, 640)\n",
      "\n",
      "0: 320x640 10 cars, 4.4ms\n",
      "Speed: 1.4ms preprocess, 4.4ms inference, 1.1ms postprocess per image at shape (1, 3, 640, 640)\n",
      "\n",
      "0: 320x640 10 cars, 1 truck, 4.2ms\n",
      "Speed: 1.4ms preprocess, 4.2ms inference, 1.0ms postprocess per image at shape (1, 3, 640, 640)\n",
      "\n",
      "0: 320x640 10 cars, 1 truck, 4.3ms\n",
      "Speed: 1.4ms preprocess, 4.3ms inference, 1.0ms postprocess per image at shape (1, 3, 640, 640)\n",
      "\n",
      "0: 320x640 9 cars, 1 truck, 4.3ms\n",
      "Speed: 1.4ms preprocess, 4.3ms inference, 1.1ms postprocess per image at shape (1, 3, 640, 640)\n",
      "\n",
      "0: 320x640 9 cars, 1 truck, 4.8ms\n",
      "Speed: 1.4ms preprocess, 4.8ms inference, 1.1ms postprocess per image at shape (1, 3, 640, 640)\n",
      "\n"
     ]
    },
    {
     "name": "stdout",
     "output_type": "stream",
     "text": [
      "(525, 240, 624, 299)\n",
      "(525, 240, 624, 299)\n",
      "(521, 237, 621, 297)\n",
      "(521, 237, 621, 297)\n",
      "(519, 235, 616, 296)\n",
      "(519, 235, 616, 296)\n"
     ]
    },
    {
     "name": "stderr",
     "output_type": "stream",
     "text": [
      "0: 320x640 9 cars, 1 truck, 4.5ms\n",
      "Speed: 1.4ms preprocess, 4.5ms inference, 1.1ms postprocess per image at shape (1, 3, 640, 640)\n",
      "\n",
      "0: 320x640 9 cars, 1 truck, 4.2ms\n",
      "Speed: 1.8ms preprocess, 4.2ms inference, 1.1ms postprocess per image at shape (1, 3, 640, 640)\n",
      "\n",
      "0: 320x640 8 cars, 1 truck, 4.0ms\n",
      "Speed: 1.3ms preprocess, 4.0ms inference, 1.0ms postprocess per image at shape (1, 3, 640, 640)\n",
      "\n",
      "0: 320x640 8 cars, 1 truck, 4.3ms\n",
      "Speed: 1.4ms preprocess, 4.3ms inference, 1.1ms postprocess per image at shape (1, 3, 640, 640)\n",
      "\n",
      "0: 320x640 8 cars, 1 truck, 3.9ms\n",
      "Speed: 1.4ms preprocess, 3.9ms inference, 1.0ms postprocess per image at shape (1, 3, 640, 640)\n",
      "\n",
      "0: 320x640 8 cars, 1 truck, 3.8ms\n",
      "Speed: 1.4ms preprocess, 3.8ms inference, 1.1ms postprocess per image at shape (1, 3, 640, 640)\n",
      "\n"
     ]
    },
    {
     "name": "stdout",
     "output_type": "stream",
     "text": [
      "(518, 235, 613, 295)\n",
      "(518, 235, 613, 295)\n",
      "(512, 231, 604, 293)\n",
      "(512, 231, 604, 293)\n",
      "(514, 232, 604, 294)\n",
      "(514, 232, 604, 294)\n"
     ]
    },
    {
     "name": "stderr",
     "output_type": "stream",
     "text": [
      "0: 320x640 7 cars, 1 truck, 5.4ms\n",
      "Speed: 1.3ms preprocess, 5.4ms inference, 1.7ms postprocess per image at shape (1, 3, 640, 640)\n",
      "\n",
      "0: 320x640 7 cars, 1 truck, 3.8ms\n",
      "Speed: 1.4ms preprocess, 3.8ms inference, 1.0ms postprocess per image at shape (1, 3, 640, 640)\n",
      "\n",
      "0: 320x640 7 cars, 1 truck, 3.8ms\n",
      "Speed: 1.3ms preprocess, 3.8ms inference, 1.0ms postprocess per image at shape (1, 3, 640, 640)\n",
      "\n",
      "0: 320x640 7 cars, 1 truck, 4.2ms\n",
      "Speed: 1.4ms preprocess, 4.2ms inference, 1.1ms postprocess per image at shape (1, 3, 640, 640)\n",
      "\n",
      "0: 320x640 9 cars, 1 truck, 4.5ms\n",
      "Speed: 1.4ms preprocess, 4.5ms inference, 1.1ms postprocess per image at shape (1, 3, 640, 640)\n",
      "\n",
      "0: 320x640 8 cars, 1 truck, 4.4ms\n",
      "Speed: 1.4ms preprocess, 4.4ms inference, 2.1ms postprocess per image at shape (1, 3, 640, 640)\n",
      "\n",
      "0: 320x640 8 cars, 1 truck, 4.3ms\n"
     ]
    },
    {
     "name": "stdout",
     "output_type": "stream",
     "text": [
      "(509, 230, 603, 293)\n",
      "(509, 230, 603, 293)\n",
      "(507, 227, 601, 291)\n",
      "(507, 227, 601, 292)\n",
      "(508, 227, 599, 291)\n",
      "(508, 228, 599, 291)\n"
     ]
    },
    {
     "name": "stderr",
     "output_type": "stream",
     "text": [
      "Speed: 1.4ms preprocess, 4.3ms inference, 1.1ms postprocess per image at shape (1, 3, 640, 640)\n",
      "\n",
      "0: 320x640 8 cars, 1 truck, 4.5ms\n",
      "Speed: 1.4ms preprocess, 4.5ms inference, 1.1ms postprocess per image at shape (1, 3, 640, 640)\n",
      "\n",
      "0: 320x640 9 cars, 1 truck, 4.3ms\n",
      "Speed: 2.1ms preprocess, 4.3ms inference, 1.1ms postprocess per image at shape (1, 3, 640, 640)\n",
      "\n",
      "0: 320x640 9 cars, 1 truck, 4.0ms\n",
      "Speed: 1.3ms preprocess, 4.0ms inference, 1.0ms postprocess per image at shape (1, 3, 640, 640)\n",
      "\n",
      "0: 320x640 9 cars, 1 truck, 4.4ms\n",
      "Speed: 1.3ms preprocess, 4.4ms inference, 1.1ms postprocess per image at shape (1, 3, 640, 640)\n",
      "\n",
      "0: 320x640 9 cars, 1 truck, 4.3ms\n",
      "Speed: 1.4ms preprocess, 4.3ms inference, 1.1ms postprocess per image at shape (1, 3, 640, 640)\n",
      "\n"
     ]
    },
    {
     "name": "stdout",
     "output_type": "stream",
     "text": [
      "(501, 221, 593, 287)\n",
      "(501, 222, 593, 287)\n",
      "(498, 222, 588, 284)\n",
      "(498, 222, 588, 284)\n",
      "(498, 222, 588, 284)\n",
      "(498, 222, 588, 284)\n"
     ]
    },
    {
     "name": "stderr",
     "output_type": "stream",
     "text": [
      "0: 320x640 8 cars, 1 truck, 4.0ms\n",
      "Speed: 1.3ms preprocess, 4.0ms inference, 1.5ms postprocess per image at shape (1, 3, 640, 640)\n",
      "\n",
      "0: 320x640 8 cars, 1 truck, 4.3ms\n",
      "Speed: 1.4ms preprocess, 4.3ms inference, 1.0ms postprocess per image at shape (1, 3, 640, 640)\n",
      "\n",
      "0: 320x640 7 cars, 2 trucks, 4.0ms\n",
      "Speed: 1.4ms preprocess, 4.0ms inference, 1.2ms postprocess per image at shape (1, 3, 640, 640)\n",
      "\n",
      "0: 320x640 7 cars, 2 trucks, 4.3ms\n",
      "Speed: 1.4ms preprocess, 4.3ms inference, 1.0ms postprocess per image at shape (1, 3, 640, 640)\n",
      "\n",
      "0: 320x640 7 cars, 3.8ms\n",
      "Speed: 1.3ms preprocess, 3.8ms inference, 1.0ms postprocess per image at shape (1, 3, 640, 640)\n",
      "\n",
      "0: 320x640 7 cars, 4.2ms\n",
      "Speed: 1.4ms preprocess, 4.2ms inference, 1.1ms postprocess per image at shape (1, 3, 640, 640)\n",
      "\n",
      "0: 320x640 7 cars, 4.2ms\n",
      "Speed: 1.4ms preprocess, 4.2ms inference, 1.2ms postprocess per image at shape (1, 3, 640, 640)\n"
     ]
    },
    {
     "name": "stdout",
     "output_type": "stream",
     "text": [
      "(497, 222, 586, 284)\n",
      "(496, 222, 586, 284)\n",
      "(495, 223, 583, 283)\n",
      "(495, 223, 583, 283)\n",
      "(493, 221, 579, 281)\n",
      "(493, 221, 580, 282)\n"
     ]
    },
    {
     "name": "stderr",
     "output_type": "stream",
     "text": [
      "\n",
      "0: 320x640 7 cars, 4.5ms\n",
      "Speed: 1.4ms preprocess, 4.5ms inference, 2.9ms postprocess per image at shape (1, 3, 640, 640)\n",
      "\n",
      "0: 320x640 7 cars, 1 truck, 4.5ms\n",
      "Speed: 1.3ms preprocess, 4.5ms inference, 1.7ms postprocess per image at shape (1, 3, 640, 640)\n",
      "\n",
      "0: 320x640 7 cars, 1 truck, 4.1ms\n",
      "Speed: 1.5ms preprocess, 4.1ms inference, 1.1ms postprocess per image at shape (1, 3, 640, 640)\n",
      "\n",
      "0: 320x640 7 cars, 1 truck, 4.0ms\n",
      "Speed: 1.3ms preprocess, 4.0ms inference, 1.1ms postprocess per image at shape (1, 3, 640, 640)\n",
      "\n",
      "0: 320x640 8 cars, 1 truck, 4.0ms\n",
      "Speed: 1.3ms preprocess, 4.0ms inference, 1.0ms postprocess per image at shape (1, 3, 640, 640)\n",
      "\n"
     ]
    },
    {
     "name": "stdout",
     "output_type": "stream",
     "text": [
      "(492, 220, 578, 280)\n",
      "(492, 220, 578, 280)\n",
      "(483, 215, 574, 276)\n",
      "(483, 215, 574, 276)\n",
      "(483, 215, 574, 276)\n",
      "(483, 215, 574, 276)\n"
     ]
    },
    {
     "name": "stderr",
     "output_type": "stream",
     "text": [
      "0: 320x640 8 cars, 1 truck, 4.1ms\n",
      "Speed: 1.5ms preprocess, 4.1ms inference, 1.3ms postprocess per image at shape (1, 3, 640, 640)\n",
      "\n",
      "0: 320x640 8 cars, 1 truck, 3.8ms\n",
      "Speed: 1.5ms preprocess, 3.8ms inference, 1.0ms postprocess per image at shape (1, 3, 640, 640)\n",
      "\n",
      "0: 320x640 7 cars, 1 truck, 4.2ms\n",
      "Speed: 1.4ms preprocess, 4.2ms inference, 1.0ms postprocess per image at shape (1, 3, 640, 640)\n",
      "\n",
      "0: 320x640 7 cars, 4.0ms\n",
      "Speed: 1.4ms preprocess, 4.0ms inference, 1.0ms postprocess per image at shape (1, 3, 640, 640)\n",
      "\n",
      "0: 320x640 6 cars, 4.1ms\n",
      "Speed: 1.4ms preprocess, 4.1ms inference, 1.0ms postprocess per image at shape (1, 3, 640, 640)\n",
      "\n",
      "0: 320x640 6 cars, 4.2ms\n",
      "Speed: 1.4ms preprocess, 4.2ms inference, 1.1ms postprocess per image at shape (1, 3, 640, 640)\n",
      "\n",
      "0: 320x640 8 cars, 4.2ms\n",
      "Speed: 1.4ms preprocess, 4.2ms inference, 1.1ms postprocess per image at shape (1, 3, 640, 640)\n"
     ]
    },
    {
     "name": "stdout",
     "output_type": "stream",
     "text": [
      "(482, 216, 569, 274)\n",
      "(482, 216, 569, 274)\n",
      "(479, 214, 567, 272)\n",
      "(479, 214, 567, 272)\n",
      "(475, 212, 564, 270)\n",
      "(477, 213, 564, 271)\n"
     ]
    },
    {
     "name": "stderr",
     "output_type": "stream",
     "text": [
      "\n",
      "0: 320x640 8 cars, 4.3ms\n",
      "Speed: 1.4ms preprocess, 4.3ms inference, 1.1ms postprocess per image at shape (1, 3, 640, 640)\n",
      "\n",
      "0: 320x640 7 cars, 3.9ms\n",
      "Speed: 1.3ms preprocess, 3.9ms inference, 1.1ms postprocess per image at shape (1, 3, 640, 640)\n",
      "\n",
      "0: 320x640 7 cars, 3.9ms\n",
      "Speed: 1.3ms preprocess, 3.9ms inference, 1.0ms postprocess per image at shape (1, 3, 640, 640)\n",
      "\n",
      "0: 320x640 7 cars, 3.8ms\n",
      "Speed: 1.4ms preprocess, 3.8ms inference, 1.0ms postprocess per image at shape (1, 3, 640, 640)\n",
      "\n",
      "0: 320x640 7 cars, 3.8ms\n",
      "Speed: 1.3ms preprocess, 3.8ms inference, 1.1ms postprocess per image at shape (1, 3, 640, 640)\n",
      "\n",
      "0: 320x640 7 cars, 4.1ms\n",
      "Speed: 1.4ms preprocess, 4.1ms inference, 1.1ms postprocess per image at shape (1, 3, 640, 640)\n"
     ]
    },
    {
     "name": "stdout",
     "output_type": "stream",
     "text": [
      "(474, 211, 560, 269)\n",
      "(474, 211, 560, 269)\n",
      "(473, 211, 556, 268)\n",
      "(473, 211, 556, 268)\n",
      "(472, 211, 556, 268)\n",
      "(473, 211, 556, 268)\n",
      "(470, 210, 554, 267)\n"
     ]
    },
    {
     "name": "stderr",
     "output_type": "stream",
     "text": [
      "\n",
      "0: 320x640 7 cars, 3.9ms\n",
      "Speed: 1.3ms preprocess, 3.9ms inference, 1.0ms postprocess per image at shape (1, 3, 640, 640)\n",
      "\n",
      "0: 320x640 7 cars, 3.8ms\n",
      "Speed: 1.3ms preprocess, 3.8ms inference, 1.0ms postprocess per image at shape (1, 3, 640, 640)\n",
      "\n",
      "0: 320x640 8 cars, 3.8ms\n",
      "Speed: 1.3ms preprocess, 3.8ms inference, 1.0ms postprocess per image at shape (1, 3, 640, 640)\n",
      "\n",
      "0: 320x640 7 cars, 1 truck, 3.8ms\n",
      "Speed: 1.3ms preprocess, 3.8ms inference, 1.0ms postprocess per image at shape (1, 3, 640, 640)\n",
      "\n",
      "0: 320x640 7 cars, 3.8ms\n",
      "Speed: 1.3ms preprocess, 3.8ms inference, 1.0ms postprocess per image at shape (1, 3, 640, 640)\n",
      "\n",
      "0: 320x640 7 cars, 3.8ms\n",
      "Speed: 1.3ms preprocess, 3.8ms inference, 1.0ms postprocess per image at shape (1, 3, 640, 640)\n",
      "\n",
      "0: 320x640 7 cars, 3.9ms\n",
      "Speed: 1.5ms preprocess, 3.9ms inference, 1.0ms postprocess per image at shape (1, 3, 640, 640)\n"
     ]
    },
    {
     "name": "stdout",
     "output_type": "stream",
     "text": [
      "(470, 210, 554, 267)\n",
      "(467, 208, 553, 266)\n",
      "(468, 208, 553, 266)\n",
      "(464, 209, 550, 265)\n",
      "(464, 209, 550, 265)\n",
      "(461, 205, 544, 263)\n",
      "(461, 205, 544, 263)\n"
     ]
    },
    {
     "name": "stderr",
     "output_type": "stream",
     "text": [
      "\n",
      "0: 320x640 7 cars, 1 truck, 3.9ms\n",
      "Speed: 1.3ms preprocess, 3.9ms inference, 1.0ms postprocess per image at shape (1, 3, 640, 640)\n",
      "\n",
      "0: 320x640 7 cars, 1 truck, 3.7ms\n",
      "Speed: 1.4ms preprocess, 3.7ms inference, 1.0ms postprocess per image at shape (1, 3, 640, 640)\n",
      "\n",
      "0: 320x640 7 cars, 1 truck, 3.8ms\n",
      "Speed: 1.3ms preprocess, 3.8ms inference, 1.0ms postprocess per image at shape (1, 3, 640, 640)\n",
      "\n",
      "0: 320x640 7 cars, 1 truck, 3.8ms\n",
      "Speed: 1.3ms preprocess, 3.8ms inference, 1.0ms postprocess per image at shape (1, 3, 640, 640)\n",
      "\n",
      "0: 320x640 8 cars, 3.8ms\n",
      "Speed: 1.3ms preprocess, 3.8ms inference, 1.0ms postprocess per image at shape (1, 3, 640, 640)\n",
      "\n",
      "0: 320x640 8 cars, 3.8ms\n",
      "Speed: 1.3ms preprocess, 3.8ms inference, 1.0ms postprocess per image at shape (1, 3, 640, 640)\n",
      "\n",
      "0: 320x640 8 cars, 4.5ms\n",
      "Speed: 1.3ms preprocess, 4.5ms inference, 1.0ms postprocess per image at shape (1, 3, 640, 640)\n"
     ]
    },
    {
     "name": "stdout",
     "output_type": "stream",
     "text": [
      "(454, 201, 540, 258)\n",
      "(455, 201, 540, 258)\n",
      "(455, 201, 540, 258)\n",
      "(455, 201, 540, 258)\n",
      "(454, 198, 538, 258)\n",
      "(454, 199, 538, 258)\n",
      "(453, 198, 535, 257)\n"
     ]
    },
    {
     "name": "stderr",
     "output_type": "stream",
     "text": [
      "\n",
      "0: 320x640 8 cars, 4.3ms\n",
      "Speed: 1.3ms preprocess, 4.3ms inference, 1.0ms postprocess per image at shape (1, 3, 640, 640)\n",
      "\n",
      "0: 320x640 8 cars, 3.9ms\n",
      "Speed: 1.3ms preprocess, 3.9ms inference, 1.6ms postprocess per image at shape (1, 3, 640, 640)\n",
      "\n",
      "0: 320x640 8 cars, 3.8ms\n",
      "Speed: 1.3ms preprocess, 3.8ms inference, 1.5ms postprocess per image at shape (1, 3, 640, 640)\n",
      "\n",
      "0: 320x640 8 cars, 1 truck, 4.1ms\n",
      "Speed: 1.3ms preprocess, 4.1ms inference, 1.6ms postprocess per image at shape (1, 3, 640, 640)\n",
      "\n",
      "0: 320x640 7 cars, 1 truck, 3.9ms\n",
      "Speed: 1.3ms preprocess, 3.9ms inference, 1.0ms postprocess per image at shape (1, 3, 640, 640)\n",
      "\n",
      "0: 320x640 7 cars, 1 truck, 3.8ms\n",
      "Speed: 1.3ms preprocess, 3.8ms inference, 1.5ms postprocess per image at shape (1, 3, 640, 640)\n",
      "\n",
      "0: 320x640 7 cars, 1 truck, 4.1ms\n",
      "Speed: 1.3ms preprocess, 4.1ms inference, 1.5ms postprocess per image at shape (1, 3, 640, 640)\n"
     ]
    },
    {
     "name": "stdout",
     "output_type": "stream",
     "text": [
      "(453, 198, 535, 257)\n",
      "(450, 197, 532, 255)\n",
      "(450, 197, 533, 255)\n",
      "(448, 198, 531, 254)\n",
      "(448, 198, 531, 254)\n",
      "(443, 196, 524, 249)\n",
      "(443, 196, 524, 249)\n"
     ]
    },
    {
     "name": "stderr",
     "output_type": "stream",
     "text": [
      "\n",
      "0: 320x640 7 cars, 1 truck, 3.8ms\n",
      "Speed: 1.3ms preprocess, 3.8ms inference, 1.5ms postprocess per image at shape (1, 3, 640, 640)\n",
      "\n",
      "0: 320x640 7 cars, 1 truck, 3.9ms\n",
      "Speed: 1.3ms preprocess, 3.9ms inference, 1.5ms postprocess per image at shape (1, 3, 640, 640)\n",
      "\n",
      "0: 320x640 7 cars, 1 truck, 3.8ms\n",
      "Speed: 1.3ms preprocess, 3.8ms inference, 1.5ms postprocess per image at shape (1, 3, 640, 640)\n",
      "\n",
      "0: 320x640 7 cars, 1 truck, 3.9ms\n",
      "Speed: 1.3ms preprocess, 3.9ms inference, 1.6ms postprocess per image at shape (1, 3, 640, 640)\n",
      "\n",
      "0: 320x640 7 cars, 1 truck, 4.1ms\n",
      "Speed: 1.3ms preprocess, 4.1ms inference, 1.5ms postprocess per image at shape (1, 3, 640, 640)\n",
      "\n",
      "0: 320x640 7 cars, 1 truck, 4.2ms\n",
      "Speed: 1.3ms preprocess, 4.2ms inference, 1.6ms postprocess per image at shape (1, 3, 640, 640)\n",
      "\n",
      "0: 320x640 7 cars, 1 truck, 4.1ms\n",
      "Speed: 1.3ms preprocess, 4.1ms inference, 1.0ms postprocess per image at shape (1, 3, 640, 640)\n"
     ]
    },
    {
     "name": "stdout",
     "output_type": "stream",
     "text": [
      "(443, 195, 524, 249)\n",
      "(443, 195, 524, 249)\n",
      "(443, 195, 520, 248)\n",
      "(442, 195, 520, 248)\n",
      "(438, 192, 519, 246)\n",
      "(438, 192, 519, 246)\n",
      "(435, 192, 516, 243)\n"
     ]
    },
    {
     "name": "stderr",
     "output_type": "stream",
     "text": [
      "\n",
      "0: 320x640 7 cars, 1 truck, 4.1ms\n",
      "Speed: 1.3ms preprocess, 4.1ms inference, 1.6ms postprocess per image at shape (1, 3, 640, 640)\n",
      "\n",
      "0: 320x640 7 cars, 1 truck, 4.0ms\n",
      "Speed: 1.3ms preprocess, 4.0ms inference, 1.5ms postprocess per image at shape (1, 3, 640, 640)\n",
      "\n",
      "0: 320x640 7 cars, 1 truck, 4.3ms\n",
      "Speed: 1.3ms preprocess, 4.3ms inference, 1.0ms postprocess per image at shape (1, 3, 640, 640)\n",
      "\n",
      "0: 320x640 6 cars, 1 truck, 3.9ms\n",
      "Speed: 1.3ms preprocess, 3.9ms inference, 1.2ms postprocess per image at shape (1, 3, 640, 640)\n",
      "\n",
      "0: 320x640 6 cars, 1 truck, 4.3ms\n",
      "Speed: 1.3ms preprocess, 4.3ms inference, 1.0ms postprocess per image at shape (1, 3, 640, 640)\n",
      "\n",
      "0: 320x640 6 cars, 1 truck, 4.0ms\n",
      "Speed: 1.3ms preprocess, 4.0ms inference, 1.5ms postprocess per image at shape (1, 3, 640, 640)\n",
      "\n",
      "0: 320x640 6 cars, 1 truck, 4.4ms\n",
      "Speed: 1.3ms preprocess, 4.4ms inference, 1.0ms postprocess per image at shape (1, 3, 640, 640)\n"
     ]
    },
    {
     "name": "stdout",
     "output_type": "stream",
     "text": [
      "(435, 192, 516, 243)\n",
      "(434, 191, 512, 244)\n",
      "(434, 192, 512, 244)\n",
      "(432, 187, 509, 241)\n",
      "(432, 187, 509, 241)\n",
      "(432, 187, 509, 241)\n",
      "(432, 187, 509, 241)\n"
     ]
    },
    {
     "name": "stderr",
     "output_type": "stream",
     "text": [
      "\n",
      "0: 320x640 6 cars, 1 truck, 4.1ms\n",
      "Speed: 1.3ms preprocess, 4.1ms inference, 1.6ms postprocess per image at shape (1, 3, 640, 640)\n",
      "\n",
      "0: 320x640 6 cars, 1 truck, 3.8ms\n",
      "Speed: 1.3ms preprocess, 3.8ms inference, 1.6ms postprocess per image at shape (1, 3, 640, 640)\n",
      "\n",
      "0: 320x640 6 cars, 1 truck, 4.2ms\n",
      "Speed: 1.3ms preprocess, 4.2ms inference, 1.5ms postprocess per image at shape (1, 3, 640, 640)\n",
      "\n",
      "0: 320x640 6 cars, 1 truck, 3.8ms\n",
      "Speed: 1.3ms preprocess, 3.8ms inference, 1.9ms postprocess per image at shape (1, 3, 640, 640)\n",
      "\n",
      "0: 320x640 6 cars, 1 truck, 5.5ms\n",
      "Speed: 1.7ms preprocess, 5.5ms inference, 1.3ms postprocess per image at shape (1, 3, 640, 640)\n",
      "\n",
      "0: 320x640 6 cars, 1 truck, 4.0ms\n",
      "Speed: 1.3ms preprocess, 4.0ms inference, 1.0ms postprocess per image at shape (1, 3, 640, 640)\n",
      "\n",
      "0: 320x640 6 cars, 1 truck, 3.9ms\n",
      "Speed: 1.4ms preprocess, 3.9ms inference, 1.1ms postprocess per image at shape (1, 3, 640, 640)\n"
     ]
    },
    {
     "name": "stdout",
     "output_type": "stream",
     "text": [
      "(430, 186, 506, 240)\n",
      "(430, 186, 506, 240)\n",
      "(439, 186, 503, 238)\n",
      "(439, 186, 503, 238)\n",
      "(428, 185, 501, 238)\n",
      "(428, 184, 501, 238)\n"
     ]
    },
    {
     "name": "stderr",
     "output_type": "stream",
     "text": [
      "\n",
      "0: 320x640 6 cars, 1 truck, 3.8ms\n",
      "Speed: 1.3ms preprocess, 3.8ms inference, 1.0ms postprocess per image at shape (1, 3, 640, 640)\n",
      "\n",
      "0: 320x640 6 cars, 1 truck, 4.0ms\n",
      "Speed: 1.3ms preprocess, 4.0ms inference, 1.5ms postprocess per image at shape (1, 3, 640, 640)\n",
      "\n",
      "0: 320x640 6 cars, 1 truck, 4.1ms\n",
      "Speed: 1.3ms preprocess, 4.1ms inference, 1.5ms postprocess per image at shape (1, 3, 640, 640)\n",
      "\n",
      "0: 320x640 6 cars, 1 truck, 4.1ms\n",
      "Speed: 1.3ms preprocess, 4.1ms inference, 1.6ms postprocess per image at shape (1, 3, 640, 640)\n",
      "\n",
      "0: 320x640 6 cars, 1 truck, 3.8ms\n",
      "Speed: 1.3ms preprocess, 3.8ms inference, 1.5ms postprocess per image at shape (1, 3, 640, 640)\n",
      "\n",
      "0: 320x640 6 cars, 1 truck, 4.2ms\n",
      "Speed: 1.3ms preprocess, 4.2ms inference, 1.5ms postprocess per image at shape (1, 3, 640, 640)\n"
     ]
    },
    {
     "name": "stdout",
     "output_type": "stream",
     "text": [
      "(422, 184, 499, 237)\n",
      "(422, 184, 499, 237)\n",
      "(416, 180, 494, 234)\n",
      "(416, 180, 494, 234)\n",
      "(416, 180, 494, 234)\n",
      "(416, 180, 494, 234)\n",
      "(416, 179, 491, 232)\n"
     ]
    },
    {
     "name": "stderr",
     "output_type": "stream",
     "text": [
      "\n",
      "0: 320x640 6 cars, 1 truck, 4.5ms\n",
      "Speed: 1.3ms preprocess, 4.5ms inference, 1.5ms postprocess per image at shape (1, 3, 640, 640)\n",
      "\n",
      "0: 320x640 6 cars, 1 truck, 4.0ms\n",
      "Speed: 1.3ms preprocess, 4.0ms inference, 1.9ms postprocess per image at shape (1, 3, 640, 640)\n",
      "\n",
      "0: 320x640 6 cars, 1 truck, 3.9ms\n",
      "Speed: 1.3ms preprocess, 3.9ms inference, 2.1ms postprocess per image at shape (1, 3, 640, 640)\n",
      "\n",
      "0: 320x640 6 cars, 1 truck, 3.9ms\n",
      "Speed: 1.3ms preprocess, 3.9ms inference, 2.1ms postprocess per image at shape (1, 3, 640, 640)\n",
      "\n",
      "0: 320x640 6 cars, 1 truck, 3.9ms\n",
      "Speed: 1.3ms preprocess, 3.9ms inference, 1.0ms postprocess per image at shape (1, 3, 640, 640)\n",
      "\n",
      "0: 320x640 7 cars, 1 truck, 3.7ms\n",
      "Speed: 1.5ms preprocess, 3.7ms inference, 1.4ms postprocess per image at shape (1, 3, 640, 640)\n",
      "\n",
      "0: 320x640 7 cars, 1 truck, 3.8ms\n",
      "Speed: 1.3ms preprocess, 3.8ms inference, 1.0ms postprocess per image at shape (1, 3, 640, 640)\n"
     ]
    },
    {
     "name": "stdout",
     "output_type": "stream",
     "text": [
      "(416, 179, 491, 232)\n",
      "(412, 177, 488, 231)\n",
      "(413, 177, 488, 231)\n",
      "(413, 178, 486, 229)\n",
      "(413, 178, 486, 229)\n",
      "(412, 175, 484, 230)\n",
      "(412, 175, 483, 230)\n"
     ]
    },
    {
     "name": "stderr",
     "output_type": "stream",
     "text": [
      "\n",
      "0: 320x640 6 cars, 3.8ms\n",
      "Speed: 1.3ms preprocess, 3.8ms inference, 1.0ms postprocess per image at shape (1, 3, 640, 640)\n",
      "\n",
      "0: 320x640 6 cars, 3.8ms\n",
      "Speed: 1.3ms preprocess, 3.8ms inference, 1.0ms postprocess per image at shape (1, 3, 640, 640)\n",
      "\n",
      "0: 320x640 6 cars, 3.8ms\n",
      "Speed: 1.3ms preprocess, 3.8ms inference, 1.0ms postprocess per image at shape (1, 3, 640, 640)\n",
      "\n",
      "0: 320x640 6 cars, 3.8ms\n",
      "Speed: 1.3ms preprocess, 3.8ms inference, 1.0ms postprocess per image at shape (1, 3, 640, 640)\n",
      "\n",
      "0: 320x640 7 cars, 3.8ms\n",
      "Speed: 1.3ms preprocess, 3.8ms inference, 1.0ms postprocess per image at shape (1, 3, 640, 640)\n",
      "\n",
      "0: 320x640 7 cars, 3.8ms\n",
      "Speed: 1.3ms preprocess, 3.8ms inference, 1.0ms postprocess per image at shape (1, 3, 640, 640)\n",
      "\n",
      "0: 320x640 8 cars, 3.8ms\n",
      "Speed: 1.3ms preprocess, 3.8ms inference, 1.0ms postprocess per image at shape (1, 3, 640, 640)\n"
     ]
    },
    {
     "name": "stdout",
     "output_type": "stream",
     "text": [
      "(407, 174, 479, 225)\n",
      "(408, 174, 479, 225)\n",
      "(408, 174, 479, 225)\n",
      "(408, 174, 479, 225)\n",
      "(411, 176, 475, 224)\n",
      "(410, 176, 475, 224)\n",
      "(400, 172, 474, 220)\n"
     ]
    },
    {
     "name": "stderr",
     "output_type": "stream",
     "text": [
      "\n",
      "0: 320x640 8 cars, 3.9ms\n",
      "Speed: 1.3ms preprocess, 3.9ms inference, 1.0ms postprocess per image at shape (1, 3, 640, 640)\n",
      "\n",
      "0: 320x640 7 cars, 3.8ms\n",
      "Speed: 1.3ms preprocess, 3.8ms inference, 1.1ms postprocess per image at shape (1, 3, 640, 640)\n",
      "\n",
      "0: 320x640 7 cars, 3.7ms\n",
      "Speed: 1.3ms preprocess, 3.7ms inference, 1.0ms postprocess per image at shape (1, 3, 640, 640)\n",
      "\n",
      "0: 320x640 8 cars, 3.8ms\n",
      "Speed: 1.3ms preprocess, 3.8ms inference, 1.0ms postprocess per image at shape (1, 3, 640, 640)\n",
      "\n",
      "0: 320x640 8 cars, 3.8ms\n",
      "Speed: 1.3ms preprocess, 3.8ms inference, 1.0ms postprocess per image at shape (1, 3, 640, 640)\n"
     ]
    }
   ],
   "source": [
    "# Iterate through each video in the dataset\n",
    "for i in range(0, len(dataset.task_2)):\n",
    "    # Create task solver for each video\n",
    "    context: CarTrafficTaskTwoDict = next(iter(dataset.task_2[i]))\n",
    "    tracks: t.List[t.Tuple[int, int, int, int]] = []\n",
    "    vt = VehicleTracking(assets, device, debug=True)\n",
    "\n",
    "    # Track the vehicle in each frame of the video\n",
    "    for data in dataset.task_2[i]:\n",
    "        # Compute BBOXes\n",
    "        bbox: t.Tuple[int, int, int, int] | None = vt(data)\n",
    "\n",
    "        # If the car is outside then stop\n",
    "        if bbox is None:\n",
    "            break\n",
    "\n",
    "        # Draw\n",
    "        print(bbox)\n",
    "        image: np.ndarray = data['image'].copy()\n",
    "        image: np.ndarray = cv.rectangle(image, (bbox[0], bbox[1], bbox[2] - bbox[0], bbox[3] - bbox[1]), color=(0, 0, 255), thickness=5)\n",
    "        tracks.append(bbox)\n",
    "        context = data\n",
    "\n",
    "        # Draw\n",
    "        cv.imshow('video', image)\n",
    "        cv.waitKey(int(1_000. / data['fps']))\n",
    "\n",
    "    # Write the answers\n",
    "    output_file: pb.Path = dataset.task_2.path / f\"{context['context']:02}_predicted.txt\"\n",
    "    with open(output_file, 'w') as out_file:\n",
    "        out_file.write(f\"{context['total']} -1 -1 -1 -1\" + os.linesep)\n",
    "        for j, (x, y, x_, y_) in enumerate(tracks):\n",
    "            out_file.write(f'{j} {x} {y} {x_} {y_}' + os.linesep)"
   ]
  },
  {
   "attachments": {},
   "cell_type": "markdown",
   "metadata": {},
   "source": [
    "### Task 3"
   ]
  },
  {
   "cell_type": "code",
   "execution_count": 7,
   "metadata": {},
   "outputs": [],
   "source": [
    "model = YOLO(model='./private/vistraff/first-attempt3/weights/best.pt', task='track')"
   ]
  },
  {
   "attachments": {},
   "cell_type": "markdown",
   "metadata": {},
   "source": [
    "### Prediction"
   ]
  },
  {
   "cell_type": "code",
   "execution_count": null,
   "metadata": {},
   "outputs": [],
   "source": []
  },
  {
   "attachments": {},
   "cell_type": "markdown",
   "metadata": {},
   "source": [
    "### Saving and evaluating the results"
   ]
  },
  {
   "cell_type": "code",
   "execution_count": null,
   "metadata": {},
   "outputs": [],
   "source": [
    "d"
   ]
  }
 ],
 "metadata": {
  "kernelspec": {
   "display_name": "ub-g12-compvis-Q2g9c7O9-py3.10",
   "language": "python",
   "name": "python3"
  },
  "language_info": {
   "codemirror_mode": {
    "name": "ipython",
    "version": 3
   },
   "file_extension": ".py",
   "mimetype": "text/x-python",
   "name": "python",
   "nbconvert_exporter": "python",
   "pygments_lexer": "ipython3",
   "version": "3.10.9"
  },
  "orig_nbformat": 4
 },
 "nbformat": 4,
 "nbformat_minor": 2
}
