{
 "cells": [
  {
   "cell_type": "code",
   "execution_count": 11,
   "metadata": {},
   "outputs": [
    {
     "name": "stdout",
     "output_type": "stream",
     "text": [
      "The autoreload extension is already loaded. To reload it, use:\n",
      "  %reload_ext autoreload\n"
     ]
    }
   ],
   "source": [
    "%load_ext autoreload\n",
    "%autoreload 2"
   ]
  },
  {
   "attachments": {},
   "cell_type": "markdown",
   "metadata": {},
   "source": [
    "### External Imports"
   ]
  },
  {
   "cell_type": "code",
   "execution_count": 12,
   "metadata": {},
   "outputs": [],
   "source": [
    "import os\n",
    "import torch\n",
    "import torchvision as tv\n",
    "import random\n",
    "import cv2 as cv\n",
    "import numpy as np\n",
    "import typing as t\n",
    "import pathlib as pb\n",
    "from ultralytics import YOLO"
   ]
  },
  {
   "attachments": {},
   "cell_type": "markdown",
   "metadata": {},
   "source": [
    "### Internal Imports"
   ]
  },
  {
   "cell_type": "code",
   "execution_count": 13,
   "metadata": {},
   "outputs": [],
   "source": [
    "from vistraff.res import Assets\n",
    "from vistraff.model import FasterRCNNMOD\n",
    "from vistraff.alg import VehicleOccupancy, VehicleTracking\n",
    "from vistraff.data import CarTrafficDataset, CarTrafficTaskOneDict, CarTrafficTaskTwoDict"
   ]
  },
  {
   "attachments": {},
   "cell_type": "markdown",
   "metadata": {},
   "source": [
    "### Environment Setup"
   ]
  },
  {
   "cell_type": "code",
   "execution_count": 14,
   "metadata": {},
   "outputs": [],
   "source": [
    "PATH_ROOT: pb.Path = pb.Path('.')\n",
    "PATH_ASSETS: pb.Path = PATH_ROOT / 'assets'\n",
    "PATH_MASKS: pb.Path = PATH_ASSETS / 'masks'\n",
    "PATH_MODELS: pb.Path = PATH_ASSETS / 'models'\n",
    "PATH_DATA: pb.Path = PATH_ROOT / 'data' / 'train'\n",
    "device = torch.device('cuda' if torch.cuda.is_available() else 'cpu')"
   ]
  },
  {
   "cell_type": "code",
   "execution_count": 15,
   "metadata": {},
   "outputs": [
    {
     "data": {
      "text/plain": [
       "<torch.autograd.grad_mode.set_grad_enabled at 0x7ff0e04fb430>"
      ]
     },
     "execution_count": 15,
     "metadata": {},
     "output_type": "execute_result"
    }
   ],
   "source": [
    "SEED: int = 42\n",
    "random.seed(SEED)\n",
    "np.random.seed(SEED)\n",
    "torch.manual_seed(SEED)\n",
    "np.random.default_rng(SEED)\n",
    "torch.set_grad_enabled(False)"
   ]
  },
  {
   "attachments": {},
   "cell_type": "markdown",
   "metadata": {},
   "source": [
    "### Data Loading"
   ]
  },
  {
   "cell_type": "code",
   "execution_count": 16,
   "metadata": {},
   "outputs": [],
   "source": [
    "dataset: CarTrafficDataset = CarTrafficDataset(PATH_DATA)\n",
    "assets: Assets = Assets(PATH_ASSETS)"
   ]
  },
  {
   "attachments": {},
   "cell_type": "markdown",
   "metadata": {},
   "source": [
    "### Task 1"
   ]
  },
  {
   "cell_type": "code",
   "execution_count": 17,
   "metadata": {},
   "outputs": [],
   "source": [
    "# Create the task solver\n",
    "vo = VehicleOccupancy(assets, device)\n",
    "\n",
    "# Solve each example in the task subset\n",
    "for i in range(len(dataset.task_1)):\n",
    "    data: CarTrafficTaskOneDict = dataset.task_1[i]\n",
    "    output: t.List[int] = vo(data)\n",
    "    output_file: pb.Path = dataset.task_1.path / f\"{data['context']:02}_{data['example']}_predicted.txt\"\n",
    "    cv.destroyAllWindows()\n",
    "\n",
    "    # Write the answers\n",
    "    with open(output_file, 'w') as out_file:\n",
    "        out_file.write(str(len(output)) + os.linesep)\n",
    "        for i, (query, answer) in enumerate(zip(data['query'], output)):\n",
    "            out_file.write(str(query) + ' ' + str(answer))\n",
    "            if i < len(output) - 1:\n",
    "                out_file.write(os.linesep)"
   ]
  },
  {
   "attachments": {},
   "cell_type": "markdown",
   "metadata": {},
   "source": [
    "### Task 2"
   ]
  },
  {
   "cell_type": "code",
   "execution_count": null,
   "metadata": {},
   "outputs": [],
   "source": [
    "# Iterate through each video in the dataset\n",
    "for i in range(len(dataset.task_2)):\n",
    "    # Create task solver for each video\n",
    "    vt = VehicleTracking(assets, device)\n",
    "\n",
    "    # Track the vehicle in each frame of the video\n",
    "    for data in dataset.task_2[i]:\n",
    "        bbox: t.List[int] = vt(data)\n",
    "\n",
    "\n"
   ]
  },
  {
   "attachments": {},
   "cell_type": "markdown",
   "metadata": {},
   "source": [
    "### Task 3"
   ]
  },
  {
   "cell_type": "code",
   "execution_count": 7,
   "metadata": {},
   "outputs": [],
   "source": [
    "model = YOLO(model='./private/vistraff/first-attempt3/weights/best.pt', task='track')"
   ]
  },
  {
   "attachments": {},
   "cell_type": "markdown",
   "metadata": {},
   "source": [
    "### Prediction"
   ]
  },
  {
   "cell_type": "code",
   "execution_count": null,
   "metadata": {},
   "outputs": [],
   "source": []
  },
  {
   "attachments": {},
   "cell_type": "markdown",
   "metadata": {},
   "source": [
    "### Saving and evaluating the results"
   ]
  },
  {
   "cell_type": "code",
   "execution_count": null,
   "metadata": {},
   "outputs": [],
   "source": [
    "d"
   ]
  }
 ],
 "metadata": {
  "kernelspec": {
   "display_name": "ub-g12-compvis-Q2g9c7O9-py3.10",
   "language": "python",
   "name": "python3"
  },
  "language_info": {
   "codemirror_mode": {
    "name": "ipython",
    "version": 3
   },
   "file_extension": ".py",
   "mimetype": "text/x-python",
   "name": "python",
   "nbconvert_exporter": "python",
   "pygments_lexer": "ipython3",
   "version": "3.10.9"
  },
  "orig_nbformat": 4
 },
 "nbformat": 4,
 "nbformat_minor": 2
}
