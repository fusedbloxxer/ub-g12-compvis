{
 "cells": [
  {
   "cell_type": "code",
   "execution_count": 2,
   "metadata": {},
   "outputs": [],
   "source": [
    "%load_ext autoreload\n",
    "%autoreload 2"
   ]
  },
  {
   "cell_type": "code",
   "execution_count": 3,
   "metadata": {},
   "outputs": [],
   "source": [
    "import cv2 as cv\n",
    "import typing as t\n",
    "import pandas as pd\n",
    "import pathlib as pb\n",
    "import numpy as np\n",
    "import random as rnd\n",
    "import matplotlib.pyplot as plt"
   ]
  },
  {
   "cell_type": "code",
   "execution_count": 4,
   "metadata": {},
   "outputs": [],
   "source": [
    "import domino.data\n",
    "import domino.vision"
   ]
  },
  {
   "cell_type": "code",
   "execution_count": 5,
   "metadata": {},
   "outputs": [],
   "source": [
    "# Predefined expected paths\n",
    "ROOT_PATH = pb.Path('..')\n",
    "DATA_PATH: pb.Path       = ROOT_PATH      / 'data'\n",
    "\n",
    "# Main dataset for the given tasks\n",
    "HELP_PATH: pb.Path       = DATA_PATH      / 'help'\n",
    "TEST_PATH: pb.Path       = DATA_PATH      / 'test'\n",
    "TRAIN_PATH: pb.Path      = DATA_PATH      / 'train'\n",
    "VALID_PATH: pb.Path      = DATA_PATH      / 'valid'\n",
    "\n",
    "# Auxiliary dataset made of grid cell patches\n",
    "CELL_DATA_PATH: pb.Path  = DATA_PATH      / 'cell'\n",
    "CELL_TRAIN_PATH: pb.Path = CELL_DATA_PATH / 'train'\n",
    "CELL_TEST_PATH: pb.Path  = CELL_DATA_PATH / 'test'\n",
    "\n",
    "# Obtain deterministic results\n",
    "SEED = 42\n",
    "rnd.seed(SEED)\n",
    "np.random.seed(SEED)"
   ]
  },
  {
   "cell_type": "code",
   "execution_count": 6,
   "metadata": {},
   "outputs": [],
   "source": [
    "# Load datasets for the task\n",
    "train_dataset = domino.data.DDDGameDataset(TRAIN_PATH, train=True)\n",
    "valid_dataset = domino.data.DDDGameDataset(VALID_PATH, train=True)\n",
    "test_dataset  = domino.data.DDDGameDataset(TEST_PATH, train=False)"
   ]
  },
  {
   "cell_type": "code",
   "execution_count": 7,
   "metadata": {},
   "outputs": [],
   "source": [
    "# Choose a template and a random image\n",
    "template_image_board: np.ndarray = train_dataset.dataset_help.template(template_type='board', scale=0.35)\n",
    "template_image_grid: np.ndarray = train_dataset.dataset_help.template(template_type='grid', scale=0.35)"
   ]
  },
  {
   "cell_type": "code",
   "execution_count": 10,
   "metadata": {},
   "outputs": [],
   "source": [
    "# Construct necessary operations\n",
    "op_board2grid = domino.vision.Board2GridOperation(board_template=template_image_board, grid_template=template_image_grid)\n",
    "op_display    = domino.vision.DisplayOperation(scale=0.35)"
   ]
  },
  {
   "cell_type": "code",
   "execution_count": 23,
   "metadata": {},
   "outputs": [],
   "source": [
    "# domino.data.DDDCellDataset.create_cell_dataset(CELL_TRAIN_PATH, train_dataset, op_board2grid)\n",
    "# domino.data.DDDCellDataset.create_cell_dataset(CELL_TEST_PATH, valid_dataset, op_board2grid)"
   ]
  }
 ],
 "metadata": {
  "kernelspec": {
   "display_name": "double-double-dominos-b15rcpUn-py3.10",
   "language": "python",
   "name": "python3"
  },
  "language_info": {
   "codemirror_mode": {
    "name": "ipython",
    "version": 3
   },
   "file_extension": ".py",
   "mimetype": "text/x-python",
   "name": "python",
   "nbconvert_exporter": "python",
   "pygments_lexer": "ipython3",
   "version": "3.10.9"
  },
  "orig_nbformat": 4
 },
 "nbformat": 4,
 "nbformat_minor": 2
}
