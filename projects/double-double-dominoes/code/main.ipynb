{
 "cells": [
  {
   "attachments": {},
   "cell_type": "markdown",
   "metadata": {},
   "source": [
    "# Imports"
   ]
  },
  {
   "cell_type": "code",
   "execution_count": null,
   "metadata": {},
   "outputs": [],
   "source": [
    "%load_ext autoreload\n",
    "%autoreload 2"
   ]
  },
  {
   "cell_type": "code",
   "execution_count": null,
   "metadata": {},
   "outputs": [],
   "source": [
    "import cv2 as cv\n",
    "import typing as t\n",
    "import pandas as pd\n",
    "import pathlib as pb\n",
    "import numpy as np\n",
    "import sklearn as sk\n",
    "import random as rnd\n",
    "import matplotlib.pyplot as plt\n",
    "import torch\n",
    "import torchvision as tv\n",
    "import torch.utils.data as data\n",
    "from torch import Tensor\n",
    "import lightning.pytorch as pl"
   ]
  },
  {
   "cell_type": "code",
   "execution_count": null,
   "metadata": {},
   "outputs": [],
   "source": [
    "import domino.data\n",
    "import domino.game\n",
    "import domino.model\n",
    "import domino.vision\n",
    "import domino.preprocess\n",
    "from domino.model import CellClassifier"
   ]
  },
  {
   "attachments": {},
   "cell_type": "markdown",
   "metadata": {},
   "source": [
    "# Environment Setup"
   ]
  },
  {
   "cell_type": "code",
   "execution_count": null,
   "metadata": {},
   "outputs": [],
   "source": [
    "# Predefined expected paths\n",
    "ROOT_PATH: pb.Path = pb.Path('.')\n",
    "DATA_PATH: pb.Path = ROOT_PATH / '..' / 'data'\n",
    "HELP_PATH: pb.Path = ROOT_PATH / 'template'\n",
    "CACHE_DIR: pb.Path = ROOT_PATH / '.cache'\n",
    "MODEL_DIR: pb.Path = ROOT_PATH / '.model'\n",
    "SKLRN_DIR: pb.Path = MODEL_DIR / 'sklearn'\n",
    "TORCH_DIR: pb.Path = MODEL_DIR / 'torch'\n",
    "\n",
    "# Pretrained model weights\n",
    "FOREST_MODEL_PATH: pb.Path = SKLRN_DIR / 'balanced-random-forest.joblib'\n",
    "RESNET_MODEL_PATH: pb.Path = TORCH_DIR / 'resnet50-finetune-wip.ckpt'\n",
    "SVM_MODEL_PATH: pb.Path    = SKLRN_DIR / 'svm.joblib'\n",
    "\n",
    "# Main dataset for the given tasks\n",
    "TEST_PATH: pb.Path       = DATA_PATH / 'test'  / 'input'\n",
    "TRAIN_PATH: pb.Path      = DATA_PATH / 'train' / 'input'\n",
    "VALID_PATH: pb.Path      = DATA_PATH / 'valid' / 'input'\n",
    "\n",
    "# Auxiliary dataset made of grid cell patches\n",
    "CELL_DATA_PATH: pb.Path  = DATA_PATH      / 'cell'\n",
    "CELL_TRAIN_PATH: pb.Path = CELL_DATA_PATH / 'train'\n",
    "CELL_TEST_PATH: pb.Path  = CELL_DATA_PATH / 'test'\n",
    "\n",
    "# Obtain deterministic results\n",
    "SEED = 42\n",
    "rnd.seed(SEED)\n",
    "np.random.seed(SEED)\n",
    "torch.manual_seed(SEED)\n",
    "generator: torch.Generator = torch.Generator().manual_seed(SEED)\n",
    "\n",
    "# Configure current environment\n",
    "torch.hub.set_dir(CACHE_DIR)\n",
    "torch.set_float32_matmul_precision('medium')"
   ]
  },
  {
   "cell_type": "code",
   "execution_count": null,
   "metadata": {},
   "outputs": [],
   "source": [
    "# Load datasets for the task\n",
    "train_dataset = domino.data.DDDGameDataset(path_input=TRAIN_PATH,\n",
    "                                           path_template=HELP_PATH,\n",
    "                                           path_output=TRAIN_PATH / '..' / 'output',\n",
    "                                           train=True)\n",
    "valid_dataset = domino.data.DDDGameDataset(path_input=VALID_PATH,\n",
    "                                           path_template=HELP_PATH,\n",
    "                                           path_output=VALID_PATH / '..' / 'output',\n",
    "                                           train=True)\n",
    "test_dataset  = domino.data.DDDGameDataset(path_input=TEST_PATH,\n",
    "                                           path_template=HELP_PATH,\n",
    "                                           path_output=TEST_PATH / '..' / 'output',\n",
    "                                           train=False)\n",
    "\n",
    "# Construct the possible classifiers\n",
    "classifiers: t.List[CellClassifier] = [\n",
    "    CellClassifier.load_checkpoint(SVM_MODEL_PATH, 'svm'),\n",
    "    CellClassifier.load_checkpoint(FOREST_MODEL_PATH, 'forest'),\n",
    "    CellClassifier.load_checkpoint(RESNET_MODEL_PATH, 'resnet'),\n",
    "]\n",
    "\n",
    "# Construct task solver\n",
    "task_solver = domino.game.DoubleDoubleDominoesTask(\n",
    "    dataset_path=TRAIN_PATH,\n",
    "    template_path=HELP_PATH,\n",
    "    output_path=TRAIN_PATH / '..' / 'output',\n",
    "    classifiers=classifiers,\n",
    "    cell_splitter='hough',\n",
    "    show_matrix=False,\n",
    "    show_image=False,\n",
    "    train=True,\n",
    "    debug=True,\n",
    ")"
   ]
  },
  {
   "cell_type": "code",
   "execution_count": null,
   "metadata": {},
   "outputs": [],
   "source": [
    "task_solver.solve()"
   ]
  }
 ],
 "metadata": {
  "kernelspec": {
   "display_name": "double-double-dominos-R-JT3pI_-py3.10",
   "language": "python",
   "name": "python3"
  },
  "language_info": {
   "codemirror_mode": {
    "name": "ipython",
    "version": 3
   },
   "file_extension": ".py",
   "mimetype": "text/x-python",
   "name": "python",
   "nbconvert_exporter": "python",
   "pygments_lexer": "ipython3",
   "version": "3.10.9"
  },
  "orig_nbformat": 4
 },
 "nbformat": 4,
 "nbformat_minor": 2
}
